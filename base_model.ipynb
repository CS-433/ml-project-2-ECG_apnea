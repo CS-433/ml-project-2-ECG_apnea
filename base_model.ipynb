{
 "cells": [
  {
   "cell_type": "markdown",
   "id": "27be35a9",
   "metadata": {},
   "source": [
    "# In this notebook we are training and evaluating the base model of our project which is a logistic regression on two features related to heart beats, bpm (beats per minute) and sdnn  (standard deviation of the NN (R-R) intervals)"
   ]
  },
  {
   "cell_type": "markdown",
   "id": "3954a6c4",
   "metadata": {},
   "source": [
    "Import libraries"
   ]
  },
  {
   "cell_type": "code",
   "execution_count": 20,
   "id": "33c768f3",
   "metadata": {},
   "outputs": [],
   "source": [
    "import numpy as np\n",
    "import pandas as pd\n",
    "from sklearn.model_selection import train_test_split\n",
    "from sklearn.preprocessing import StandardScaler\n",
    "from sklearn.linear_model import LogisticRegression\n",
    "from sklearn.pipeline import Pipeline\n",
    "from sklearn.metrics import (\n",
    "    roc_curve,\n",
    "    roc_auc_score,\n",
    "    classification_report,\n",
    "    accuracy_score,\n",
    "    confusion_matrix,\n",
    ")\n",
    "import seaborn as sns\n",
    "import matplotlib.pyplot as plt\n",
    "import numpy as np\n",
    "from utils import *"
   ]
  },
  {
   "cell_type": "markdown",
   "id": "cfea8ab3",
   "metadata": {},
   "source": [
    "Retrieve the data sets, separate features and labels"
   ]
  },
  {
   "cell_type": "code",
   "execution_count": 21,
   "id": "3d0720c9",
   "metadata": {},
   "outputs": [],
   "source": [
    "train_data = pd.read_csv('base_model_train_set.csv')\n",
    "test_data = pd.read_csv('base_model_test_set.csv')\n",
    "\n",
    "\n",
    "\n",
    "X_train = train_data.drop(columns='apnea', axis=1) \n",
    "y_train = train_data.apnea.values\n",
    "\n",
    "X_test = test_data.drop(columns='apnea', axis=1) \n",
    "y_test = test_data.apnea.values\n"
   ]
  },
  {
   "cell_type": "markdown",
   "id": "073579b8",
   "metadata": {},
   "source": [
    "Define the pipeline and fit the model"
   ]
  },
  {
   "cell_type": "code",
   "execution_count": 22,
   "id": "47944019",
   "metadata": {},
   "outputs": [
    {
     "data": {
      "text/plain": [
       "Pipeline(steps=[('standardize', StandardScaler()),\n",
       "                ('log_reg', LogisticRegression())])"
      ]
     },
     "execution_count": 22,
     "metadata": {},
     "output_type": "execute_result"
    }
   ],
   "source": [
    "scaler = StandardScaler()\n",
    "lr = LogisticRegression()\n",
    "model1 = Pipeline([('standardize', scaler),\n",
    "                    ('log_reg', lr)])\n",
    "\n",
    "model1.fit(X_train, y_train)"
   ]
  },
  {
   "cell_type": "markdown",
   "id": "4d3d113f",
   "metadata": {},
   "source": [
    "Make predictions and check different metrics for train set"
   ]
  },
  {
   "cell_type": "code",
   "execution_count": 23,
   "id": "176cd57d",
   "metadata": {},
   "outputs": [
    {
     "name": "stdout",
     "output_type": "stream",
     "text": [
      "Confusion matrix:\n",
      " [[7289 1040]\n",
      " [4572  743]]\n",
      "Training AUC: 62.4751 %\n",
      "Training accuracy: 58.8684 %\n"
     ]
    }
   ],
   "source": [
    "y_train_hat = model1.predict(X_train)\n",
    "y_train_hat_probs = model1.predict_proba(X_train)[:,1]\n",
    "\n",
    "train_accuracy = accuracy_score(y_train, y_train_hat)*100\n",
    "train_auc_roc = roc_auc_score(y_train, y_train_hat_probs)*100\n",
    "\n",
    "print('Confusion matrix:\\n', confusion_matrix(y_train, y_train_hat))\n",
    "\n",
    "print('Training AUC: %.4f %%' % train_auc_roc)\n",
    "\n",
    "print('Training accuracy: %.4f %%' % train_accuracy)"
   ]
  },
  {
   "cell_type": "markdown",
   "id": "a171c10e",
   "metadata": {},
   "source": [
    "Make predictions and check different metrics for test set"
   ]
  },
  {
   "cell_type": "code",
   "execution_count": 24,
   "id": "c9265ce8",
   "metadata": {},
   "outputs": [
    {
     "name": "stdout",
     "output_type": "stream",
     "text": [
      "Confusion matrix:\n",
      " [[2026   65]\n",
      " [1110   65]]\n",
      "Testing AUC: 60.3229 %\n",
      "Testing accuracy: 64.0233 %\n",
      "Testing sensitivity: 0.0553 %\n",
      "Testing specificity: 0.9689 %\n",
      "Testing F1: 0.0996 %\n",
      "Youden index:  0.02423354396247346\n"
     ]
    }
   ],
   "source": [
    "y_test_hat = model1.predict(X_test)\n",
    "y_test_hat_probs = model1.predict_proba(X_test)[:, 1]\n",
    "\n",
    "\n",
    "test_accuracy = accuracy_score(y_test, y_test_hat) * 100\n",
    "test_auc_roc = roc_auc_score(y_test, y_test_hat_probs) * 100\n",
    "\n",
    "tn_test, fp_test, fn_test, tp_test = confusion_matrix(y_test, y_test_hat).ravel()\n",
    "\n",
    "\n",
    "sensitivity = tp_test / (tp_test + fn_test)\n",
    "specificity = tn_test / (tn_test + fp_test)\n",
    "precision = tp_test / (tp_test + fp_test)\n",
    "recall = tp_test / (tp_test + fn_test)\n",
    "F1 = (2 * precision * recall) / (precision + recall)\n",
    "\n",
    "print(\"Confusion matrix:\\n\", confusion_matrix(y_test, y_test_hat))\n",
    "\n",
    "print(\"Testing AUC: %.4f %%\" % test_auc_roc)\n",
    "\n",
    "print(\"Testing accuracy: %.4f %%\" % test_accuracy)\n",
    "\n",
    "print(\"Testing sensitivity: %.4f %%\" % sensitivity)\n",
    "\n",
    "print(\"Testing specificity: %.4f %%\" % specificity)\n",
    "\n",
    "print(\"Testing F1: %.4f %%\" % F1)\n",
    "\n",
    "\n",
    "# sensitivity + specificity - 1\n",
    "youden = (tp_test / (tp_test + fn_test)) + (tn_test / (tn_test + fp_test)) - 1\n",
    "print(\"Youden index: \", +youden)"
   ]
  },
  {
   "cell_type": "markdown",
   "id": "b0624a98",
   "metadata": {},
   "source": [
    "Visualize the confusion matrix for test set predictions"
   ]
  },
  {
   "cell_type": "code",
   "execution_count": 25,
   "id": "1147f145",
   "metadata": {},
   "outputs": [
    {
     "data": {
      "text/plain": [
       "[Text(0, 0.5, 'apnea'), Text(0, 1.5, 'normal')]"
      ]
     },
     "execution_count": 25,
     "metadata": {},
     "output_type": "execute_result"
    },
    {
     "data": {
      "image/png": "[encoded data removed]",
      "text/plain": [
       "<Figure size 640x480 with 2 Axes>"
      ]
     },
     "metadata": {},
     "output_type": "display_data"
    }
   ],
   "source": [
    "# Plot confusion matrix\n",
    "\n",
    "cm = [[tp_test, fn_test], [fp_test, tn_test]]\n",
    "\n",
    "ax = plt.subplot()\n",
    "sns.heatmap(cm, annot=True, fmt=\"g\", cmap=\"Greens\", ax=ax)\n",
    "# annot=True to annotate cells, ftm='g' to disable scientific notation\n",
    "\n",
    "# labels, title and ticks\n",
    "ax.set_xlabel(\"Predicted labels\")\n",
    "ax.set_ylabel(\"True labels\")\n",
    "# ax.set_title('Confusion Matrix');\n",
    "ax.xaxis.set_ticklabels([\"apnea\", \"normal\"])\n",
    "ax.yaxis.set_ticklabels([\"apnea\", \"normal\"])"
   ]
  }
 ],
 "metadata": {
  "kernelspec": {
   "display_name": "Python 3 (ipykernel)",
   "language": "python",
   "name": "python3"
  },
  "language_info": {
   "codemirror_mode": {
    "name": "ipython",
    "version": 3
   },
   "file_extension": ".py",
   "mimetype": "text/x-python",
   "name": "python",
   "nbconvert_exporter": "python",
   "pygments_lexer": "ipython3",
   "version": "3.9.12"
  }
 },
 "nbformat": 4,
 "nbformat_minor": 5
}
