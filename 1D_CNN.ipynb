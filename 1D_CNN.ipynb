{
  "cells": [
    {
      "cell_type": "code",
      "execution_count": null,
      "metadata": {
        "colab": {
          "base_uri": "https://localhost:8080/"
        },
        "id": "9NR1j52vFxm1",
        "outputId": "a998793a-c650-41db-816e-65cf76c5e8cf"
      },
      "outputs": [
        {
          "output_type": "stream",
          "name": "stdout",
          "text": [
            "Drive already mounted at /content/drive; to attempt to forcibly remount, call drive.mount(\"/content/drive\", force_remount=True).\n",
            "Looking in indexes: https://pypi.org/simple, https://us-python.pkg.dev/colab-wheels/public/simple/\n",
            "Requirement already satisfied: wfdb in /usr/local/lib/python3.8/dist-packages (4.1.0)\n",
            "Requirement already satisfied: SoundFile<0.12.0,>=0.10.0 in /usr/local/lib/python3.8/dist-packages (from wfdb) (0.11.0)\n",
            "Requirement already satisfied: pandas<2.0.0,>=1.0.0 in /usr/local/lib/python3.8/dist-packages (from wfdb) (1.3.5)\n",
            "Requirement already satisfied: matplotlib<4.0.0,>=3.2.2 in /usr/local/lib/python3.8/dist-packages (from wfdb) (3.2.2)\n",
            "Requirement already satisfied: requests<3.0.0,>=2.8.1 in /usr/local/lib/python3.8/dist-packages (from wfdb) (2.23.0)\n",
            "Requirement already satisfied: numpy<2.0.0,>=1.10.1 in /usr/local/lib/python3.8/dist-packages (from wfdb) (1.21.6)\n",
            "Requirement already satisfied: scipy<2.0.0,>=1.0.0 in /usr/local/lib/python3.8/dist-packages (from wfdb) (1.7.3)\n",
            "Requirement already satisfied: cycler>=0.10 in /usr/local/lib/python3.8/dist-packages (from matplotlib<4.0.0,>=3.2.2->wfdb) (0.11.0)\n",
            "Requirement already satisfied: kiwisolver>=1.0.1 in /usr/local/lib/python3.8/dist-packages (from matplotlib<4.0.0,>=3.2.2->wfdb) (1.4.4)\n",
            "Requirement already satisfied: python-dateutil>=2.1 in /usr/local/lib/python3.8/dist-packages (from matplotlib<4.0.0,>=3.2.2->wfdb) (2.8.2)\n",
            "Requirement already satisfied: pyparsing!=2.0.4,!=2.1.2,!=2.1.6,>=2.0.1 in /usr/local/lib/python3.8/dist-packages (from matplotlib<4.0.0,>=3.2.2->wfdb) (3.0.9)\n",
            "Requirement already satisfied: pytz>=2017.3 in /usr/local/lib/python3.8/dist-packages (from pandas<2.0.0,>=1.0.0->wfdb) (2022.6)\n",
            "Requirement already satisfied: six>=1.5 in /usr/local/lib/python3.8/dist-packages (from python-dateutil>=2.1->matplotlib<4.0.0,>=3.2.2->wfdb) (1.15.0)\n",
            "Requirement already satisfied: chardet<4,>=3.0.2 in /usr/local/lib/python3.8/dist-packages (from requests<3.0.0,>=2.8.1->wfdb) (3.0.4)\n",
            "Requirement already satisfied: idna<3,>=2.5 in /usr/local/lib/python3.8/dist-packages (from requests<3.0.0,>=2.8.1->wfdb) (2.10)\n",
            "Requirement already satisfied: urllib3!=1.25.0,!=1.25.1,<1.26,>=1.21.1 in /usr/local/lib/python3.8/dist-packages (from requests<3.0.0,>=2.8.1->wfdb) (1.24.3)\n",
            "Requirement already satisfied: certifi>=2017.4.17 in /usr/local/lib/python3.8/dist-packages (from requests<3.0.0,>=2.8.1->wfdb) (2022.12.7)\n",
            "Requirement already satisfied: cffi>=1.0 in /usr/local/lib/python3.8/dist-packages (from SoundFile<0.12.0,>=0.10.0->wfdb) (1.15.1)\n",
            "Requirement already satisfied: pycparser in /usr/local/lib/python3.8/dist-packages (from cffi>=1.0->SoundFile<0.12.0,>=0.10.0->wfdb) (2.21)\n",
            "Looking in indexes: https://pypi.org/simple, https://us-python.pkg.dev/colab-wheels/public/simple/\n",
            "Requirement already satisfied: tqdm in /usr/local/lib/python3.8/dist-packages (4.64.1)\n",
            "Looking in indexes: https://pypi.org/simple, https://us-python.pkg.dev/colab-wheels/public/simple/\n",
            "Requirement already satisfied: torchmetrics in /usr/local/lib/python3.8/dist-packages (0.11.0)\n",
            "Requirement already satisfied: typing-extensions in /usr/local/lib/python3.8/dist-packages (from torchmetrics) (4.4.0)\n",
            "Requirement already satisfied: torch>=1.8.1 in /usr/local/lib/python3.8/dist-packages (from torchmetrics) (1.13.0+cu116)\n",
            "Requirement already satisfied: packaging in /usr/local/lib/python3.8/dist-packages (from torchmetrics) (21.3)\n",
            "Requirement already satisfied: numpy>=1.17.2 in /usr/local/lib/python3.8/dist-packages (from torchmetrics) (1.21.6)\n",
            "Requirement already satisfied: pyparsing!=3.0.5,>=2.0.2 in /usr/local/lib/python3.8/dist-packages (from packaging->torchmetrics) (3.0.9)\n",
            "Looking in indexes: https://pypi.org/simple, https://us-python.pkg.dev/colab-wheels/public/simple/\n",
            "Requirement already satisfied: seaborn in /usr/local/lib/python3.8/dist-packages (0.11.2)\n",
            "Requirement already satisfied: pandas>=0.23 in /usr/local/lib/python3.8/dist-packages (from seaborn) (1.3.5)\n",
            "Requirement already satisfied: numpy>=1.15 in /usr/local/lib/python3.8/dist-packages (from seaborn) (1.21.6)\n",
            "Requirement already satisfied: scipy>=1.0 in /usr/local/lib/python3.8/dist-packages (from seaborn) (1.7.3)\n",
            "Requirement already satisfied: matplotlib>=2.2 in /usr/local/lib/python3.8/dist-packages (from seaborn) (3.2.2)\n",
            "Requirement already satisfied: cycler>=0.10 in /usr/local/lib/python3.8/dist-packages (from matplotlib>=2.2->seaborn) (0.11.0)\n",
            "Requirement already satisfied: pyparsing!=2.0.4,!=2.1.2,!=2.1.6,>=2.0.1 in /usr/local/lib/python3.8/dist-packages (from matplotlib>=2.2->seaborn) (3.0.9)\n",
            "Requirement already satisfied: python-dateutil>=2.1 in /usr/local/lib/python3.8/dist-packages (from matplotlib>=2.2->seaborn) (2.8.2)\n",
            "Requirement already satisfied: kiwisolver>=1.0.1 in /usr/local/lib/python3.8/dist-packages (from matplotlib>=2.2->seaborn) (1.4.4)\n",
            "Requirement already satisfied: pytz>=2017.3 in /usr/local/lib/python3.8/dist-packages (from pandas>=0.23->seaborn) (2022.6)\n",
            "Requirement already satisfied: six>=1.5 in /usr/local/lib/python3.8/dist-packages (from python-dateutil>=2.1->matplotlib>=2.2->seaborn) (1.15.0)\n"
          ]
        }
      ],
      "source": [
        "from google.colab import drive          \n",
        "drive.mount('/content/drive')\n",
        "!pip install wfdb \n",
        "!pip install tqdm \n",
        "!pip install torchmetrics\n",
        "!pip install seaborn"
      ],
      "id": "9NR1j52vFxm1"
    },
    {
      "cell_type": "code",
      "execution_count": null,
      "metadata": {
        "colab": {
          "base_uri": "https://localhost:8080/"
        },
        "id": "ff7e942b",
        "outputId": "1ca1b217-6714-4174-d590-aba6ee506a58"
      },
      "outputs": [
        {
          "output_type": "execute_result",
          "data": {
            "text/plain": [
              "True"
            ]
          },
          "metadata": {},
          "execution_count": 75
        }
      ],
      "source": [
        "import os\n",
        "\n",
        "import matplotlib.pyplot as plt\n",
        "import numpy as np\n",
        "import pandas as pd\n",
        "import seaborn as sns\n",
        "import wfdb\n",
        "from tqdm import tqdm\n",
        "from wfdb import processing\n",
        "\n",
        "import torch\n",
        "import torch.nn as nn\n",
        "import torch.nn.functional as F\n",
        "import torch.optim as optim\n",
        "import torch.utils.data as data_utils\n",
        "import torch.utils.data as data\n",
        "import torchmetrics\n",
        "from torchmetrics import AUROC\n",
        "import torchvision\n",
        "import torchvision.transforms as transforms\n",
        "from torch.utils.data import TensorDataset\n",
        "from torch.utils.data import DataLoader\n",
        "\n",
        "\n",
        "\n",
        "\n",
        "from sklearn.preprocessing import LabelEncoder, normalize\n",
        "#set gpu for device\n",
        "device = torch.device(\"cpu\" if torch.cuda.is_available() else \"gpu\") \n",
        "torch.cuda.is_available()"
      ],
      "id": "ff7e942b"
    },
    {
      "cell_type": "code",
      "execution_count": null,
      "metadata": {
        "id": "Z5-O9ufjgAPz"
      },
      "outputs": [],
      "source": [
        "#path of dataset file\n",
        "path = '/content/drive/MyDrive/apnea-ecg-database-1.0.0/' "
      ],
      "id": "Z5-O9ufjgAPz"
    },
    {
      "cell_type": "markdown",
      "metadata": {
        "id": "705aca4e"
      },
      "source": [
        "## Plotting the record for a01"
      ],
      "id": "705aca4e"
    },
    {
      "cell_type": "code",
      "execution_count": null,
      "metadata": {
        "colab": {
          "base_uri": "https://localhost:8080/",
          "height": 868
        },
        "id": "9d98f835",
        "outputId": "823f83ca-7c43-41ba-bdf4-6f70ec0a5383"
      },
      "outputs": [
        {
          "output_type": "display_data",
          "data": {
            "text/plain": [
              "<Figure size 432x288 with 1 Axes>"
            ],
            "image/png": "[encoded data removed]"
          },
          "metadata": {
            "needs_background": "light"
          }
        },
        {
          "output_type": "display_data",
          "data": {
            "text/plain": [
              "{'record_name': 'a01',\n",
              " 'n_sig': 1,\n",
              " 'fs': 100,\n",
              " 'counter_freq': None,\n",
              " 'base_counter': None,\n",
              " 'sig_len': 2957000,\n",
              " 'base_time': None,\n",
              " 'base_date': None,\n",
              " 'comments': [],\n",
              " 'sig_name': ['ECG'],\n",
              " 'p_signal': array([[-0.06 ],\n",
              "        [-0.065],\n",
              "        [-0.06 ],\n",
              "        ...,\n",
              "        [ 0.   ],\n",
              "        [ 0.   ],\n",
              "        [ 0.   ]]),\n",
              " 'd_signal': None,\n",
              " 'e_p_signal': None,\n",
              " 'e_d_signal': None,\n",
              " 'file_name': ['a01.dat'],\n",
              " 'fmt': ['16'],\n",
              " 'samps_per_frame': [1],\n",
              " 'skew': [None],\n",
              " 'byte_offset': [None],\n",
              " 'adc_gain': [200.0],\n",
              " 'baseline': [0],\n",
              " 'units': ['mV'],\n",
              " 'adc_res': [12],\n",
              " 'adc_zero': [0],\n",
              " 'init_value': [-12],\n",
              " 'checksum': [5827],\n",
              " 'block_size': [0]}"
            ]
          },
          "metadata": {}
        }
      ],
      "source": [
        "path_a01 = path + str ('a01') \n",
        "record = wfdb.rdrecord(path_a01,channels= [0]) \n",
        "wfdb.plot_wfdb(record, title='Record a01 from Apnea ECG') \n",
        "display(record.__dict__)"
      ],
      "id": "9d98f835"
    },
    {
      "cell_type": "markdown",
      "metadata": {
        "id": "14a3a145"
      },
      "source": [
        "## Plotting sample record for a01"
      ],
      "id": "14a3a145"
    },
    {
      "cell_type": "code",
      "execution_count": null,
      "metadata": {
        "colab": {
          "base_uri": "https://localhost:8080/",
          "height": 295
        },
        "id": "8a0ba66f",
        "outputId": "729ce18c-ca4c-43c4-b93f-978b2c97e5ad"
      },
      "outputs": [
        {
          "output_type": "display_data",
          "data": {
            "text/plain": [
              "<Figure size 432x288 with 1 Axes>"
            ],
            "image/png": "[encoded data removed]"
          },
          "metadata": {
            "needs_background": "light"
          }
        }
      ],
      "source": [
        "record_sample = wfdb.rdrecord(path_a01, sampfrom=0, sampto=300)\n",
        "annotation_sample = wfdb.rdann(path_a01, extension=\"qrs\", sampfrom=0, sampto=300)\n",
        "wfdb.plot_wfdb(\n",
        "    record_sample,\n",
        "    title=\"sample Record a01 from Apnea ECG\",\n",
        "    annotation=annotation_sample,\n",
        ")"
      ],
      "id": "8a0ba66f"
    },
    {
      "cell_type": "markdown",
      "metadata": {
        "id": "7c61e75d"
      },
      "source": [
        "## Prepocessing the data for analysis\n"
      ],
      "id": "7c61e75d"
    },
    {
      "cell_type": "markdown",
      "metadata": {
        "id": "eFu_dX1yOPge"
      },
      "source": [
        "Function to bandpass the signals"
      ],
      "id": "eFu_dX1yOPge"
    },
    {
      "cell_type": "code",
      "execution_count": null,
      "metadata": {
        "id": "6V4e7UIxOOFm"
      },
      "outputs": [],
      "source": [
        "from scipy import signal\n",
        "\n",
        "\n",
        "def bandpass_signal(xn, lower, upper):\n",
        "    length = len(xn)\n",
        "    t = np.linspace(-1, 1, length)\n",
        "\n",
        "    b, a = signal.butter(3, [lower, upper], btype=\"bandpass\", fs=100)\n",
        "\n",
        "    zi = signal.lfilter_zi(b, a)\n",
        "\n",
        "    z, _ = signal.lfilter(b, a, xn, zi=zi * xn[0])\n",
        "    z2, _ = signal.lfilter(b, a, z, zi=zi * z[0])\n",
        "    y = signal.filtfilt(b, a, xn)\n",
        "\n",
        "    return y"
      ],
      "id": "6V4e7UIxOOFm"
    },
    {
      "cell_type": "markdown",
      "metadata": {
        "id": "B1m7bagPIipw"
      },
      "source": [
        "Obtaining test and training datasets, and normalizing them\n"
      ],
      "id": "B1m7bagPIipw"
    },
    {
      "cell_type": "code",
      "execution_count": null,
      "metadata": {
        "id": "ad684cc8"
      },
      "outputs": [],
      "source": [
        "\n",
        "\n",
        "ecg_readings = []\n",
        "appnea_samples = []\n",
        "\n",
        "\n",
        "\n",
        "train_files = [\n",
        "    \"b02\",\n",
        "    \"c03\",\n",
        "    \"b03\",\n",
        "    \"c04\",\n",
        "    \"b04\",\n",
        "    \"a05\",\n",
        "    \"c05\",\n",
        "    \"a06\",\n",
        "    \"c06\",\n",
        "    \"a07\",\n",
        "    \"c07\",\n",
        "    \"a08\",\n",
        "    \"c08\",\n",
        "    \"a09\",\n",
        "    \"a10\",\n",
        "    \"a11\",\n",
        "    \"a12\",\n",
        "    \"a13\",\n",
        "    \"a14\",\n",
        "    \"a15\",\n",
        "    \"a16\",\n",
        "    \"b05\",\n",
        "    \"c09\",\n",
        "    \"c10\",\n",
        "    \"a17\",\n",
        "    \"a18\",\n",
        "    \"a19\",\n",
        "    \"a20\",\n",
        "]\n",
        "\n",
        "# Iterate through the training files\n",
        "for file in train_files:\n",
        "    # Create the file path and read the record and apnea annotations\n",
        "    path_dat = os.path.join(path, file)\n",
        "    record = wfdb.rdrecord(path_dat)\n",
        "    apnea = wfdb.rdann(path_dat, \"apn\")\n",
        "    \n",
        "    # Determine the length of the ECG segments to extract\n",
        "    length = min(len(apnea.symbol) - 1, int((record.p_signal.shape[0] - 3000) / 6000))\n",
        "    \n",
        "    # Extract the ECG signal and apply a bandpass filter\n",
        "    ecg = record.p_signal\n",
        "    ecg = ecg.reshape(len(ecg))\n",
        "    ecg_with_filter = bandpass_signal(ecg, 1, 48)\n",
        "    \n",
        "    # Extract the ECG segments and apnea labels\n",
        "    for j in range(length):\n",
        "        appnea_samples.append(apnea.symbol[j + 1])\n",
        "        ecg_readings.append(ecg_with_filter[6000 * j + 3000 : 3000 + 6000 * (j + 1)])\n",
        "\n",
        "# Convert the lists to numpy arrays\n",
        "ecg_array_train = np.array(ecg_readings)\n",
        "appnea_array_train = np.array(appnea_samples)\n",
        "\n",
        "# Normalize the ECG data between -1 and 1\n",
        "ecg_array_train = ecg_array_train.reshape(ecg_array_train.shape[0], ecg_array_train.shape[1])\n",
        "ecg_array_train = normalize(ecg_array_train, norm=\"max\")\n",
        "\n",
        "# Encode the apnea labels as 0 and 1\n",
        "appnea_array_train = LabelEncoder().fit_transform(appnea_array_train)\n"
      ],
      "id": "ad684cc8"
    },
    {
      "cell_type": "code",
      "execution_count": null,
      "metadata": {
        "id": "Kd8hHyFPEjQH"
      },
      "outputs": [],
      "source": [
        "ecg_readings = []\n",
        "appnea_samples = []\n",
        "\n",
        "test_files = ['b01','c01','c02','a01','a02','a03','a04']\n",
        "\n",
        "\n",
        "# Iterate through the test files\n",
        "for file in test_files:\n",
        "    # Create the file path and read the record and apnea annotations\n",
        "    path_dat = os.path.join(path, file)\n",
        "    record = wfdb.rdrecord(path_dat, channels=[0])\n",
        "    apnea = wfdb.rdann(path_dat, \"apn\")\n",
        "    \n",
        "    # Determine the length of the ECG segments to extract\n",
        "    length = min(len(apnea.symbol) - 1, int((record.p_signal.shape[0] - 3000) / 6000))\n",
        "    \n",
        "    # Extract the ECG signal and apply a bandpass filter\n",
        "    ecg = record.p_signal\n",
        "    ecg = ecg.reshape(len(ecg))\n",
        "    ecg_with_filter = bandpass_signal(ecg, 1, 48)\n",
        "    \n",
        "    # Extract the ECG segments and apnea labels\n",
        "    for j in range(length):\n",
        "        appnea_samples.append(apnea.symbol[j + 1])\n",
        "        ecg_readings.append(ecg_with_filter[6000 * j + 3000 : 3000 + 6000 * (j + 1)])\n",
        "\n",
        "# Convert the lists to numpy arrays\n",
        "ecg_array_test = np.array(ecg_readings)\n",
        "appnea_array_test = np.array(appnea_samples)\n",
        "\n",
        "# Normalize the ECG data between -1 and 1\n",
        "ecg_array_test = ecg_array_test.reshape(ecg_array_test.shape[0], ecg_array_test.shape[1])\n",
        "ecg_array_test = normalize(ecg_array_test, norm=\"max\")\n",
        "\n",
        "# Encode the apnea labels as 0 and 1\n",
        "appnea_array_test = LabelEncoder().fit_transform(appnea_array_test)\n"
      ],
      "id": "Kd8hHyFPEjQH"
    },
    {
      "cell_type": "markdown",
      "metadata": {
        "id": "TtJaXOMjCSK5"
      },
      "source": [
        "# **Building the model**"
      ],
      "id": "TtJaXOMjCSK5"
    },
    {
      "cell_type": "markdown",
      "metadata": {
        "id": "SLlMpAiECuQ8"
      },
      "source": [
        "Setting the hyperparameters\n"
      ],
      "id": "SLlMpAiECuQ8"
    },
    {
      "cell_type": "code",
      "execution_count": null,
      "metadata": {
        "id": "M4qMVmlfC8CI"
      },
      "outputs": [],
      "source": [
        "in_channels = 1\n",
        "num_classes = 1\n",
        "learning_rate = 0.001\n",
        "batch_size = 128\n",
        "num_epochs = 4"
      ],
      "id": "M4qMVmlfC8CI"
    },
    {
      "cell_type": "markdown",
      "metadata": {
        "id": "CyvB76w5Op0w"
      },
      "source": [
        "Converting the data to tensors"
      ],
      "id": "CyvB76w5Op0w"
    },
    {
      "cell_type": "code",
      "execution_count": null,
      "metadata": {
        "id": "7ml6C_BoOs0M"
      },
      "outputs": [],
      "source": [
        "torch.manual_seed(1)\n",
        "\n",
        "X= torch.tensor (ecg_array_train,dtype =torch.float32 ).unsqueeze (1)\n",
        "y = torch.tensor (appnea_array_train,dtype =torch.float32 ) \n",
        "x_test = torch.tensor (ecg_array_test,dtype =torch.float32 ).unsqueeze (1)\n",
        "y_test = torch.tensor (appnea_array_test,dtype =torch.float32 )\n",
        "\n",
        "train_dataset = TensorDataset(X,y)  \n",
        "test_dataset = TensorDataset(x_test,y_test) \n",
        "\n",
        "train_loader = DataLoader(dataset=train_dataset, batch_size=batch_size, shuffle=True)\n",
        "test_loader = DataLoader(dataset=test_dataset, batch_size=batch_size, shuffle=True)"
      ],
      "id": "7ml6C_BoOs0M"
    },
    {
      "cell_type": "markdown",
      "metadata": {
        "id": "Zn0G11oGbu0i"
      },
      "source": [
        "Training the model\n"
      ],
      "id": "Zn0G11oGbu0i"
    },
    {
      "cell_type": "code",
      "execution_count": null,
      "metadata": {
        "id": "KAEPNJugT4XI"
      },
      "outputs": [],
      "source": [
        "class CNN(nn.Module):\n",
        "    def __init__(self, in_channels=0, num_classes=1):\n",
        "        super(CNN, self).__init__()\n",
        "        # First convolution layer to extract features from data\n",
        "        self.conv1 = nn.Conv1d(\n",
        "            in_channels=in_channels, out_channels=8, kernel_size=5, padding=2, stride=1\n",
        "        )\n",
        "        # Max pooling layer\n",
        "        self.pool1 = nn.MaxPool1d(kernel_size=6, stride=6)\n",
        "        \n",
        "        # Second convolutional layer\n",
        "        self.conv2 = nn.Conv1d(\n",
        "            in_channels=8, out_channels=16, kernel_size=5, padding=2, stride=1\n",
        "        )\n",
        "\n",
        "        # Max pooling layer\n",
        "\n",
        "        self.pool2 = nn.MaxPool1d(kernel_size=2, stride=2)\n",
        "\n",
        "        # Additionnal convolutional layers\n",
        "\n",
        "        self.conv3 = nn.Conv1d(\n",
        "            in_channels=16, out_channels=32, kernel_size=5, padding=2, stride=1\n",
        "        )\n",
        "        self.conv4 = nn.Conv1d(\n",
        "            in_channels=32, out_channels=64, kernel_size=5, padding=2, stride=1\n",
        "        )\n",
        "        self.conv5 = nn.Conv1d(\n",
        "            in_channels=64, out_channels=128, kernel_size=6, padding=2, stride=1\n",
        "        )\n",
        "        self.conv6 = nn.Conv1d(\n",
        "            in_channels=128, out_channels=128, kernel_size=5, padding=2, stride=1\n",
        "        )\n",
        "        # Fully connected layers\n",
        "        self.fc1 = nn.Linear(128 * 31, 512)\n",
        "        self.fc2 = nn.Linear(512, 256)\n",
        "        self.fc3 = nn.Linear(256, 128)\n",
        "        self.fc4 = nn.Linear(128, 64)\n",
        "        self.fc5 = nn.Linear(64, 32)\n",
        "        self.fc6 = nn.Linear(32, 16)\n",
        "        self.fc7 = nn.Linear(16, 1)\n",
        "        self.drop = nn.Dropout(p=0.5)\n",
        "\n",
        "    def forward(self, x):\n",
        "        # Apply the ReLU activation function to the output of the first, second, \n",
        "        #third, fourth, fifth and sixth convolutional layer\n",
        "\n",
        "        # Apply max pooling to the output of theses convolutional layers\n",
        "\n",
        "\n",
        "        x = F.relu(self.conv1(x))\n",
        "        x = self.pool1(x)\n",
        "\n",
        "        \n",
        "        x = F.relu(self.conv2(x))\n",
        "        x = self.pool2(x)\n",
        "        \n",
        "        \n",
        "        x = F.relu(self.conv3(x))\n",
        "        x = self.pool2(x)\n",
        "\n",
        "\n",
        "        x = F.relu(self.conv4(x))\n",
        "        x = self.pool2(x)\n",
        "\n",
        "\n",
        "        x = F.relu(self.conv5(x))\n",
        "        x = self.pool2(x)\n",
        "\n",
        "\n",
        "        x = F.relu(self.conv6(x))\n",
        "        x = self.pool2(x)\n",
        "\n",
        "        # Reshape the output of the final convolutional layer so that it can be fed into the fully connected layers\n",
        "        x = x.reshape(x.shape[0], -1)\n",
        "\n",
        "        # Apply the ReLU activation function to the output of the fully connected layers\n",
        "        x = F.relu(self.fc1(x))\n",
        "        x = F.relu(self.fc2(x))\n",
        "        x = F.relu(self.fc3(x))\n",
        "        x = F.relu(self.fc4(x))\n",
        "        x = F.relu(self.fc5(x))\n",
        "        x = F.relu(self.fc6(x))\n",
        "\n",
        "        # Apply the sigmoid activation function to the output of the seventh fully connected layer\n",
        "        x = torch.sigmoid(self.fc7(x))\n",
        "        return x"
      ],
      "id": "KAEPNJugT4XI"
    },
    {
      "cell_type": "markdown",
      "metadata": {
        "id": "g-KZxC5IPPXD"
      },
      "source": [
        "Defining the loss function and optimizer"
      ],
      "id": "g-KZxC5IPPXD"
    },
    {
      "cell_type": "code",
      "execution_count": null,
      "metadata": {
        "id": "Q8uZX9KuM5g_"
      },
      "outputs": [],
      "source": [
        "model = CNN(in_channels=in_channels, num_classes=num_classes).to(device)\n",
        "criterion =  nn.BCELoss()\n",
        "optimizer = optim.Adam(model.parameters(), lr=learning_rate)"
      ],
      "id": "Q8uZX9KuM5g_"
    },
    {
      "cell_type": "markdown",
      "metadata": {
        "id": "j9bFO9JeOlzC"
      },
      "source": [
        "Training the network and calculating the accuracy and loss"
      ],
      "id": "j9bFO9JeOlzC"
    },
    {
      "cell_type": "code",
      "execution_count": null,
      "metadata": {
        "colab": {
          "base_uri": "https://localhost:8080/"
        },
        "id": "EMfhO0fMOVAS",
        "outputId": "956e6898-0d9d-4b9f-9bb1-de68ae115da9"
      },
      "outputs": [
        {
          "output_type": "stream",
          "name": "stderr",
          "text": [
            "100%|██████████| 106/106 [00:51<00:00,  2.07it/s]\n",
            "100%|██████████| 28/28 [00:04<00:00,  6.17it/s]\n"
          ]
        },
        {
          "output_type": "stream",
          "name": "stdout",
          "text": [
            "\n",
            " epoch 0\tloss_train : 0.5362645983695984\t accuracy_train : 63.6922393364929%\n",
            "epoch 0\tloss_test : 0.6759220957756042\t accuracy_test : 53.910054425666%\n",
            "\n"
          ]
        },
        {
          "output_type": "stream",
          "name": "stderr",
          "text": [
            "100%|██████████| 106/106 [00:46<00:00,  2.26it/s]\n",
            "100%|██████████| 28/28 [00:04<00:00,  6.14it/s]\n"
          ]
        },
        {
          "output_type": "stream",
          "name": "stdout",
          "text": [
            "\n",
            " epoch 1\tloss_train : 0.4554346799850464\t accuracy_train : 71.22334123222748%\n",
            "epoch 1\tloss_test : 0.5291262269020081\t accuracy_test : 71.2976224577485%\n",
            "\n"
          ]
        },
        {
          "output_type": "stream",
          "name": "stderr",
          "text": [
            "100%|██████████| 106/106 [00:43<00:00,  2.42it/s]\n",
            "100%|██████████| 28/28 [00:04<00:00,  6.13it/s]\n"
          ]
        },
        {
          "output_type": "stream",
          "name": "stdout",
          "text": [
            "\n",
            " epoch 2\tloss_train : 0.30885106325149536\t accuracy_train : 78.53228672985783%\n",
            "epoch 2\tloss_test : 0.8844825029373169\t accuracy_test : 71.26897737038098%\n",
            "\n"
          ]
        },
        {
          "output_type": "stream",
          "name": "stderr",
          "text": [
            "100%|██████████| 106/106 [00:43<00:00,  2.41it/s]\n",
            "100%|██████████| 28/28 [00:04<00:00,  6.10it/s]"
          ]
        },
        {
          "output_type": "stream",
          "name": "stdout",
          "text": [
            "\n",
            " epoch 3\tloss_train : 0.47530466318130493\t accuracy_train : 81.38329383886256%\n",
            "epoch 3\tloss_test : 0.6018018126487732\t accuracy_test : 78.91721569750788%\n",
            "\n"
          ]
        },
        {
          "output_type": "stream",
          "name": "stderr",
          "text": [
            "\n"
          ]
        }
      ],
      "source": [
        "losses = []\n",
        "accur = []\n",
        "losses_test = []\n",
        "accur_test = []\n",
        "test_targets = []\n",
        "test_scores = []\n",
        "for epoch in range(num_epochs):\n",
        "    acc_test = 0\n",
        "    acc = 0\n",
        "    nb_iter_train = 0\n",
        "    nb_iter_test = 0\n",
        "    for batch_idx, (data, targets) in enumerate(tqdm(train_loader)):\n",
        "        # Get data to cuda if possible\n",
        "        data = data.to(device=device)\n",
        "        targets = targets.to(device=device)\n",
        "\n",
        "        # forward\n",
        "        scores = model(data)\n",
        "        loss = criterion(scores, targets.reshape(-1, 1))\n",
        "        # calculate accuracy and loss\n",
        "        targets_array = targets.numpy().reshape(-1, 1)\n",
        "        scores_array = (scores.detach().numpy().reshape(-1, 1) > 0.5).astype(\"float32\")\n",
        "        nb_iter_train += len(scores_array)\n",
        "        acc += (targets_array == scores_array).sum().item()\n",
        "        optimizer.zero_grad()\n",
        "        loss.backward()\n",
        "\n",
        "        optimizer.step()\n",
        "\n",
        "    # for test dataset\n",
        "    for batch_idx, (data_test, targets_test) in enumerate(tqdm(test_loader)):\n",
        "        scores_test = model(data_test)\n",
        "        loss_test = criterion(scores_test, targets_test.reshape(-1, 1))\n",
        "        # calculate accuracy and loss\n",
        "        targets_array_test = targets_test.numpy().reshape(-1, 1)\n",
        "        scores_array_test = (scores_test.detach().numpy().reshape(-1, 1) > 0.5).astype(\n",
        "            \"float32\"\n",
        "        )\n",
        "        acc_test += (targets_array_test == scores_array_test).sum().item()\n",
        "        nb_iter_test += len(scores_array_test)\n",
        "        if epoch == num_epochs - 1:\n",
        "            for i in range(targets_array_test.shape[0]):\n",
        "                test_targets.append(int(targets_array_test[i][0]))\n",
        "                test_scores.append(int(scores_array_test[i][0]))\n",
        "    acc = acc / nb_iter_train\n",
        "    acc_test = acc_test / nb_iter_test\n",
        "    losses.append(loss.detach().numpy())\n",
        "    accur.append(acc)\n",
        "    losses_test.append(loss_test.detach().numpy())\n",
        "    accur_test.append(acc_test)\n",
        "    print(\n",
        "        \"\\n epoch {}\\tloss_train : {}\\t accuracy_train : {}%\".format(\n",
        "            epoch, loss, acc * 100\n",
        "        )\n",
        "    )\n",
        "    print(\n",
        "        \"epoch {}\\tloss_test : {}\\t accuracy_test : {}%\\n\".format(\n",
        "            epoch, loss_test, acc_test * 100\n",
        "        )\n",
        "    )\n",
        "  \n",
        "\n"
      ],
      "id": "EMfhO0fMOVAS"
    },
    {
      "cell_type": "markdown",
      "metadata": {
        "id": "WS5STM-EMG5_"
      },
      "source": [
        "## Evaluating the model's accuracy on the training and test datasets\n"
      ],
      "id": "WS5STM-EMG5_"
    },
    {
      "cell_type": "code",
      "execution_count": null,
      "metadata": {
        "id": "SYFhB9L8PJM4"
      },
      "outputs": [],
      "source": [
        "def confusion(prediction, truth):\n",
        "    \"\"\" Returns the confusion matrix for the values in the `prediction` and `truth`\n",
        "    tensors, i.e. the amount of positions where the values of `prediction`\n",
        "    and `truth` are\n",
        "    - 1 and 1 (True Positive)\n",
        "    - 1 and 0 (False Positive)\n",
        "    - 0 and 0 (True Negative)\n",
        "    - 0 and 1 (False Negative)\n",
        "    \"\"\"\n",
        "    confusion_vector = prediction / truth\n",
        "    # Element-wise division of the 2 tensors returns a new tensor which holds a\n",
        "    # unique value for each case:\n",
        "    #   1     where prediction and truth are 1 (True Positive)\n",
        "    #   inf   where prediction is 1 and truth is 0 (False Positive)\n",
        "    #   nan   where prediction and truth are 0 (True Negative)\n",
        "    #   0     where prediction is 0 and truth is 1 (False Negative)\n",
        "\n",
        "    true_positives = torch.sum(confusion_vector == 1).item()\n",
        "    false_positives = torch.sum(confusion_vector == float('inf')).item()\n",
        "    true_negatives = torch.sum(torch.isnan(confusion_vector)).item()\n",
        "    false_negatives = torch.sum(confusion_vector == 0).item()\n",
        "\n",
        "    return true_positives, false_positives, true_negatives, false_negatives"
      ],
      "id": "SYFhB9L8PJM4"
    },
    {
      "cell_type": "markdown",
      "metadata": {
        "id": "zlz1h-eFMxY9"
      },
      "source": [
        "Plotting the confusion matrix and checking the metrics for the test set"
      ],
      "id": "zlz1h-eFMxY9"
    },
    {
      "cell_type": "code",
      "execution_count": null,
      "metadata": {
        "id": "AiH12iVTPNq4"
      },
      "outputs": [],
      "source": [
        "def check_accuracy(loader, model):\n",
        "    model.eval()\n",
        "    accuracy = 0.0\n",
        "    total = 0.0\n",
        "    data_loader = train_loader if loader == \"train\" else test_loader\n",
        "\n",
        "    print(\"Checking accuracy on\", loader, \"data\")\n",
        "    with torch.no_grad():\n",
        "        true_positives, false_positives, true_negatives, false_negatives = 0, 0, 0, 0\n",
        "\n",
        "        i = 0\n",
        "        for data in data_loader:\n",
        "            segments, labels = data\n",
        "\n",
        "            segments = segments.float()\n",
        "            outputs = model(segments)\n",
        "\n",
        "            predicted = torch.round(outputs)\n",
        "\n",
        "            predicted = predicted[:, 0]\n",
        "            outputs = outputs[:, 0]\n",
        "            i += 1\n",
        "\n",
        "            tp, fp, tn, fn = confusion(predicted, labels)\n",
        "\n",
        "            true_positives += tp\n",
        "            false_positives += fp\n",
        "            true_negatives += tn\n",
        "            false_negatives += fn\n",
        "\n",
        "            total += labels.size(0)\n",
        "            accuracy += (predicted == labels).sum().item()\n",
        "\n",
        "        accuracy = 100 * accuracy / total\n",
        "        print(f\"Got {accuracy} accuracy \")\n",
        "        sensitivity = true_positives / (true_positives + false_negatives)\n",
        "        specificity = true_negatives / (true_negatives + false_positives)\n",
        "        precision = true_positives / (true_positives + false_positives)\n",
        "        recall = true_positives / (true_positives + false_negatives)\n",
        "        F1 = (2 * precision * recall) / (precision + recall)\n",
        "        auroc = AUROC(task=\"multiclass\", num_classes=2)\n",
        "\n",
        "        print(f\"Sensitivity: {sensitivity}\")\n",
        "        print(f\"Specificity: {specificity}\")\n",
        "        print(f\"F1: {F1}\")\n",
        "        print(f\"Youden's index: {sensitivity + specificity - 1 }\")\n",
        "\n",
        "        # Plot confusion matrix\n",
        "\n",
        "        cm = [[true_positives, false_negatives], [false_positives, true_negatives]]\n",
        "\n",
        "        ax = plt.subplot()\n",
        "        sns.heatmap(cm, annot=True, fmt=\"g\", cmap=\"Greens\", ax=ax)\n",
        "        # annot=True to annotate cells, ftm='g' to disable scientific notation\n",
        "\n",
        "        # labels, title and ticks\n",
        "        ax.set_xlabel(\"Predicted labels\")\n",
        "        ax.set_ylabel(\"True labels\")\n",
        "        # ax.set_title('Confusion Matrix');\n",
        "        ax.xaxis.set_ticklabels([\"apnea\", \"normal\"])\n",
        "        ax.yaxis.set_ticklabels([\"apnea\", \"normal\"])\n",
        "\n",
        "        \n"
      ],
      "id": "AiH12iVTPNq4"
    },
    {
      "cell_type": "code",
      "source": [
        "check_accuracy(\"test\", model)"
      ],
      "metadata": {
        "colab": {
          "base_uri": "https://localhost:8080/",
          "height": 383
        },
        "id": "IpuXVgexeHyB",
        "outputId": "0e57c4c5-7c52-4611-eb20-1c67d9042691"
      },
      "id": "IpuXVgexeHyB",
      "execution_count": null,
      "outputs": [
        {
          "output_type": "stream",
          "name": "stdout",
          "text": [
            "Checking accuracy on test data\n",
            "Got 78.91721569750787 accuracy \n",
            "Sensitivity: 0.9171094580233794\n",
            "Specificity: 0.6395276569297701\n",
            "F1: 0.8242597898758357\n",
            "Youden's index: 0.5566371149531495\n"
          ]
        },
        {
          "output_type": "display_data",
          "data": {
            "text/plain": [
              "<Figure size 432x288 with 2 Axes>"
            ],
            "image/png": "[encoded data removed]"
          },
          "metadata": {
            "needs_background": "light"
          }
        }
      ]
    },
    {
      "cell_type": "markdown",
      "metadata": {
        "id": "Px6UM2P3aW0H"
      },
      "source": [
        "## Visualizing the model's loss over epochs for both the training and test sets"
      ],
      "id": "Px6UM2P3aW0H"
    },
    {
      "cell_type": "code",
      "execution_count": null,
      "metadata": {
        "colab": {
          "base_uri": "https://localhost:8080/",
          "height": 458
        },
        "id": "ejKMdkBTaUue",
        "outputId": "9b7f387d-0e99-4897-bf47-3446c20cf998"
      },
      "outputs": [
        {
          "output_type": "display_data",
          "data": {
            "text/plain": [
              "<Figure size 720x504 with 1 Axes>"
            ],
            "image/png": "[encoded data removed]"
          },
          "metadata": {
            "needs_background": "light"
          }
        }
      ],
      "source": [
        "plt.rcParams[\"figure.figsize\"] = (10,7)\n",
        "fig1, ax_acc = plt.subplots()\n",
        "plt.plot(losses)\n",
        "plt.plot(losses_test)\n",
        "plt.title('Loss vs Epochs')\n",
        "plt.xlabel('Epochs')\n",
        "plt.ylabel('loss')\n",
        "plt.legend(['Training', 'Test'], loc='lower right')\n",
        "plt.show ()"
      ],
      "id": "ejKMdkBTaUue"
    },
    {
      "cell_type": "markdown",
      "metadata": {
        "id": "E9ejiKIBTwMN"
      },
      "source": [
        "## Visualizing the model's accuracy over epochs for both the training and test sets\n"
      ],
      "id": "E9ejiKIBTwMN"
    },
    {
      "cell_type": "code",
      "execution_count": null,
      "metadata": {
        "colab": {
          "base_uri": "https://localhost:8080/",
          "height": 458
        },
        "id": "5KdqnyQ4Twsg",
        "outputId": "ab092a03-3a3a-4e2d-e907-2ff3e95a47de"
      },
      "outputs": [
        {
          "output_type": "display_data",
          "data": {
            "text/plain": [
              "<Figure size 720x504 with 1 Axes>"
            ],
            "image/png": "[encoded data removed]"
          },
          "metadata": {
            "needs_background": "light"
          }
        }
      ],
      "source": [
        "fig2, ax_loss = plt.subplots()\n",
        "plt.plot(accur)\n",
        "plt.plot(accur_test)\n",
        "plt.title('Accuracy vs Epochs')\n",
        "plt.xlabel('Accuracy')\n",
        "plt.ylabel('loss')\n",
        "plt.legend(['Training', 'Test'], loc='lower right')\n",
        "plt.show ()"
      ],
      "id": "5KdqnyQ4Twsg"
    }
  ],
  "metadata": {
    "accelerator": "GPU",
    "colab": {
      "provenance": []
    },
    "gpuClass": "standard",
    "kernelspec": {
      "display_name": "Python 3 (ipykernel)",
      "language": "python",
      "name": "python3"
    },
    "language_info": {
      "codemirror_mode": {
        "name": "ipython",
        "version": 3
      },
      "file_extension": ".py",
      "mimetype": "text/x-python",
      "name": "python",
      "nbconvert_exporter": "python",
      "pygments_lexer": "ipython3",
      "version": "3.10.7"
    }
  },
  "nbformat": 4,
  "nbformat_minor": 5
}