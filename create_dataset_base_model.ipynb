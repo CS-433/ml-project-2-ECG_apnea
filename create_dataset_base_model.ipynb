{
 "cells": [
  {
   "cell_type": "markdown",
   "id": "3606f564",
   "metadata": {},
   "source": [
    "# In this notebook we are creating a training and test set in the form of csv file for the base model of our project. From the recorded signals segmented in minutes, we extract two features related to heart beats : bpm (beats per minute) and sdnn  (standard deviation of the NN (R-R) intervals) with a binary associated label (apnea or not)"
   ]
  },
  {
   "cell_type": "markdown",
   "id": "93a6dfcb",
   "metadata": {},
   "source": [
    "Import libraries"
   ]
  },
  {
   "cell_type": "code",
   "execution_count": 7,
   "id": "e5a97dab",
   "metadata": {},
   "outputs": [],
   "source": [
    "import matplotlib.pyplot  as plt \n",
    "import numpy as np \n",
    "import wfdb\n",
    "from utils import *\n",
    "import heartpy as hp\n",
    "import pandas as pd \n",
    "import os\n",
    "import re\n",
    "import csv"
   ]
  },
  {
   "cell_type": "markdown",
   "id": "7f2ae6fd",
   "metadata": {},
   "source": [
    "Useful constants"
   ]
  },
  {
   "cell_type": "code",
   "execution_count": 8,
   "id": "b5f3beca",
   "metadata": {},
   "outputs": [],
   "source": [
    "NB_SAMPLES_PER_MINUTE = 6000\n",
    "\n",
    "train_files = [\n",
    "    \"a01\",\n",
    "    \"c01\",\n",
    "    \"b01\",\n",
    "    \"a02\",\n",
    "    \"c02\",\n",
    "    \"b02\",\n",
    "    \"a03\",\n",
    "    \"c03\",\n",
    "    \"b03\",\n",
    "    \"a04\",\n",
    "    \"c04\",\n",
    "    \"b04\",\n",
    "    \"a05\",\n",
    "    \"c05\",\n",
    "    \"a06\",\n",
    "    \"c06\",\n",
    "    \"a07\",\n",
    "    \"c07\",\n",
    "    \"a08\",\n",
    "    \"c08\",\n",
    "    \"a09\",\n",
    "    \"a10\",\n",
    "    \"a11\",\n",
    "    \"a12\",\n",
    "    \"a13\",\n",
    "    \"a14\",\n",
    "    \"a15\",\n",
    "    \"a16\",\n",
    "]\n",
    "\n",
    "\n",
    "test_files = [\"b05\", \"c09\", \"c10\", \"a17\", \"a18\", \"a19\", \"a20\"]\n",
    "\n",
    "# assign directory\n",
    "directory = \"apnea-ecg-database-1.0.0\""
   ]
  },
  {
   "cell_type": "markdown",
   "id": "bdd79775",
   "metadata": {},
   "source": [
    "This function generates the csv with two features for each segment of 60 segments, the bpm and the sdnn"
   ]
  },
  {
   "cell_type": "code",
   "execution_count": 9,
   "id": "5bc60507",
   "metadata": {},
   "outputs": [],
   "source": [
    "# creates csv in current directory\n",
    "def create_data_csv(source_directory, files, output_name):\n",
    "    samples = []\n",
    "    for filename in files:\n",
    "        print(filename)\n",
    "        labels_session = []\n",
    "\n",
    "        # load the outputs\n",
    "        with open(\"outputs/\" + filename + \".txt\", \"r\") as file:\n",
    "            lines = file.readlines()\n",
    "            for line in lines:\n",
    "                labels_session.append(1 if re.split(\" +\", line)[3] == \"A\" else 0)\n",
    "\n",
    "        # here we want to make sure that we take the number of samples measured in the output file\n",
    "        nb_samples_output = int(re.split(\" +\", lines[-1])[2]) + NB_SAMPLES_PER_MINUTE\n",
    "        labels_session = labels_session[1:]\n",
    "        # measure the ecg using wfdb and heartpy\n",
    "        record = wfdb.rdrecord(\n",
    "            source_directory + \"/\" + filename\n",
    "        ) \n",
    "        # we do this because the number of labels could be bigger than the signal length\n",
    "        session_ecg = record.p_signal[0:nb_samples_output]\n",
    "\n",
    "        # compute the heart rates and sdnn, for every two minute with a slide of 60 seconds\n",
    "        session_ecg = session_ecg.reshape((len(session_ecg)))\n",
    "        working_data, measures = hp.process_segmentwise(\n",
    "            session_ecg[3000:],\n",
    "            sample_rate=100.0,\n",
    "            segment_width=60,\n",
    "            segment_overlap=0,\n",
    "            segment_min_size=0,\n",
    "            replace_outliers=True,\n",
    "        )\n",
    "\n",
    "        nb_samples = min(len(labels_session), len(measures[\"bpm\"]))\n",
    "\n",
    "        labels_session = labels_session[0:nb_samples]\n",
    "\n",
    "        hr = measures[\"bpm\"][0:nb_samples]\n",
    "        hrv_sdnn = measures[\"sdnn\"][0:nb_samples]\n",
    "        handle_nans(hr)\n",
    "        handle_nans(hrv_sdnn)\n",
    "\n",
    "        session_samples = np.c_[labels_session, hr, hrv_sdnn]\n",
    "\n",
    "        samples.extend(session_samples)\n",
    "    np.savetxt(output_name + \".csv\", samples, delimiter=\",\", fmt=(\"%d, %f, %f\"))"
   ]
  },
  {
   "cell_type": "markdown",
   "id": "5d9cc6ae",
   "metadata": {},
   "source": [
    "Generate the csv files"
   ]
  },
  {
   "cell_type": "code",
   "execution_count": 10,
   "id": "f364770b",
   "metadata": {},
   "outputs": [
    {
     "name": "stdout",
     "output_type": "stream",
     "text": [
      "a01\n"
     ]
    },
    {
     "name": "stderr",
     "output_type": "stream",
     "text": [
      "D:\\Users\\Tanguy\\anaconda3\\lib\\site-packages\\numpy\\ma\\core.py:5246: RuntimeWarning: Mean of empty slice.\n",
      "  result = super().mean(axis=axis, dtype=dtype, **kwargs)[()]\n",
      "D:\\Users\\Tanguy\\anaconda3\\lib\\site-packages\\numpy\\core\\fromnumeric.py:3757: RuntimeWarning: Degrees of freedom <= 0 for slice\n",
      "  return _methods._var(a, axis=axis, dtype=dtype, out=out, ddof=ddof,\n",
      "D:\\Users\\Tanguy\\anaconda3\\lib\\site-packages\\scipy\\interpolate\\fitpack2.py:280: UserWarning: \n",
      "The maximal number of iterations maxit (set to 20 by the program)\n",
      "allowed for finding a smoothing spline with fp=s has been reached: s\n",
      "too small.\n",
      "There is an approximation returned but the corresponding weighted sum\n",
      "of squared residuals does not satisfy the condition abs(fp-s)/s < tol.\n",
      "  warnings.warn(message)\n",
      "D:\\Users\\Tanguy\\anaconda3\\lib\\site-packages\\numpy\\lib\\function_base.py:3677: UserWarning: Warning: converting a masked element to nan.\n",
      "  a = np.asanyarray(a)\n"
     ]
    },
    {
     "name": "stdout",
     "output_type": "stream",
     "text": [
      "c01\n",
      "b01\n"
     ]
    },
    {
     "name": "stderr",
     "output_type": "stream",
     "text": [
      "D:\\Users\\Tanguy\\anaconda3\\lib\\site-packages\\scipy\\interpolate\\fitpack2.py:280: UserWarning: \n",
      "A theoretically impossible result was found during the iteration\n",
      "process for finding a smoothing spline with fp = s: s too small.\n",
      "There is an approximation returned but the corresponding weighted sum\n",
      "of squared residuals does not satisfy the condition abs(fp-s)/s < tol.\n",
      "  warnings.warn(message)\n"
     ]
    },
    {
     "name": "stdout",
     "output_type": "stream",
     "text": [
      "a02\n",
      "c02\n"
     ]
    },
    {
     "name": "stderr",
     "output_type": "stream",
     "text": [
      "D:\\Users\\Tanguy\\anaconda3\\lib\\site-packages\\numpy\\core\\fromnumeric.py:3474: RuntimeWarning: Mean of empty slice.\n",
      "  return _methods._mean(a, axis=axis, dtype=dtype,\n",
      "D:\\Users\\Tanguy\\anaconda3\\lib\\site-packages\\numpy\\core\\_methods.py:264: RuntimeWarning: Degrees of freedom <= 0 for slice\n",
      "  ret = _var(a, axis=axis, dtype=dtype, out=out, ddof=ddof,\n"
     ]
    },
    {
     "name": "stdout",
     "output_type": "stream",
     "text": [
      "b02\n",
      "a03\n",
      "c03\n",
      "b03\n",
      "a04\n",
      "c04\n",
      "b04\n",
      "a05\n",
      "c05\n",
      "a06\n",
      "c06\n",
      "a07\n",
      "c07\n",
      "a08\n",
      "c08\n",
      "a09\n",
      "a10\n",
      "a11\n",
      "a12\n",
      "a13\n",
      "a14\n",
      "a15\n",
      "a16\n",
      "b05\n",
      "c09\n",
      "c10\n",
      "a17\n",
      "a18\n",
      "a19\n",
      "a20\n"
     ]
    }
   ],
   "source": [
    "create_data_csv(directory, train_files, 'base_model_train_set')\n",
    "create_data_csv(directory, test_files, 'base_model_test_set')\n"
   ]
  },
  {
   "cell_type": "markdown",
   "id": "51873a35",
   "metadata": {},
   "source": [
    "Insert the columns names on the csv's"
   ]
  },
  {
   "cell_type": "code",
   "execution_count": 11,
   "id": "02a5e068",
   "metadata": {},
   "outputs": [],
   "source": [
    "columns = [\"apnea\", \"bpm\", \"sdnn\"]\n",
    "def insert_column_names(filename):\n",
    "    with open(filename, \"r\") as infile:\n",
    "        reader = list(csv.reader(infile))\n",
    "        reader.insert(0, columns)\n",
    "\n",
    "    with open(filename, \"w\", newline ='') as outfile:\n",
    "        writer = csv.writer(outfile)\n",
    "        for line in reader:\n",
    "            writer.writerow(line)\n",
    "insert_column_names('base_model_train_set.csv')     \n",
    "insert_column_names('base_model_test_set.csv')            "
   ]
  },
  {
   "cell_type": "markdown",
   "id": "ce228985",
   "metadata": {},
   "source": [
    "Here we are looking for the ratio of apnea and non apnea in our dataset"
   ]
  },
  {
   "cell_type": "code",
   "execution_count": 12,
   "id": "14df7bfc",
   "metadata": {},
   "outputs": [
    {
     "name": "stdout",
     "output_type": "stream",
     "text": [
      "ratio of apnea :  0.38216485772953945\n"
     ]
    }
   ],
   "source": [
    "# creates csv in current directory\n",
    "def compute_ratio(source_directory, files):\n",
    "    labels = []\n",
    "    for filename in files:\n",
    "        labels_session = []\n",
    "        # load the outputs\n",
    "        with open(\"outputs/\" + filename + \".txt\", \"r\") as file:\n",
    "            lines = file.readlines()\n",
    "            for line in lines:\n",
    "                labels_session.append(1 if re.split(\" +\", line)[3] == \"A\" else 0)\n",
    "        labels.extend(labels_session)\n",
    "\n",
    "    print(\"ratio of apnea : \", sum(labels) / len(labels))\n",
    "\n",
    "all_recordings = []\n",
    "\n",
    "all_recordings.extend(train_files)\n",
    "all_recordings.extend(test_files)    \n",
    "\n",
    "compute_ratio(directory, all_recordings)\n"
   ]
  }
 ],
 "metadata": {
  "kernelspec": {
   "display_name": "Python 3 (ipykernel)",
   "language": "python",
   "name": "python3"
  },
  "language_info": {
   "codemirror_mode": {
    "name": "ipython",
    "version": 3
   },
   "file_extension": ".py",
   "mimetype": "text/x-python",
   "name": "python",
   "nbconvert_exporter": "python",
   "pygments_lexer": "ipython3",
   "version": "3.9.12"
  }
 },
 "nbformat": 4,
 "nbformat_minor": 5
}
