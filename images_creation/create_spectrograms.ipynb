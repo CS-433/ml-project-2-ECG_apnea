{
 "cells": [
  {
   "cell_type": "markdown",
   "id": "5c982d9c",
   "metadata": {},
   "source": [
    "# This notebook generates the spectrogram images from raw ecg signals"
   ]
  },
  {
   "cell_type": "markdown",
   "id": "37f18076",
   "metadata": {},
   "source": [
    "Import libraries"
   ]
  },
  {
   "cell_type": "code",
   "execution_count": 1,
   "id": "e0566db3",
   "metadata": {},
   "outputs": [],
   "source": [
    "import wfdb\n",
    "import os\n",
    "import numpy as np\n",
    "from scipy import signal\n",
    "from utils import *\n",
    "from scipy.fft import fftshift\n",
    "import matplotlib.pyplot as plt\n",
    "from sklearn.preprocessing import normalize"
   ]
  },
  {
   "cell_type": "markdown",
   "id": "2b75da90",
   "metadata": {},
   "source": [
    "Useful constants"
   ]
  },
  {
   "cell_type": "code",
   "execution_count": 2,
   "id": "dbc5dca2",
   "metadata": {},
   "outputs": [],
   "source": [
    "NB_S_PER_MIN = 6000\n",
    "SAMPLING_FREQUENCY = 100\n",
    "LOWER_BOUND_FILTER = 1\n",
    "UPPER_BOUND_FILTER = 48\n",
    "NB_S_PER_HALF_MIN = 3000\n",
    "\n",
    "train_files = [\n",
    "    \"a01\",\n",
    "    \"c01\",\n",
    "    \"b01\",\n",
    "    \"a02\",\n",
    "    \"c02\",\n",
    "    \"b02\",\n",
    "    \"a03\",\n",
    "    \"c03\",\n",
    "    \"b03\",\n",
    "    \"a04\",\n",
    "    \"c04\",\n",
    "    \"b04\",\n",
    "    \"a05\",\n",
    "    \"c05\",\n",
    "    \"a06\",\n",
    "    \"c06\",\n",
    "    \"a07\",\n",
    "    \"c07\",\n",
    "    \"a08\",\n",
    "    \"c08\",\n",
    "    \"a09\",\n",
    "    \"a10\",\n",
    "    \"a11\",\n",
    "    \"a12\",\n",
    "    \"a13\",\n",
    "    \"a14\",\n",
    "    \"a15\",\n",
    "    \"a16\",\n",
    "]\n",
    "\n",
    "\n",
    "test_files = [\"b05\", \"c09\", \"c10\", \"a17\", \"a18\", \"a19\", \"a20\"]\n",
    "\n",
    "# assign directory\n",
    "directory = \"../ECG_Data/apnea-ecg-database-1.0.0/\"\n",
    "\n",
    "out_directory_train = \"./Spectrogram_Hann/Train/\"\n",
    "out_directory_test = \"./Spectrogram_Hann/Test/\""
   ]
  },
  {
   "cell_type": "markdown",
   "id": "5e618534",
   "metadata": {},
   "source": [
    "This function generates the spectrogram images in format \".png\" to intended directory with a csv file that maps filenames to annotation(apnea or not)"
   ]
  },
  {
   "cell_type": "code",
   "execution_count": 3,
   "id": "3585f4f2",
   "metadata": {},
   "outputs": [],
   "source": [
    "# return signals segments in forms of array with the associated label\n",
    "def create_spect_images(source_directory, files, out_directory, csv_path):\n",
    "\n",
    "\n",
    "    splitted_out_directory = out_directory.split('/')\n",
    "    os.mkdir(splitted_out_directory[1])\n",
    "    os.mkdir( splitted_out_directory[1] + '/' + splitted_out_directory[2] )\n",
    "    spc_labels_file = open(out_directory + csv_path, \"a\")\n",
    "    spc_labels_file.write(\"image,label\")\n",
    "\n",
    "    plt.ioff()\n",
    "    for filename in files:\n",
    "        i = 0\n",
    "        path = source_directory + filename\n",
    "\n",
    "        print(filename)\n",
    "        record = wfdb.rdrecord(path)\n",
    "        apnea = wfdb.rdann(path, \"apn\")\n",
    "        ecg = record.p_signal\n",
    "        ecg = ecg.reshape(len(ecg))\n",
    "        ecg = bandpass_signal(ecg, LOWER_BOUND_FILTER, UPPER_BOUND_FILTER)\n",
    "\n",
    "        length = min(\n",
    "            len(apnea.symbol) - 1, int((len(ecg) - NB_S_PER_HALF_MIN) / NB_S_PER_MIN)\n",
    "        )\n",
    "\n",
    "        for j in range(length):\n",
    "            label = apnea.symbol[j + 1]\n",
    "            segment = ecg[\n",
    "                NB_S_PER_HALF_MIN\n",
    "                + (NB_S_PER_MIN * j) : NB_S_PER_HALF_MIN\n",
    "                + (NB_S_PER_MIN * (j + 1))\n",
    "            ]\n",
    "            # print(segment)\n",
    "\n",
    "            # save spectrogram plot\n",
    "            spc_file_name = \"spc_\" + filename + \"_\" + str(i) + \".png\"\n",
    "            f, t, Sxx = signal.spectrogram(\n",
    "                segment, SAMPLING_FREQUENCY, window=(\"hann\"), nperseg=128, noverlap=64\n",
    "            )\n",
    "            plt.pcolormesh(t, f, Sxx, shading=\"gouraud\")\n",
    "            # x-axis: frequency [Hz]\n",
    "            # y-axis: time [sec]\n",
    "            plt.axis(\"off\")\n",
    "            plt.savefig(\n",
    "                out_directory + spc_file_name, bbox_inches=\"tight\", pad_inches=0.0\n",
    "            )\n",
    "            plt.close()\n",
    "            # add line to csv\n",
    "            spc_labels_file.write(spc_file_name + \",\" + label + \"\\n\")\n",
    "            # increment 1\n",
    "            i += 1\n",
    "\n",
    "    spc_labels_file.close()"
   ]
  },
  {
   "cell_type": "code",
   "execution_count": 4,
   "id": "ea31ef4a",
   "metadata": {},
   "outputs": [
    {
     "name": "stdout",
     "output_type": "stream",
     "text": [
      "a01\n"
     ]
    },
    {
     "name": "stderr",
     "output_type": "stream",
     "text": [
      "\n",
      "KeyboardInterrupt\n",
      "\n"
     ]
    }
   ],
   "source": [
    "create_spect_images(\n",
    "    directory, train_files, out_directory_train, \"spc_train_labels.csv\"\n",
    ")\n",
    "create_spect_images(directory, test_files, out_directory_test, \"spc_test_labels.csv\")"
   ]
  }
 ],
 "metadata": {
  "kernelspec": {
   "display_name": "Python 3 (ipykernel)",
   "language": "python",
   "name": "python3"
  },
  "language_info": {
   "codemirror_mode": {
    "name": "ipython",
    "version": 3
   },
   "file_extension": ".py",
   "mimetype": "text/x-python",
   "name": "python",
   "nbconvert_exporter": "python",
   "pygments_lexer": "ipython3",
   "version": "3.9.12"
  }
 },
 "nbformat": 4,
 "nbformat_minor": 5
}
