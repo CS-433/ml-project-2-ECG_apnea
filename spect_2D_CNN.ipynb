{
  "cells": [
    {
      "cell_type": "markdown",
      "source": [
        "# This notebook uses a 2D CNN to make predictions of apnea on the spectrograms for 60 seconds segments"
      ],
      "metadata": {
        "id": "9QhHWn6t85JR"
      },
      "id": "9QhHWn6t85JR"
    },
    {
      "cell_type": "markdown",
      "source": [
        "Install libraries"
      ],
      "metadata": {
        "id": "-5sa7eJy9Ed7"
      },
      "id": "-5sa7eJy9Ed7"
    },
    {
      "cell_type": "code",
      "execution_count": null,
      "id": "9NR1j52vFxm1",
      "metadata": {
        "colab": {
          "base_uri": "https://localhost:8080/"
        },
        "id": "9NR1j52vFxm1",
        "outputId": "67d58a81-2915-4a85-b538-80ec3ecc51b9"
      },
      "outputs": [
        {
          "output_type": "stream",
          "name": "stdout",
          "text": [
            "Looking in indexes: https://pypi.org/simple, https://us-python.pkg.dev/colab-wheels/public/simple/\n",
            "Requirement already satisfied: tqdm in /usr/local/lib/python3.8/dist-packages (4.64.1)\n",
            "Looking in indexes: https://pypi.org/simple, https://us-python.pkg.dev/colab-wheels/public/simple/\n",
            "Collecting torchmetrics\n",
            "  Downloading torchmetrics-0.11.0-py3-none-any.whl (512 kB)\n",
            "\u001b[K     |████████████████████████████████| 512 kB 33.3 MB/s \n",
            "\u001b[?25hRequirement already satisfied: torch>=1.8.1 in /usr/local/lib/python3.8/dist-packages (from torchmetrics) (1.13.0+cu116)\n",
            "Requirement already satisfied: packaging in /usr/local/lib/python3.8/dist-packages (from torchmetrics) (21.3)\n",
            "Requirement already satisfied: numpy>=1.17.2 in /usr/local/lib/python3.8/dist-packages (from torchmetrics) (1.21.6)\n",
            "Requirement already satisfied: typing-extensions in /usr/local/lib/python3.8/dist-packages (from torchmetrics) (4.4.0)\n",
            "Requirement already satisfied: pyparsing!=3.0.5,>=2.0.2 in /usr/local/lib/python3.8/dist-packages (from packaging->torchmetrics) (3.0.9)\n",
            "Installing collected packages: torchmetrics\n",
            "Successfully installed torchmetrics-0.11.0\n",
            "Looking in indexes: https://pypi.org/simple, https://us-python.pkg.dev/colab-wheels/public/simple/\n",
            "Requirement already satisfied: seaborn in /usr/local/lib/python3.8/dist-packages (0.11.2)\n",
            "Requirement already satisfied: matplotlib>=2.2 in /usr/local/lib/python3.8/dist-packages (from seaborn) (3.2.2)\n",
            "Requirement already satisfied: pandas>=0.23 in /usr/local/lib/python3.8/dist-packages (from seaborn) (1.3.5)\n",
            "Requirement already satisfied: numpy>=1.15 in /usr/local/lib/python3.8/dist-packages (from seaborn) (1.21.6)\n",
            "Requirement already satisfied: scipy>=1.0 in /usr/local/lib/python3.8/dist-packages (from seaborn) (1.7.3)\n",
            "Requirement already satisfied: cycler>=0.10 in /usr/local/lib/python3.8/dist-packages (from matplotlib>=2.2->seaborn) (0.11.0)\n",
            "Requirement already satisfied: pyparsing!=2.0.4,!=2.1.2,!=2.1.6,>=2.0.1 in /usr/local/lib/python3.8/dist-packages (from matplotlib>=2.2->seaborn) (3.0.9)\n",
            "Requirement already satisfied: python-dateutil>=2.1 in /usr/local/lib/python3.8/dist-packages (from matplotlib>=2.2->seaborn) (2.8.2)\n",
            "Requirement already satisfied: kiwisolver>=1.0.1 in /usr/local/lib/python3.8/dist-packages (from matplotlib>=2.2->seaborn) (1.4.4)\n",
            "Requirement already satisfied: pytz>=2017.3 in /usr/local/lib/python3.8/dist-packages (from pandas>=0.23->seaborn) (2022.6)\n",
            "Requirement already satisfied: six>=1.5 in /usr/local/lib/python3.8/dist-packages (from python-dateutil>=2.1->matplotlib>=2.2->seaborn) (1.15.0)\n",
            "Looking in indexes: https://pypi.org/simple, https://us-python.pkg.dev/colab-wheels/public/simple/\n",
            "Requirement already satisfied: scipy in /usr/local/lib/python3.8/dist-packages (1.7.3)\n",
            "Requirement already satisfied: numpy<1.23.0,>=1.16.5 in /usr/local/lib/python3.8/dist-packages (from scipy) (1.21.6)\n",
            "Looking in indexes: https://pypi.org/simple, https://us-python.pkg.dev/colab-wheels/public/simple/\n",
            "Collecting sns\n",
            "  Downloading sns-0.1.tar.gz (2.1 kB)\n",
            "Building wheels for collected packages: sns\n",
            "  Building wheel for sns (setup.py) ... \u001b[?25l\u001b[?25hdone\n",
            "  Created wheel for sns: filename=sns-0.1-py3-none-any.whl size=2662 sha256=17ed0274fe5e8645aa0052506c6323a61b814a4c4d694375068ef2f2f6b20f0b\n",
            "  Stored in directory: /root/.cache/pip/wheels/94/30/68/c7bbc5257894097a14adf5c7d6e7de56127c9936f27afe2416\n",
            "Successfully built sns\n",
            "Installing collected packages: sns\n",
            "Successfully installed sns-0.1\n",
            "Looking in indexes: https://pypi.org/simple, https://us-python.pkg.dev/colab-wheels/public/simple/\n",
            "\u001b[31mERROR: Could not find a version that satisfies the requirement PIL (from versions: none)\u001b[0m\n",
            "\u001b[31mERROR: No matching distribution found for PIL\u001b[0m\n"
          ]
        }
      ],
      "source": [
        "!pip install tqdm #install tqdm library on colab\n",
        "!pip install torchmetrics\n",
        "!pip install seaborn\n",
        "!pip install scipy\n",
        "!pip install sns\n",
        "!pip install PIL"
      ]
    },
    {
      "cell_type": "code",
      "execution_count": null,
      "id": "ff7e942b",
      "metadata": {
        "colab": {
          "base_uri": "https://localhost:8080/"
        },
        "id": "ff7e942b",
        "outputId": "7c7963a3-6a10-4304-dcf1-ccc427b4c67d"
      },
      "outputs": [
        {
          "output_type": "execute_result",
          "data": {
            "text/plain": [
              "True"
            ]
          },
          "metadata": {},
          "execution_count": 2
        }
      ],
      "source": [
        "import numpy as np \n",
        "import pandas as pd \n",
        "import wfdb\n",
        "from wfdb import processing\n",
        "import matplotlib.pyplot as plt\n",
        "from sklearn.preprocessing import normalize , LabelEncoder\n",
        "import torch\n",
        "import os\n",
        "import torch.nn as nn\n",
        "from torch import optim \n",
        "import torch.nn.functional as F\n",
        "import wfdb\n",
        "from PIL import Image\n",
        "import numpy as np\n",
        "#from scipy import signal\n",
        "#from scipy.fft import fftshift\n",
        "import matplotlib.pyplot as plt\n",
        "from sklearn.preprocessing import normalize\n",
        "from skimage import io\n",
        "from skimage.color import rgba2rgb\n",
        "import torchvision\n",
        "from torch.utils.data import Dataset,DataLoader,TensorDataset\n",
        "import torch.utils.data as data_utils\n",
        "import torchvision.transforms as transforms  \n",
        "from tqdm import tqdm\n",
        "import seaborn as sns\n",
        "import matplotlib.pyplot as plt \n"
      ]
    },
    {
      "cell_type": "markdown",
      "source": [
        "Mount google drive"
      ],
      "metadata": {
        "id": "Dc-Gqgmn9RNw"
      },
      "id": "Dc-Gqgmn9RNw"
    },
    {
      "cell_type": "code",
      "execution_count": null,
      "id": "gnuayb0p7kj8",
      "metadata": {
        "colab": {
          "base_uri": "https://localhost:8080/"
        },
        "id": "gnuayb0p7kj8",
        "outputId": "99b34ef2-6512-4376-cd55-174fc163333b"
      },
      "outputs": [
        {
          "output_type": "stream",
          "name": "stdout",
          "text": [
            "Mounted at /content/drive\n"
          ]
        }
      ],
      "source": [
        "from google.colab import drive\n",
        "drive.mount('/content/drive')"
      ]
    },
    {
      "cell_type": "markdown",
      "source": [
        "Set up device"
      ],
      "metadata": {
        "id": "UVEU3Lxu9ZGR"
      },
      "id": "UVEU3Lxu9ZGR"
    },
    {
      "cell_type": "code",
      "source": [
        "#set torch to GPU\n",
        "device = torch.device(\"cuda\" if torch.cuda.is_available() else \"cpu\") #set gpu for device\n",
        "torch.cuda.is_available()"
      ],
      "metadata": {
        "id": "_5_JW8Mz9YbH"
      },
      "id": "_5_JW8Mz9YbH",
      "execution_count": null,
      "outputs": []
    },
    {
      "cell_type": "markdown",
      "source": [
        "Extract the images locally"
      ],
      "metadata": {
        "id": "Tzlcp0JX9ilZ"
      },
      "id": "Tzlcp0JX9ilZ"
    },
    {
      "cell_type": "code",
      "execution_count": null,
      "id": "T1CsMhXPalg3",
      "metadata": {
        "colab": {
          "base_uri": "https://localhost:8080/"
        },
        "id": "T1CsMhXPalg3",
        "outputId": "9855cd46-f7aa-484a-f697-617d9d8ba89b"
      },
      "outputs": [
        {
          "output_type": "stream",
          "name": "stdout",
          "text": [
            "\u001b[1;30;43mLe flux de sortie a été tronqué et ne contient que les 5000 dernières lignes.\u001b[0m\n",
            "  inflating: /content/Spectrogram_Hann/Train/spc_a02_422.png  \n",
            "  inflating: /content/Spectrogram_Hann/Train/spc_a02_344.png  \n",
            "  inflating: /content/Spectrogram_Hann/Train/spc_a01_287.png  \n",
            "  inflating: /content/Spectrogram_Hann/Train/spc_a03_157.png  \n",
            "  inflating: /content/Spectrogram_Hann/Train/spc_c06_119.png  \n",
            "  inflating: /content/Spectrogram_Hann/Train/spc_b03_407.png  \n",
            "  inflating: /content/Spectrogram_Hann/Train/spc_c02_57.png  \n",
            "  inflating: /content/Spectrogram_Hann/Train/spc_a12_436.png  \n",
            "  inflating: /content/Spectrogram_Hann/Train/spc_a02_10.png  \n",
            "  inflating: /content/Spectrogram_Hann/Train/spc_a14_329.png  \n",
            "  inflating: /content/Spectrogram_Hann/Train/spc_a08_119.png  \n",
            "  inflating: /content/Spectrogram_Hann/Train/spc_c01_415.png  \n",
            "  inflating: /content/Spectrogram_Hann/Train/spc_a16_65.png  \n",
            "  inflating: /content/Spectrogram_Hann/Train/spc_c04_222.png  \n",
            "  inflating: /content/Spectrogram_Hann/Train/spc_b02_199.png  \n",
            "  inflating: /content/Spectrogram_Hann/Train/spc_c01_373.png  \n",
            "  inflating: /content/Spectrogram_Hann/Train/spc_c08_4.png  \n",
            "  inflating: /content/Spectrogram_Hann/Train/spc_a11_278.png  \n",
            "  inflating: /content/Spectrogram_Hann/Train/spc_a05_19.png  \n",
            "  inflating: /content/Spectrogram_Hann/Train/spc_a16_6.png  \n",
            "  inflating: /content/Spectrogram_Hann/Train/spc_a09_478.png  \n",
            "  inflating: /content/Spectrogram_Hann/Train/spc_a11_78.png  \n",
            "  inflating: /content/Spectrogram_Hann/Train/spc_a04_329.png  \n",
            "  inflating: /content/Spectrogram_Hann/Train/spc_c01_367.png  \n",
            "  inflating: /content/Spectrogram_Hann/Train/spc_c01_401.png  \n",
            "  inflating: /content/Spectrogram_Hann/Train/spc_a16_71.png  \n",
            "  inflating: /content/Spectrogram_Hann/Train/spc_a01_278.png  \n",
            "  inflating: /content/Spectrogram_Hann/Train/spc_c04_236.png  \n",
            "  inflating: /content/Spectrogram_Hann/Train/spc_c01_429.png  \n",
            "  inflating: /content/Spectrogram_Hann/Train/spc_a04_467.png  \n",
            "  inflating: /content/Spectrogram_Hann/Train/spc_a16_59.png  \n",
            "  inflating: /content/Spectrogram_Hann/Train/spc_a02_393.png  \n",
            "  inflating: /content/Spectrogram_Hann/Train/spc_a01_250.png  \n",
            "  inflating: /content/Spectrogram_Hann/Train/spc_a03_180.png  \n",
            "  inflating: /content/Spectrogram_Hann/Train/spc_b04_137.png  \n",
            "  inflating: /content/Spectrogram_Hann/Train/spc_c02_80.png  \n",
            "  inflating: /content/Spectrogram_Hann/Train/spc_a14_315.png  \n",
            "  inflating: /content/Spectrogram_Hann/Train/spc_a09_336.png  \n",
            "  inflating: /content/Spectrogram_Hann/Train/spc_a08_125.png  \n",
            "  inflating: /content/Spectrogram_Hann/Train/spc_a15_106.png  \n",
            "  inflating: /content/Spectrogram_Hann/Train/spc_c05_89.png  \n",
            "  inflating: /content/Spectrogram_Hann/Train/spc_a14_473.png  \n",
            "  inflating: /content/Spectrogram_Hann/Train/spc_a09_450.png  \n",
            "  inflating: /content/Spectrogram_Hann/Train/spc_a11_244.png  \n",
            "  inflating: /content/Spectrogram_Hann/Train/spc_a13_194.png  \n",
            "  inflating: /content/Spectrogram_Hann/Train/spc_a05_25.png  \n",
            "  inflating: /content/Spectrogram_Hann/Train/spc_a12_387.png  \n",
            "  inflating: /content/Spectrogram_Hann/Train/spc_a11_50.png  \n",
            "  inflating: /content/Spectrogram_Hann/Train/spc_a05_112.png  \n",
            "  inflating: /content/Spectrogram_Hann/Train/spc_b02_94.png  \n",
            "  inflating: /content/Spectrogram_Hann/Train/spc_a04_301.png  \n",
            "  inflating: /content/Spectrogram_Hann/Train/spc_a11_44.png  \n",
            "  inflating: /content/Spectrogram_Hann/Train/spc_c02_298.png  \n",
            "  inflating: /content/Spectrogram_Hann/Train/spc_a05_106.png  \n",
            "  inflating: /content/Spectrogram_Hann/Train/spc_b02_80.png  \n",
            "  inflating: /content/Spectrogram_Hann/Train/spc_a04_315.png  \n",
            "  inflating: /content/Spectrogram_Hann/Train/spc_a09_444.png  \n",
            "  inflating: /content/Spectrogram_Hann/Train/spc_a14_467.png  \n",
            "  inflating: /content/Spectrogram_Hann/Train/spc_a11_250.png  \n",
            "  inflating: /content/Spectrogram_Hann/Train/spc_a13_180.png  \n",
            "  inflating: /content/Spectrogram_Hann/Train/spc_a05_31.png  \n",
            "  inflating: /content/Spectrogram_Hann/Train/spc_a12_393.png  \n",
            "  inflating: /content/Spectrogram_Hann/Train/spc_a02_38.png  \n",
            "  inflating: /content/Spectrogram_Hann/Train/spc_c02_94.png  \n",
            "  inflating: /content/Spectrogram_Hann/Train/spc_a09_322.png  \n",
            "  inflating: /content/Spectrogram_Hann/Train/spc_a14_301.png  \n",
            "  inflating: /content/Spectrogram_Hann/Train/spc_a15_112.png  \n",
            "  inflating: /content/Spectrogram_Hann/Train/spc_a08_131.png  \n",
            "  inflating: /content/Spectrogram_Hann/Train/spc_a04_473.png  \n",
            "  inflating: /content/Spectrogram_Hann/Train/spc_a02_387.png  \n",
            "  inflating: /content/Spectrogram_Hann/Train/spc_a01_244.png  \n",
            "  inflating: /content/Spectrogram_Hann/Train/spc_b04_123.png  \n",
            "  inflating: /content/Spectrogram_Hann/Train/spc_a03_194.png  \n",
            "  inflating: /content/Spectrogram_Hann/Train/spc_c02_461.png  \n",
            "  inflating: /content/Spectrogram_Hann/Train/spc_c04_395.png  \n",
            "  inflating: /content/Spectrogram_Hann/Train/spc_c07_73.png  \n",
            "  inflating: /content/Spectrogram_Hann/Train/spc_c07_256.png  \n",
            "  inflating: /content/Spectrogram_Hann/Train/spc_a02_218.png  \n",
            "  inflating: /content/Spectrogram_Hann/Train/spc_c05_186.png  \n",
            "  inflating: /content/Spectrogram_Hann/Train/spc_c03_114.png  \n",
            "  inflating: /content/Spectrogram_Hann/Train/spc_c02_307.png  \n",
            "  inflating: /content/Spectrogram_Hann/Train/spc_a07_349.png  \n",
            "  inflating: /content/Spectrogram_Hann/Train/spc_b03_229.png  \n",
            "  inflating: /content/Spectrogram_Hann/Train/spc_c03_100.png  \n",
            "  inflating: /content/Spectrogram_Hann/Train/spc_c02_313.png  \n",
            "  inflating: /content/Spectrogram_Hann/Train/spc_a12_218.png  \n",
            "  inflating: /content/Spectrogram_Hann/Train/spc_c02_475.png  \n",
            "  inflating: /content/Spectrogram_Hann/Train/spc_c07_67.png  \n",
            "  inflating: /content/Spectrogram_Hann/Train/spc_c04_381.png  \n",
            "  inflating: /content/Spectrogram_Hann/Train/spc_c07_242.png  \n",
            "  inflating: /content/Spectrogram_Hann/Train/spc_c05_192.png  \n",
            "  inflating: /content/Spectrogram_Hann/Train/spc_a12_556.png  \n",
            "  inflating: /content/Spectrogram_Hann/Train/spc_a13_96.png  \n",
            "  inflating: /content/Spectrogram_Hann/Train/spc_a16_172.png  \n",
            "  inflating: /content/Spectrogram_Hann/Train/spc_a09_281.png  \n",
            "  inflating: /content/Spectrogram_Hann/Train/spc_a07_413.png  \n",
            "  inflating: /content/Spectrogram_Hann/Train/spc_a02_224.png  \n",
            "  inflating: /content/Spectrogram_Hann/Train/spc_a01_481.png  \n",
            "  inflating: /content/Spectrogram_Hann/Train/spc_a06_166.png  \n",
            "  inflating: /content/Spectrogram_Hann/Train/spc_c03_128.png  \n",
            "  inflating: /content/Spectrogram_Hann/Train/spc_b03_201.png  \n",
            "  inflating: /content/Spectrogram_Hann/Train/spc_a07_375.png  \n",
            "  inflating: /content/Spectrogram_Hann/Train/spc_a12_230.png  \n",
            "  inflating: /content/Spectrogram_Hann/Train/spc_c08_199.png  \n",
            "  inflating: /content/Spectrogram_Hann/Train/spc_a12_224.png  \n",
            "  inflating: /content/Spectrogram_Hann/Train/spc_a06_172.png  \n",
            "  inflating: /content/Spectrogram_Hann/Train/spc_b03_215.png  \n",
            "  inflating: /content/Spectrogram_Hann/Train/spc_a07_361.png  \n",
            "  inflating: /content/Spectrogram_Hann/Train/spc_a07_407.png  \n",
            "  inflating: /content/Spectrogram_Hann/Train/spc_c02_449.png  \n",
            "  inflating: /content/Spectrogram_Hann/Train/spc_a02_230.png  \n",
            "  inflating: /content/Spectrogram_Hann/Train/spc_a12_542.png  \n",
            "  inflating: /content/Spectrogram_Hann/Train/spc_a13_82.png  \n",
            "  inflating: /content/Spectrogram_Hann/Train/spc_a16_166.png  \n",
            "  inflating: /content/Spectrogram_Hann/Train/spc_a09_295.png  \n",
            "  inflating: /content/Spectrogram_Hann/Train/spc_a13_69.png  \n",
            "  inflating: /content/Spectrogram_Hann/Train/spc_a10_0.png  \n",
            "  inflating: /content/Spectrogram_Hann/Train/spc_a01_318.png  \n",
            "  inflating: /content/Spectrogram_Hann/Train/spc_c04_356.png  \n",
            "  inflating: /content/Spectrogram_Hann/Train/spc_a09_31.png  \n",
            "  inflating: /content/Spectrogram_Hann/Train/spc_c07_295.png  \n",
            "  inflating: /content/Spectrogram_Hann/Train/spc_c05_145.png  \n",
            "  inflating: /content/Spectrogram_Hann/Train/spc_a04_249.png  \n",
            "  inflating: /content/Spectrogram_Hann/Train/spc_c01_207.png  \n",
            "  inflating: /content/Spectrogram_Hann/Train/spc_a06_199.png  \n",
            "  inflating: /content/Spectrogram_Hann/Train/spc_c04_430.png  \n",
            "  inflating: /content/Spectrogram_Hann/Train/spc_c08_172.png  \n",
            "  inflating: /content/Spectrogram_Hann/Train/spc_a14_60.png  \n",
            "  inflating: /content/Spectrogram_Hann/Train/spc_c08_166.png  \n",
            "  inflating: /content/Spectrogram_Hann/Train/spc_a11_318.png  \n",
            "  inflating: /content/Spectrogram_Hann/Train/spc_a14_74.png  \n",
            "  inflating: /content/Spectrogram_Hann/Train/spc_c01_213.png  \n",
            "  inflating: /content/Spectrogram_Hann/Train/spc_c04_424.png  \n",
            "  inflating: /content/Spectrogram_Hann/Train/spc_a09_25.png  \n",
            "  inflating: /content/Spectrogram_Hann/Train/spc_c04_342.png  \n",
            "  inflating: /content/Spectrogram_Hann/Train/spc_c07_281.png  \n",
            "  inflating: /content/Spectrogram_Hann/Train/spc_c05_151.png  \n",
            "  inflating: /content/Spectrogram_Hann/Train/spc_a14_249.png  \n",
            "  inflating: /content/Spectrogram_Hann/Train/spc_a16_199.png  \n",
            "  inflating: /content/Spectrogram_Hann/Train/spc_a01_324.png  \n",
            "  inflating: /content/Spectrogram_Hann/Train/spc_c05_179.png  \n",
            "  inflating: /content/Spectrogram_Hann/Train/spc_a07_20.png  \n",
            "  inflating: /content/Spectrogram_Hann/Train/spc_a13_55.png  \n",
            "  inflating: /content/Spectrogram_Hann/Train/spc_a09_242.png  \n",
            "  inflating: /content/Spectrogram_Hann/Train/spc_a14_261.png  \n",
            "  inflating: /content/Spectrogram_Hann/Train/spc_a11_456.png  \n",
            "  inflating: /content/Spectrogram_Hann/Train/spc_a10_123.png  \n",
            "  inflating: /content/Spectrogram_Hann/Train/spc_a11_330.png  \n",
            "  inflating: /content/Spectrogram_Hann/Train/spc_a14_507.png  \n",
            "  inflating: /content/Spectrogram_Hann/Train/spc_b01_112.png  \n",
            "  inflating: /content/Spectrogram_Hann/Train/spc_a04_275.png  \n",
            "  inflating: /content/Spectrogram_Hann/Train/spc_a01_442.png  \n",
            "  inflating: /content/Spectrogram_Hann/Train/spc_b01_106.png  \n",
            "  inflating: /content/Spectrogram_Hann/Train/spc_a04_261.png  \n",
            "  inflating: /content/Spectrogram_Hann/Train/spc_c04_418.png  \n",
            "  inflating: /content/Spectrogram_Hann/Train/spc_a01_456.png  \n",
            "  inflating: /content/Spectrogram_Hann/Train/spc_a10_137.png  \n",
            "  inflating: /content/Spectrogram_Hann/Train/spc_a11_324.png  \n",
            "  inflating: /content/Spectrogram_Hann/Train/spc_a14_48.png  \n",
            "  inflating: /content/Spectrogram_Hann/Train/spc_a13_41.png  \n",
            "  inflating: /content/Spectrogram_Hann/Train/spc_a14_275.png  \n",
            "  inflating: /content/Spectrogram_Hann/Train/spc_a09_256.png  \n",
            "  inflating: /content/Spectrogram_Hann/Train/spc_a11_442.png  \n",
            "  inflating: /content/Spectrogram_Hann/Train/spc_a09_19.png  \n",
            "  inflating: /content/Spectrogram_Hann/Train/spc_a01_330.png  \n",
            "  inflating: /content/Spectrogram_Hann/Train/spc_c07_98.png  \n",
            "  inflating: /content/Spectrogram_Hann/Train/spc_a07_34.png  \n",
            "  inflating: /content/Spectrogram_Hann/Train/spc_c02_105.png  \n",
            "  inflating: /content/Spectrogram_Hann/Train/spc_c03_316.png  \n",
            "  inflating: /content/Spectrogram_Hann/Train/spc_a06_358.png  \n",
            "  inflating: /content/Spectrogram_Hann/Train/spc_c03_17.png  \n",
            "  inflating: /content/Spectrogram_Hann/Train/spc_c05_384.png  \n",
            "  inflating: /content/Spectrogram_Hann/Train/spc_c04_197.png  \n",
            "  inflating: /content/Spectrogram_Hann/Train/spc_c06_247.png  \n",
            "  inflating: /content/Spectrogram_Hann/Train/spc_a03_209.png  \n",
            "  inflating: /content/Spectrogram_Hann/Train/spc_c05_390.png  \n",
            "  inflating: /content/Spectrogram_Hann/Train/spc_c04_183.png  \n",
            "  inflating: /content/Spectrogram_Hann/Train/spc_c06_253.png  \n",
            "  inflating: /content/Spectrogram_Hann/Train/spc_a16_358.png  \n",
            "  inflating: /content/Spectrogram_Hann/Train/spc_a13_209.png  \n",
            "  inflating: /content/Spectrogram_Hann/Train/spc_c02_111.png  \n",
            "  inflating: /content/Spectrogram_Hann/Train/spc_b02_238.png  \n",
            "  inflating: /content/Spectrogram_Hann/Train/spc_c03_302.png  \n",
            "  inflating: /content/Spectrogram_Hann/Train/spc_b03_17.png  \n",
            "  inflating: /content/Spectrogram_Hann/Train/spc_a13_221.png  \n",
            "  inflating: /content/Spectrogram_Hann/Train/spc_c04_22.png  \n",
            "  inflating: /content/Spectrogram_Hann/Train/spc_a16_416.png  \n",
            "  inflating: /content/Spectrogram_Hann/Train/spc_b02_210.png  \n",
            "  inflating: /content/Spectrogram_Hann/Train/spc_a07_177.png  \n",
            "  inflating: /content/Spectrogram_Hann/Train/spc_c02_139.png  \n",
            "  inflating: /content/Spectrogram_Hann/Train/spc_a06_364.png  \n",
            "  inflating: /content/Spectrogram_Hann/Train/spc_b04_36.png  \n",
            "  inflating: /content/Spectrogram_Hann/Train/spc_b04_282.png  \n",
            "  inflating: /content/Spectrogram_Hann/Train/spc_a03_235.png  \n",
            "  inflating: /content/Spectrogram_Hann/Train/spc_a06_402.png  \n",
            "  inflating: /content/Spectrogram_Hann/Train/spc_a03_87.png  \n",
            "  inflating: /content/Spectrogram_Hann/Train/spc_a16_370.png  \n",
            "  inflating: /content/Spectrogram_Hann/Train/spc_a08_290.png  \n",
            "  inflating: /content/Spectrogram_Hann/Train/spc_a10_484.png  \n",
            "  inflating: /content/Spectrogram_Hann/Train/spc_a03_93.png  \n",
            "  inflating: /content/Spectrogram_Hann/Train/spc_a16_364.png  \n",
            "  inflating: /content/Spectrogram_Hann/Train/spc_a08_284.png  \n",
            "  inflating: /content/Spectrogram_Hann/Train/spc_a10_490.png  \n",
            "  inflating: /content/Spectrogram_Hann/Train/spc_b04_22.png  \n",
            "  inflating: /content/Spectrogram_Hann/Train/spc_a03_221.png  \n",
            "  inflating: /content/Spectrogram_Hann/Train/spc_b04_296.png  \n",
            "  inflating: /content/Spectrogram_Hann/Train/spc_a06_416.png  \n",
            "  inflating: /content/Spectrogram_Hann/Train/spc_b02_204.png  \n",
            "  inflating: /content/Spectrogram_Hann/Train/spc_a07_163.png  \n",
            "  inflating: /content/Spectrogram_Hann/Train/spc_a06_370.png  \n",
            "  inflating: /content/Spectrogram_Hann/Train/spc_a13_235.png  \n",
            "  inflating: /content/Spectrogram_Hann/Train/spc_c04_36.png  \n",
            "  inflating: /content/Spectrogram_Hann/Train/spc_a16_402.png  \n",
            "  inflating: /content/Spectrogram_Hann/Train/spc_a04_71.png  \n",
            "  inflating: /content/Spectrogram_Hann/Train/spc_c08_370.png  \n",
            "  inflating: /content/Spectrogram_Hann/Train/spc_c05_421.png  \n",
            "  inflating: /content/Spectrogram_Hann/Train/spc_a07_188.png  \n",
            "  inflating: /content/Spectrogram_Hann/Train/spc_a05_258.png  \n",
            "  inflating: /content/Spectrogram_Hann/Train/spc_c05_347.png  \n",
            "  inflating: /content/Spectrogram_Hann/Train/spc_c04_154.png  \n",
            "  inflating: /content/Spectrogram_Hann/Train/spc_c06_284.png  \n",
            "  inflating: /content/Spectrogram_Hann/Train/spc_c08_416.png  \n",
            "  inflating: /content/Spectrogram_Hann/Train/spc_a03_78.png  \n",
            "  inflating: /content/Spectrogram_Hann/Train/spc_a12_2.png  \n",
            "  inflating: /content/Spectrogram_Hann/Train/spc_c08_402.png  \n",
            "  inflating: /content/Spectrogram_Hann/Train/spc_a01_8.png  \n",
            "  inflating: /content/Spectrogram_Hann/Train/spc_a15_258.png  \n",
            "  inflating: /content/Spectrogram_Hann/Train/spc_c05_353.png  \n",
            "  inflating: /content/Spectrogram_Hann/Train/spc_c04_140.png  \n",
            "  inflating: /content/Spectrogram_Hann/Train/spc_b04_269.png  \n",
            "  inflating: /content/Spectrogram_Hann/Train/spc_c06_290.png  \n",
            "  inflating: /content/Spectrogram_Hann/Train/spc_c05_435.png  \n",
            "  inflating: /content/Spectrogram_Hann/Train/spc_b01_338.png  \n",
            "  inflating: /content/Spectrogram_Hann/Train/spc_a10_10.png  \n",
            "  inflating: /content/Spectrogram_Hann/Train/spc_a04_65.png  \n",
            "  inflating: /content/Spectrogram_Hann/Train/spc_a10_309.png  \n",
            "  inflating: /content/Spectrogram_Hann/Train/spc_c08_364.png  \n",
            "  inflating: /content/Spectrogram_Hann/Train/spc_a05_264.png  \n",
            "  inflating: /content/Spectrogram_Hann/Train/spc_a10_38.png  \n",
            "  inflating: /content/Spectrogram_Hann/Train/spc_b01_310.png  \n",
            "  inflating: /content/Spectrogram_Hann/Train/spc_a11_132.png  \n",
            "  inflating: /content/Spectrogram_Hann/Train/spc_a10_321.png  \n",
            "  inflating: /content/Spectrogram_Hann/Train/spc_a10_447.png  \n",
            "  inflating: /content/Spectrogram_Hann/Train/spc_a03_44.png  \n",
            "  inflating: /content/Spectrogram_Hann/Train/spc_a08_253.png  \n",
            "  inflating: /content/Spectrogram_Hann/Train/spc_a15_270.png  \n",
            "  inflating: /content/Spectrogram_Hann/Train/spc_b01_476.png  \n",
            "  inflating: /content/Spectrogram_Hann/Train/spc_b04_241.png  \n",
            "  inflating: /content/Spectrogram_Hann/Train/spc_c04_168.png  \n",
            "  inflating: /content/Spectrogram_Hann/Train/spc_a01_126.png  \n",
            "  inflating: /content/Spectrogram_Hann/Train/spc_b01_462.png  \n",
            "  inflating: /content/Spectrogram_Hann/Train/spc_b04_255.png  \n",
            "  inflating: /content/Spectrogram_Hann/Train/spc_a01_132.png  \n",
            "  inflating: /content/Spectrogram_Hann/Train/spc_a10_453.png  \n",
            "  inflating: /content/Spectrogram_Hann/Train/spc_a03_50.png  \n",
            "  inflating: /content/Spectrogram_Hann/Train/spc_a15_264.png  \n",
            "  inflating: /content/Spectrogram_Hann/Train/spc_a08_247.png  \n",
            "  inflating: /content/Spectrogram_Hann/Train/spc_a15_502.png  \n",
            "  inflating: /content/Spectrogram_Hann/Train/spc_a04_59.png  \n",
            "  inflating: /content/Spectrogram_Hann/Train/spc_a11_126.png  \n",
            "  inflating: /content/Spectrogram_Hann/Train/spc_a10_335.png  \n",
            "  inflating: /content/Spectrogram_Hann/Train/spc_c08_358.png  \n",
            "  inflating: /content/Spectrogram_Hann/Train/spc_c05_409.png  \n",
            "  inflating: /content/Spectrogram_Hann/Train/spc_a05_270.png  \n",
            "  inflating: /content/Spectrogram_Hann/Train/spc_b01_304.png  \n",
            "  inflating: /content/Spectrogram_Hann/Train/spc_a15_265.png  \n",
            "  inflating: /content/Spectrogram_Hann/Train/spc_a08_246.png  \n",
            "  inflating: /content/Spectrogram_Hann/Train/spc_a03_51.png  \n",
            "  inflating: /content/Spectrogram_Hann/Train/spc_a10_452.png  \n",
            "  inflating: /content/Spectrogram_Hann/Train/spc_a01_133.png  \n",
            "  inflating: /content/Spectrogram_Hann/Train/spc_b04_254.png  \n",
            "  inflating: /content/Spectrogram_Hann/Train/spc_b01_463.png  \n",
            "  inflating: /content/Spectrogram_Hann/Train/spc_b01_305.png  \n",
            "  inflating: /content/Spectrogram_Hann/Train/spc_a05_271.png  \n",
            "  inflating: /content/Spectrogram_Hann/Train/spc_c05_408.png  \n",
            "  inflating: /content/Spectrogram_Hann/Train/spc_c08_359.png  \n",
            "  inflating: /content/Spectrogram_Hann/Train/spc_a10_334.png  \n",
            "  inflating: /content/Spectrogram_Hann/Train/spc_a11_127.png  \n",
            "  inflating: /content/Spectrogram_Hann/Train/spc_a04_58.png  \n",
            "  inflating: /content/Spectrogram_Hann/Train/spc_a15_503.png  \n",
            "  inflating: /content/Spectrogram_Hann/Train/spc_a10_320.png  \n",
            "  inflating: /content/Spectrogram_Hann/Train/spc_a11_133.png  \n",
            "  inflating: /content/Spectrogram_Hann/Train/spc_a10_39.png  \n",
            "  inflating: /content/Spectrogram_Hann/Train/spc_b01_311.png  \n",
            "  inflating: /content/Spectrogram_Hann/Train/spc_a05_265.png  \n",
            "  inflating: /content/Spectrogram_Hann/Train/spc_c04_169.png  \n",
            "  inflating: /content/Spectrogram_Hann/Train/spc_a01_127.png  \n",
            "  inflating: /content/Spectrogram_Hann/Train/spc_b04_240.png  \n",
            "  inflating: /content/Spectrogram_Hann/Train/spc_b01_477.png  \n",
            "  inflating: /content/Spectrogram_Hann/Train/spc_a08_252.png  \n",
            "  inflating: /content/Spectrogram_Hann/Train/spc_a15_271.png  \n",
            "  inflating: /content/Spectrogram_Hann/Train/spc_a03_45.png  \n",
            "  inflating: /content/Spectrogram_Hann/Train/spc_a10_446.png  \n",
            "  inflating: /content/Spectrogram_Hann/Train/spc_c06_291.png  \n",
            "  inflating: /content/Spectrogram_Hann/Train/spc_b04_268.png  \n",
            "  inflating: /content/Spectrogram_Hann/Train/spc_c04_141.png  \n",
            "  inflating: /content/Spectrogram_Hann/Train/spc_c05_352.png  \n",
            "  inflating: /content/Spectrogram_Hann/Train/spc_a15_259.png  \n",
            "  inflating: /content/Spectrogram_Hann/Train/spc_c08_403.png  \n",
            "  inflating: /content/Spectrogram_Hann/Train/spc_a01_9.png  \n",
            "  inflating: /content/Spectrogram_Hann/Train/spc_c08_365.png  \n",
            "  inflating: /content/Spectrogram_Hann/Train/spc_a10_308.png  \n",
            "  inflating: /content/Spectrogram_Hann/Train/spc_a04_64.png  \n",
            "  inflating: /content/Spectrogram_Hann/Train/spc_b01_339.png  \n",
            "  inflating: /content/Spectrogram_Hann/Train/spc_a10_11.png  \n",
            "  inflating: /content/Spectrogram_Hann/Train/spc_c05_434.png  \n",
            "  inflating: /content/Spectrogram_Hann/Train/spc_a05_259.png  \n",
            "  inflating: /content/Spectrogram_Hann/Train/spc_a07_189.png  \n",
            "  inflating: /content/Spectrogram_Hann/Train/spc_c05_420.png  \n",
            "  inflating: /content/Spectrogram_Hann/Train/spc_c08_371.png  \n",
            "  inflating: /content/Spectrogram_Hann/Train/spc_a04_70.png  \n",
            "  inflating: /content/Spectrogram_Hann/Train/spc_a12_3.png  \n",
            "  inflating: /content/Spectrogram_Hann/Train/spc_a03_79.png  \n",
            "  inflating: /content/Spectrogram_Hann/Train/spc_c08_417.png  \n",
            "  inflating: /content/Spectrogram_Hann/Train/spc_c06_285.png  \n",
            "  inflating: /content/Spectrogram_Hann/Train/spc_c04_155.png  \n",
            "  inflating: /content/Spectrogram_Hann/Train/spc_c05_346.png  \n",
            "  inflating: /content/Spectrogram_Hann/Train/spc_a06_417.png  \n",
            "  inflating: /content/Spectrogram_Hann/Train/spc_a03_220.png  \n",
            "  inflating: /content/Spectrogram_Hann/Train/spc_b04_297.png  \n",
            "  inflating: /content/Spectrogram_Hann/Train/spc_b04_23.png  \n",
            "  inflating: /content/Spectrogram_Hann/Train/spc_a10_491.png  \n",
            "  inflating: /content/Spectrogram_Hann/Train/spc_a08_285.png  \n",
            "  inflating: /content/Spectrogram_Hann/Train/spc_a16_365.png  \n",
            "  inflating: /content/Spectrogram_Hann/Train/spc_a03_92.png  \n",
            "  inflating: /content/Spectrogram_Hann/Train/spc_a16_403.png  \n",
            "  inflating: /content/Spectrogram_Hann/Train/spc_c04_37.png  \n",
            "  inflating: /content/Spectrogram_Hann/Train/spc_a13_234.png  \n",
            "  inflating: /content/Spectrogram_Hann/Train/spc_a06_371.png  \n",
            "  inflating: /content/Spectrogram_Hann/Train/spc_a07_162.png  \n",
            "  inflating: /content/Spectrogram_Hann/Train/spc_b02_205.png  \n",
            "  inflating: /content/Spectrogram_Hann/Train/spc_a06_365.png  \n",
            "  inflating: /content/Spectrogram_Hann/Train/spc_a07_176.png  \n",
            "  inflating: /content/Spectrogram_Hann/Train/spc_c02_138.png  \n",
            "  inflating: /content/Spectrogram_Hann/Train/spc_b02_211.png  \n",
            "  inflating: /content/Spectrogram_Hann/Train/spc_a16_417.png  \n",
            "  inflating: /content/Spectrogram_Hann/Train/spc_c04_23.png  \n",
            "  inflating: /content/Spectrogram_Hann/Train/spc_a13_220.png  \n",
            "  inflating: /content/Spectrogram_Hann/Train/spc_a10_485.png  \n",
            "  inflating: /content/Spectrogram_Hann/Train/spc_a08_291.png  \n",
            "  inflating: /content/Spectrogram_Hann/Train/spc_a16_371.png  \n",
            "  inflating: /content/Spectrogram_Hann/Train/spc_a03_86.png  \n",
            "  inflating: /content/Spectrogram_Hann/Train/spc_a06_403.png  \n",
            "  inflating: /content/Spectrogram_Hann/Train/spc_b04_283.png  \n",
            "  inflating: /content/Spectrogram_Hann/Train/spc_a03_234.png  \n",
            "  inflating: /content/Spectrogram_Hann/Train/spc_b04_37.png  \n",
            "  inflating: /content/Spectrogram_Hann/Train/spc_a16_359.png  \n",
            "  inflating: /content/Spectrogram_Hann/Train/spc_c06_252.png  \n",
            "  inflating: /content/Spectrogram_Hann/Train/spc_c04_182.png  \n",
            "  inflating: /content/Spectrogram_Hann/Train/spc_c05_391.png  \n",
            "  inflating: /content/Spectrogram_Hann/Train/spc_b03_16.png  \n",
            "  inflating: /content/Spectrogram_Hann/Train/spc_c03_303.png  \n",
            "  inflating: /content/Spectrogram_Hann/Train/spc_b02_239.png  \n",
            "  inflating: /content/Spectrogram_Hann/Train/spc_c02_110.png  \n",
            "  inflating: /content/Spectrogram_Hann/Train/spc_a13_208.png  \n",
            "  inflating: /content/Spectrogram_Hann/Train/spc_c03_317.png  \n",
            "  inflating: /content/Spectrogram_Hann/Train/spc_a06_359.png  \n",
            "  inflating: /content/Spectrogram_Hann/Train/spc_c02_104.png  \n",
            "  inflating: /content/Spectrogram_Hann/Train/spc_c06_246.png  \n",
            "  inflating: /content/Spectrogram_Hann/Train/spc_a03_208.png  \n",
            "  inflating: /content/Spectrogram_Hann/Train/spc_c04_196.png  \n",
            "  inflating: /content/Spectrogram_Hann/Train/spc_c05_385.png  \n",
            "  inflating: /content/Spectrogram_Hann/Train/spc_c03_16.png  \n",
            "  inflating: /content/Spectrogram_Hann/Train/spc_a14_49.png  \n",
            "  inflating: /content/Spectrogram_Hann/Train/spc_a11_325.png  \n",
            "  inflating: /content/Spectrogram_Hann/Train/spc_a10_136.png  \n",
            "  inflating: /content/Spectrogram_Hann/Train/spc_c04_419.png  \n",
            "  inflating: /content/Spectrogram_Hann/Train/spc_a01_457.png  \n",
            "  inflating: /content/Spectrogram_Hann/Train/spc_a04_260.png  \n",
            "  inflating: /content/Spectrogram_Hann/Train/spc_b01_107.png  \n",
            "  inflating: /content/Spectrogram_Hann/Train/spc_a07_35.png  \n",
            "  inflating: /content/Spectrogram_Hann/Train/spc_a09_18.png  \n",
            "  inflating: /content/Spectrogram_Hann/Train/spc_c07_99.png  \n",
            "  inflating: /content/Spectrogram_Hann/Train/spc_a01_331.png  \n",
            "  inflating: /content/Spectrogram_Hann/Train/spc_a11_443.png  \n",
            "  inflating: /content/Spectrogram_Hann/Train/spc_a14_274.png  \n",
            "  inflating: /content/Spectrogram_Hann/Train/spc_a09_257.png  \n",
            "  inflating: /content/Spectrogram_Hann/Train/spc_a13_40.png  \n",
            "  inflating: /content/Spectrogram_Hann/Train/spc_a11_457.png  \n",
            "  inflating: /content/Spectrogram_Hann/Train/spc_a09_243.png  \n",
            "  inflating: /content/Spectrogram_Hann/Train/spc_a14_260.png  \n",
            "  inflating: /content/Spectrogram_Hann/Train/spc_a13_54.png  \n",
            "  inflating: /content/Spectrogram_Hann/Train/spc_a07_21.png  \n",
            "  inflating: /content/Spectrogram_Hann/Train/spc_c05_178.png  \n",
            "  inflating: /content/Spectrogram_Hann/Train/spc_a01_325.png  \n",
            "  inflating: /content/Spectrogram_Hann/Train/spc_a01_443.png  \n",
            "  inflating: /content/Spectrogram_Hann/Train/spc_a04_274.png  \n",
            "  inflating: /content/Spectrogram_Hann/Train/spc_b01_113.png  \n",
            "  inflating: /content/Spectrogram_Hann/Train/spc_a14_506.png  \n",
            "  inflating: /content/Spectrogram_Hann/Train/spc_a11_331.png  \n",
            "  inflating: /content/Spectrogram_Hann/Train/spc_a10_122.png  \n",
            "  inflating: /content/Spectrogram_Hann/Train/spc_c04_425.png  \n",
            "  inflating: /content/Spectrogram_Hann/Train/spc_c01_212.png  \n",
            "  inflating: /content/Spectrogram_Hann/Train/spc_a14_75.png  \n",
            "  inflating: /content/Spectrogram_Hann/Train/spc_a11_319.png  \n",
            "  inflating: /content/Spectrogram_Hann/Train/spc_c08_167.png  \n",
            "  inflating: /content/Spectrogram_Hann/Train/spc_a16_198.png  \n",
            "  inflating: /content/Spectrogram_Hann/Train/spc_a14_248.png  \n",
            "  inflating: /content/Spectrogram_Hann/Train/spc_c05_150.png  \n",
            "  inflating: /content/Spectrogram_Hann/Train/spc_c07_280.png  \n",
            "  inflating: /content/Spectrogram_Hann/Train/spc_c04_343.png  \n",
            "  inflating: /content/Spectrogram_Hann/Train/spc_a09_24.png  \n",
            "  inflating: /content/Spectrogram_Hann/Train/spc_c05_144.png  \n",
            "  inflating: /content/Spectrogram_Hann/Train/spc_c07_294.png  \n",
            "  inflating: /content/Spectrogram_Hann/Train/spc_a01_319.png  \n",
            "  inflating: /content/Spectrogram_Hann/Train/spc_a09_30.png  \n",
            "  inflating: /content/Spectrogram_Hann/Train/spc_c04_357.png  \n",
            "  inflating: /content/Spectrogram_Hann/Train/spc_a10_1.png  \n",
            "  inflating: /content/Spectrogram_Hann/Train/spc_a13_68.png  \n",
            "  inflating: /content/Spectrogram_Hann/Train/spc_a14_61.png  \n",
            "  inflating: /content/Spectrogram_Hann/Train/spc_c08_173.png  \n",
            "  inflating: /content/Spectrogram_Hann/Train/spc_c04_431.png  \n",
            "  inflating: /content/Spectrogram_Hann/Train/spc_a06_198.png  \n",
            "  inflating: /content/Spectrogram_Hann/Train/spc_a04_248.png  \n",
            "  inflating: /content/Spectrogram_Hann/Train/spc_c01_206.png  \n",
            "  inflating: /content/Spectrogram_Hann/Train/spc_a07_360.png  \n",
            "  inflating: /content/Spectrogram_Hann/Train/spc_b03_214.png  \n",
            "  inflating: /content/Spectrogram_Hann/Train/spc_a06_173.png  \n",
            "  inflating: /content/Spectrogram_Hann/Train/spc_a12_225.png  \n",
            "  inflating: /content/Spectrogram_Hann/Train/spc_c08_198.png  \n",
            "  inflating: /content/Spectrogram_Hann/Train/spc_a09_294.png  \n",
            "  inflating: /content/Spectrogram_Hann/Train/spc_a16_167.png  \n",
            "  inflating: /content/Spectrogram_Hann/Train/spc_a13_83.png  \n",
            "  inflating: /content/Spectrogram_Hann/Train/spc_a12_543.png  \n",
            "  inflating: /content/Spectrogram_Hann/Train/spc_a02_231.png  \n",
            "  inflating: /content/Spectrogram_Hann/Train/spc_a07_406.png  \n",
            "  inflating: /content/Spectrogram_Hann/Train/spc_c02_448.png  \n",
            "  inflating: /content/Spectrogram_Hann/Train/spc_a02_225.png  \n",
            "  inflating: /content/Spectrogram_Hann/Train/spc_a07_412.png  \n",
            "  inflating: /content/Spectrogram_Hann/Train/spc_a09_280.png  \n",
            "  inflating: /content/Spectrogram_Hann/Train/spc_a16_173.png  \n",
            "  inflating: /content/Spectrogram_Hann/Train/spc_a13_97.png  \n",
            "  inflating: /content/Spectrogram_Hann/Train/spc_a12_557.png  \n",
            "  inflating: /content/Spectrogram_Hann/Train/spc_a12_231.png  \n",
            "  inflating: /content/Spectrogram_Hann/Train/spc_a07_374.png  \n",
            "  inflating: /content/Spectrogram_Hann/Train/spc_b03_200.png  \n",
            "  inflating: /content/Spectrogram_Hann/Train/spc_a06_167.png  \n",
            "  inflating: /content/Spectrogram_Hann/Train/spc_c03_129.png  \n",
            "  inflating: /content/Spectrogram_Hann/Train/spc_a01_480.png  \n",
            "  inflating: /content/Spectrogram_Hann/Train/spc_a12_219.png  \n",
            "  inflating: /content/Spectrogram_Hann/Train/spc_c02_312.png  \n",
            "  inflating: /content/Spectrogram_Hann/Train/spc_c03_101.png  \n",
            "  inflating: /content/Spectrogram_Hann/Train/spc_b03_228.png  \n",
            "  inflating: /content/Spectrogram_Hann/Train/spc_c05_193.png  \n",
            "  inflating: /content/Spectrogram_Hann/Train/spc_c07_243.png  \n",
            "  inflating: /content/Spectrogram_Hann/Train/spc_c07_66.png  \n",
            "  inflating: /content/Spectrogram_Hann/Train/spc_c04_380.png  \n",
            "  inflating: /content/Spectrogram_Hann/Train/spc_c02_474.png  \n",
            "  inflating: /content/Spectrogram_Hann/Train/spc_c05_187.png  \n",
            "  inflating: /content/Spectrogram_Hann/Train/spc_c07_257.png  \n",
            "  inflating: /content/Spectrogram_Hann/Train/spc_a02_219.png  \n",
            "  inflating: /content/Spectrogram_Hann/Train/spc_c04_394.png  \n",
            "  inflating: /content/Spectrogram_Hann/Train/spc_c07_72.png  \n",
            "  inflating: /content/Spectrogram_Hann/Train/spc_c02_460.png  \n",
            "  inflating: /content/Spectrogram_Hann/Train/spc_c02_306.png  \n",
            "  inflating: /content/Spectrogram_Hann/Train/spc_a07_348.png  \n",
            "  inflating: /content/Spectrogram_Hann/Train/spc_c03_115.png  \n",
            "  inflating: /content/Spectrogram_Hann/Train/spc_a12_392.png  \n",
            "  inflating: /content/Spectrogram_Hann/Train/spc_a05_30.png  \n",
            "  inflating: /content/Spectrogram_Hann/Train/spc_a13_181.png  \n",
            "  inflating: /content/Spectrogram_Hann/Train/spc_a11_251.png  \n",
            "  inflating: /content/Spectrogram_Hann/Train/spc_a09_445.png  \n",
            "  inflating: /content/Spectrogram_Hann/Train/spc_a14_466.png  \n",
            "  inflating: /content/Spectrogram_Hann/Train/spc_a04_314.png  \n",
            "  inflating: /content/Spectrogram_Hann/Train/spc_b02_81.png  \n",
            "  inflating: /content/Spectrogram_Hann/Train/spc_a05_107.png  \n",
            "  inflating: /content/Spectrogram_Hann/Train/spc_c02_299.png  \n",
            "  inflating: /content/Spectrogram_Hann/Train/spc_a11_45.png  \n",
            "  inflating: /content/Spectrogram_Hann/Train/spc_b04_122.png  \n",
            "  inflating: /content/Spectrogram_Hann/Train/spc_a03_195.png  \n",
            "  inflating: /content/Spectrogram_Hann/Train/spc_a01_245.png  \n",
            "  inflating: /content/Spectrogram_Hann/Train/spc_a02_386.png  \n",
            "  inflating: /content/Spectrogram_Hann/Train/spc_a04_472.png  \n",
            "  inflating: /content/Spectrogram_Hann/Train/spc_a15_113.png  \n",
            "  inflating: /content/Spectrogram_Hann/Train/spc_a08_130.png  \n",
            "  inflating: /content/Spectrogram_Hann/Train/spc_a09_323.png  \n",
            "  inflating: /content/Spectrogram_Hann/Train/spc_a14_300.png  \n",
            "  inflating: /content/Spectrogram_Hann/Train/spc_c02_95.png  \n",
            "  inflating: /content/Spectrogram_Hann/Train/spc_a02_39.png  \n",
            "  inflating: /content/Spectrogram_Hann/Train/spc_a08_124.png  \n",
            "  inflating: /content/Spectrogram_Hann/Train/spc_a15_107.png  \n",
            "  inflating: /content/Spectrogram_Hann/Train/spc_a14_314.png  \n",
            "  inflating: /content/Spectrogram_Hann/Train/spc_a09_337.png  \n",
            "  inflating: /content/Spectrogram_Hann/Train/spc_c02_81.png  \n",
            "  inflating: /content/Spectrogram_Hann/Train/spc_a03_181.png  \n",
            "  inflating: /content/Spectrogram_Hann/Train/spc_b04_136.png  \n",
            "  inflating: /content/Spectrogram_Hann/Train/spc_a01_251.png  \n",
            "  inflating: /content/Spectrogram_Hann/Train/spc_a16_58.png  \n",
            "  inflating: /content/Spectrogram_Hann/Train/spc_a02_392.png  \n",
            "  inflating: /content/Spectrogram_Hann/Train/spc_c01_428.png  \n",
            "  inflating: /content/Spectrogram_Hann/Train/spc_a04_466.png  \n",
            "  inflating: /content/Spectrogram_Hann/Train/spc_a04_300.png  \n",
            "  inflating: /content/Spectrogram_Hann/Train/spc_b02_95.png  \n",
            "  inflating: /content/Spectrogram_Hann/Train/spc_a05_113.png  \n",
            "  inflating: /content/Spectrogram_Hann/Train/spc_a11_51.png  \n",
            "  inflating: /content/Spectrogram_Hann/Train/spc_a12_386.png  \n",
            "  inflating: /content/Spectrogram_Hann/Train/spc_a05_24.png  \n",
            "  inflating: /content/Spectrogram_Hann/Train/spc_a13_195.png  \n",
            "  inflating: /content/Spectrogram_Hann/Train/spc_a11_245.png  \n",
            "  inflating: /content/Spectrogram_Hann/Train/spc_a14_472.png  \n",
            "  inflating: /content/Spectrogram_Hann/Train/spc_a09_451.png  \n",
            "  inflating: /content/Spectrogram_Hann/Train/spc_c05_88.png  \n",
            "  inflating: /content/Spectrogram_Hann/Train/spc_a04_328.png  \n",
            "  inflating: /content/Spectrogram_Hann/Train/spc_c01_366.png  \n",
            "  inflating: /content/Spectrogram_Hann/Train/spc_a11_79.png  \n",
            "  inflating: /content/Spectrogram_Hann/Train/spc_a09_479.png  \n",
            "  inflating: /content/Spectrogram_Hann/Train/spc_a16_7.png  \n",
            "  inflating: /content/Spectrogram_Hann/Train/spc_a01_279.png  \n",
            "  inflating: /content/Spectrogram_Hann/Train/spc_c04_237.png  \n",
            "  inflating: /content/Spectrogram_Hann/Train/spc_a16_70.png  \n",
            "  inflating: /content/Spectrogram_Hann/Train/spc_c01_400.png  \n",
            "  inflating: /content/Spectrogram_Hann/Train/spc_c04_223.png  \n",
            "  inflating: /content/Spectrogram_Hann/Train/spc_a16_64.png  \n",
            "  inflating: /content/Spectrogram_Hann/Train/spc_c01_414.png  \n",
            "  inflating: /content/Spectrogram_Hann/Train/spc_a08_118.png  \n",
            "  inflating: /content/Spectrogram_Hann/Train/spc_a14_328.png  \n",
            "  inflating: /content/Spectrogram_Hann/Train/spc_a02_11.png  \n",
            "  inflating: /content/Spectrogram_Hann/Train/spc_a05_18.png  \n",
            "  inflating: /content/Spectrogram_Hann/Train/spc_a11_279.png  \n",
            "  inflating: /content/Spectrogram_Hann/Train/spc_c08_5.png  \n",
            "  inflating: /content/Spectrogram_Hann/Train/spc_c01_372.png  \n",
            "  inflating: /content/Spectrogram_Hann/Train/spc_b02_198.png  \n",
            "  inflating: /content/Spectrogram_Hann/Train/spc_a02_423.png  \n",
            "  inflating: /content/Spectrogram_Hann/Train/spc_a11_86.png  \n",
            "  inflating: /content/Spectrogram_Hann/Train/spc_b03_360.png  \n",
            "  inflating: /content/Spectrogram_Hann/Train/spc_c01_399.png  \n",
            "  inflating: /content/Spectrogram_Hann/Train/spc_b02_42.png  \n",
            "  inflating: /content/Spectrogram_Hann/Train/spc_b02_173.png  \n",
            "  inflating: /content/Spectrogram_Hann/Train/spc_a07_214.png  \n",
            "  inflating: /content/Spectrogram_Hann/Train/spc_a09_486.png  \n",
            "  inflating: /content/Spectrogram_Hann/Train/spc_a12_351.png  \n",
            "  inflating: /content/Spectrogram_Hann/Train/spc_a13_142.png  \n",
            "  inflating: /content/Spectrogram_Hann/Train/spc_a11_292.png  \n",
            "  inflating: /content/Spectrogram_Hann/Train/spc_a12_437.png  \n",
            "  inflating: /content/Spectrogram_Hann/Train/spc_c02_56.png  \n",
            "  inflating: /content/Spectrogram_Hann/Train/spc_b03_406.png  \n",
            "  inflating: /content/Spectrogram_Hann/Train/spc_a03_156.png  \n",
            "  inflating: /content/Spectrogram_Hann/Train/spc_c06_118.png  \n",
            "  inflating: /content/Spectrogram_Hann/Train/spc_a01_286.png  \n",
            "  inflating: /content/Spectrogram_Hann/Train/spc_a02_345.png  \n",
            "  inflating: /content/Spectrogram_Hann/Train/spc_b03_412.png  \n",
            "  inflating: /content/Spectrogram_Hann/Train/spc_a03_142.png  \n",
            "  inflating: /content/Spectrogram_Hann/Train/spc_a01_292.png  \n",
            "  inflating: /content/Spectrogram_Hann/Train/spc_a02_351.png  \n",
            "  inflating: /content/Spectrogram_Hann/Train/spc_a12_423.png  \n",
            "  inflating: /content/Spectrogram_Hann/Train/spc_c02_42.png  \n",
            "  inflating: /content/Spectrogram_Hann/Train/spc_a09_492.png  \n",
            "  inflating: /content/Spectrogram_Hann/Train/spc_a12_345.png  \n",
            "  inflating: /content/Spectrogram_Hann/Train/spc_a13_156.png  \n",
            "  inflating: /content/Spectrogram_Hann/Train/spc_a11_286.png  \n",
            "  inflating: /content/Spectrogram_Hann/Train/spc_a02_437.png  \n",
            "  inflating: /content/Spectrogram_Hann/Train/spc_a11_92.png  \n",
            "  inflating: /content/Spectrogram_Hann/Train/spc_b03_374.png  \n",
            "  inflating: /content/Spectrogram_Hann/Train/spc_b02_56.png  \n",
            "  inflating: /content/Spectrogram_Hann/Train/spc_b02_167.png  \n",
            "  inflating: /content/Spectrogram_Hann/Train/spc_a07_200.png  \n",
            "  inflating: /content/Spectrogram_Hann/Train/spc_a14_499.png  \n",
            "  inflating: /content/Spectrogram_Hann/Train/spc_c05_63.png  \n",
            "  inflating: /content/Spectrogram_Hann/Train/spc_c02_266.png  \n",
            "  inflating: /content/Spectrogram_Hann/Train/spc_a07_228.png  \n",
            "  inflating: /content/Spectrogram_Hann/Train/spc_c06_124.png  \n",
            "  inflating: /content/Spectrogram_Hann/Train/spc_c07_337.png  \n",
            "  inflating: /content/Spectrogram_Hann/Train/spc_a02_379.png  \n",
            "  inflating: /content/Spectrogram_Hann/Train/spc_c06_130.png  \n",
            "  inflating: /content/Spectrogram_Hann/Train/spc_c07_323.png  \n",
            "  inflating: /content/Spectrogram_Hann/Train/spc_b03_348.png  \n",
            "  inflating: /content/Spectrogram_Hann/Train/spc_c02_272.png  \n",
            "  inflating: /content/Spectrogram_Hann/Train/spc_c05_77.png  \n",
            "  inflating: /content/Spectrogram_Hann/Train/spc_a12_379.png  \n",
            "  inflating: /content/Spectrogram_Hann/Train/spc_a12_28.png  \n",
            "  inflating: /content/Spectrogram_Hann/Train/spc_a14_102.png  \n",
            "  inflating: /content/Spectrogram_Hann/Train/spc_a09_121.png  \n",
            "  inflating: /content/Spectrogram_Hann/Train/spc_a08_332.png  \n",
            "  inflating: /content/Spectrogram_Hann/Train/spc_a15_311.png  \n",
            "  inflating: /content/Spectrogram_Hann/Train/spc_a08_70.png  \n",
            "  inflating: /content/Spectrogram_Hann/Train/spc_a02_184.png  \n",
            "  inflating: /content/Spectrogram_Hann/Train/spc_a03_397.png  \n",
            "  inflating: /content/Spectrogram_Hann/Train/spc_b04_320.png  \n",
            "  inflating: /content/Spectrogram_Hann/Train/spc_a01_54.png  \n",
            "  inflating: /content/Spectrogram_Hann/Train/spc_a05_305.png  \n",
            "  inflating: /content/Spectrogram_Hann/Train/spc_c03_288.png  \n",
            "  inflating: /content/Spectrogram_Hann/Train/spc_b01_271.png  \n",
            "  inflating: /content/Spectrogram_Hann/Train/spc_c01_158.png  \n",
            "  inflating: /content/Spectrogram_Hann/Train/spc_a04_116.png  \n",
            "  inflating: /content/Spectrogram_Hann/Train/spc_a08_454.png  \n",
            "  inflating: /content/Spectrogram_Hann/Train/spc_a15_477.png  \n",
            "  inflating: /content/Spectrogram_Hann/Train/spc_a15_21.png  \n",
            "  inflating: /content/Spectrogram_Hann/Train/spc_a13_383.png  \n",
            "  inflating: /content/Spectrogram_Hann/Train/spc_a10_240.png  \n",
            "  inflating: /content/Spectrogram_Hann/Train/spc_a12_190.png  \n",
            "  inflating: /content/Spectrogram_Hann/Train/spc_a15_463.png  \n",
            "  inflating: /content/Spectrogram_Hann/Train/spc_a08_440.png  \n",
            "  inflating: /content/Spectrogram_Hann/Train/spc_a15_35.png  \n",
            "  inflating: /content/Spectrogram_Hann/Train/spc_a13_397.png  \n",
            "  inflating: /content/Spectrogram_Hann/Train/spc_c08_239.png  \n",
            "  inflating: /content/Spectrogram_Hann/Train/spc_a10_254.png  \n",
            "  inflating: /content/Spectrogram_Hann/Train/spc_a12_184.png  \n",
            "  inflating: /content/Spectrogram_Hann/Train/spc_a01_40.png  \n",
            "  inflating: /content/Spectrogram_Hann/Train/spc_a05_311.png  \n",
            "  inflating: /content/Spectrogram_Hann/Train/spc_b01_265.png  \n",
            "  inflating: /content/Spectrogram_Hann/Train/spc_a04_102.png  \n",
            "  inflating: /content/Spectrogram_Hann/Train/spc_a08_64.png  \n",
            "  inflating: /content/Spectrogram_Hann/Train/spc_a02_190.png  \n",
            "  inflating: /content/Spectrogram_Hann/Train/spc_b04_334.png  \n",
            "  inflating: /content/Spectrogram_Hann/Train/spc_a06_49.png  \n",
            "  inflating: /content/Spectrogram_Hann/Train/spc_a03_383.png  \n",
            "  inflating: /content/Spectrogram_Hann/Train/spc_a09_135.png  \n",
            "  inflating: /content/Spectrogram_Hann/Train/spc_a14_116.png  \n",
            "  inflating: /content/Spectrogram_Hann/Train/spc_a15_305.png  \n",
            "  inflating: /content/Spectrogram_Hann/Train/spc_a08_326.png  \n",
            "  inflating: /content/Spectrogram_Hann/Train/spc_c05_226.png  \n",
            "  inflating: /content/Spectrogram_Hann/Train/spc_a06_61.png  \n",
            "  inflating: /content/Spectrogram_Hann/Train/spc_a12_14.png  \n",
            "  inflating: /content/Spectrogram_Hann/Train/spc_a08_468.png  \n",
            "  inflating: /content/Spectrogram_Hann/Train/spc_a14_5.png  \n",
            "  inflating: /content/Spectrogram_Hann/Train/spc_c08_211.png  \n",
            "  inflating: /content/Spectrogram_Hann/Train/spc_a01_68.png  \n",
            "  inflating: /content/Spectrogram_Hann/Train/spc_a05_339.png  \n",
            "  inflating: /content/Spectrogram_Hann/Train/spc_c01_164.png  \n",
            "  inflating: /content/Spectrogram_Hann/Train/spc_b03_189.png  \n",
            "  inflating: /content/Spectrogram_Hann/Train/spc_c01_170.png  \n",
            "  inflating: /content/Spectrogram_Hann/Train/spc_b01_259.png  \n",
            "  inflating: /content/Spectrogram_Hann/Train/spc_c08_205.png  \n",
            "  inflating: /content/Spectrogram_Hann/Train/spc_a10_268.png  \n",
            "  inflating: /content/Spectrogram_Hann/Train/spc_a09_109.png  \n",
            "  inflating: /content/Spectrogram_Hann/Train/spc_a15_339.png  \n",
            "  inflating: /content/Spectrogram_Hann/Train/spc_a08_58.png  \n",
            "  inflating: /content/Spectrogram_Hann/Train/spc_c05_232.png  \n",
            "  inflating: /content/Spectrogram_Hann/Train/spc_a06_75.png  \n",
            "  inflating: /content/Spectrogram_Hann/Train/spc_b04_308.png  \n",
            "  inflating: /content/Spectrogram_Hann/Train/spc_a02_147.png  \n",
            "  inflating: /content/Spectrogram_Hann/Train/spc_c07_109.png  \n",
            "  inflating: /content/Spectrogram_Hann/Train/spc_a03_354.png  \n",
            "  inflating: /content/Spectrogram_Hann/Train/spc_c06_32.png  \n",
            "  inflating: /content/Spectrogram_Hann/Train/spc_b02_417.png  \n",
            "  inflating: /content/Spectrogram_Hann/Train/spc_a16_211.png  \n",
            "  inflating: /content/Spectrogram_Hann/Train/spc_a13_426.png  \n",
            "  inflating: /content/Spectrogram_Hann/Train/spc_a13_340.png  \n",
            "  inflating: /content/Spectrogram_Hann/Train/spc_a10_283.png  \n",
            "  inflating: /content/Spectrogram_Hann/Train/spc_a12_153.png  \n",
            "  inflating: /content/Spectrogram_Hann/Train/spc_a08_497.png  \n",
            "  inflating: /content/Spectrogram_Hann/Train/spc_b02_371.png  \n",
            "  inflating: /content/Spectrogram_Hann/Train/spc_a06_205.png  \n",
            "  inflating: /content/Spectrogram_Hann/Train/spc_b03_162.png  \n",
            "  inflating: /content/Spectrogram_Hann/Train/spc_a03_432.png  \n",
            "  inflating: /content/Spectrogram_Hann/Train/spc_a01_97.png  \n",
            "  inflating: /content/Spectrogram_Hann/Train/spc_b02_365.png  \n",
            "  inflating: /content/Spectrogram_Hann/Train/spc_a06_211.png  \n",
            "  inflating: /content/Spectrogram_Hann/Train/spc_b03_176.png  \n",
            "  inflating: /content/Spectrogram_Hann/Train/spc_a03_426.png  \n",
            "  inflating: /content/Spectrogram_Hann/Train/spc_a01_83.png  \n",
            "  inflating: /content/Spectrogram_Hann/Train/spc_a13_354.png  \n",
            "  inflating: /content/Spectrogram_Hann/Train/spc_a10_297.png  \n",
            "  inflating: /content/Spectrogram_Hann/Train/spc_a12_147.png  \n",
            "  inflating: /content/Spectrogram_Hann/Train/spc_a08_483.png  \n",
            "  inflating: /content/Spectrogram_Hann/Train/spc_a16_205.png  \n",
            "  inflating: /content/Spectrogram_Hann/Train/spc_a13_432.png  \n",
            "  inflating: /content/Spectrogram_Hann/Train/spc_a02_153.png  \n",
            "  inflating: /content/Spectrogram_Hann/Train/spc_a03_340.png  \n",
            "  inflating: /content/Spectrogram_Hann/Train/spc_c06_26.png  \n",
            "  inflating: /content/Spectrogram_Hann/Train/spc_b02_403.png  \n",
            "  inflating: /content/Spectrogram_Hann/Train/spc_b01_13.png  \n",
            "  inflating: /content/Spectrogram_Hann/Train/spc_c07_135.png  \n",
            "  inflating: /content/Spectrogram_Hann/Train/spc_c06_326.png  \n",
            "  inflating: /content/Spectrogram_Hann/Train/spc_c08_23.png  \n",
            "  inflating: /content/Spectrogram_Hann/Train/spc_a03_368.png  \n",
            "  inflating: /content/Spectrogram_Hann/Train/spc_c03_277.png  \n",
            "  inflating: /content/Spectrogram_Hann/Train/spc_a06_239.png  \n",
            "  inflating: /content/Spectrogram_Hann/Train/spc_c06_440.png  \n",
            "  inflating: /content/Spectrogram_Hann/Train/spc_c04_8.png  \n",
            "  inflating: /content/Spectrogram_Hann/Train/spc_a15_488.png  \n",
            "  inflating: /content/Spectrogram_Hann/Train/spc_a09_0.png  \n",
            "  inflating: /content/Spectrogram_Hann/Train/spc_a13_368.png  \n",
            "  inflating: /content/Spectrogram_Hann/Train/spc_c01_13.png  \n",
            "  inflating: /content/Spectrogram_Hann/Train/spc_b02_359.png  \n",
            "  inflating: /content/Spectrogram_Hann/Train/spc_c03_263.png  \n",
            "  inflating: /content/Spectrogram_Hann/Train/spc_c06_454.png  \n",
            "  inflating: /content/Spectrogram_Hann/Train/spc_c07_121.png  \n",
            "  inflating: /content/Spectrogram_Hann/Train/spc_c08_37.png  \n",
            "  inflating: /content/Spectrogram_Hann/Train/spc_c06_332.png  \n",
            "  inflating: /content/Spectrogram_Hann/Train/spc_a16_239.png  \n",
            "  inflating: /content/Spectrogram_Hann/Train/spc_a09_2.png  \n",
            "  inflating: /content/Spectrogram_Hann/Train/spc_c06_442.png  \n",
            "  inflating: /content/Spectrogram_Hann/Train/spc_c03_275.png  \n",
            "  inflating: /content/Spectrogram_Hann/Train/spc_b02_429.png  \n",
            "  inflating: /content/Spectrogram_Hann/Train/spc_c08_21.png  \n",
            "  inflating: /content/Spectrogram_Hann/Train/spc_c06_324.png  \n",
            "  inflating: /content/Spectrogram_Hann/Train/spc_c07_137.png  \n",
            "  inflating: /content/Spectrogram_Hann/Train/spc_a02_179.png  \n",
            "  inflating: /content/Spectrogram_Hann/Train/spc_a13_418.png  \n",
            "  inflating: /content/Spectrogram_Hann/Train/spc_b01_11.png  \n",
            "  inflating: /content/Spectrogram_Hann/Train/spc_a08_99.png  \n",
            "  inflating: /content/Spectrogram_Hann/Train/spc_c06_18.png  \n",
            "  inflating: /content/Spectrogram_Hann/Train/spc_c06_330.png  \n",
            "  inflating: /content/Spectrogram_Hann/Train/spc_c08_35.png  \n",
            "  inflating: /content/Spectrogram_Hann/Train/spc_c07_123.png  \n",
            "  inflating: /content/Spectrogram_Hann/Train/spc_c06_456.png  \n",
            "  inflating: /content/Spectrogram_Hann/Train/spc_a03_418.png  \n",
            "  inflating: /content/Spectrogram_Hann/Train/spc_b03_148.png  \n",
            "  inflating: /content/Spectrogram_Hann/Train/spc_b01_298.png  \n",
            "  inflating: /content/Spectrogram_Hann/Train/spc_c03_261.png  \n",
            "  inflating: /content/Spectrogram_Hann/Train/spc_c01_11.png  \n",
            "  inflating: /content/Spectrogram_Hann/Train/spc_a12_179.png  \n",
            "  inflating: /content/Spectrogram_Hann/Train/spc_a01_95.png  \n",
            "  inflating: /content/Spectrogram_Hann/Train/spc_a03_430.png  \n",
            "  inflating: /content/Spectrogram_Hann/Train/spc_a06_207.png  \n",
            "  inflating: /content/Spectrogram_Hann/Train/spc_c03_249.png  \n",
            "  inflating: /content/Spectrogram_Hann/Train/spc_c01_199.png  \n",
            "  inflating: /content/Spectrogram_Hann/Train/spc_b03_160.png  \n",
            "  inflating: /content/Spectrogram_Hann/Train/spc_b02_373.png  \n",
            "  inflating: /content/Spectrogram_Hann/Train/spc_c01_39.png  \n",
            "  inflating: /content/Spectrogram_Hann/Train/spc_a08_495.png  \n",
            "  inflating: /content/Spectrogram_Hann/Train/spc_a10_281.png  \n",
            "  inflating: /content/Spectrogram_Hann/Train/spc_a12_151.png  \n",
            "  inflating: /content/Spectrogram_Hann/Train/spc_a13_342.png  \n",
            "  inflating: /content/Spectrogram_Hann/Train/spc_a13_424.png  \n",
            "  inflating: /content/Spectrogram_Hann/Train/spc_a16_213.png  \n",
            "  inflating: /content/Spectrogram_Hann/Train/spc_b02_415.png  \n",
            "  inflating: /content/Spectrogram_Hann/Train/spc_c06_30.png  \n",
            "  inflating: /content/Spectrogram_Hann/Train/spc_a03_356.png  \n",
            "  inflating: /content/Spectrogram_Hann/Train/spc_c06_318.png  \n",
            "  inflating: /content/Spectrogram_Hann/Train/spc_a02_145.png  \n",
            "  inflating: /content/Spectrogram_Hann/Train/spc_b02_401.png  \n",
            "  inflating: /content/Spectrogram_Hann/Train/spc_c06_24.png  \n",
            "  inflating: /content/Spectrogram_Hann/Train/spc_a06_88.png  \n",
            "  inflating: /content/Spectrogram_Hann/Train/spc_a03_342.png  \n",
            "  inflating: /content/Spectrogram_Hann/Train/spc_a02_151.png  \n",
            "  inflating: /content/Spectrogram_Hann/Train/spc_a13_430.png  \n",
            "  inflating: /content/Spectrogram_Hann/Train/spc_b01_39.png  \n",
            "  inflating: /content/Spectrogram_Hann/Train/spc_a16_207.png  \n",
            "  inflating: /content/Spectrogram_Hann/Train/spc_a08_481.png  \n",
            "  inflating: /content/Spectrogram_Hann/Train/spc_a10_295.png  \n",
            "  inflating: /content/Spectrogram_Hann/Train/spc_a12_145.png  \n",
            "  inflating: /content/Spectrogram_Hann/Train/spc_a13_356.png  \n",
            "  inflating: /content/Spectrogram_Hann/Train/spc_a01_81.png  \n",
            "  inflating: /content/Spectrogram_Hann/Train/spc_a03_424.png  \n",
            "  inflating: /content/Spectrogram_Hann/Train/spc_a06_213.png  \n",
            "  inflating: /content/Spectrogram_Hann/Train/spc_b03_174.png  \n",
            "  inflating: /content/Spectrogram_Hann/Train/spc_b02_367.png  \n",
            "  inflating: /content/Spectrogram_Hann/Train/spc_a04_128.png  \n",
            "  inflating: /content/Spectrogram_Hann/Train/spc_c01_166.png  \n",
            "  inflating: /content/Spectrogram_Hann/Train/spc_c08_213.png  \n",
            "  inflating: /content/Spectrogram_Hann/Train/spc_a15_449.png  \n",
            "  inflating: /content/Spectrogram_Hann/Train/spc_a14_7.png  \n",
            "  inflating: /content/Spectrogram_Hann/Train/spc_a12_16.png  \n",
            "  inflating: /content/Spectrogram_Hann/Train/spc_a06_63.png  \n",
            "  inflating: /content/Spectrogram_Hann/Train/spc_c05_224.png  \n",
            "  inflating: /content/Spectrogram_Hann/Train/spc_a06_77.png  \n",
            "  inflating: /content/Spectrogram_Hann/Train/spc_c05_230.png  \n",
            "  inflating: /content/Spectrogram_Hann/Train/spc_a05_449.png  \n",
            "  inflating: /content/Spectrogram_Hann/Train/spc_a08_318.png  \n",
            "  inflating: /content/Spectrogram_Hann/Train/spc_a14_128.png  \n",
            "  inflating: /content/Spectrogram_Hann/Train/spc_c08_207.png  \n",
            "  inflating: /content/Spectrogram_Hann/Train/spc_c01_172.png  \n",
            "  inflating: /content/Spectrogram_Hann/Train/spc_b02_398.png  \n",
            "  inflating: /content/Spectrogram_Hann/Train/spc_a10_242.png  \n",
            "  inflating: /content/Spectrogram_Hann/Train/spc_a12_192.png  \n",
            "  inflating: /content/Spectrogram_Hann/Train/spc_a15_23.png  \n",
            "  inflating: /content/Spectrogram_Hann/Train/spc_a13_381.png  \n",
            "  inflating: /content/Spectrogram_Hann/Train/spc_a15_475.png  \n",
            "  inflating: /content/Spectrogram_Hann/Train/spc_a08_456.png  \n",
            "  inflating: /content/Spectrogram_Hann/Train/spc_b01_273.png  \n",
            "  inflating: /content/Spectrogram_Hann/Train/spc_a04_114.png  \n",
            "  inflating: /content/Spectrogram_Hann/Train/spc_a05_307.png  \n",
            "  inflating: /content/Spectrogram_Hann/Train/spc_a01_56.png  \n",
            "  inflating: /content/Spectrogram_Hann/Train/spc_b04_322.png  \n",
            "  inflating: /content/Spectrogram_Hann/Train/spc_a03_395.png  \n",
            "  inflating: /content/Spectrogram_Hann/Train/spc_c05_218.png  \n",
            "  inflating: /content/Spectrogram_Hann/Train/spc_a02_186.png  \n",
            "  inflating: /content/Spectrogram_Hann/Train/spc_a08_72.png  \n",
            "  inflating: /content/Spectrogram_Hann/Train/spc_a15_313.png  \n",
            "  inflating: /content/Spectrogram_Hann/Train/spc_a08_330.png  \n",
            "  inflating: /content/Spectrogram_Hann/Train/spc_a09_123.png  \n",
            "  inflating: /content/Spectrogram_Hann/Train/spc_a14_100.png  \n",
            "  inflating: /content/Spectrogram_Hann/Train/spc_a08_324.png  \n",
            "  inflating: /content/Spectrogram_Hann/Train/spc_a15_307.png  \n",
            "  inflating: /content/Spectrogram_Hann/Train/spc_a14_114.png  \n",
            "  inflating: /content/Spectrogram_Hann/Train/spc_a09_137.png  \n",
            "  inflating: /content/Spectrogram_Hann/Train/spc_a03_381.png  \n",
            "  inflating: /content/Spectrogram_Hann/Train/spc_b04_336.png  \n",
            "  inflating: /content/Spectrogram_Hann/Train/spc_a02_192.png  \n",
            "  inflating: /content/Spectrogram_Hann/Train/spc_a08_66.png  \n",
            "  inflating: /content/Spectrogram_Hann/Train/spc_b01_267.png  \n",
            "  inflating: /content/Spectrogram_Hann/Train/spc_a04_100.png  \n",
            "  inflating: /content/Spectrogram_Hann/Train/spc_a05_313.png  \n",
            "  inflating: /content/Spectrogram_Hann/Train/spc_a01_42.png  \n",
            "  inflating: /content/Spectrogram_Hann/Train/spc_a10_256.png  \n",
            "  inflating: /content/Spectrogram_Hann/Train/spc_a12_186.png  \n",
            "  inflating: /content/Spectrogram_Hann/Train/spc_a15_37.png  \n",
            "  inflating: /content/Spectrogram_Hann/Train/spc_a13_395.png  \n",
            "  inflating: /content/Spectrogram_Hann/Train/spc_a08_442.png  \n",
            "  inflating: /content/Spectrogram_Hann/Train/spc_a15_461.png  \n",
            "  inflating: /content/Spectrogram_Hann/Train/spc_c02_68.png  \n",
            "  inflating: /content/Spectrogram_Hann/Train/spc_a12_409.png  \n",
            "  inflating: /content/Spectrogram_Hann/Train/spc_c07_335.png  \n",
            "  inflating: /content/Spectrogram_Hann/Train/spc_c06_126.png  \n",
            "  inflating: /content/Spectrogram_Hann/Train/spc_a03_168.png  \n",
            "  inflating: /content/Spectrogram_Hann/Train/spc_b03_438.png  \n",
            "  inflating: /content/Spectrogram_Hann/Train/spc_c02_264.png  \n",
            "  inflating: /content/Spectrogram_Hann/Train/spc_c06_8.png  \n",
            "  inflating: /content/Spectrogram_Hann/Train/spc_c05_61.png  \n",
            "  inflating: /content/Spectrogram_Hann/Train/spc_a13_168.png  \n",
            "  inflating: /content/Spectrogram_Hann/Train/spc_c05_75.png  \n",
            "  inflating: /content/Spectrogram_Hann/Train/spc_c02_270.png  \n",
            "  inflating: /content/Spectrogram_Hann/Train/spc_b02_159.png  \n",
            "  inflating: /content/Spectrogram_Hann/Train/spc_b02_68.png  \n",
            "  inflating: /content/Spectrogram_Hann/Train/spc_a02_409.png  \n",
            "  inflating: /content/Spectrogram_Hann/Train/spc_c07_321.png  \n",
            "  inflating: /content/Spectrogram_Hann/Train/spc_c06_132.png  \n",
            "  inflating: /content/Spectrogram_Hann/Train/spc_a02_347.png  \n",
            "  inflating: /content/Spectrogram_Hann/Train/spc_c07_309.png  \n",
            "  inflating: /content/Spectrogram_Hann/Train/spc_a03_154.png  \n",
            "  inflating: /content/Spectrogram_Hann/Train/spc_a01_284.png  \n",
            "  inflating: /content/Spectrogram_Hann/Train/spc_b03_404.png  \n",
            "  inflating: /content/Spectrogram_Hann/Train/spc_c02_54.png  \n",
            "  inflating: /content/Spectrogram_Hann/Train/spc_a12_435.png  \n",
            "  inflating: /content/Spectrogram_Hann/Train/spc_a13_140.png  \n",
            "  inflating: /content/Spectrogram_Hann/Train/spc_a11_290.png  \n",
            "  inflating: /content/Spectrogram_Hann/Train/spc_a12_353.png  \n",
            "  inflating: /content/Spectrogram_Hann/Train/spc_a09_484.png  \n",
            "  inflating: /content/Spectrogram_Hann/Train/spc_b02_171.png  \n",
            "  inflating: /content/Spectrogram_Hann/Train/spc_a07_216.png  \n",
            "  inflating: /content/Spectrogram_Hann/Train/spc_c02_258.png  \n",
            "  inflating: /content/Spectrogram_Hann/Train/spc_b03_362.png  \n",
            "  inflating: /content/Spectrogram_Hann/Train/spc_b02_40.png  \n",
            "  inflating: /content/Spectrogram_Hann/Train/spc_a11_84.png  \n",
            "  inflating: /content/Spectrogram_Hann/Train/spc_a02_421.png  \n",
            "  inflating: /content/Spectrogram_Hann/Train/spc_b02_165.png  \n",
            "  inflating: /content/Spectrogram_Hann/Train/spc_a07_202.png  \n",
            "  inflating: /content/Spectrogram_Hann/Train/spc_b03_376.png  \n",
            "  inflating: /content/Spectrogram_Hann/Train/spc_b02_54.png  \n",
            "  inflating: /content/Spectrogram_Hann/Train/spc_a11_90.png  \n",
            "  inflating: /content/Spectrogram_Hann/Train/spc_a02_435.png  \n",
            "  inflating: /content/Spectrogram_Hann/Train/spc_a13_154.png  \n",
            "  inflating: /content/Spectrogram_Hann/Train/spc_a11_284.png  \n",
            "  inflating: /content/Spectrogram_Hann/Train/spc_a12_347.png  \n",
            "  inflating: /content/Spectrogram_Hann/Train/spc_c05_49.png  \n",
            "  inflating: /content/Spectrogram_Hann/Train/spc_a09_490.png  \n",
            "  inflating: /content/Spectrogram_Hann/Train/spc_c02_40.png  \n",
            "  inflating: /content/Spectrogram_Hann/Train/spc_a12_421.png  \n",
            "  inflating: /content/Spectrogram_Hann/Train/spc_a16_99.png  \n",
            "  inflating: /content/Spectrogram_Hann/Train/spc_a02_353.png  \n",
            "  inflating: /content/Spectrogram_Hann/Train/spc_a03_140.png  \n",
            "  inflating: /content/Spectrogram_Hann/Train/spc_a01_290.png  \n",
            "  inflating: /content/Spectrogram_Hann/Train/spc_b03_410.png  \n",
            "  inflating: /content/Spectrogram_Hann/Train/spc_c01_402.png  \n",
            "  inflating: /content/Spectrogram_Hann/Train/spc_a16_72.png  \n",
            "  inflating: /content/Spectrogram_Hann/Train/spc_c04_235.png  \n",
            "  inflating: /content/Spectrogram_Hann/Train/spc_a16_5.png  \n",
            "  inflating: /content/Spectrogram_Hann/Train/spc_a14_458.png  \n",
            "  inflating: /content/Spectrogram_Hann/Train/spc_a05_139.png  \n",
            "  inflating: /content/Spectrogram_Hann/Train/spc_c01_364.png  \n",
            "  inflating: /content/Spectrogram_Hann/Train/spc_c01_370.png  \n",
            "  inflating: /content/Spectrogram_Hann/Train/spc_b03_389.png  \n",
            "  inflating: /content/Spectrogram_Hann/Train/spc_c08_7.png  \n",
            "  inflating: /content/Spectrogram_Hann/Train/spc_a02_13.png  \n",
            "  inflating: /content/Spectrogram_Hann/Train/spc_a09_309.png  \n",
            "  inflating: /content/Spectrogram_Hann/Train/spc_a15_139.png  \n",
            "  inflating: /content/Spectrogram_Hann/Train/spc_a04_458.png  \n",
            "  inflating: /content/Spectrogram_Hann/Train/spc_c01_416.png  \n",
            "  inflating: /content/Spectrogram_Hann/Train/spc_a16_66.png  \n",
            "  inflating: /content/Spectrogram_Hann/Train/spc_c04_221.png  \n",
            "  inflating: /content/Spectrogram_Hann/Train/spc_b04_108.png  \n",
            "  inflating: /content/Spectrogram_Hann/Train/spc_a14_302.png  \n",
            "  inflating: /content/Spectrogram_Hann/Train/spc_a09_321.png  \n",
            "  inflating: /content/Spectrogram_Hann/Train/spc_c02_97.png  \n",
            "  inflating: /content/Spectrogram_Hann/Train/spc_a08_132.png  \n",
            "  inflating: /content/Spectrogram_Hann/Train/spc_a15_111.png  \n",
            "  inflating: /content/Spectrogram_Hann/Train/spc_a04_470.png  \n",
            "  inflating: /content/Spectrogram_Hann/Train/spc_a02_384.png  \n",
            "  inflating: /content/Spectrogram_Hann/Train/spc_a03_197.png  \n",
            "  inflating: /content/Spectrogram_Hann/Train/spc_b04_120.png  \n",
            "  inflating: /content/Spectrogram_Hann/Train/spc_c04_209.png  \n",
            "  inflating: /content/Spectrogram_Hann/Train/spc_a01_247.png  \n",
            "  inflating: /content/Spectrogram_Hann/Train/spc_a11_47.png  \n",
            "  inflating: /content/Spectrogram_Hann/Train/spc_a05_105.png  \n",
            "  inflating: /content/Spectrogram_Hann/Train/spc_c01_358.png  \n",
            "  inflating: /content/Spectrogram_Hann/Train/spc_a04_316.png  \n",
            "  inflating: /content/Spectrogram_Hann/Train/spc_b02_83.png  \n",
            "  inflating: /content/Spectrogram_Hann/Train/spc_a14_464.png  \n",
            "  inflating: /content/Spectrogram_Hann/Train/spc_a09_447.png  \n",
            "  inflating: /content/Spectrogram_Hann/Train/spc_a13_183.png  \n",
            "  inflating: /content/Spectrogram_Hann/Train/spc_a11_253.png  \n",
            "  inflating: /content/Spectrogram_Hann/Train/spc_a12_390.png  \n",
            "  inflating: /content/Spectrogram_Hann/Train/spc_a05_32.png  \n",
            "  inflating: /content/Spectrogram_Hann/Train/spc_a09_453.png  \n",
            "  inflating: /content/Spectrogram_Hann/Train/spc_a14_470.png  \n",
            "  inflating: /content/Spectrogram_Hann/Train/spc_a13_197.png  \n",
            "  inflating: /content/Spectrogram_Hann/Train/spc_a11_247.png  \n",
            "  inflating: /content/Spectrogram_Hann/Train/spc_a12_384.png  \n",
            "  inflating: /content/Spectrogram_Hann/Train/spc_a05_26.png  \n",
            "  inflating: /content/Spectrogram_Hann/Train/spc_a11_53.png  \n",
            "  inflating: /content/Spectrogram_Hann/Train/spc_a05_111.png  \n",
            "  inflating: /content/Spectrogram_Hann/Train/spc_a04_302.png  \n",
            "  inflating: /content/Spectrogram_Hann/Train/spc_b02_97.png  \n",
            "  inflating: /content/Spectrogram_Hann/Train/spc_a04_464.png  \n",
            "  inflating: /content/Spectrogram_Hann/Train/spc_a02_390.png  \n",
            "  inflating: /content/Spectrogram_Hann/Train/spc_b04_134.png  \n",
            "  inflating: /content/Spectrogram_Hann/Train/spc_a03_183.png  \n",
            "  inflating: /content/Spectrogram_Hann/Train/spc_a01_253.png  \n",
            "  inflating: /content/Spectrogram_Hann/Train/spc_a09_335.png  \n",
            "  inflating: /content/Spectrogram_Hann/Train/spc_a14_316.png  \n",
            "  inflating: /content/Spectrogram_Hann/Train/spc_c02_83.png  \n",
            "  inflating: /content/Spectrogram_Hann/Train/spc_a15_105.png  \n",
            "  inflating: /content/Spectrogram_Hann/Train/spc_a08_126.png  \n",
            "  inflating: /content/Spectrogram_Hann/Train/spc_b02_9.png  \n",
            "  inflating: /content/Spectrogram_Hann/Train/spc_a16_159.png  \n",
            "  inflating: /content/Spectrogram_Hann/Train/spc_a14_289.png  \n",
            "  inflating: /content/Spectrogram_Hann/Train/spc_c02_476.png  \n",
            "  inflating: /content/Spectrogram_Hann/Train/spc_a07_438.png  \n",
            "  inflating: /content/Spectrogram_Hann/Train/spc_c04_382.png  \n",
            "  inflating: /content/Spectrogram_Hann/Train/spc_c07_64.png  \n",
            "  inflating: /content/Spectrogram_Hann/Train/spc_c05_191.png  \n",
            "  inflating: /content/Spectrogram_Hann/Train/spc_c07_241.png  \n",
            "  inflating: /content/Spectrogram_Hann/Train/spc_c03_103.png  \n",
            "  inflating: /content/Spectrogram_Hann/Train/spc_c02_310.png  \n",
            "  inflating: /content/Spectrogram_Hann/Train/spc_c03_117.png  \n",
            "  inflating: /content/Spectrogram_Hann/Train/spc_a06_159.png  \n",
            "  inflating: /content/Spectrogram_Hann/Train/spc_a04_289.png  \n",
            "  inflating: /content/Spectrogram_Hann/Train/spc_c02_304.png  \n",
            "  inflating: /content/Spectrogram_Hann/Train/spc_c02_462.png  \n",
            "  inflating: /content/Spectrogram_Hann/Train/spc_c07_70.png  \n",
            "  inflating: /content/Spectrogram_Hann/Train/spc_c04_396.png  \n",
            "  inflating: /content/Spectrogram_Hann/Train/spc_c05_185.png  \n",
            "  inflating: /content/Spectrogram_Hann/Train/spc_c07_255.png  \n",
            "  inflating: /content/Spectrogram_Hann/Train/spc_a12_569.png  \n",
            "  inflating: /content/Spectrogram_Hann/Train/spc_a07_404.png  \n",
            "  inflating: /content/Spectrogram_Hann/Train/spc_c07_58.png  \n",
            "  inflating: /content/Spectrogram_Hann/Train/spc_a02_233.png  \n",
            "  inflating: /content/Spectrogram_Hann/Train/spc_a12_541.png  \n",
            "  inflating: /content/Spectrogram_Hann/Train/spc_a13_81.png  \n",
            "  inflating: /content/Spectrogram_Hann/Train/spc_a09_296.png  \n",
            "  inflating: /content/Spectrogram_Hann/Train/spc_a16_165.png  \n",
            "  inflating: /content/Spectrogram_Hann/Train/spc_a14_88.png  \n",
            "  inflating: /content/Spectrogram_Hann/Train/spc_a12_227.png  \n",
            "  inflating: /content/Spectrogram_Hann/Train/spc_b03_216.png  \n",
            "  inflating: /content/Spectrogram_Hann/Train/spc_a06_171.png  \n",
            "  inflating: /content/Spectrogram_Hann/Train/spc_a07_362.png  \n",
            "  inflating: /content/Spectrogram_Hann/Train/spc_a01_482.png  \n",
            "  inflating: /content/Spectrogram_Hann/Train/spc_b03_202.png  \n",
            "  inflating: /content/Spectrogram_Hann/Train/spc_a06_165.png  \n",
            "  inflating: /content/Spectrogram_Hann/Train/spc_a07_376.png  \n",
            "  inflating: /content/Spectrogram_Hann/Train/spc_c02_338.png  \n",
            "  inflating: /content/Spectrogram_Hann/Train/spc_a12_233.png  \n",
            "  inflating: /content/Spectrogram_Hann/Train/spc_a12_555.png  \n",
            "  inflating: /content/Spectrogram_Hann/Train/spc_a13_95.png  \n",
            "  inflating: /content/Spectrogram_Hann/Train/spc_a09_282.png  \n",
            "  inflating: /content/Spectrogram_Hann/Train/spc_a16_171.png  \n",
            "  inflating: /content/Spectrogram_Hann/Train/spc_a07_410.png  \n",
            "  inflating: /content/Spectrogram_Hann/Train/spc_a02_227.png  \n",
            "  inflating: /content/Spectrogram_Hann/Train/spc_c07_269.png  \n",
            "  inflating: /content/Spectrogram_Hann/Train/spc_a09_26.png  \n",
            "  inflating: /content/Spectrogram_Hann/Train/spc_c04_341.png  \n",
            "  inflating: /content/Spectrogram_Hann/Train/spc_c05_152.png  \n",
            "  inflating: /content/Spectrogram_Hann/Train/spc_c07_282.png  \n",
            "  inflating: /content/Spectrogram_Hann/Train/spc_a09_269.png  \n",
            "  inflating: /content/Spectrogram_Hann/Train/spc_a03_9.png  \n",
            "  inflating: /content/Spectrogram_Hann/Train/spc_c08_165.png  \n",
            "  inflating: /content/Spectrogram_Hann/Train/spc_a10_108.png  \n",
            "  inflating: /content/Spectrogram_Hann/Train/spc_a14_77.png  \n",
            "  inflating: /content/Spectrogram_Hann/Train/spc_b01_139.png  \n",
            "  inflating: /content/Spectrogram_Hann/Train/spc_c01_210.png  \n",
            "  inflating: /content/Spectrogram_Hann/Train/spc_a01_469.png  \n",
            "  inflating: /content/Spectrogram_Hann/Train/spc_c04_427.png  \n",
            "  inflating: /content/Spectrogram_Hann/Train/spc_c01_204.png  \n",
            "  inflating: /content/Spectrogram_Hann/Train/spc_a07_389.png  \n",
            "  inflating: /content/Spectrogram_Hann/Train/spc_c04_433.png  \n",
            "  inflating: /content/Spectrogram_Hann/Train/spc_c08_171.png  \n",
            "  inflating: /content/Spectrogram_Hann/Train/spc_a14_63.png  \n",
            "  inflating: /content/Spectrogram_Hann/Train/spc_a10_3.png  \n",
            "  inflating: /content/Spectrogram_Hann/Train/spc_c04_355.png  \n",
            "  inflating: /content/Spectrogram_Hann/Train/spc_a09_32.png  \n",
            "  inflating: /content/Spectrogram_Hann/Train/spc_c05_146.png  \n",
            "  inflating: /content/Spectrogram_Hann/Train/spc_c07_296.png  \n",
            "  inflating: /content/Spectrogram_Hann/Train/spc_a13_42.png  \n",
            "  inflating: /content/Spectrogram_Hann/Train/spc_a09_255.png  \n",
            "  inflating: /content/Spectrogram_Hann/Train/spc_a14_276.png  \n",
            "  inflating: /content/Spectrogram_Hann/Train/spc_a11_441.png  \n",
            "  inflating: /content/Spectrogram_Hann/Train/spc_a01_333.png  \n",
            "  inflating: /content/Spectrogram_Hann/Train/spc_c02_489.png  \n",
            "  inflating: /content/Spectrogram_Hann/Train/spc_a07_37.png  \n",
            "  inflating: /content/Spectrogram_Hann/Train/spc_a04_262.png  \n",
            "  inflating: /content/Spectrogram_Hann/Train/spc_b01_105.png  \n",
            "  inflating: /content/Spectrogram_Hann/Train/spc_a01_455.png  \n",
            "  inflating: /content/Spectrogram_Hann/Train/spc_c08_159.png  \n",
            "  inflating: /content/Spectrogram_Hann/Train/spc_a10_134.png  \n",
            "  inflating: /content/Spectrogram_Hann/Train/spc_a11_327.png  \n",
            "  inflating: /content/Spectrogram_Hann/Train/spc_a10_120.png  \n",
            "  inflating: /content/Spectrogram_Hann/Train/spc_a11_333.png  \n",
            "  inflating: /content/Spectrogram_Hann/Train/spc_a14_504.png  \n",
            "  inflating: /content/Spectrogram_Hann/Train/spc_c01_238.png  \n",
            "  inflating: /content/Spectrogram_Hann/Train/spc_a04_276.png  \n",
            "  inflating: /content/Spectrogram_Hann/Train/spc_b01_111.png  \n",
            "  inflating: /content/Spectrogram_Hann/Train/spc_a01_441.png  \n",
            "  inflating: /content/Spectrogram_Hann/Train/spc_c04_369.png  \n",
            "  inflating: /content/Spectrogram_Hann/Train/spc_a01_327.png  \n",
            "  inflating: /content/Spectrogram_Hann/Train/spc_a07_23.png  \n",
            "  inflating: /content/Spectrogram_Hann/Train/spc_a13_56.png  \n",
            "  inflating: /content/Spectrogram_Hann/Train/spc_a14_262.png  \n",
            "  inflating: /content/Spectrogram_Hann/Train/spc_a09_241.png  \n",
            "  inflating: /content/Spectrogram_Hann/Train/spc_a11_455.png  \n",
            "  inflating: /content/Spectrogram_Hann/Train/spc_c02_112.png  \n",
            "  inflating: /content/Spectrogram_Hann/Train/spc_c03_301.png  \n",
            "  inflating: /content/Spectrogram_Hann/Train/spc_b03_14.png  \n",
            "  inflating: /content/Spectrogram_Hann/Train/spc_c05_393.png  \n",
            "  inflating: /content/Spectrogram_Hann/Train/spc_c06_250.png  \n",
            "  inflating: /content/Spectrogram_Hann/Train/spc_c04_180.png  \n",
            "  inflating: /content/Spectrogram_Hann/Train/spc_a06_429.png  \n",
            "  inflating: /content/Spectrogram_Hann/Train/spc_a15_298.png  \n",
            "  inflating: /content/Spectrogram_Hann/Train/spc_c03_14.png  \n",
            "  inflating: /content/Spectrogram_Hann/Train/spc_c05_387.png  \n",
            "  inflating: /content/Spectrogram_Hann/Train/spc_c06_244.png  \n",
            "  inflating: /content/Spectrogram_Hann/Train/spc_c04_194.png  \n",
            "  inflating: /content/Spectrogram_Hann/Train/spc_a05_298.png  \n",
            "  inflating: /content/Spectrogram_Hann/Train/spc_c02_106.png  \n",
            "  inflating: /content/Spectrogram_Hann/Train/spc_a07_148.png  \n",
            "  inflating: /content/Spectrogram_Hann/Train/spc_c03_315.png  \n",
            "  inflating: /content/Spectrogram_Hann/Train/spc_a16_429.png  \n",
            "  inflating: /content/Spectrogram_Hann/Train/spc_a07_160.png  \n",
            "  inflating: /content/Spectrogram_Hann/Train/spc_b02_207.png  \n",
            "  inflating: /content/Spectrogram_Hann/Train/spc_a06_373.png  \n",
            "  inflating: /content/Spectrogram_Hann/Train/spc_b03_28.png  \n",
            "  inflating: /content/Spectrogram_Hann/Train/spc_a13_236.png  \n",
            "  inflating: /content/Spectrogram_Hann/Train/spc_c08_398.png  \n",
            "  inflating: /content/Spectrogram_Hann/Train/spc_c04_35.png  \n",
            "  inflating: /content/Spectrogram_Hann/Train/spc_a04_99.png  \n",
            "  inflating: /content/Spectrogram_Hann/Train/spc_a16_401.png  \n",
            "  inflating: /content/Spectrogram_Hann/Train/spc_a16_367.png  \n",
            "  inflating: /content/Spectrogram_Hann/Train/spc_a03_90.png  \n",
            "  inflating: /content/Spectrogram_Hann/Train/spc_a08_287.png  \n",
            "  inflating: /content/Spectrogram_Hann/Train/spc_a10_493.png  \n",
            "  inflating: /content/Spectrogram_Hann/Train/spc_b04_21.png  \n",
            "  inflating: /content/Spectrogram_Hann/Train/spc_b04_295.png  \n",
            "  inflating: /content/Spectrogram_Hann/Train/spc_a03_222.png  \n",
            "  inflating: /content/Spectrogram_Hann/Train/spc_a06_415.png  \n",
            "  inflating: /content/Spectrogram_Hann/Train/spc_b04_35.png  \n",
            "  inflating: /content/Spectrogram_Hann/Train/spc_a03_236.png  \n",
            "  inflating: /content/Spectrogram_Hann/Train/spc_b04_281.png  \n",
            "  inflating: /content/Spectrogram_Hann/Train/spc_c06_278.png  \n",
            "  inflating: /content/Spectrogram_Hann/Train/spc_a06_401.png  \n",
            "  inflating: /content/Spectrogram_Hann/Train/spc_a16_373.png  \n",
            "  inflating: /content/Spectrogram_Hann/Train/spc_a03_84.png  \n",
            "  inflating: /content/Spectrogram_Hann/Train/spc_a08_293.png  \n",
            "  inflating: /content/Spectrogram_Hann/Train/spc_a10_487.png  \n",
            "  inflating: /content/Spectrogram_Hann/Train/spc_c03_28.png  \n",
            "  inflating: /content/Spectrogram_Hann/Train/spc_a13_222.png  \n",
            "  inflating: /content/Spectrogram_Hann/Train/spc_c04_21.png  \n",
            "  inflating: /content/Spectrogram_Hann/Train/spc_a16_415.png  \n",
            "  inflating: /content/Spectrogram_Hann/Train/spc_a07_174.png  \n",
            "  inflating: /content/Spectrogram_Hann/Train/spc_b02_213.png  \n",
            "  inflating: /content/Spectrogram_Hann/Train/spc_a06_367.png  \n",
            "  inflating: /content/Spectrogram_Hann/Train/spc_c03_329.png  \n",
            "  inflating: /content/Spectrogram_Hann/Train/spc_c05_436.png  \n",
            "  inflating: /content/Spectrogram_Hann/Train/spc_a10_13.png  \n",
            "  inflating: /content/Spectrogram_Hann/Train/spc_a04_66.png  \n",
            "  inflating: /content/Spectrogram_Hann/Train/spc_a11_119.png  \n",
            "  inflating: /content/Spectrogram_Hann/Train/spc_c08_367.png  \n",
            "  inflating: /content/Spectrogram_Hann/Train/spc_c08_401.png  \n",
            "  inflating: /content/Spectrogram_Hann/Train/spc_a16_398.png  \n",
            "  inflating: /content/Spectrogram_Hann/Train/spc_a08_278.png  \n",
            "  inflating: /content/Spectrogram_Hann/Train/spc_c05_350.png  \n",
            "  inflating: /content/Spectrogram_Hann/Train/spc_c06_293.png  \n",
            "  inflating: /content/Spectrogram_Hann/Train/spc_c04_143.png  \n",
            "  inflating: /content/Spectrogram_Hann/Train/spc_b01_449.png  \n",
            "  inflating: /content/Spectrogram_Hann/Train/spc_c05_344.png  \n",
            "  inflating: /content/Spectrogram_Hann/Train/spc_c06_287.png  \n",
            "  inflating: /content/Spectrogram_Hann/Train/spc_a01_119.png  \n",
            "  inflating: /content/Spectrogram_Hann/Train/spc_c04_157.png  \n",
            "  inflating: /content/Spectrogram_Hann/Train/spc_a10_478.png  \n",
            "  inflating: /content/Spectrogram_Hann/Train/spc_c08_415.png  \n",
            "  inflating: /content/Spectrogram_Hann/Train/spc_a12_1.png  \n",
            "  inflating: /content/Spectrogram_Hann/Train/spc_a04_72.png  \n",
            "  inflating: /content/Spectrogram_Hann/Train/spc_c08_373.png  \n",
            "  inflating: /content/Spectrogram_Hann/Train/spc_c05_422.png  \n",
            "  inflating: /content/Spectrogram_Hann/Train/spc_a06_398.png  \n",
            "  inflating: /content/Spectrogram_Hann/Train/spc_a15_501.png  \n",
            "  inflating: /content/Spectrogram_Hann/Train/spc_a11_125.png  \n",
            "  inflating: /content/Spectrogram_Hann/Train/spc_a10_336.png  \n",
            "  inflating: /content/Spectrogram_Hann/Train/spc_a05_273.png  \n",
            "  inflating: /content/Spectrogram_Hann/Train/spc_b01_307.png  \n",
            "  inflating: /content/Spectrogram_Hann/Train/spc_b01_461.png  \n",
            "  inflating: /content/Spectrogram_Hann/Train/spc_a01_131.png  \n",
            "  inflating: /content/Spectrogram_Hann/Train/spc_b04_256.png  \n",
            "  inflating: /content/Spectrogram_Hann/Train/spc_a10_450.png  \n",
            "  inflating: /content/Spectrogram_Hann/Train/spc_a03_53.png  \n",
            "  inflating: /content/Spectrogram_Hann/Train/spc_a08_244.png  \n",
            "  inflating: /content/Spectrogram_Hann/Train/spc_a15_267.png  \n",
            "  inflating: /content/Spectrogram_Hann/Train/spc_a10_444.png  \n",
            "  inflating: /content/Spectrogram_Hann/Train/spc_c08_429.png  \n",
            "  inflating: /content/Spectrogram_Hann/Train/spc_a03_47.png  \n",
            "  inflating: /content/Spectrogram_Hann/Train/spc_a15_273.png  \n",
            "  inflating: /content/Spectrogram_Hann/Train/spc_a08_250.png  \n",
            "  inflating: /content/Spectrogram_Hann/Train/spc_b01_475.png  \n",
            "  inflating: /content/Spectrogram_Hann/Train/spc_c05_378.png  \n",
            "  inflating: /content/Spectrogram_Hann/Train/spc_a01_125.png  \n",
            "  inflating: /content/Spectrogram_Hann/Train/spc_b04_242.png  \n",
            "  inflating: /content/Spectrogram_Hann/Train/spc_a05_267.png  \n",
            "  inflating: /content/Spectrogram_Hann/Train/spc_b01_313.png  \n",
            "  inflating: /content/Spectrogram_Hann/Train/spc_a11_131.png  \n",
            "  inflating: /content/Spectrogram_Hann/Train/spc_a10_322.png  \n",
            "  inflating: /content/Spectrogram_Hann/Train/spc_b04_243.png  \n",
            "  inflating: /content/Spectrogram_Hann/Train/spc_a01_124.png  \n",
            "  inflating: /content/Spectrogram_Hann/Train/spc_c05_379.png  \n",
            "  inflating: /content/Spectrogram_Hann/Train/spc_b01_474.png  \n",
            "  inflating: /content/Spectrogram_Hann/Train/spc_a15_272.png  \n",
            "  inflating: /content/Spectrogram_Hann/Train/spc_a08_251.png  \n",
            "  inflating: /content/Spectrogram_Hann/Train/spc_a03_46.png  \n",
            "  inflating: /content/Spectrogram_Hann/Train/spc_c08_428.png  \n",
            "  inflating: /content/Spectrogram_Hann/Train/spc_a10_445.png  \n",
            "  inflating: /content/Spectrogram_Hann/Train/spc_a10_323.png  \n",
            "  inflating: /content/Spectrogram_Hann/Train/spc_a11_130.png  \n",
            "  inflating: /content/Spectrogram_Hann/Train/spc_b01_312.png  \n",
            "  inflating: /content/Spectrogram_Hann/Train/spc_a05_266.png  \n",
            "  inflating: /content/Spectrogram_Hann/Train/spc_b01_306.png  \n",
            "  inflating: /content/Spectrogram_Hann/Train/spc_a05_272.png  \n",
            "  inflating: /content/Spectrogram_Hann/Train/spc_a10_337.png  \n",
            "  inflating: /content/Spectrogram_Hann/Train/spc_a11_124.png  \n",
            "  inflating: /content/Spectrogram_Hann/Train/spc_a15_500.png  \n",
            "  inflating: /content/Spectrogram_Hann/Train/spc_a08_245.png  \n",
            "  inflating: /content/Spectrogram_Hann/Train/spc_a15_266.png  \n",
            "  inflating: /content/Spectrogram_Hann/Train/spc_a03_52.png  \n",
            "  inflating: /content/Spectrogram_Hann/Train/spc_a10_451.png  \n",
            "  inflating: /content/Spectrogram_Hann/Train/spc_b04_257.png  \n",
            "  inflating: /content/Spectrogram_Hann/Train/spc_a01_130.png  \n",
            "  inflating: /content/Spectrogram_Hann/Train/spc_b01_460.png  \n",
            "  inflating: /content/Spectrogram_Hann/Train/spc_a12_0.png  \n",
            "  inflating: /content/Spectrogram_Hann/Train/spc_c08_414.png  \n",
            "  inflating: /content/Spectrogram_Hann/Train/spc_a10_479.png  \n",
            "  inflating: /content/Spectrogram_Hann/Train/spc_a01_118.png  \n",
            "  inflating: /content/Spectrogram_Hann/Train/spc_c04_156.png  \n",
            "  inflating: /content/Spectrogram_Hann/Train/spc_c06_286.png  \n",
            "  inflating: /content/Spectrogram_Hann/Train/spc_c05_345.png  \n",
            "  inflating: /content/Spectrogram_Hann/Train/spc_b01_448.png  \n",
            "  inflating: /content/Spectrogram_Hann/Train/spc_a06_399.png  \n",
            "  inflating: /content/Spectrogram_Hann/Train/spc_c05_423.png  \n",
            "  inflating: /content/Spectrogram_Hann/Train/spc_c08_372.png  \n",
            "  inflating: /content/Spectrogram_Hann/Train/spc_a04_73.png  \n",
            "  inflating: /content/Spectrogram_Hann/Train/spc_c08_366.png  \n",
            "  inflating: /content/Spectrogram_Hann/Train/spc_a11_118.png  \n",
            "  inflating: /content/Spectrogram_Hann/Train/spc_a04_67.png  \n",
            "  inflating: /content/Spectrogram_Hann/Train/spc_a10_12.png  \n",
            "  inflating: /content/Spectrogram_Hann/Train/spc_c05_437.png  \n",
            "  inflating: /content/Spectrogram_Hann/Train/spc_c04_142.png  \n",
            "  inflating: /content/Spectrogram_Hann/Train/spc_c06_292.png  \n",
            "  inflating: /content/Spectrogram_Hann/Train/spc_c05_351.png  \n",
            "  inflating: /content/Spectrogram_Hann/Train/spc_a08_279.png  \n",
            "  inflating: /content/Spectrogram_Hann/Train/spc_a16_399.png  \n",
            "  inflating: /content/Spectrogram_Hann/Train/spc_c08_400.png  \n",
            "  inflating: /content/Spectrogram_Hann/Train/spc_c03_29.png  \n",
            "  inflating: /content/Spectrogram_Hann/Train/spc_a10_486.png  \n",
            "  inflating: /content/Spectrogram_Hann/Train/spc_a08_292.png  \n",
            "  inflating: /content/Spectrogram_Hann/Train/spc_a03_85.png  \n",
            "  inflating: /content/Spectrogram_Hann/Train/spc_a16_372.png  \n",
            "  inflating: /content/Spectrogram_Hann/Train/spc_a06_400.png  \n",
            "  inflating: /content/Spectrogram_Hann/Train/spc_a03_237.png  \n",
            "  inflating: /content/Spectrogram_Hann/Train/spc_c06_279.png  \n",
            "  inflating: /content/Spectrogram_Hann/Train/spc_b04_280.png  \n",
            "  inflating: /content/Spectrogram_Hann/Train/spc_b04_34.png  \n",
            "  inflating: /content/Spectrogram_Hann/Train/spc_a06_366.png  \n",
            "  inflating: /content/Spectrogram_Hann/Train/spc_c03_328.png  \n",
            "  inflating: /content/Spectrogram_Hann/Train/spc_b02_212.png  \n",
            "  inflating: /content/Spectrogram_Hann/Train/spc_a07_175.png  \n",
            "  inflating: /content/Spectrogram_Hann/Train/spc_a16_414.png  \n",
            "  inflating: /content/Spectrogram_Hann/Train/spc_c04_20.png  \n",
            "  inflating: /content/Spectrogram_Hann/Train/spc_a13_223.png  \n",
            "  inflating: /content/Spectrogram_Hann/Train/spc_a16_400.png  \n",
            "  inflating: /content/Spectrogram_Hann/Train/spc_a04_98.png  \n",
            "  inflating: /content/Spectrogram_Hann/Train/spc_c04_34.png  \n",
            "  inflating: /content/Spectrogram_Hann/Train/spc_c08_399.png  \n",
            "  inflating: /content/Spectrogram_Hann/Train/spc_a13_237.png  \n",
            "  inflating: /content/Spectrogram_Hann/Train/spc_b03_29.png  \n",
            "  inflating: /content/Spectrogram_Hann/Train/spc_a06_372.png  \n",
            "  inflating: /content/Spectrogram_Hann/Train/spc_b02_206.png  \n",
            "  inflating: /content/Spectrogram_Hann/Train/spc_a07_161.png  \n",
            "  inflating: /content/Spectrogram_Hann/Train/spc_a06_414.png  \n",
            "  inflating: /content/Spectrogram_Hann/Train/spc_b04_294.png  \n",
            "  inflating: /content/Spectrogram_Hann/Train/spc_a03_223.png  \n",
            "  inflating: /content/Spectrogram_Hann/Train/spc_b04_20.png  \n",
            "  inflating: /content/Spectrogram_Hann/Train/spc_a10_492.png  \n",
            "  inflating: /content/Spectrogram_Hann/Train/spc_a08_286.png  \n",
            "  inflating: /content/Spectrogram_Hann/Train/spc_a03_91.png  \n",
            "  inflating: /content/Spectrogram_Hann/Train/spc_a16_366.png  \n",
            "  inflating: /content/Spectrogram_Hann/Train/spc_c04_195.png  \n",
            "  inflating: /content/Spectrogram_Hann/Train/spc_c06_245.png  \n",
            "  inflating: /content/Spectrogram_Hann/Train/spc_c05_386.png  \n",
            "  inflating: /content/Spectrogram_Hann/Train/spc_c03_15.png  \n",
            "  inflating: /content/Spectrogram_Hann/Train/spc_a16_428.png  \n",
            "  inflating: /content/Spectrogram_Hann/Train/spc_c03_314.png  \n",
            "  inflating: /content/Spectrogram_Hann/Train/spc_c02_107.png  \n",
            "  inflating: /content/Spectrogram_Hann/Train/spc_a07_149.png  \n",
            "  inflating: /content/Spectrogram_Hann/Train/spc_a05_299.png  \n",
            "  inflating: /content/Spectrogram_Hann/Train/spc_b03_15.png  \n",
            "  inflating: /content/Spectrogram_Hann/Train/spc_c03_300.png  \n",
            "  inflating: /content/Spectrogram_Hann/Train/spc_c02_113.png  \n",
            "  inflating: /content/Spectrogram_Hann/Train/spc_a15_299.png  \n",
            "  inflating: /content/Spectrogram_Hann/Train/spc_a06_428.png  \n",
            "  inflating: /content/Spectrogram_Hann/Train/spc_c04_181.png  \n",
            "  inflating: /content/Spectrogram_Hann/Train/spc_c06_251.png  \n",
            "  inflating: /content/Spectrogram_Hann/Train/spc_c05_392.png  \n",
            "  inflating: /content/Spectrogram_Hann/Train/spc_a01_440.png  \n",
            "  inflating: /content/Spectrogram_Hann/Train/spc_b01_110.png  \n",
            "  inflating: /content/Spectrogram_Hann/Train/spc_c01_239.png  \n",
            "  inflating: /content/Spectrogram_Hann/Train/spc_a04_277.png  \n",
            "  inflating: /content/Spectrogram_Hann/Train/spc_a14_505.png  \n",
            "  inflating: /content/Spectrogram_Hann/Train/spc_a11_332.png  \n",
            "  inflating: /content/Spectrogram_Hann/Train/spc_a10_121.png  \n",
            "  inflating: /content/Spectrogram_Hann/Train/spc_a11_454.png  \n",
            "  inflating: /content/Spectrogram_Hann/Train/spc_a14_263.png  \n",
            "  inflating: /content/Spectrogram_Hann/Train/spc_a09_240.png  \n",
            "  inflating: /content/Spectrogram_Hann/Train/spc_a13_57.png  \n",
            "  inflating: /content/Spectrogram_Hann/Train/spc_a07_22.png  \n",
            "  inflating: /content/Spectrogram_Hann/Train/spc_c04_368.png  \n",
            "  inflating: /content/Spectrogram_Hann/Train/spc_a01_326.png  \n",
            "  inflating: /content/Spectrogram_Hann/Train/spc_a07_36.png  \n",
            "  inflating: /content/Spectrogram_Hann/Train/spc_c02_488.png  \n",
            "  inflating: /content/Spectrogram_Hann/Train/spc_a01_332.png  \n",
            "  inflating: /content/Spectrogram_Hann/Train/spc_a11_440.png  \n",
            "  inflating: /content/Spectrogram_Hann/Train/spc_a09_254.png  \n",
            "  inflating: /content/Spectrogram_Hann/Train/spc_a14_277.png  \n",
            "  inflating: /content/Spectrogram_Hann/Train/spc_a13_43.png  \n",
            "  inflating: /content/Spectrogram_Hann/Train/spc_a11_326.png  \n",
            "  inflating: /content/Spectrogram_Hann/Train/spc_a10_135.png  \n",
            "  inflating: /content/Spectrogram_Hann/Train/spc_c08_158.png  \n",
            "  inflating: /content/Spectrogram_Hann/Train/spc_a01_454.png  \n",
            "  inflating: /content/Spectrogram_Hann/Train/spc_b01_104.png  \n",
            "  inflating: /content/Spectrogram_Hann/Train/spc_a04_263.png  \n",
            "  inflating: /content/Spectrogram_Hann/Train/spc_a14_62.png  \n",
            "  inflating: /content/Spectrogram_Hann/Train/spc_c08_170.png  \n",
            "  inflating: /content/Spectrogram_Hann/Train/spc_c04_432.png  \n",
            "  inflating: /content/Spectrogram_Hann/Train/spc_a07_388.png  \n",
            "  inflating: /content/Spectrogram_Hann/Train/spc_c01_205.png  \n",
            "  inflating: /content/Spectrogram_Hann/Train/spc_c07_297.png  \n",
            "  inflating: /content/Spectrogram_Hann/Train/spc_c05_147.png  \n",
            "  inflating: /content/Spectrogram_Hann/Train/spc_a09_33.png  \n",
            "  inflating: /content/Spectrogram_Hann/Train/spc_c04_354.png  \n",
            "  inflating: /content/Spectrogram_Hann/Train/spc_a10_2.png  \n",
            "  inflating: /content/Spectrogram_Hann/Train/spc_a03_8.png  \n",
            "  inflating: /content/Spectrogram_Hann/Train/spc_a09_268.png  \n",
            "  inflating: /content/Spectrogram_Hann/Train/spc_c07_283.png  \n",
            "  inflating: /content/Spectrogram_Hann/Train/spc_c05_153.png  \n",
            "  inflating: /content/Spectrogram_Hann/Train/spc_c04_340.png  \n",
            "  inflating: /content/Spectrogram_Hann/Train/spc_a09_27.png  \n",
            "  inflating: /content/Spectrogram_Hann/Train/spc_a01_468.png  \n",
            "  inflating: /content/Spectrogram_Hann/Train/spc_c04_426.png  \n",
            "  inflating: /content/Spectrogram_Hann/Train/spc_c01_211.png  \n",
            "  inflating: /content/Spectrogram_Hann/Train/spc_b01_138.png  \n",
            "  inflating: /content/Spectrogram_Hann/Train/spc_a14_76.png  \n",
            "  inflating: /content/Spectrogram_Hann/Train/spc_a10_109.png  \n",
            "  inflating: /content/Spectrogram_Hann/Train/spc_c08_164.png  \n",
            "  inflating: /content/Spectrogram_Hann/Train/spc_a12_232.png  \n",
            "  inflating: /content/Spectrogram_Hann/Train/spc_a07_377.png  \n",
            "  inflating: /content/Spectrogram_Hann/Train/spc_c02_339.png  \n",
            "  inflating: /content/Spectrogram_Hann/Train/spc_a06_164.png  \n",
            "  inflating: /content/Spectrogram_Hann/Train/spc_b03_203.png  \n",
            "  inflating: /content/Spectrogram_Hann/Train/spc_a01_483.png  \n",
            "  inflating: /content/Spectrogram_Hann/Train/spc_a02_226.png  \n",
            "  inflating: /content/Spectrogram_Hann/Train/spc_c07_268.png  \n",
            "  inflating: /content/Spectrogram_Hann/Train/spc_a07_411.png  \n",
            "  inflating: /content/Spectrogram_Hann/Train/spc_a16_170.png  \n",
            "  inflating: /content/Spectrogram_Hann/Train/spc_a09_283.png  \n",
            "  inflating: /content/Spectrogram_Hann/Train/spc_a13_94.png  \n",
            "  inflating: /content/Spectrogram_Hann/Train/spc_a12_554.png  \n",
            "  inflating: /content/Spectrogram_Hann/Train/spc_a16_164.png  \n",
            "  inflating: /content/Spectrogram_Hann/Train/spc_a09_297.png  \n",
            "  inflating: /content/Spectrogram_Hann/Train/spc_a13_80.png  \n",
            "  inflating: /content/Spectrogram_Hann/Train/spc_a12_540.png  \n",
            "  inflating: /content/Spectrogram_Hann/Train/spc_a02_232.png  \n",
            "  inflating: /content/Spectrogram_Hann/Train/spc_c07_59.png  \n",
            "  inflating: /content/Spectrogram_Hann/Train/spc_a07_405.png  \n",
            "  inflating: /content/Spectrogram_Hann/Train/spc_a07_363.png  \n",
            "  inflating: /content/Spectrogram_Hann/Train/spc_a06_170.png  \n",
            "  inflating: /content/Spectrogram_Hann/Train/spc_b03_217.png  \n",
            "  inflating: /content/Spectrogram_Hann/Train/spc_a12_226.png  \n",
            "  inflating: /content/Spectrogram_Hann/Train/spc_a14_89.png  \n",
            "  inflating: /content/Spectrogram_Hann/Train/spc_c02_305.png  \n",
            "  inflating: /content/Spectrogram_Hann/Train/spc_a04_288.png  \n",
            "  inflating: /content/Spectrogram_Hann/Train/spc_c03_116.png  \n",
            "  inflating: /content/Spectrogram_Hann/Train/spc_a06_158.png  \n",
            "  inflating: /content/Spectrogram_Hann/Train/spc_a12_568.png  \n",
            "  inflating: /content/Spectrogram_Hann/Train/spc_c07_254.png  \n",
            "  inflating: /content/Spectrogram_Hann/Train/spc_c05_184.png  \n",
            "  inflating: /content/Spectrogram_Hann/Train/spc_c07_71.png  \n",
            "  inflating: /content/Spectrogram_Hann/Train/spc_c04_397.png  \n",
            "  inflating: /content/Spectrogram_Hann/Train/spc_c02_463.png  \n",
            "  inflating: /content/Spectrogram_Hann/Train/spc_c07_240.png  \n",
            "  inflating: /content/Spectrogram_Hann/Train/spc_c05_190.png  \n",
            "  inflating: /content/Spectrogram_Hann/Train/spc_c04_383.png  \n",
            "  inflating: /content/Spectrogram_Hann/Train/spc_c07_65.png  \n",
            "  inflating: /content/Spectrogram_Hann/Train/spc_c02_477.png  \n",
            "  inflating: /content/Spectrogram_Hann/Train/spc_a07_439.png  \n",
            "  inflating: /content/Spectrogram_Hann/Train/spc_a14_288.png  \n",
            "  inflating: /content/Spectrogram_Hann/Train/spc_a16_158.png  \n",
            "  inflating: /content/Spectrogram_Hann/Train/spc_b02_8.png  \n",
            "  inflating: /content/Spectrogram_Hann/Train/spc_c02_311.png  \n",
            "  inflating: /content/Spectrogram_Hann/Train/spc_c03_102.png  \n",
            "  inflating: /content/Spectrogram_Hann/Train/spc_b02_96.png  \n",
            "  inflating: /content/Spectrogram_Hann/Train/spc_a04_303.png  \n",
            "  inflating: /content/Spectrogram_Hann/Train/spc_a05_110.png  \n",
            "  inflating: /content/Spectrogram_Hann/Train/spc_a11_52.png  \n",
            "  inflating: /content/Spectrogram_Hann/Train/spc_a05_27.png  \n",
            "  inflating: /content/Spectrogram_Hann/Train/spc_a12_385.png  \n",
            "  inflating: /content/Spectrogram_Hann/Train/spc_a11_246.png  \n",
            "  inflating: /content/Spectrogram_Hann/Train/spc_a13_196.png  \n",
            "  inflating: /content/Spectrogram_Hann/Train/spc_a09_452.png  \n",
            "  inflating: /content/Spectrogram_Hann/Train/spc_a14_471.png  \n",
            "  inflating: /content/Spectrogram_Hann/Train/spc_a15_104.png  \n",
            "  inflating: /content/Spectrogram_Hann/Train/spc_a08_127.png  \n",
            "  inflating: /content/Spectrogram_Hann/Train/spc_c02_82.png  \n",
            "  inflating: /content/Spectrogram_Hann/Train/spc_a09_334.png  \n",
            "  inflating: /content/Spectrogram_Hann/Train/spc_a14_317.png  \n",
            "  inflating: /content/Spectrogram_Hann/Train/spc_a01_252.png  \n",
            "  inflating: /content/Spectrogram_Hann/Train/spc_b04_135.png  \n",
            "  inflating: /content/Spectrogram_Hann/Train/spc_a03_182.png  \n",
            "  inflating: /content/Spectrogram_Hann/Train/spc_a02_391.png  \n",
            "  inflating: /content/Spectrogram_Hann/Train/spc_a04_465.png  \n",
            "  inflating: /content/Spectrogram_Hann/Train/spc_c04_208.png  \n",
            "  inflating: /content/Spectrogram_Hann/Train/spc_a01_246.png  \n",
            "  inflating: /content/Spectrogram_Hann/Train/spc_a03_196.png  \n",
            "  inflating: /content/Spectrogram_Hann/Train/spc_b04_121.png  \n",
            "  inflating: /content/Spectrogram_Hann/Train/spc_a02_385.png  \n",
            "  inflating: /content/Spectrogram_Hann/Train/spc_a04_471.png  \n",
            "  inflating: /content/Spectrogram_Hann/Train/spc_a08_133.png  \n",
            "  inflating: /content/Spectrogram_Hann/Train/spc_a15_110.png  \n",
            "  inflating: /content/Spectrogram_Hann/Train/spc_c02_96.png  \n",
            "  inflating: /content/Spectrogram_Hann/Train/spc_a14_303.png  \n",
            "  inflating: /content/Spectrogram_Hann/Train/spc_a09_320.png  \n",
            "  inflating: /content/Spectrogram_Hann/Train/spc_a05_33.png  \n",
            "  inflating: /content/Spectrogram_Hann/Train/spc_a12_391.png  \n",
            "  inflating: /content/Spectrogram_Hann/Train/spc_a11_252.png  \n",
            "  inflating: /content/Spectrogram_Hann/Train/spc_a13_182.png  \n",
            "  inflating: /content/Spectrogram_Hann/Train/spc_a14_465.png  \n",
            "  inflating: /content/Spectrogram_Hann/Train/spc_a09_446.png  \n",
            "  inflating: /content/Spectrogram_Hann/Train/spc_b02_82.png  \n",
            "  inflating: /content/Spectrogram_Hann/Train/spc_c01_359.png  \n",
            "  inflating: /content/Spectrogram_Hann/Train/spc_a04_317.png  \n",
            "  inflating: /content/Spectrogram_Hann/Train/spc_a05_104.png  \n",
            "  inflating: /content/Spectrogram_Hann/Train/spc_a11_46.png  \n",
            "  inflating: /content/Spectrogram_Hann/Train/spc_c08_6.png  \n",
            "  inflating: /content/Spectrogram_Hann/Train/spc_b03_388.png  \n",
            "  inflating: /content/Spectrogram_Hann/Train/spc_c01_371.png  \n",
            "  inflating: /content/Spectrogram_Hann/Train/spc_b04_109.png  \n",
            "  inflating: /content/Spectrogram_Hann/Train/spc_c04_220.png  \n",
            "  inflating: /content/Spectrogram_Hann/Train/spc_a16_67.png  \n",
            "  inflating: /content/Spectrogram_Hann/Train/spc_a04_459.png  \n",
            "  inflating: /content/Spectrogram_Hann/Train/spc_c01_417.png  \n",
            "  inflating: /content/Spectrogram_Hann/Train/spc_a15_138.png  \n",
            "  inflating: /content/Spectrogram_Hann/Train/spc_a09_308.png  \n",
            "  inflating: /content/Spectrogram_Hann/Train/spc_a02_12.png  \n",
            "  inflating: /content/Spectrogram_Hann/Train/spc_c04_234.png  \n",
            "  inflating: /content/Spectrogram_Hann/Train/spc_a16_73.png  \n",
            "  inflating: /content/Spectrogram_Hann/Train/spc_c01_403.png  \n",
            "  inflating: /content/Spectrogram_Hann/Train/spc_c01_365.png  \n",
            "  inflating: /content/Spectrogram_Hann/Train/spc_a05_138.png  \n",
            "  inflating: /content/Spectrogram_Hann/Train/spc_a14_459.png  \n",
            "  inflating: /content/Spectrogram_Hann/Train/spc_a16_4.png  \n",
            "  inflating: /content/Spectrogram_Hann/Train/spc_a09_491.png  \n",
            "  inflating: /content/Spectrogram_Hann/Train/spc_c05_48.png  \n",
            "  inflating: /content/Spectrogram_Hann/Train/spc_a12_346.png  \n",
            "  inflating: /content/Spectrogram_Hann/Train/spc_a11_285.png  \n",
            "  inflating: /content/Spectrogram_Hann/Train/spc_a13_155.png  \n",
            "  inflating: /content/Spectrogram_Hann/Train/spc_a02_434.png  \n",
            "  inflating: /content/Spectrogram_Hann/Train/spc_a11_91.png  \n",
            "  inflating: /content/Spectrogram_Hann/Train/spc_b02_55.png  \n",
            "  inflating: /content/Spectrogram_Hann/Train/spc_b03_377.png  \n",
            "  inflating: /content/Spectrogram_Hann/Train/spc_a07_203.png  \n",
            "  inflating: /content/Spectrogram_Hann/Train/spc_b02_164.png  \n",
            "  inflating: /content/Spectrogram_Hann/Train/spc_b03_411.png  \n",
            "  inflating: /content/Spectrogram_Hann/Train/spc_a01_291.png  \n",
            "  inflating: /content/Spectrogram_Hann/Train/spc_a03_141.png  \n",
            "  inflating: /content/Spectrogram_Hann/Train/spc_a16_98.png  \n",
            "  inflating: /content/Spectrogram_Hann/Train/spc_a02_352.png  \n",
            "  inflating: /content/Spectrogram_Hann/Train/spc_a12_420.png  \n",
            "  inflating: /content/Spectrogram_Hann/Train/spc_c02_41.png  \n",
            "  inflating: /content/Spectrogram_Hann/Train/spc_a12_434.png  \n",
            "  inflating: /content/Spectrogram_Hann/Train/spc_c02_55.png  \n",
            "  inflating: /content/Spectrogram_Hann/Train/spc_b03_405.png  \n",
            "  inflating: /content/Spectrogram_Hann/Train/spc_a01_285.png  \n",
            "  inflating: /content/Spectrogram_Hann/Train/spc_a03_155.png  \n",
            "  inflating: /content/Spectrogram_Hann/Train/spc_a02_346.png  \n",
            "  inflating: /content/Spectrogram_Hann/Train/spc_c07_308.png  \n",
            "  inflating: /content/Spectrogram_Hann/Train/spc_a02_420.png  \n",
            "  inflating: /content/Spectrogram_Hann/Train/spc_a11_85.png  \n",
            "  inflating: /content/Spectrogram_Hann/Train/spc_b02_41.png  \n",
            "  inflating: /content/Spectrogram_Hann/Train/spc_b03_363.png  \n",
            "  inflating: /content/Spectrogram_Hann/Train/spc_a07_217.png  \n",
            "  inflating: /content/Spectrogram_Hann/Train/spc_c02_259.png  \n",
            "  inflating: /content/Spectrogram_Hann/Train/spc_b02_170.png  \n",
            "  inflating: /content/Spectrogram_Hann/Train/spc_a09_485.png  \n",
            "  inflating: /content/Spectrogram_Hann/Train/spc_a12_352.png  \n",
            "  inflating: /content/Spectrogram_Hann/Train/spc_a11_291.png  \n",
            "  inflating: /content/Spectrogram_Hann/Train/spc_a13_141.png  \n",
            "  inflating: /content/Spectrogram_Hann/Train/spc_a02_408.png  \n",
            "  inflating: /content/Spectrogram_Hann/Train/spc_b02_69.png  \n",
            "  inflating: /content/Spectrogram_Hann/Train/spc_b02_158.png  \n",
            "  inflating: /content/Spectrogram_Hann/Train/spc_c02_271.png  \n",
            "  inflating: /content/Spectrogram_Hann/Train/spc_c05_74.png  \n",
            "  inflating: /content/Spectrogram_Hann/Train/spc_a13_169.png  \n",
            "  inflating: /content/Spectrogram_Hann/Train/spc_c06_133.png  \n",
            "  inflating: /content/Spectrogram_Hann/Train/spc_c07_320.png  \n",
            "  inflating: /content/Spectrogram_Hann/Train/spc_b03_439.png  \n",
            "  inflating: /content/Spectrogram_Hann/Train/spc_c06_127.png  \n",
            "  inflating: /content/Spectrogram_Hann/Train/spc_a03_169.png  \n",
            "  inflating: /content/Spectrogram_Hann/Train/spc_c07_334.png  \n",
            "  inflating: /content/Spectrogram_Hann/Train/spc_a12_408.png  \n",
            "  inflating: /content/Spectrogram_Hann/Train/spc_c02_69.png  \n",
            "  inflating: /content/Spectrogram_Hann/Train/spc_c05_60.png  \n",
            "  inflating: /content/Spectrogram_Hann/Train/spc_c06_9.png  \n",
            "  inflating: /content/Spectrogram_Hann/Train/spc_c02_265.png  \n",
            "  inflating: /content/Spectrogram_Hann/Train/spc_a08_67.png  \n",
            "  inflating: /content/Spectrogram_Hann/Train/spc_a02_193.png  \n",
            "  inflating: /content/Spectrogram_Hann/Train/spc_a03_380.png  \n",
            "  inflating: /content/Spectrogram_Hann/Train/spc_b04_337.png  \n",
            "  inflating: /content/Spectrogram_Hann/Train/spc_a14_115.png  \n",
            "  inflating: /content/Spectrogram_Hann/Train/spc_a09_136.png  \n",
            "  inflating: /content/Spectrogram_Hann/Train/spc_a08_325.png  \n",
            "  inflating: /content/Spectrogram_Hann/Train/spc_a15_306.png  \n",
            "  inflating: /content/Spectrogram_Hann/Train/spc_a08_443.png  \n",
            "  inflating: /content/Spectrogram_Hann/Train/spc_a15_460.png  \n",
            "  inflating: /content/Spectrogram_Hann/Train/spc_a13_394.png  \n",
            "  inflating: /content/Spectrogram_Hann/Train/spc_a15_36.png  \n",
            "  inflating: /content/Spectrogram_Hann/Train/spc_a12_187.png  \n",
            "  inflating: /content/Spectrogram_Hann/Train/spc_a10_257.png  \n",
            "  inflating: /content/Spectrogram_Hann/Train/spc_a01_43.png  \n",
            "  inflating: /content/Spectrogram_Hann/Train/spc_a05_312.png  \n",
            "  inflating: /content/Spectrogram_Hann/Train/spc_a04_101.png  \n",
            "  inflating: /content/Spectrogram_Hann/Train/spc_b01_266.png  \n",
            "  inflating: /content/Spectrogram_Hann/Train/spc_a01_57.png  \n",
            "  inflating: /content/Spectrogram_Hann/Train/spc_a05_306.png  \n",
            "  inflating: /content/Spectrogram_Hann/Train/spc_a04_115.png  \n",
            "  inflating: /content/Spectrogram_Hann/Train/spc_b01_272.png  \n",
            "  inflating: /content/Spectrogram_Hann/Train/spc_a15_474.png  \n",
            "  inflating: /content/Spectrogram_Hann/Train/spc_a08_457.png  \n",
            "  inflating: /content/Spectrogram_Hann/Train/spc_a13_380.png  \n",
            "  inflating: /content/Spectrogram_Hann/Train/spc_a15_22.png  \n",
            "  inflating: /content/Spectrogram_Hann/Train/spc_a12_193.png  \n",
            "  inflating: /content/Spectrogram_Hann/Train/spc_a10_243.png  \n",
            "  inflating: /content/Spectrogram_Hann/Train/spc_a09_122.png  \n",
            "  inflating: /content/Spectrogram_Hann/Train/spc_a14_101.png  \n",
            "  inflating: /content/Spectrogram_Hann/Train/spc_a15_312.png  \n",
            "  inflating: /content/Spectrogram_Hann/Train/spc_a08_331.png  \n",
            "  inflating: /content/Spectrogram_Hann/Train/spc_a08_73.png  \n",
            "  inflating: /content/Spectrogram_Hann/Train/spc_a02_187.png  \n",
            "  inflating: /content/Spectrogram_Hann/Train/spc_c05_219.png  \n",
            "  inflating: /content/Spectrogram_Hann/Train/spc_b04_323.png  \n",
            "  inflating: /content/Spectrogram_Hann/Train/spc_a03_394.png  \n",
            "  inflating: /content/Spectrogram_Hann/Train/spc_a14_129.png  \n",
            "  inflating: /content/Spectrogram_Hann/Train/spc_a08_319.png  \n",
            "  inflating: /content/Spectrogram_Hann/Train/spc_a05_448.png  \n",
            "  inflating: /content/Spectrogram_Hann/Train/spc_c05_231.png  \n",
            "  inflating: /content/Spectrogram_Hann/Train/spc_a06_76.png  \n",
            "  inflating: /content/Spectrogram_Hann/Train/spc_b02_399.png  \n",
            "  inflating: /content/Spectrogram_Hann/Train/spc_c01_173.png  \n",
            "  inflating: /content/Spectrogram_Hann/Train/spc_c08_206.png  \n",
            "  inflating: /content/Spectrogram_Hann/Train/spc_a14_6.png  \n",
            "  inflating: /content/Spectrogram_Hann/Train/spc_a15_448.png  \n",
            "  inflating: /content/Spectrogram_Hann/Train/spc_c08_212.png  \n",
            "  inflating: /content/Spectrogram_Hann/Train/spc_a04_129.png  \n",
            "  inflating: /content/Spectrogram_Hann/Train/spc_c01_167.png  \n",
            "  inflating: /content/Spectrogram_Hann/Train/spc_c05_225.png  \n",
            "  inflating: /content/Spectrogram_Hann/Train/spc_a06_62.png  \n",
            "  inflating: /content/Spectrogram_Hann/Train/spc_a12_17.png  \n",
            "  inflating: /content/Spectrogram_Hann/Train/spc_a16_206.png  \n",
            "  inflating: /content/Spectrogram_Hann/Train/spc_b01_38.png  \n",
            "  inflating: /content/Spectrogram_Hann/Train/spc_a13_431.png  \n",
            "  inflating: /content/Spectrogram_Hann/Train/spc_a02_150.png  \n",
            "  inflating: /content/Spectrogram_Hann/Train/spc_a06_89.png  \n",
            "  inflating: /content/Spectrogram_Hann/Train/spc_a03_343.png  \n",
            "  inflating: /content/Spectrogram_Hann/Train/spc_c06_25.png  \n",
            "  inflating: /content/Spectrogram_Hann/Train/spc_b02_400.png  \n",
            "  inflating: /content/Spectrogram_Hann/Train/spc_b02_366.png  \n",
            "  inflating: /content/Spectrogram_Hann/Train/spc_b03_175.png  \n",
            "  inflating: /content/Spectrogram_Hann/Train/spc_a06_212.png  \n",
            "  inflating: /content/Spectrogram_Hann/Train/spc_a03_425.png  \n",
            "  inflating: /content/Spectrogram_Hann/Train/spc_a01_80.png  \n",
            "  inflating: /content/Spectrogram_Hann/Train/spc_a13_357.png  \n",
            "  inflating: /content/Spectrogram_Hann/Train/spc_a12_144.png  \n",
            "  inflating: /content/Spectrogram_Hann/Train/spc_a10_294.png  \n",
            "  inflating: /content/Spectrogram_Hann/Train/spc_a08_480.png  \n",
            "  inflating: /content/Spectrogram_Hann/Train/spc_a13_343.png  \n",
            "  inflating: /content/Spectrogram_Hann/Train/spc_a12_150.png  \n",
            "  inflating: /content/Spectrogram_Hann/Train/spc_a10_280.png  \n",
            "  inflating: /content/Spectrogram_Hann/Train/spc_a08_494.png  \n",
            "  inflating: /content/Spectrogram_Hann/Train/spc_c01_38.png  \n",
            "  inflating: /content/Spectrogram_Hann/Train/spc_b02_372.png  \n",
            "  inflating: /content/Spectrogram_Hann/Train/spc_b03_161.png  \n",
            "  inflating: /content/Spectrogram_Hann/Train/spc_c01_198.png  \n",
            "  inflating: /content/Spectrogram_Hann/Train/spc_a06_206.png  \n",
            "  inflating: /content/Spectrogram_Hann/Train/spc_c03_248.png  \n",
            "  inflating: /content/Spectrogram_Hann/Train/spc_a03_431.png  \n",
            "  inflating: /content/Spectrogram_Hann/Train/spc_a01_94.png  \n",
            "  inflating: /content/Spectrogram_Hann/Train/spc_a02_144.png  \n",
            "  inflating: /content/Spectrogram_Hann/Train/spc_a03_357.png  \n",
            "  inflating: /content/Spectrogram_Hann/Train/spc_c06_319.png  \n",
            "  inflating: /content/Spectrogram_Hann/Train/spc_c06_31.png  \n",
            "  inflating: /content/Spectrogram_Hann/Train/spc_b02_414.png  \n",
            "  inflating: /content/Spectrogram_Hann/Train/spc_a16_212.png  \n",
            "  inflating: /content/Spectrogram_Hann/Train/spc_a13_425.png  \n",
            "  inflating: /content/Spectrogram_Hann/Train/spc_c07_122.png  \n",
            "  inflating: /content/Spectrogram_Hann/Train/spc_c06_331.png  \n",
            "  inflating: /content/Spectrogram_Hann/Train/spc_c08_34.png  \n",
            "  inflating: /content/Spectrogram_Hann/Train/spc_a08_98.png  \n",
            "  inflating: /content/Spectrogram_Hann/Train/spc_c06_19.png  \n",
            "  inflating: /content/Spectrogram_Hann/Train/spc_a12_178.png  \n",
            "  inflating: /content/Spectrogram_Hann/Train/spc_c01_10.png  \n",
            "  inflating: /content/Spectrogram_Hann/Train/spc_c03_260.png  \n",
            "  inflating: /content/Spectrogram_Hann/Train/spc_b01_299.png  \n",
            "  inflating: /content/Spectrogram_Hann/Train/spc_b03_149.png  \n",
            "  inflating: /content/Spectrogram_Hann/Train/spc_c06_457.png  \n",
            "  inflating: /content/Spectrogram_Hann/Train/spc_a03_419.png  \n",
            "  inflating: /content/Spectrogram_Hann/Train/spc_c03_274.png  \n",
            "  inflating: /content/Spectrogram_Hann/Train/spc_c06_443.png  \n",
            "  inflating: /content/Spectrogram_Hann/Train/spc_a09_3.png  \n",
            "  inflating: /content/Spectrogram_Hann/Train/spc_b01_10.png  \n",
            "  inflating: /content/Spectrogram_Hann/Train/spc_a13_419.png  \n",
            "  inflating: /content/Spectrogram_Hann/Train/spc_c07_136.png  \n",
            "  inflating: /content/Spectrogram_Hann/Train/spc_a02_178.png  \n",
            "  inflating: /content/Spectrogram_Hann/Train/spc_c08_20.png  \n",
            "  inflating: /content/Spectrogram_Hann/Train/spc_c06_325.png  \n",
            "  inflating: /content/Spectrogram_Hann/Train/spc_b02_428.png  \n",
            "  inflating: /content/Spectrogram_Hann/Train/spc_a13_324.png  \n",
            "  inflating: /content/Spectrogram_Hann/Train/spc_a15_86.png  \n",
            "  inflating: /content/Spectrogram_Hann/Train/spc_a12_137.png  \n",
            "  inflating: /content/Spectrogram_Hann/Train/spc_a03_456.png  \n",
            "  inflating: /content/Spectrogram_Hann/Train/spc_c06_418.png  \n",
            "  inflating: /content/Spectrogram_Hann/Train/spc_b02_315.png  \n",
            "  inflating: /content/Spectrogram_Hann/Train/spc_b03_106.png  \n",
            "  inflating: /content/Spectrogram_Hann/Train/spc_a06_261.png  \n",
            "  inflating: /content/Spectrogram_Hann/Train/spc_a06_507.png  \n",
            "  inflating: /content/Spectrogram_Hann/Train/spc_c06_56.png  \n",
            "  inflating: /content/Spectrogram_Hann/Train/spc_b02_473.png  \n",
            "  inflating: /content/Spectrogram_Hann/Train/spc_a02_123.png  \n",
            "  inflating: /content/Spectrogram_Hann/Train/spc_a03_330.png  \n",
            "  inflating: /content/Spectrogram_Hann/Train/spc_b04_387.png  \n",
            "  inflating: /content/Spectrogram_Hann/Train/spc_a13_442.png  \n",
            "  inflating: /content/Spectrogram_Hann/Train/spc_a09_186.png  \n",
            "  inflating: /content/Spectrogram_Hann/Train/spc_a16_275.png  \n",
            "  inflating: /content/Spectrogram_Hann/Train/spc_a08_395.png  \n",
            "  inflating: /content/Spectrogram_Hann/Train/spc_a13_456.png  \n",
            "  inflating: /content/Spectrogram_Hann/Train/spc_a09_192.png  \n",
            "  inflating: /content/Spectrogram_Hann/Train/spc_a16_261.png  \n",
            "  inflating: /content/Spectrogram_Hann/Train/spc_a08_381.png  \n",
            "  inflating: /content/Spectrogram_Hann/Train/spc_c06_42.png  \n",
            "  inflating: /content/Spectrogram_Hann/Train/spc_b02_467.png  \n",
            "  inflating: /content/Spectrogram_Hann/Train/spc_a02_137.png  \n",
            "  inflating: /content/Spectrogram_Hann/Train/spc_c07_179.png  \n",
            "  inflating: /content/Spectrogram_Hann/Train/spc_b04_393.png  \n",
            "  inflating: /content/Spectrogram_Hann/Train/spc_a03_324.png  \n",
            "  inflating: /content/Spectrogram_Hann/Train/spc_a03_442.png  \n",
            "  inflating: /content/Spectrogram_Hann/Train/spc_b02_301.png  \n",
            "  inflating: /content/Spectrogram_Hann/Train/spc_b03_112.png  \n",
            "  inflating: /content/Spectrogram_Hann/Train/spc_a06_275.png  \n",
            "  inflating: /content/Spectrogram_Hann/Train/spc_a13_330.png  \n",
            "  inflating: /content/Spectrogram_Hann/Train/spc_a15_92.png  \n",
            "  inflating: /content/Spectrogram_Hann/Train/spc_a12_123.png  \n",
            "  inflating: /content/Spectrogram_Hann/Train/spc_c06_424.png  \n",
            "  inflating: /content/Spectrogram_Hann/Train/spc_b02_329.png  \n",
            "  inflating: /content/Spectrogram_Hann/Train/spc_c01_63.png  \n",
            "  inflating: /content/Spectrogram_Hann/Train/spc_c03_213.png  \n",
            "  inflating: /content/Spectrogram_Hann/Train/spc_a13_318.png  \n",
            "  inflating: /content/Spectrogram_Hann/Train/spc_a16_249.png  \n",
            "  inflating: /content/Spectrogram_Hann/Train/spc_a14_199.png  \n",
            "  inflating: /content/Spectrogram_Hann/Train/spc_b01_77.png  \n",
            "  inflating: /content/Spectrogram_Hann/Train/spc_c05_281.png  \n",
            "  inflating: /content/Spectrogram_Hann/Train/spc_c07_151.png  \n",
            "  inflating: /content/Spectrogram_Hann/Train/spc_c08_47.png  \n",
            "  inflating: /content/Spectrogram_Hann/Train/spc_c06_342.png  \n",
            "  inflating: /content/Spectrogram_Hann/Train/spc_c05_295.png  \n",
            "  inflating: /content/Spectrogram_Hann/Train/spc_c07_145.png  \n",
            "  inflating: /content/Spectrogram_Hann/Train/spc_c06_356.png  \n",
            "  inflating: /content/Spectrogram_Hann/Train/spc_a03_318.png  \n",
            "  inflating: /content/Spectrogram_Hann/Train/spc_c08_53.png  \n",
            "  inflating: /content/Spectrogram_Hann/Train/spc_b01_63.png  \n",
            "  inflating: /content/Spectrogram_Hann/Train/spc_c06_430.png  \n",
            "  inflating: /content/Spectrogram_Hann/Train/spc_c01_77.png  \n",
            "  inflating: /content/Spectrogram_Hann/Train/spc_c03_207.png  \n",
            "  inflating: /content/Spectrogram_Hann/Train/spc_a06_249.png  \n",
            "  inflating: /content/Spectrogram_Hann/Train/spc_a04_199.png  \n",
            "  inflating: /content/Spectrogram_Hann/Train/spc_a05_361.png  \n",
            "  inflating: /content/Spectrogram_Hann/Train/spc_a04_172.png  \n",
            "  inflating: /content/Spectrogram_Hann/Train/spc_b01_215.png  \n",
            "  inflating: /content/Spectrogram_Hann/Train/spc_b04_422.png  \n",
            "  inflating: /content/Spectrogram_Hann/Train/spc_a03_495.png  \n",
            "  inflating: /content/Spectrogram_Hann/Train/spc_a01_30.png  \n",
            "  inflating: /content/Spectrogram_Hann/Train/spc_a15_45.png  \n",
            "  inflating: /content/Spectrogram_Hann/Train/spc_a10_224.png  \n",
            "  inflating: /content/Spectrogram_Hann/Train/spc_c08_249.png  \n",
            "  inflating: /content/Spectrogram_Hann/Train/spc_a15_413.png  \n",
            "  inflating: /content/Spectrogram_Hann/Train/spc_a08_430.png  \n",
            "  inflating: /content/Spectrogram_Hann/Train/spc_a09_145.png  \n",
            "  inflating: /content/Spectrogram_Hann/Train/spc_a14_166.png  \n",
            "  inflating: /content/Spectrogram_Hann/Train/spc_a15_375.png  \n",
            "  inflating: /content/Spectrogram_Hann/Train/spc_a08_356.png  \n",
            "  inflating: /content/Spectrogram_Hann/Train/spc_b01_88.png  \n",
            "  inflating: /content/Spectrogram_Hann/Train/spc_a13_481.png  \n",
            "  inflating: /content/Spectrogram_Hann/Train/spc_b04_344.png  \n",
            "  inflating: /content/Spectrogram_Hann/Train/spc_a06_39.png  \n",
            "  inflating: /content/Spectrogram_Hann/Train/spc_a08_14.png  \n",
            "  inflating: /content/Spectrogram_Hann/Train/spc_c06_95.png  \n",
            "  inflating: /content/Spectrogram_Hann/Train/spc_a05_407.png  \n",
            "  inflating: /content/Spectrogram_Hann/Train/spc_b04_350.png  \n",
            "  inflating: /content/Spectrogram_Hann/Train/spc_c06_81.png  \n",
            "  inflating: /content/Spectrogram_Hann/Train/spc_a05_413.png  \n",
            "  inflating: /content/Spectrogram_Hann/Train/spc_a14_172.png  \n",
            "  inflating: /content/Spectrogram_Hann/Train/spc_a09_151.png  \n",
            "  inflating: /content/Spectrogram_Hann/Train/spc_a08_342.png  \n",
            "  inflating: /content/Spectrogram_Hann/Train/spc_a15_361.png  \n",
            "  inflating: /content/Spectrogram_Hann/Train/spc_a12_58.png  \n",
            "  inflating: /content/Spectrogram_Hann/Train/spc_a15_51.png  \n",
            "  inflating: /content/Spectrogram_Hann/Train/spc_a10_230.png  \n",
            "  inflating: /content/Spectrogram_Hann/Train/spc_a08_424.png  \n",
            "  inflating: /content/Spectrogram_Hann/Train/spc_a15_407.png  \n",
            "  inflating: /content/Spectrogram_Hann/Train/spc_a05_375.png  \n",
            "  inflating: /content/Spectrogram_Hann/Train/spc_c01_88.png  \n",
            "  inflating: /content/Spectrogram_Hann/Train/spc_c01_128.png  \n",
            "  inflating: /content/Spectrogram_Hann/Train/spc_a04_166.png  \n",
            "  inflating: /content/Spectrogram_Hann/Train/spc_b01_201.png  \n",
            "  inflating: /content/Spectrogram_Hann/Train/spc_a03_481.png  \n",
            "  inflating: /content/Spectrogram_Hann/Train/spc_a01_24.png  \n",
            "  inflating: /content/Spectrogram_Hann/Train/spc_a15_79.png  \n",
            "  inflating: /content/Spectrogram_Hann/Train/spc_a10_218.png  \n",
            "  inflating: /content/Spectrogram_Hann/Train/spc_c08_275.png  \n",
            "  inflating: /content/Spectrogram_Hann/Train/spc_b01_229.png  \n",
            "  inflating: /content/Spectrogram_Hann/Train/spc_c01_100.png  \n",
            "  inflating: /content/Spectrogram_Hann/Train/spc_c05_242.png  \n",
            "  inflating: /content/Spectrogram_Hann/Train/spc_c07_192.png  \n",
            "  inflating: /content/Spectrogram_Hann/Train/spc_b04_378.png  \n",
            "  inflating: /content/Spectrogram_Hann/Train/spc_c06_381.png  \n",
            "  inflating: /content/Spectrogram_Hann/Train/spc_c08_84.png  \n",
            "  inflating: /content/Spectrogram_Hann/Train/spc_a08_28.png  \n",
            "  inflating: /content/Spectrogram_Hann/Train/spc_a09_179.png  \n",
            "  inflating: /content/Spectrogram_Hann/Train/spc_a13_7.png  \n",
            "  inflating: /content/Spectrogram_Hann/Train/spc_a15_349.png  \n",
            "  inflating: /content/Spectrogram_Hann/Train/spc_a12_70.png  \n",
            "  inflating: /content/Spectrogram_Hann/Train/spc_c08_507.png  \n",
            "  inflating: /content/Spectrogram_Hann/Train/spc_a12_64.png  \n",
            "  inflating: /content/Spectrogram_Hann/Train/spc_c05_256.png  \n",
            "  inflating: /content/Spectrogram_Hann/Train/spc_c07_186.png  \n",
            "  inflating: /content/Spectrogram_Hann/Train/spc_c08_90.png  \n",
            "  inflating: /content/Spectrogram_Hann/Train/spc_c06_395.png  \n",
            "  inflating: /content/Spectrogram_Hann/Train/spc_a06_11.png  \n",
            "  inflating: /content/Spectrogram_Hann/Train/spc_b02_498.png  \n",
            "  inflating: /content/Spectrogram_Hann/Train/spc_a05_349.png  \n",
            "  inflating: /content/Spectrogram_Hann/Train/spc_c01_114.png  \n",
            "  inflating: /content/Spectrogram_Hann/Train/spc_a01_18.png  \n",
            "  inflating: /content/Spectrogram_Hann/Train/spc_c08_261.png  \n",
            "  inflating: /content/Spectrogram_Hann/Train/spc_a08_418.png  \n",
            "  inflating: /content/Spectrogram_Hann/Train/spc_a08_197.png  \n",
            "  inflating: /content/Spectrogram_Hann/Train/spc_c02_32.png  \n",
            "  inflating: /content/Spectrogram_Hann/Train/spc_a09_384.png  \n",
            "  inflating: /content/Spectrogram_Hann/Train/spc_a12_453.png  \n",
            "  inflating: /content/Spectrogram_Hann/Train/spc_b04_185.png  \n",
            "  inflating: /content/Spectrogram_Hann/Train/spc_a03_132.png  \n",
            "  inflating: /content/Spectrogram_Hann/Train/spc_a02_321.png  \n",
            "  inflating: /content/Spectrogram_Hann/Train/spc_b02_26.png  \n",
            "  inflating: /content/Spectrogram_Hann/Train/spc_b03_304.png  \n",
            "  inflating: /content/Spectrogram_Hann/Train/spc_a07_270.png  \n",
            "  inflating: /content/Spectrogram_Hann/Train/spc_b02_117.png  \n",
            "  inflating: /content/Spectrogram_Hann/Train/spc_a02_447.png  \n",
            "  inflating: /content/Spectrogram_Hann/Train/spc_c07_409.png  \n",
            "  inflating: /content/Spectrogram_Hann/Train/spc_a05_97.png  \n",
            "  inflating: /content/Spectrogram_Hann/Train/spc_a12_335.png  \n",
            "  inflating: /content/Spectrogram_Hann/Train/spc_a13_126.png  \n",
            "  inflating: /content/Spectrogram_Hann/Train/spc_a05_83.png  \n",
            "  inflating: /content/Spectrogram_Hann/Train/spc_a12_321.png  \n",
            "  inflating: /content/Spectrogram_Hann/Train/spc_a13_132.png  \n",
            "  inflating: /content/Spectrogram_Hann/Train/spc_b02_32.png  \n",
            "  inflating: /content/Spectrogram_Hann/Train/spc_b03_310.png  \n",
            "  inflating: /content/Spectrogram_Hann/Train/spc_a07_264.png  \n",
            "  inflating: /content/Spectrogram_Hann/Train/spc_b02_103.png  \n",
            "  inflating: /content/Spectrogram_Hann/Train/spc_a02_453.png  \n",
            "  inflating: /content/Spectrogram_Hann/Train/spc_a03_126.png  \n",
            "  inflating: /content/Spectrogram_Hann/Train/spc_b04_191.png  \n",
            "  inflating: /content/Spectrogram_Hann/Train/spc_c06_168.png  \n",
            "  inflating: /content/Spectrogram_Hann/Train/spc_a02_335.png  \n",
            "  inflating: /content/Spectrogram_Hann/Train/spc_a07_502.png  \n",
            "  inflating: /content/Spectrogram_Hann/Train/spc_a08_183.png  \n",
            "  inflating: /content/Spectrogram_Hann/Train/spc_c02_26.png  \n",
            "  inflating: /content/Spectrogram_Hann/Train/spc_a09_390.png  \n",
            "  inflating: /content/Spectrogram_Hann/Train/spc_a12_447.png  \n",
            "  inflating: /content/Spectrogram_Hann/Train/spc_c06_140.png  \n",
            "  inflating: /content/Spectrogram_Hann/Train/spc_c04_290.png  \n",
            "  inflating: /content/Spectrogram_Hann/Train/spc_c07_353.png  \n",
            "  inflating: /content/Spectrogram_Hann/Train/spc_a15_188.png  \n",
            "  inflating: /content/Spectrogram_Hann/Train/spc_c01_8.png  \n",
            "  inflating: /content/Spectrogram_Hann/Train/spc_a12_309.png  \n",
            "  inflating: /content/Spectrogram_Hann/Train/spc_b03_338.png  \n",
            "  inflating: /content/Spectrogram_Hann/Train/spc_c02_202.png  \n",
            "  inflating: /content/Spectrogram_Hann/Train/spc_a05_188.png  \n",
            "  inflating: /content/Spectrogram_Hann/Train/spc_c02_216.png  \n",
            "  inflating: /content/Spectrogram_Hann/Train/spc_a07_258.png  \n",
            "  inflating: /content/Spectrogram_Hann/Train/spc_c07_421.png  \n",
            "  inflating: /content/Spectrogram_Hann/Train/spc_c05_13.png  \n",
            "  inflating: /content/Spectrogram_Hann/Train/spc_c06_154.png  \n",
            "  inflating: /content/Spectrogram_Hann/Train/spc_c04_284.png  \n",
            "  inflating: /content/Spectrogram_Hann/Train/spc_c07_347.png  \n",
            "  inflating: /content/Spectrogram_Hann/Train/spc_a02_309.png  \n",
            "  inflating: /content/Spectrogram_Hann/Train/spc_c01_458.png  \n",
            "  inflating: /content/Spectrogram_Hann/Train/spc_a04_416.png  \n",
            "  inflating: /content/Spectrogram_Hann/Train/spc_a01_221.png  \n",
            "  inflating: /content/Spectrogram_Hann/Train/spc_b04_146.png  \n",
            "  inflating: /content/Spectrogram_Hann/Train/spc_a16_28.png  \n",
            "  inflating: /content/Spectrogram_Hann/Train/spc_a12_490.png  \n",
            "  inflating: /content/Spectrogram_Hann/Train/spc_a08_154.png  \n",
            "  inflating: /content/Spectrogram_Hann/Train/spc_a15_177.png  \n",
            "  inflating: /content/Spectrogram_Hann/Train/spc_a14_364.png  \n",
            "  inflating: /content/Spectrogram_Hann/Train/spc_a09_347.png  \n",
            "  inflating: /content/Spectrogram_Hann/Train/spc_a14_402.png  \n",
            "  inflating: /content/Spectrogram_Hann/Train/spc_a09_421.png  \n",
            "  inflating: /content/Spectrogram_Hann/Train/spc_a05_54.png  \n",
            "  inflating: /content/Spectrogram_Hann/Train/spc_a11_235.png  \n",
            "  inflating: /content/Spectrogram_Hann/Train/spc_a02_484.png  \n",
            "  inflating: /content/Spectrogram_Hann/Train/spc_a11_21.png  \n",
            "  inflating: /content/Spectrogram_Hann/Train/spc_a04_370.png  \n",
            "  inflating: /content/Spectrogram_Hann/Train/spc_a05_163.png  \n",
            "  inflating: /content/Spectrogram_Hann/Train/spc_a02_490.png  \n",
            "  inflating: /content/Spectrogram_Hann/Train/spc_a11_35.png  \n",
            "  inflating: /content/Spectrogram_Hann/Train/spc_a04_364.png  \n",
            "  inflating: /content/Spectrogram_Hann/Train/spc_a05_177.png  \n",
            "  inflating: /content/Spectrogram_Hann/Train/spc_a09_435.png  \n",
            "  inflating: /content/Spectrogram_Hann/Train/spc_a14_416.png  \n",
            "  inflating: /content/Spectrogram_Hann/Train/spc_a05_40.png  \n",
            "  inflating: /content/Spectrogram_Hann/Train/spc_a11_221.png  \n",
            "  inflating: /content/Spectrogram_Hann/Train/spc_a02_49.png  \n",
            "  inflating: /content/Spectrogram_Hann/Train/spc_a12_484.png  \n",
            "  inflating: /content/Spectrogram_Hann/Train/spc_a15_163.png  \n",
            "  inflating: /content/Spectrogram_Hann/Train/spc_a08_140.png  \n",
            "  inflating: /content/Spectrogram_Hann/Train/spc_a09_353.png  \n",
            "  inflating: /content/Spectrogram_Hann/Train/spc_a14_370.png  \n",
            "  inflating: /content/Spectrogram_Hann/Train/spc_a04_402.png  \n",
            "  inflating: /content/Spectrogram_Hann/Train/spc_a01_235.png  \n",
            "  inflating: /content/Spectrogram_Hann/Train/spc_b04_152.png  \n",
            "  inflating: /content/Spectrogram_Hann/Train/spc_a02_61.png  \n",
            "  inflating: /content/Spectrogram_Hann/Train/spc_a08_168.png  \n",
            "  inflating: /content/Spectrogram_Hann/Train/spc_a11_5.png  \n",
            "  inflating: /content/Spectrogram_Hann/Train/spc_a14_358.png  \n",
            "  inflating: /content/Spectrogram_Hann/Train/spc_c01_464.png  \n",
            "  inflating: /content/Spectrogram_Hann/Train/spc_c06_183.png  \n",
            "  inflating: /content/Spectrogram_Hann/Train/spc_c04_253.png  \n",
            "  inflating: /content/Spectrogram_Hann/Train/spc_a16_14.png  \n",
            "  inflating: /content/Spectrogram_Hann/Train/spc_c07_390.png  \n",
            "  inflating: /content/Spectrogram_Hann/Train/spc_c01_302.png  \n",
            "  inflating: /content/Spectrogram_Hann/Train/spc_a05_68.png  \n",
            "  inflating: /content/Spectrogram_Hann/Train/spc_a11_209.png  \n",
            "  inflating: /content/Spectrogram_Hann/Train/spc_a09_409.png  \n",
            "  inflating: /content/Spectrogram_Hann/Train/spc_a04_358.png  \n",
            "  inflating: /content/Spectrogram_Hann/Train/spc_c01_316.png  \n",
            "  inflating: /content/Spectrogram_Hann/Train/spc_c01_470.png  \n",
            "  inflating: /content/Spectrogram_Hann/Train/spc_c06_197.png  \n",
            "  inflating: /content/Spectrogram_Hann/Train/spc_a01_209.png  \n",
            "  inflating: /content/Spectrogram_Hann/Train/spc_c04_247.png  \n",
            "  inflating: /content/Spectrogram_Hann/Train/spc_c07_384.png  \n",
            "  inflating: /content/Spectrogram_Hann/Train/spc_a02_75.png  \n",
            "  inflating: /content/Spectrogram_Hann/Train/spc_a12_527.png  \n",
            "  inflating: /content/Spectrogram_Hann/Train/spc_a16_103.png  \n",
            "  inflating: /content/Spectrogram_Hann/Train/spc_a07_92.png  \n",
            "  inflating: /content/Spectrogram_Hann/Train/spc_a07_462.png  \n",
            "  inflating: /content/Spectrogram_Hann/Train/spc_a02_255.png  \n",
            "  inflating: /content/Spectrogram_Hann/Train/spc_a01_396.png  \n",
            "  inflating: /content/Spectrogram_Hann/Train/spc_a07_304.png  \n",
            "  inflating: /content/Spectrogram_Hann/Train/spc_a06_117.png  \n",
            "  inflating: /content/Spectrogram_Hann/Train/spc_c03_159.png  \n",
            "  inflating: /content/Spectrogram_Hann/Train/spc_c01_289.png  \n",
            "  inflating: /content/Spectrogram_Hann/Train/spc_b03_270.png  \n",
            "  inflating: /content/Spectrogram_Hann/Train/spc_a11_382.png  \n",
            "  inflating: /content/Spectrogram_Hann/Train/spc_a10_191.png  \n",
            "  inflating: /content/Spectrogram_Hann/Train/spc_a12_241.png  \n",
            "  inflating: /content/Spectrogram_Hann/Train/spc_a11_396.png  \n",
            "  inflating: /content/Spectrogram_Hann/Train/spc_a10_185.png  \n",
            "  inflating: /content/Spectrogram_Hann/Train/spc_a12_255.png  \n",
            "  inflating: /content/Spectrogram_Hann/Train/spc_a07_310.png  \n",
            "  inflating: /content/Spectrogram_Hann/Train/spc_a06_103.png  \n",
            "  inflating: /content/Spectrogram_Hann/Train/spc_b03_264.png  \n",
            "  inflating: /content/Spectrogram_Hann/Train/spc_a07_86.png  \n",
            "  inflating: /content/Spectrogram_Hann/Train/spc_a07_476.png  \n",
            "  inflating: /content/Spectrogram_Hann/Train/spc_c02_438.png  \n",
            "  inflating: /content/Spectrogram_Hann/Train/spc_a02_241.png  \n",
            "  inflating: /content/Spectrogram_Hann/Train/spc_a01_382.png  \n",
            "  inflating: /content/Spectrogram_Hann/Train/spc_a12_533.png  \n",
            "  inflating: /content/Spectrogram_Hann/Train/spc_a16_117.png  \n",
            "  inflating: /content/Spectrogram_Hann/Train/spc_c02_410.png  \n",
            "  inflating: /content/Spectrogram_Hann/Train/spc_c07_227.png  \n",
            "  inflating: /content/Spectrogram_Hann/Train/spc_a02_269.png  \n",
            "  inflating: /content/Spectrogram_Hann/Train/spc_a09_83.png  \n",
            "  inflating: /content/Spectrogram_Hann/Train/spc_c02_376.png  \n",
            "  inflating: /content/Spectrogram_Hann/Train/spc_a07_338.png  \n",
            "  inflating: /content/Spectrogram_Hann/Train/spc_c03_165.png  \n",
            "  inflating: /content/Spectrogram_Hann/Train/spc_c02_362.png  \n",
            "  inflating: /content/Spectrogram_Hann/Train/spc_b03_258.png  \n",
            "  inflating: /content/Spectrogram_Hann/Train/spc_b01_188.png  \n",
            "  inflating: /content/Spectrogram_Hann/Train/spc_c03_171.png  \n",
            "  inflating: /content/Spectrogram_Hann/Train/spc_a12_269.png  \n",
            "  inflating: /content/Spectrogram_Hann/Train/spc_c02_404.png  \n",
            "  inflating: /content/Spectrogram_Hann/Train/spc_c07_233.png  \n",
            "  inflating: /content/Spectrogram_Hann/Train/spc_c07_16.png  \n",
            "  inflating: /content/Spectrogram_Hann/Train/spc_a09_97.png  \n",
            "  inflating: /content/Spectrogram_Hann/Train/spc_c05_108.png  \n",
            "  inflating: /content/Spectrogram_Hann/Train/spc_a02_296.png  \n",
            "  inflating: /content/Spectrogram_Hann/Train/spc_a01_355.png  \n",
            "  inflating: /content/Spectrogram_Hann/Train/spc_a07_51.png  \n",
            "  inflating: /content/Spectrogram_Hann/Train/spc_a09_233.png  \n",
            "  inflating: /content/Spectrogram_Hann/Train/spc_a14_210.png  \n",
            "  inflating: /content/Spectrogram_Hann/Train/spc_a13_24.png  \n",
            "  inflating: /content/Spectrogram_Hann/Train/spc_a11_427.png  \n",
            "  inflating: /content/Spectrogram_Hann/Train/spc_a11_341.png  \n",
            "  inflating: /content/Spectrogram_Hann/Train/spc_a10_152.png  \n",
            "  inflating: /content/Spectrogram_Hann/Train/spc_a12_282.png  \n",
            "  inflating: /content/Spectrogram_Hann/Train/spc_c02_389.png  \n",
            "  inflating: /content/Spectrogram_Hann/Train/spc_b01_163.png  \n",
            "  inflating: /content/Spectrogram_Hann/Train/spc_a04_204.png  \n",
            "  inflating: /content/Spectrogram_Hann/Train/spc_a01_433.png  \n",
            "  inflating: /content/Spectrogram_Hann/Train/spc_b01_177.png  \n",
            "  inflating: /content/Spectrogram_Hann/Train/spc_a04_210.png  \n",
            "  inflating: /content/Spectrogram_Hann/Train/spc_c04_469.png  \n",
            "  inflating: /content/Spectrogram_Hann/Train/spc_a01_427.png  \n",
            "  inflating: /content/Spectrogram_Hann/Train/spc_a11_355.png  \n",
            "  inflating: /content/Spectrogram_Hann/Train/spc_a10_146.png  \n",
            "  inflating: /content/Spectrogram_Hann/Train/spc_a12_296.png  \n",
            "  inflating: /content/Spectrogram_Hann/Train/spc_a14_39.png  \n",
            "  inflating: /content/Spectrogram_Hann/Train/spc_a14_204.png  \n",
            "  inflating: /content/Spectrogram_Hann/Train/spc_a09_227.png  \n",
            "  inflating: /content/Spectrogram_Hann/Train/spc_a13_30.png  \n",
            "  inflating: /content/Spectrogram_Hann/Train/spc_a11_433.png  \n",
            "  inflating: /content/Spectrogram_Hann/Train/spc_a02_282.png  \n",
            "  inflating: /content/Spectrogram_Hann/Train/spc_a09_68.png  \n",
            "  inflating: /content/Spectrogram_Hann/Train/spc_a01_341.png  \n",
            "  inflating: /content/Spectrogram_Hann/Train/spc_a07_45.png  \n",
            "  inflating: /content/Spectrogram_Hann/Train/spc_a13_18.png  \n",
            "  inflating: /content/Spectrogram_Hann/Train/spc_c05_134.png  \n",
            "  inflating: /content/Spectrogram_Hann/Train/spc_a01_369.png  \n",
            "  inflating: /content/Spectrogram_Hann/Train/spc_c04_327.png  \n",
            "  inflating: /content/Spectrogram_Hann/Train/spc_a09_40.png  \n",
            "  inflating: /content/Spectrogram_Hann/Train/spc_a04_238.png  \n",
            "  inflating: /content/Spectrogram_Hann/Train/spc_c01_276.png  \n",
            "  inflating: /content/Spectrogram_Hann/Train/spc_c04_441.png  \n",
            "  inflating: /content/Spectrogram_Hann/Train/spc_c08_103.png  \n",
            "  inflating: /content/Spectrogram_Hann/Train/spc_a04_9.png  \n",
            "  inflating: /content/Spectrogram_Hann/Train/spc_a14_11.png  \n",
            "  inflating: /content/Spectrogram_Hann/Train/spc_a11_369.png  \n",
            "  inflating: /content/Spectrogram_Hann/Train/spc_c08_117.png  \n",
            "  inflating: /content/Spectrogram_Hann/Train/spc_c01_262.png  \n",
            "  inflating: /content/Spectrogram_Hann/Train/spc_c04_455.png  \n",
            "  inflating: /content/Spectrogram_Hann/Train/spc_c05_120.png  \n",
            "  inflating: /content/Spectrogram_Hann/Train/spc_a09_54.png  \n",
            "  inflating: /content/Spectrogram_Hann/Train/spc_c04_333.png  \n",
            "  inflating: /content/Spectrogram_Hann/Train/spc_a07_79.png  \n",
            "  inflating: /content/Spectrogram_Hann/Train/spc_a07_489.png  \n",
            "  inflating: /content/Spectrogram_Hann/Train/spc_a14_238.png  \n",
            "  inflating: /content/Spectrogram_Hann/Train/spc_c04_53.png  \n",
            "  inflating: /content/Spectrogram_Hann/Train/spc_a10_393.png  \n",
            "  inflating: /content/Spectrogram_Hann/Train/spc_a13_250.png  \n",
            "  inflating: /content/Spectrogram_Hann/Train/spc_a11_180.png  \n",
            "  inflating: /content/Spectrogram_Hann/Train/spc_a16_467.png  \n",
            "  inflating: /content/Spectrogram_Hann/Train/spc_a06_315.png  \n",
            "  inflating: /content/Spectrogram_Hann/Train/spc_b02_261.png  \n",
            "  inflating: /content/Spectrogram_Hann/Train/spc_a07_106.png  \n",
            "  inflating: /content/Spectrogram_Hann/Train/spc_c02_148.png  \n",
            "  inflating: /content/Spectrogram_Hann/Train/spc_a03_244.png  \n",
            "  inflating: /content/Spectrogram_Hann/Train/spc_a01_194.png  \n",
            "  inflating: /content/Spectrogram_Hann/Train/spc_b04_47.png  \n",
            "  inflating: /content/Spectrogram_Hann/Train/spc_b02_507.png  \n",
            "  inflating: /content/Spectrogram_Hann/Train/spc_a06_473.png  \n",
            "  inflating: /content/Spectrogram_Hann/Train/spc_a16_301.png  \n",
            "  inflating: /content/Spectrogram_Hann/Train/spc_c08_498.png  \n",
            "  inflating: /content/Spectrogram_Hann/Train/spc_a16_315.png  \n",
            "  inflating: /content/Spectrogram_Hann/Train/spc_a03_250.png  \n",
            "  inflating: /content/Spectrogram_Hann/Train/spc_a01_180.png  \n",
            "  inflating: /content/Spectrogram_Hann/Train/spc_b04_53.png  \n",
            "  inflating: /content/Spectrogram_Hann/Train/spc_b02_513.png  \n",
            "  inflating: /content/Spectrogram_Hann/Train/spc_a06_467.png  \n",
            "  inflating: /content/Spectrogram_Hann/Train/spc_c03_429.png  \n",
            "  inflating: /content/Spectrogram_Hann/Train/spc_a06_301.png  \n",
            "  inflating: /content/Spectrogram_Hann/Train/spc_b02_275.png  \n",
            "  inflating: /content/Spectrogram_Hann/Train/spc_a07_112.png  \n",
            "  inflating: /content/Spectrogram_Hann/Train/spc_c04_47.png  \n",
            "  inflating: /content/Spectrogram_Hann/Train/spc_a10_387.png  \n",
            "  inflating: /content/Spectrogram_Hann/Train/spc_a13_244.png  \n",
            "  inflating: /content/Spectrogram_Hann/Train/spc_a11_194.png  \n",
            "  inflating: /content/Spectrogram_Hann/Train/spc_a16_473.png  \n",
            "  inflating: /content/Spectrogram_Hann/Train/spc_c03_367.png  \n",
            "  inflating: /content/Spectrogram_Hann/Train/spc_a06_329.png  \n",
            "  inflating: /content/Spectrogram_Hann/Train/spc_c02_174.png  \n",
            "  inflating: /content/Spectrogram_Hann/Train/spc_b03_72.png  \n",
            "  inflating: /content/Spectrogram_Hann/Train/spc_c03_66.png  \n",
            "  inflating: /content/Spectrogram_Hann/Train/spc_c06_236.png  \n",
            "  inflating: /content/Spectrogram_Hann/Train/spc_a03_278.png  \n",
            "  inflating: /content/Spectrogram_Hann/Train/spc_c03_401.png  \n",
            "  inflating: /content/Spectrogram_Hann/Train/spc_c06_222.png  \n",
            "  inflating: /content/Spectrogram_Hann/Train/spc_c03_415.png  \n",
            "  inflating: /content/Spectrogram_Hann/Train/spc_a16_329.png  \n",
            "  inflating: /content/Spectrogram_Hann/Train/spc_c03_72.png  \n",
            "  inflating: /content/Spectrogram_Hann/Train/spc_a13_278.png  \n",
            "  inflating: /content/Spectrogram_Hann/Train/spc_a08_4.png  \n",
            "  inflating: /content/Spectrogram_Hann/Train/spc_c03_373.png  \n",
            "  inflating: /content/Spectrogram_Hann/Train/spc_c02_160.png  \n",
            "  inflating: /content/Spectrogram_Hann/Train/spc_b02_249.png  \n",
            "  inflating: /content/Spectrogram_Hann/Train/spc_b03_66.png  \n",
            "  inflating: /content/Spectrogram_Hann/Train/spc_a10_49.png  \n",
            "  inflating: /content/Spectrogram_Hann/Train/spc_b01_361.png  \n",
            "  inflating: /content/Spectrogram_Hann/Train/spc_c03_398.png  \n",
            "  inflating: /content/Spectrogram_Hann/Train/spc_a05_215.png  \n",
            "  inflating: /content/Spectrogram_Hann/Train/spc_c04_90.png  \n",
            "  inflating: /content/Spectrogram_Hann/Train/spc_a10_350.png  \n",
            "  inflating: /content/Spectrogram_Hann/Train/spc_a13_293.png  \n",
            "  inflating: /content/Spectrogram_Hann/Train/spc_a11_143.png  \n",
            "  inflating: /content/Spectrogram_Hann/Train/spc_c03_99.png  \n",
            "  inflating: /content/Spectrogram_Hann/Train/spc_a10_436.png  \n",
            "  inflating: /content/Spectrogram_Hann/Train/spc_a08_222.png  \n",
            "  inflating: /content/Spectrogram_Hann/Train/spc_a15_201.png  \n",
            "  inflating: /content/Spectrogram_Hann/Train/spc_a03_35.png  \n",
            "  inflating: /content/Spectrogram_Hann/Train/spc_b01_407.png  \n",
            "  inflating: /content/Spectrogram_Hann/Train/spc_a03_287.png  \n",
            "  inflating: /content/Spectrogram_Hann/Train/spc_b04_230.png  \n",
            "  inflating: /content/Spectrogram_Hann/Train/spc_c04_119.png  \n",
            "  inflating: /content/Spectrogram_Hann/Train/spc_a01_157.png  \n",
            "  inflating: /content/Spectrogram_Hann/Train/spc_b04_84.png  \n",
            "  inflating: /content/Spectrogram_Hann/Train/spc_b01_413.png  \n",
            "  inflating: /content/Spectrogram_Hann/Train/spc_b04_224.png  \n",
            "  inflating: /content/Spectrogram_Hann/Train/spc_a03_293.png  \n",
            "  inflating: /content/Spectrogram_Hann/Train/spc_a01_143.png  \n",
            "  inflating: /content/Spectrogram_Hann/Train/spc_b04_90.png  \n",
            "  inflating: /content/Spectrogram_Hann/Train/spc_a10_422.png  \n",
            "  inflating: /content/Spectrogram_Hann/Train/spc_a15_215.png  \n",
            "  inflating: /content/Spectrogram_Hann/Train/spc_a08_236.png  \n",
            "  inflating: /content/Spectrogram_Hann/Train/spc_a03_21.png  \n",
            "  inflating: /content/Spectrogram_Hann/Train/spc_a04_28.png  \n",
            "  inflating: /content/Spectrogram_Hann/Train/spc_c04_84.png  \n",
            "  inflating: /content/Spectrogram_Hann/Train/spc_a10_344.png  \n",
            "  inflating: /content/Spectrogram_Hann/Train/spc_c08_329.png  \n",
            "  inflating: /content/Spectrogram_Hann/Train/spc_a13_287.png  \n",
            "  inflating: /content/Spectrogram_Hann/Train/spc_a11_157.png  \n",
            "  inflating: /content/Spectrogram_Hann/Train/spc_b03_99.png  \n",
            "  inflating: /content/Spectrogram_Hann/Train/spc_b01_375.png  \n",
            "  inflating: /content/Spectrogram_Hann/Train/spc_a05_201.png  \n",
            "  inflating: /content/Spectrogram_Hann/Train/spc_c08_301.png  \n",
            "  inflating: /content/Spectrogram_Hann/Train/spc_c05_450.png  \n",
            "  inflating: /content/Spectrogram_Hann/Train/spc_a10_75.png  \n",
            "  inflating: /content/Spectrogram_Hann/Train/spc_a05_229.png  \n",
            "  inflating: /content/Spectrogram_Hann/Train/spc_c04_125.png  \n",
            "  inflating: /content/Spectrogram_Hann/Train/spc_c05_336.png  \n",
            "  inflating: /content/Spectrogram_Hann/Train/spc_c08_467.png  \n",
            "  inflating: /content/Spectrogram_Hann/Train/spc_c08_473.png  \n",
            "  inflating: /content/Spectrogram_Hann/Train/spc_a15_229.png  \n",
            "  inflating: /content/Spectrogram_Hann/Train/spc_a06_498.png  \n",
            "  inflating: /content/Spectrogram_Hann/Train/spc_c04_131.png  \n",
            "  inflating: /content/Spectrogram_Hann/Train/spc_b04_218.png  \n",
            "  inflating: /content/Spectrogram_Hann/Train/spc_c05_322.png  \n",
            "  inflating: /content/Spectrogram_Hann/Train/spc_c05_444.png  \n",
            "  inflating: /content/Spectrogram_Hann/Train/spc_b01_349.png  \n",
            "  inflating: /content/Spectrogram_Hann/Train/spc_a10_61.png  \n",
            "  inflating: /content/Spectrogram_Hann/Train/spc_a04_14.png  \n",
            "  inflating: /content/Spectrogram_Hann/Train/spc_a15_1.png  \n",
            "  inflating: /content/Spectrogram_Hann/Train/spc_a10_378.png  \n",
            "  inflating: /content/Spectrogram_Hann/Train/spc_c08_315.png  \n",
            "  inflating: /content/Spectrogram_Hann/Train/spc_c05_323.png  \n",
            "  inflating: /content/Spectrogram_Hann/Train/spc_b04_219.png  \n",
            "  inflating: /content/Spectrogram_Hann/Train/spc_c04_130.png  \n",
            "  inflating: /content/Spectrogram_Hann/Train/spc_a06_499.png  \n",
            "  inflating: /content/Spectrogram_Hann/Train/spc_a15_228.png  \n",
            "  inflating: /content/Spectrogram_Hann/Train/spc_c08_472.png  \n",
            "  inflating: /content/Spectrogram_Hann/Train/spc_c08_314.png  \n",
            "  inflating: /content/Spectrogram_Hann/Train/spc_a10_379.png  \n",
            "  inflating: /content/Spectrogram_Hann/Train/spc_a15_0.png  \n",
            "  inflating: /content/Spectrogram_Hann/Train/spc_a04_15.png  \n",
            "  inflating: /content/Spectrogram_Hann/Train/spc_b01_348.png  \n",
            "  inflating: /content/Spectrogram_Hann/Train/spc_a10_60.png  \n",
            "  inflating: /content/Spectrogram_Hann/Train/spc_c05_445.png  \n",
            "  inflating: /content/Spectrogram_Hann/Train/spc_a05_228.png  \n",
            "  inflating: /content/Spectrogram_Hann/Train/spc_a10_74.png  \n",
            "  inflating: /content/Spectrogram_Hann/Train/spc_c05_451.png  \n",
            "  inflating: /content/Spectrogram_Hann/Train/spc_c08_300.png  \n",
            "  inflating: /content/Spectrogram_Hann/Train/spc_c08_466.png  \n",
            "  inflating: /content/Spectrogram_Hann/Train/spc_c05_337.png  \n",
            "  inflating: /content/Spectrogram_Hann/Train/spc_c04_124.png  \n",
            "  inflating: /content/Spectrogram_Hann/Train/spc_a03_20.png  \n",
            "  inflating: /content/Spectrogram_Hann/Train/spc_a15_214.png  \n",
            "  inflating: /content/Spectrogram_Hann/Train/spc_a08_237.png  \n",
            "  inflating: /content/Spectrogram_Hann/Train/spc_a10_423.png  \n",
            "  inflating: /content/Spectrogram_Hann/Train/spc_b04_91.png  \n",
            "  inflating: /content/Spectrogram_Hann/Train/spc_a01_142.png  \n",
            "  inflating: /content/Spectrogram_Hann/Train/spc_b04_225.png  \n",
            "  inflating: /content/Spectrogram_Hann/Train/spc_a03_292.png  \n",
            "  inflating: /content/Spectrogram_Hann/Train/spc_b01_412.png  \n",
            "  inflating: /content/Spectrogram_Hann/Train/spc_a05_200.png  \n",
            "  inflating: /content/Spectrogram_Hann/Train/spc_b01_374.png  \n",
            "  inflating: /content/Spectrogram_Hann/Train/spc_b03_98.png  \n",
            "  inflating: /content/Spectrogram_Hann/Train/spc_a11_156.png  \n",
            "  inflating: /content/Spectrogram_Hann/Train/spc_a13_286.png  \n",
            "  inflating: /content/Spectrogram_Hann/Train/spc_c08_328.png  \n",
            "  inflating: /content/Spectrogram_Hann/Train/spc_a10_345.png  \n",
            "  inflating: /content/Spectrogram_Hann/Train/spc_c04_85.png  \n",
            "  inflating: /content/Spectrogram_Hann/Train/spc_a04_29.png  \n",
            "  inflating: /content/Spectrogram_Hann/Train/spc_a11_142.png  \n",
            "  inflating: /content/Spectrogram_Hann/Train/spc_a13_292.png  \n",
            "  inflating: /content/Spectrogram_Hann/Train/spc_a10_351.png  \n",
            "  inflating: /content/Spectrogram_Hann/Train/spc_c04_91.png  \n",
            "  inflating: /content/Spectrogram_Hann/Train/spc_a05_214.png  \n",
            "  inflating: /content/Spectrogram_Hann/Train/spc_a10_48.png  \n",
            "  inflating: /content/Spectrogram_Hann/Train/spc_c03_399.png  \n",
            "  inflating: /content/Spectrogram_Hann/Train/spc_b01_360.png  \n",
            "  inflating: /content/Spectrogram_Hann/Train/spc_b04_85.png  \n",
            "  inflating: /content/Spectrogram_Hann/Train/spc_c04_118.png  \n",
            "  inflating: /content/Spectrogram_Hann/Train/spc_a01_156.png  \n",
            "  inflating: /content/Spectrogram_Hann/Train/spc_a03_286.png  \n",
            "  inflating: /content/Spectrogram_Hann/Train/spc_b04_231.png  \n",
            "  inflating: /content/Spectrogram_Hann/Train/spc_b01_406.png  \n",
            "  inflating: /content/Spectrogram_Hann/Train/spc_a03_34.png  \n",
            "  inflating: /content/Spectrogram_Hann/Train/spc_a08_223.png  \n",
            "  inflating: /content/Spectrogram_Hann/Train/spc_a15_200.png  \n",
            "  inflating: /content/Spectrogram_Hann/Train/spc_a10_437.png  \n",
            "  inflating: /content/Spectrogram_Hann/Train/spc_c03_98.png  \n",
            "  inflating: /content/Spectrogram_Hann/Train/spc_c03_73.png  \n",
            "  inflating: /content/Spectrogram_Hann/Train/spc_a16_328.png  \n",
            "  inflating: /content/Spectrogram_Hann/Train/spc_c03_414.png  \n",
            "  inflating: /content/Spectrogram_Hann/Train/spc_c06_223.png  \n",
            "  inflating: /content/Spectrogram_Hann/Train/spc_b03_67.png  \n",
            "  inflating: /content/Spectrogram_Hann/Train/spc_b02_248.png  \n",
            "  inflating: /content/Spectrogram_Hann/Train/spc_c02_161.png  \n",
            "  inflating: /content/Spectrogram_Hann/Train/spc_c03_372.png  \n",
            "  inflating: /content/Spectrogram_Hann/Train/spc_a08_5.png  \n",
            "  inflating: /content/Spectrogram_Hann/Train/spc_a13_279.png  \n",
            "  inflating: /content/Spectrogram_Hann/Train/spc_b03_73.png  \n",
            "  inflating: /content/Spectrogram_Hann/Train/spc_c02_175.png  \n",
            "  inflating: /content/Spectrogram_Hann/Train/spc_c03_366.png  \n",
            "  inflating: /content/Spectrogram_Hann/Train/spc_a06_328.png  \n",
            "  inflating: /content/Spectrogram_Hann/Train/spc_c03_400.png  \n",
            "  inflating: /content/Spectrogram_Hann/Train/spc_c06_237.png  \n",
            "  inflating: /content/Spectrogram_Hann/Train/spc_a03_279.png  \n",
            "  inflating: /content/Spectrogram_Hann/Train/spc_c03_67.png  \n",
            "  inflating: /content/Spectrogram_Hann/Train/spc_a06_466.png  \n",
            "  inflating: /content/Spectrogram_Hann/Train/spc_c03_428.png  \n",
            "  inflating: /content/Spectrogram_Hann/Train/spc_b02_512.png  \n",
            "  inflating: /content/Spectrogram_Hann/Train/spc_b04_52.png  \n",
            "  inflating: /content/Spectrogram_Hann/Train/spc_a01_181.png  \n",
            "  inflating: /content/Spectrogram_Hann/Train/spc_a03_251.png  \n",
            "  inflating: /content/Spectrogram_Hann/Train/spc_a16_314.png  \n",
            "  inflating: /content/Spectrogram_Hann/Train/spc_a16_472.png  \n",
            "  inflating: /content/Spectrogram_Hann/Train/spc_a11_195.png  \n",
            "  inflating: /content/Spectrogram_Hann/Train/spc_a13_245.png  \n",
            "  inflating: /content/Spectrogram_Hann/Train/spc_a10_386.png  \n",
            "  inflating: /content/Spectrogram_Hann/Train/spc_c04_46.png  \n",
            "  inflating: /content/Spectrogram_Hann/Train/spc_a07_113.png  \n",
            "  inflating: /content/Spectrogram_Hann/Train/spc_b02_274.png  \n",
            "  inflating: /content/Spectrogram_Hann/Train/spc_a06_300.png  \n",
            "  inflating: /content/Spectrogram_Hann/Train/spc_a07_107.png  \n",
            "  inflating: /content/Spectrogram_Hann/Train/spc_c02_149.png  \n",
            "  inflating: /content/Spectrogram_Hann/Train/spc_b02_260.png  \n",
            "  inflating: /content/Spectrogram_Hann/Train/spc_a06_314.png  \n",
            "  inflating: /content/Spectrogram_Hann/Train/spc_a16_466.png  \n",
            "  inflating: /content/Spectrogram_Hann/Train/spc_a11_181.png  \n",
            "  inflating: /content/Spectrogram_Hann/Train/spc_a13_251.png  \n",
            "  inflating: /content/Spectrogram_Hann/Train/spc_a10_392.png  \n",
            "  inflating: /content/Spectrogram_Hann/Train/spc_c04_52.png  \n",
            "  inflating: /content/Spectrogram_Hann/Train/spc_c08_499.png  \n",
            "  inflating: /content/Spectrogram_Hann/Train/spc_a16_300.png  \n",
            "  inflating: /content/Spectrogram_Hann/Train/spc_a06_472.png  \n",
            "  inflating: /content/Spectrogram_Hann/Train/spc_b02_506.png  \n",
            "  inflating: /content/Spectrogram_Hann/Train/spc_b04_46.png  \n",
            "  inflating: /content/Spectrogram_Hann/Train/spc_a01_195.png  \n",
            "  inflating: /content/Spectrogram_Hann/Train/spc_a03_245.png  \n",
            "  inflating: /content/Spectrogram_Hann/Train/spc_c04_454.png  \n",
            "  inflating: /content/Spectrogram_Hann/Train/spc_c01_263.png  \n",
            "  inflating: /content/Spectrogram_Hann/Train/spc_c08_116.png  \n",
            "  inflating: /content/Spectrogram_Hann/Train/spc_a11_368.png  \n",
            "  inflating: /content/Spectrogram_Hann/Train/spc_a14_239.png  \n",
            "  inflating: /content/Spectrogram_Hann/Train/spc_a07_488.png  \n",
            "  inflating: /content/Spectrogram_Hann/Train/spc_a07_78.png  \n",
            "  inflating: /content/Spectrogram_Hann/Train/spc_c04_332.png  \n",
            "  inflating: /content/Spectrogram_Hann/Train/spc_a09_55.png  \n",
            "  inflating: /content/Spectrogram_Hann/Train/spc_c05_121.png  \n",
            "  inflating: /content/Spectrogram_Hann/Train/spc_a01_368.png  \n",
            "  inflating: /content/Spectrogram_Hann/Train/spc_a09_41.png  \n",
            "  inflating: /content/Spectrogram_Hann/Train/spc_c04_326.png  \n",
            "  inflating: /content/Spectrogram_Hann/Train/spc_c05_135.png  \n",
            "  inflating: /content/Spectrogram_Hann/Train/spc_a13_19.png  \n",
            "  inflating: /content/Spectrogram_Hann/Train/spc_a14_10.png  \n",
            "  inflating: /content/Spectrogram_Hann/Train/spc_c08_102.png  \n",
            "  inflating: /content/Spectrogram_Hann/Train/spc_a04_8.png  \n",
            "  inflating: /content/Spectrogram_Hann/Train/spc_c04_440.png  \n",
            "  inflating: /content/Spectrogram_Hann/Train/spc_a04_239.png  \n",
            "  inflating: /content/Spectrogram_Hann/Train/spc_c01_277.png  \n",
            "  inflating: /content/Spectrogram_Hann/Train/spc_a14_38.png  \n",
            "  inflating: /content/Spectrogram_Hann/Train/spc_a12_297.png  \n",
            "  inflating: /content/Spectrogram_Hann/Train/spc_a10_147.png  \n",
            "  inflating: /content/Spectrogram_Hann/Train/spc_a11_354.png  \n",
            "  inflating: /content/Spectrogram_Hann/Train/spc_c04_468.png  \n",
            "  inflating: /content/Spectrogram_Hann/Train/spc_a01_426.png  \n",
            "  inflating: /content/Spectrogram_Hann/Train/spc_a04_211.png  \n",
            "  inflating: /content/Spectrogram_Hann/Train/spc_b01_176.png  \n",
            "  inflating: /content/Spectrogram_Hann/Train/spc_a07_44.png  \n",
            "  inflating: /content/Spectrogram_Hann/Train/spc_a09_69.png  \n",
            "  inflating: /content/Spectrogram_Hann/Train/spc_a01_340.png  \n",
            "  inflating: /content/Spectrogram_Hann/Train/spc_a02_283.png  \n",
            "  inflating: /content/Spectrogram_Hann/Train/spc_a11_432.png  \n",
            "  inflating: /content/Spectrogram_Hann/Train/spc_a13_31.png  \n",
            "  inflating: /content/Spectrogram_Hann/Train/spc_a14_205.png  \n",
            "  inflating: /content/Spectrogram_Hann/Train/spc_a09_226.png  \n",
            "  inflating: /content/Spectrogram_Hann/Train/spc_a11_426.png  \n",
            "  inflating: /content/Spectrogram_Hann/Train/spc_a13_25.png  \n",
            "  inflating: /content/Spectrogram_Hann/Train/spc_a09_232.png  \n",
            "  inflating: /content/Spectrogram_Hann/Train/spc_a14_211.png  \n",
            "  inflating: /content/Spectrogram_Hann/Train/spc_a07_50.png  \n",
            "  inflating: /content/Spectrogram_Hann/Train/spc_a01_354.png  \n",
            "  inflating: /content/Spectrogram_Hann/Train/spc_a02_297.png  \n",
            "  inflating: /content/Spectrogram_Hann/Train/spc_c05_109.png  \n",
            "  inflating: /content/Spectrogram_Hann/Train/spc_a01_432.png  \n",
            "  inflating: /content/Spectrogram_Hann/Train/spc_a04_205.png  \n",
            "  inflating: /content/Spectrogram_Hann/Train/spc_b01_162.png  \n",
            "  inflating: /content/Spectrogram_Hann/Train/spc_c02_388.png  \n",
            "  inflating: /content/Spectrogram_Hann/Train/spc_a12_283.png  \n",
            "  inflating: /content/Spectrogram_Hann/Train/spc_a10_153.png  \n",
            "  inflating: /content/Spectrogram_Hann/Train/spc_a11_340.png  \n",
            "  inflating: /content/Spectrogram_Hann/Train/spc_a12_268.png  \n",
            "  inflating: /content/Spectrogram_Hann/Train/spc_c03_170.png  \n",
            "  inflating: /content/Spectrogram_Hann/Train/spc_b01_189.png  \n",
            "  inflating: /content/Spectrogram_Hann/Train/spc_b03_259.png  \n",
            "  inflating: /content/Spectrogram_Hann/Train/spc_c02_363.png  \n",
            "  inflating: /content/Spectrogram_Hann/Train/spc_c07_17.png  \n",
            "  inflating: /content/Spectrogram_Hann/Train/spc_a09_96.png  \n",
            "  inflating: /content/Spectrogram_Hann/Train/spc_c07_232.png  \n",
            "  inflating: /content/Spectrogram_Hann/Train/spc_c02_405.png  \n",
            "  inflating: /content/Spectrogram_Hann/Train/spc_a09_82.png  \n",
            "  inflating: /content/Spectrogram_Hann/Train/spc_c07_226.png  \n",
            "  inflating: /content/Spectrogram_Hann/Train/spc_a02_268.png  \n",
            "  inflating: /content/Spectrogram_Hann/Train/spc_c02_411.png  \n",
            "  inflating: /content/Spectrogram_Hann/Train/spc_c03_164.png  \n",
            "  inflating: /content/Spectrogram_Hann/Train/spc_c02_377.png  \n",
            "  inflating: /content/Spectrogram_Hann/Train/spc_a07_339.png  \n",
            "  inflating: /content/Spectrogram_Hann/Train/spc_b03_265.png  \n",
            "  inflating: /content/Spectrogram_Hann/Train/spc_a06_102.png  \n",
            "  inflating: /content/Spectrogram_Hann/Train/spc_a07_311.png  \n",
            "  inflating: /content/Spectrogram_Hann/Train/spc_a02_526.png  \n",
            "  inflating: /content/Spectrogram_Hann/Train/spc_a12_254.png  \n",
            "  inflating: /content/Spectrogram_Hann/Train/spc_a10_184.png  \n",
            "  inflating: /content/Spectrogram_Hann/Train/spc_a11_397.png  \n",
            "  inflating: /content/Spectrogram_Hann/Train/spc_a16_116.png  \n",
            "  inflating: /content/Spectrogram_Hann/Train/spc_a12_532.png  \n",
            "  inflating: /content/Spectrogram_Hann/Train/spc_a01_383.png  \n",
            "  inflating: /content/Spectrogram_Hann/Train/spc_a02_240.png  \n",
            "  inflating: /content/Spectrogram_Hann/Train/spc_a07_477.png  \n",
            "  inflating: /content/Spectrogram_Hann/Train/spc_c02_439.png  \n",
            "  inflating: /content/Spectrogram_Hann/Train/spc_a07_87.png  \n",
            "  inflating: /content/Spectrogram_Hann/Train/spc_a01_397.png  \n",
            "  inflating: /content/Spectrogram_Hann/Train/spc_a02_254.png  \n",
            "  inflating: /content/Spectrogram_Hann/Train/spc_a07_463.png  \n",
            "  inflating: /content/Spectrogram_Hann/Train/spc_a07_93.png  \n",
            "  inflating: /content/Spectrogram_Hann/Train/spc_a16_102.png  \n",
            "  inflating: /content/Spectrogram_Hann/Train/spc_a12_526.png  \n",
            "  inflating: /content/Spectrogram_Hann/Train/spc_a12_240.png  \n",
            "  inflating: /content/Spectrogram_Hann/Train/spc_a10_190.png  \n",
            "  inflating: /content/Spectrogram_Hann/Train/spc_a11_383.png  \n",
            "  inflating: /content/Spectrogram_Hann/Train/spc_b03_271.png  \n",
            "  inflating: /content/Spectrogram_Hann/Train/spc_c01_288.png  \n",
            "  inflating: /content/Spectrogram_Hann/Train/spc_a06_116.png  \n",
            "  inflating: /content/Spectrogram_Hann/Train/spc_c03_158.png  \n",
            "  inflating: /content/Spectrogram_Hann/Train/spc_a07_305.png  \n",
            "  inflating: /content/Spectrogram_Hann/Train/spc_a04_359.png  \n",
            "  inflating: /content/Spectrogram_Hann/Train/spc_c01_317.png  \n",
            "  inflating: /content/Spectrogram_Hann/Train/spc_a09_408.png  \n",
            "  inflating: /content/Spectrogram_Hann/Train/spc_a02_74.png  \n",
            "  inflating: /content/Spectrogram_Hann/Train/spc_c07_385.png  \n",
            "  inflating: /content/Spectrogram_Hann/Train/spc_a01_208.png  \n",
            "  inflating: /content/Spectrogram_Hann/Train/spc_c04_246.png  \n",
            "  inflating: /content/Spectrogram_Hann/Train/spc_c06_196.png  \n",
            "  inflating: /content/Spectrogram_Hann/Train/spc_c01_471.png  \n",
            "  inflating: /content/Spectrogram_Hann/Train/spc_c07_391.png  \n",
            "  inflating: /content/Spectrogram_Hann/Train/spc_a16_15.png  \n",
            "  inflating: /content/Spectrogram_Hann/Train/spc_c04_252.png  \n",
            "  inflating: /content/Spectrogram_Hann/Train/spc_c06_182.png  \n",
            "  inflating: /content/Spectrogram_Hann/Train/spc_c01_465.png  \n",
            "  inflating: /content/Spectrogram_Hann/Train/spc_a14_359.png  \n",
            "  inflating: /content/Spectrogram_Hann/Train/spc_a11_4.png  \n",
            "  inflating: /content/Spectrogram_Hann/Train/spc_a08_169.png  \n",
            "  inflating: /content/Spectrogram_Hann/Train/spc_a02_60.png  \n",
            "  inflating: /content/Spectrogram_Hann/Train/spc_a11_208.png  \n",
            "  inflating: /content/Spectrogram_Hann/Train/spc_a05_69.png  \n",
            "  inflating: /content/Spectrogram_Hann/Train/spc_c01_303.png  \n",
            "  inflating: /content/Spectrogram_Hann/Train/spc_a11_220.png  \n",
            "  inflating: /content/Spectrogram_Hann/Train/spc_a05_41.png  \n",
            "  inflating: /content/Spectrogram_Hann/Train/spc_a09_434.png  \n",
            "  inflating: /content/Spectrogram_Hann/Train/spc_a14_417.png  \n",
            "  inflating: /content/Spectrogram_Hann/Train/spc_a05_176.png  \n",
            "  inflating: /content/Spectrogram_Hann/Train/spc_a04_365.png  \n",
            "  inflating: /content/Spectrogram_Hann/Train/spc_a11_34.png  \n",
            "  inflating: /content/Spectrogram_Hann/Train/spc_a02_491.png  \n",
            "  inflating: /content/Spectrogram_Hann/Train/spc_b04_153.png  \n",
            "  inflating: /content/Spectrogram_Hann/Train/spc_a01_234.png  \n",
            "  inflating: /content/Spectrogram_Hann/Train/spc_a04_403.png  \n",
            "  inflating: /content/Spectrogram_Hann/Train/spc_a09_352.png  \n",
            "  inflating: /content/Spectrogram_Hann/Train/spc_a14_371.png  \n",
            "  inflating: /content/Spectrogram_Hann/Train/spc_a15_162.png  \n",
            "  inflating: /content/Spectrogram_Hann/Train/spc_a08_141.png  \n",
            "  inflating: /content/Spectrogram_Hann/Train/spc_a12_485.png  \n",
            "  inflating: /content/Spectrogram_Hann/Train/spc_a02_48.png  \n",
            "  inflating: /content/Spectrogram_Hann/Train/spc_a14_365.png  \n",
            "  inflating: /content/Spectrogram_Hann/Train/spc_a09_346.png  \n",
            "  inflating: /content/Spectrogram_Hann/Train/spc_a08_155.png  \n",
            "  inflating: /content/Spectrogram_Hann/Train/spc_a15_176.png  \n",
            "  inflating: /content/Spectrogram_Hann/Train/spc_a12_491.png  \n",
            "  inflating: /content/Spectrogram_Hann/Train/spc_a16_29.png  \n",
            "  inflating: /content/Spectrogram_Hann/Train/spc_b04_147.png  \n",
            "  inflating: /content/Spectrogram_Hann/Train/spc_a01_220.png  \n",
            "  inflating: /content/Spectrogram_Hann/Train/spc_c01_459.png  \n",
            "  inflating: /content/Spectrogram_Hann/Train/spc_a04_417.png  \n",
            "  inflating: /content/Spectrogram_Hann/Train/spc_a05_162.png  \n",
            "  inflating: /content/Spectrogram_Hann/Train/spc_a04_371.png  \n",
            "  inflating: /content/Spectrogram_Hann/Train/spc_a11_20.png  \n",
            "  inflating: /content/Spectrogram_Hann/Train/spc_a02_485.png  \n",
            "  inflating: /content/Spectrogram_Hann/Train/spc_a11_234.png  \n",
            "  inflating: /content/Spectrogram_Hann/Train/spc_a05_55.png  \n",
            "  inflating: /content/Spectrogram_Hann/Train/spc_a14_403.png  \n",
            "  inflating: /content/Spectrogram_Hann/Train/spc_a09_420.png  \n",
            "  inflating: /content/Spectrogram_Hann/Train/spc_c05_12.png  \n",
            "  inflating: /content/Spectrogram_Hann/Train/spc_c07_420.png  \n",
            "  inflating: /content/Spectrogram_Hann/Train/spc_c02_217.png  \n",
            "  inflating: /content/Spectrogram_Hann/Train/spc_a07_259.png  \n",
            "  inflating: /content/Spectrogram_Hann/Train/spc_a05_189.png  \n",
            "  inflating: /content/Spectrogram_Hann/Train/spc_c07_346.png  \n",
            "  inflating: /content/Spectrogram_Hann/Train/spc_a02_308.png  \n",
            "  inflating: /content/Spectrogram_Hann/Train/spc_c04_285.png  \n",
            "  inflating: /content/Spectrogram_Hann/Train/spc_c06_155.png  \n",
            "  inflating: /content/Spectrogram_Hann/Train/spc_c01_9.png  \n",
            "  inflating: /content/Spectrogram_Hann/Train/spc_a15_189.png  \n",
            "  inflating: /content/Spectrogram_Hann/Train/spc_c07_352.png  \n",
            "  inflating: /content/Spectrogram_Hann/Train/spc_c04_291.png  \n",
            "  inflating: /content/Spectrogram_Hann/Train/spc_c06_141.png  \n",
            "  inflating: /content/Spectrogram_Hann/Train/spc_c02_203.png  \n",
            "  inflating: /content/Spectrogram_Hann/Train/spc_b03_339.png  \n",
            "  inflating: /content/Spectrogram_Hann/Train/spc_a12_308.png  \n",
            "  inflating: /content/Spectrogram_Hann/Train/spc_a02_452.png  \n",
            "  inflating: /content/Spectrogram_Hann/Train/spc_b02_102.png  \n",
            "  inflating: /content/Spectrogram_Hann/Train/spc_a07_265.png  \n",
            "  inflating: /content/Spectrogram_Hann/Train/spc_b03_311.png  \n",
            "  inflating: /content/Spectrogram_Hann/Train/spc_b02_33.png  \n",
            "  inflating: /content/Spectrogram_Hann/Train/spc_a13_133.png  \n",
            "  inflating: /content/Spectrogram_Hann/Train/spc_a12_320.png  \n",
            "  inflating: /content/Spectrogram_Hann/Train/spc_a05_82.png  \n",
            "  inflating: /content/Spectrogram_Hann/Train/spc_a12_446.png  \n",
            "  inflating: /content/Spectrogram_Hann/Train/spc_a09_391.png  \n",
            "  inflating: /content/Spectrogram_Hann/Train/spc_c02_27.png  \n",
            "  inflating: /content/Spectrogram_Hann/Train/spc_a08_182.png  \n",
            "  inflating: /content/Spectrogram_Hann/Train/spc_a07_503.png  \n",
            "  inflating: /content/Spectrogram_Hann/Train/spc_a02_334.png  \n",
            "  inflating: /content/Spectrogram_Hann/Train/spc_a03_127.png  \n",
            "  inflating: /content/Spectrogram_Hann/Train/spc_c06_169.png  \n",
            "  inflating: /content/Spectrogram_Hann/Train/spc_b04_190.png  \n",
            "  inflating: /content/Spectrogram_Hann/Train/spc_a02_320.png  \n",
            "  inflating: /content/Spectrogram_Hann/Train/spc_b04_184.png  \n",
            "  inflating: /content/Spectrogram_Hann/Train/spc_a03_133.png  \n",
            "  inflating: /content/Spectrogram_Hann/Train/spc_a12_452.png  \n",
            "  inflating: /content/Spectrogram_Hann/Train/spc_a09_385.png  \n",
            "  inflating: /content/Spectrogram_Hann/Train/spc_c02_33.png  \n",
            "  inflating: /content/Spectrogram_Hann/Train/spc_a08_196.png  \n",
            "  inflating: /content/Spectrogram_Hann/Train/spc_a13_127.png  \n",
            "  inflating: /content/Spectrogram_Hann/Train/spc_a12_334.png  \n",
            "  inflating: /content/Spectrogram_Hann/Train/spc_a05_96.png  \n",
            "  inflating: /content/Spectrogram_Hann/Train/spc_a02_446.png  \n",
            "  inflating: /content/Spectrogram_Hann/Train/spc_c07_408.png  \n",
            "  inflating: /content/Spectrogram_Hann/Train/spc_b02_116.png  \n",
            "  inflating: /content/Spectrogram_Hann/Train/spc_a07_271.png  \n",
            "  inflating: /content/Spectrogram_Hann/Train/spc_b03_305.png  \n",
            "  inflating: /content/Spectrogram_Hann/Train/spc_b02_27.png  \n",
            "  inflating: /content/Spectrogram_Hann/Train/spc_b02_499.png  \n",
            "  inflating: /content/Spectrogram_Hann/Train/spc_c08_91.png  \n",
            "  inflating: /content/Spectrogram_Hann/Train/spc_a06_10.png  \n",
            "  inflating: /content/Spectrogram_Hann/Train/spc_c06_394.png  \n",
            "  inflating: /content/Spectrogram_Hann/Train/spc_c07_187.png  \n",
            "  inflating: /content/Spectrogram_Hann/Train/spc_c05_257.png  \n",
            "  inflating: /content/Spectrogram_Hann/Train/spc_a12_65.png  \n",
            "  inflating: /content/Spectrogram_Hann/Train/spc_c08_506.png  \n",
            "  inflating: /content/Spectrogram_Hann/Train/spc_a08_419.png  \n",
            "  inflating: /content/Spectrogram_Hann/Train/spc_c08_260.png  \n",
            "  inflating: /content/Spectrogram_Hann/Train/spc_a01_19.png  \n",
            "  inflating: /content/Spectrogram_Hann/Train/spc_c01_115.png  \n",
            "  inflating: /content/Spectrogram_Hann/Train/spc_a05_348.png  \n",
            "  inflating: /content/Spectrogram_Hann/Train/spc_c01_101.png  \n",
            "  inflating: /content/Spectrogram_Hann/Train/spc_b01_228.png  \n",
            "  inflating: /content/Spectrogram_Hann/Train/spc_c08_274.png  \n",
            "  inflating: /content/Spectrogram_Hann/Train/spc_a10_219.png  \n",
            "  inflating: /content/Spectrogram_Hann/Train/spc_a15_78.png  \n",
            "  inflating: /content/Spectrogram_Hann/Train/spc_a12_71.png  \n",
            "  inflating: /content/Spectrogram_Hann/Train/spc_a15_348.png  \n",
            "  inflating: /content/Spectrogram_Hann/Train/spc_a13_6.png  \n",
            "  inflating: /content/Spectrogram_Hann/Train/spc_a09_178.png  \n",
            "  inflating: /content/Spectrogram_Hann/Train/spc_a08_29.png  \n",
            "  inflating: /content/Spectrogram_Hann/Train/spc_c06_380.png  \n",
            "  inflating: /content/Spectrogram_Hann/Train/spc_b04_379.png  \n",
            "  inflating: /content/Spectrogram_Hann/Train/spc_c08_85.png  \n",
            "  inflating: /content/Spectrogram_Hann/Train/spc_c07_193.png  \n",
            "  inflating: /content/Spectrogram_Hann/Train/spc_c05_243.png  \n",
            "  inflating: /content/Spectrogram_Hann/Train/spc_a12_59.png  \n",
            "  inflating: /content/Spectrogram_Hann/Train/spc_a08_343.png  \n",
            "  inflating: /content/Spectrogram_Hann/Train/spc_a15_360.png  \n",
            "  inflating: /content/Spectrogram_Hann/Train/spc_a14_173.png  \n",
            "  inflating: /content/Spectrogram_Hann/Train/spc_a09_150.png  \n",
            "  inflating: /content/Spectrogram_Hann/Train/spc_a05_412.png  \n",
            "  inflating: /content/Spectrogram_Hann/Train/spc_c06_80.png  \n",
            "  inflating: /content/Spectrogram_Hann/Train/spc_b04_351.png  \n",
            "  inflating: /content/Spectrogram_Hann/Train/spc_a01_25.png  \n",
            "  inflating: /content/Spectrogram_Hann/Train/spc_a03_480.png  \n",
            "  inflating: /content/Spectrogram_Hann/Train/spc_b01_200.png  \n",
            "  inflating: /content/Spectrogram_Hann/Train/spc_c01_129.png  \n",
            "  inflating: /content/Spectrogram_Hann/Train/spc_a04_167.png  \n",
            "  inflating: /content/Spectrogram_Hann/Train/spc_a05_374.png  \n",
            "  inflating: /content/Spectrogram_Hann/Train/spc_c01_89.png  \n",
            "  inflating: /content/Spectrogram_Hann/Train/spc_a08_425.png  \n",
            "  inflating: /content/Spectrogram_Hann/Train/spc_a15_406.png  \n",
            "  inflating: /content/Spectrogram_Hann/Train/spc_a10_231.png  \n",
            "  inflating: /content/Spectrogram_Hann/Train/spc_a15_50.png  \n",
            "  inflating: /content/Spectrogram_Hann/Train/spc_a15_412.png  \n",
            "  inflating: /content/Spectrogram_Hann/Train/spc_a08_431.png  \n",
            "  inflating: /content/Spectrogram_Hann/Train/spc_c08_248.png  \n",
            "  inflating: /content/Spectrogram_Hann/Train/spc_a10_225.png  \n",
            "  inflating: /content/Spectrogram_Hann/Train/spc_a15_44.png  \n",
            "  inflating: /content/Spectrogram_Hann/Train/spc_a01_31.png  \n",
            "  inflating: /content/Spectrogram_Hann/Train/spc_b04_423.png  \n",
            "  inflating: /content/Spectrogram_Hann/Train/spc_a03_494.png  \n",
            "  inflating: /content/Spectrogram_Hann/Train/spc_b01_214.png  \n",
            "  inflating: /content/Spectrogram_Hann/Train/spc_a04_173.png  \n",
            "  inflating: /content/Spectrogram_Hann/Train/spc_a05_360.png  \n",
            "  inflating: /content/Spectrogram_Hann/Train/spc_a05_406.png  \n",
            "  inflating: /content/Spectrogram_Hann/Train/spc_a08_15.png  \n",
            "  inflating: /content/Spectrogram_Hann/Train/spc_c06_94.png  \n",
            "  inflating: /content/Spectrogram_Hann/Train/spc_b04_345.png  \n",
            "  inflating: /content/Spectrogram_Hann/Train/spc_a06_38.png  \n",
            "  inflating: /content/Spectrogram_Hann/Train/spc_a13_480.png  \n",
            "  inflating: /content/Spectrogram_Hann/Train/spc_a15_374.png  \n",
            "  inflating: /content/Spectrogram_Hann/Train/spc_b01_89.png  \n",
            "  inflating: /content/Spectrogram_Hann/Train/spc_a08_357.png  \n",
            "  inflating: /content/Spectrogram_Hann/Train/spc_a09_144.png  \n",
            "  inflating: /content/Spectrogram_Hann/Train/spc_a14_167.png  \n",
            "  inflating: /content/Spectrogram_Hann/Train/spc_b01_62.png  \n",
            "  inflating: /content/Spectrogram_Hann/Train/spc_c06_357.png  \n",
            "  inflating: /content/Spectrogram_Hann/Train/spc_c08_52.png  \n",
            "  inflating: /content/Spectrogram_Hann/Train/spc_a03_319.png  \n",
            "  inflating: /content/Spectrogram_Hann/Train/spc_c07_144.png  \n",
            "  inflating: /content/Spectrogram_Hann/Train/spc_c05_294.png  \n",
            "  inflating: /content/Spectrogram_Hann/Train/spc_a04_198.png  \n",
            "  inflating: /content/Spectrogram_Hann/Train/spc_c03_206.png  \n",
            "  inflating: /content/Spectrogram_Hann/Train/spc_a06_248.png  \n",
            "  inflating: /content/Spectrogram_Hann/Train/spc_c01_76.png  \n",
            "  inflating: /content/Spectrogram_Hann/Train/spc_c06_431.png  \n",
            "  inflating: /content/Spectrogram_Hann/Train/spc_a13_319.png  \n",
            "  inflating: /content/Spectrogram_Hann/Train/spc_c03_212.png  \n",
            "  inflating: /content/Spectrogram_Hann/Train/spc_c01_62.png  \n",
            "  inflating: /content/Spectrogram_Hann/Train/spc_b02_328.png  \n",
            "  inflating: /content/Spectrogram_Hann/Train/spc_c06_425.png  \n",
            "  inflating: /content/Spectrogram_Hann/Train/spc_c08_46.png  \n",
            "  inflating: /content/Spectrogram_Hann/Train/spc_c06_343.png  \n",
            "  inflating: /content/Spectrogram_Hann/Train/spc_c07_150.png  \n",
            "  inflating: /content/Spectrogram_Hann/Train/spc_c05_280.png  \n",
            "  inflating: /content/Spectrogram_Hann/Train/spc_b01_76.png  \n",
            "  inflating: /content/Spectrogram_Hann/Train/spc_a14_198.png  \n",
            "  inflating: /content/Spectrogram_Hann/Train/spc_a16_248.png  \n",
            "  inflating: /content/Spectrogram_Hann/Train/spc_b04_392.png  \n",
            "  inflating: /content/Spectrogram_Hann/Train/spc_a03_325.png  \n",
            "  inflating: /content/Spectrogram_Hann/Train/spc_a02_136.png  \n",
            "  inflating: /content/Spectrogram_Hann/Train/spc_c07_178.png  \n",
            "  inflating: /content/Spectrogram_Hann/Train/spc_b02_466.png  \n",
            "  inflating: /content/Spectrogram_Hann/Train/spc_c06_43.png  \n",
            "  inflating: /content/Spectrogram_Hann/Train/spc_a08_380.png  \n",
            "  inflating: /content/Spectrogram_Hann/Train/spc_a16_260.png  \n",
            "  inflating: /content/Spectrogram_Hann/Train/spc_a09_193.png  \n",
            "  inflating: /content/Spectrogram_Hann/Train/spc_a13_457.png  \n",
            "  inflating: /content/Spectrogram_Hann/Train/spc_a12_122.png  \n",
            "  inflating: /content/Spectrogram_Hann/Train/spc_a15_93.png  \n",
            "  inflating: /content/Spectrogram_Hann/Train/spc_a13_331.png  \n",
            "  inflating: /content/Spectrogram_Hann/Train/spc_a06_274.png  \n",
            "  inflating: /content/Spectrogram_Hann/Train/spc_b03_113.png  \n",
            "  inflating: /content/Spectrogram_Hann/Train/spc_b02_300.png  \n",
            "  inflating: /content/Spectrogram_Hann/Train/spc_a03_443.png  \n",
            "  inflating: /content/Spectrogram_Hann/Train/spc_a06_260.png  \n",
            "  inflating: /content/Spectrogram_Hann/Train/spc_b03_107.png  \n",
            "  inflating: /content/Spectrogram_Hann/Train/spc_b02_314.png  \n",
            "  inflating: /content/Spectrogram_Hann/Train/spc_a03_457.png  \n",
            "  inflating: /content/Spectrogram_Hann/Train/spc_c06_419.png  \n",
            "  inflating: /content/Spectrogram_Hann/Train/spc_a12_136.png  \n",
            "  inflating: /content/Spectrogram_Hann/Train/spc_a15_87.png  \n",
            "  inflating: /content/Spectrogram_Hann/Train/spc_a13_325.png  \n",
            "  inflating: /content/Spectrogram_Hann/Train/spc_a08_394.png  \n",
            "  inflating: /content/Spectrogram_Hann/Train/spc_a16_274.png  \n",
            "  inflating: /content/Spectrogram_Hann/Train/spc_a09_187.png  \n",
            "  inflating: /content/Spectrogram_Hann/Train/spc_a13_443.png  \n",
            "  inflating: /content/Spectrogram_Hann/Train/spc_a03_331.png  \n",
            "  inflating: /content/Spectrogram_Hann/Train/spc_b04_386.png  \n",
            "  inflating: /content/Spectrogram_Hann/Train/spc_a02_122.png  \n",
            "  inflating: /content/Spectrogram_Hann/Train/spc_b02_472.png  \n",
            "  inflating: /content/Spectrogram_Hann/Train/spc_c06_57.png  \n",
            "  inflating: /content/Spectrogram_Hann/Train/spc_a06_506.png  \n",
            "  inflating: /content/Spectrogram_Hann/Train/spc_a03_441.png  \n",
            "  inflating: /content/Spectrogram_Hann/Train/spc_b02_302.png  \n",
            "  inflating: /content/Spectrogram_Hann/Train/spc_c01_48.png  \n",
            "  inflating: /content/Spectrogram_Hann/Train/spc_a06_276.png  \n",
            "  inflating: /content/Spectrogram_Hann/Train/spc_c03_238.png  \n",
            "  inflating: /content/Spectrogram_Hann/Train/spc_b03_111.png  \n",
            "  inflating: /content/Spectrogram_Hann/Train/spc_a15_91.png  \n",
            "  inflating: /content/Spectrogram_Hann/Train/spc_a13_333.png  \n",
            "  inflating: /content/Spectrogram_Hann/Train/spc_a12_120.png  \n",
            "  inflating: /content/Spectrogram_Hann/Train/spc_a12_98.png  \n",
            "  inflating: /content/Spectrogram_Hann/Train/spc_a13_455.png  \n",
            "  inflating: /content/Spectrogram_Hann/Train/spc_a16_262.png  \n",
            "  inflating: /content/Spectrogram_Hann/Train/spc_a09_191.png  \n",
            "  inflating: /content/Spectrogram_Hann/Train/spc_a08_382.png  \n",
            "  inflating: /content/Spectrogram_Hann/Train/spc_c06_41.png  \n",
            "  inflating: /content/Spectrogram_Hann/Train/spc_b02_464.png  \n",
            "  inflating: /content/Spectrogram_Hann/Train/spc_a02_134.png  \n",
            "  inflating: /content/Spectrogram_Hann/Train/spc_a03_327.png  \n",
            "  inflating: /content/Spectrogram_Hann/Train/spc_b04_390.png  \n",
            "  inflating: /content/Spectrogram_Hann/Train/spc_c06_369.png  \n",
            "  inflating: /content/Spectrogram_Hann/Train/spc_a06_504.png  \n",
            "  inflating: /content/Spectrogram_Hann/Train/spc_c06_55.png  \n",
            "  inflating: /content/Spectrogram_Hann/Train/spc_b02_470.png  \n",
            "  inflating: /content/Spectrogram_Hann/Train/spc_a02_120.png  \n",
            "  inflating: /content/Spectrogram_Hann/Train/spc_b04_384.png  \n",
            "  inflating: /content/Spectrogram_Hann/Train/spc_c08_78.png  \n",
            "  inflating: /content/Spectrogram_Hann/Train/spc_a03_333.png  \n",
            "  inflating: /content/Spectrogram_Hann/Train/spc_a13_441.png  \n",
            "  inflating: /content/Spectrogram_Hann/Train/spc_a16_276.png  \n",
            "  inflating: /content/Spectrogram_Hann/Train/spc_a09_185.png  \n",
            "  inflating: /content/Spectrogram_Hann/Train/spc_a08_396.png  \n",
            "  inflating: /content/Spectrogram_Hann/Train/spc_b01_48.png  \n",
            "  inflating: /content/Spectrogram_Hann/Train/spc_a15_85.png  \n",
            "  inflating: /content/Spectrogram_Hann/Train/spc_a13_327.png  \n",
            "  inflating: /content/Spectrogram_Hann/Train/spc_c08_289.png  \n",
            "  inflating: /content/Spectrogram_Hann/Train/spc_a12_134.png  \n",
            "  inflating: /content/Spectrogram_Hann/Train/spc_a03_455.png  \n",
            "  inflating: /content/Spectrogram_Hann/Train/spc_b02_316.png  \n",
            "  inflating: /content/Spectrogram_Hann/Train/spc_a06_262.png  \n",
            "  inflating: /content/Spectrogram_Hann/Train/spc_b03_105.png  \n",
            "  inflating: /content/Spectrogram_Hann/Train/spc_c06_433.png  \n",
            "  inflating: /content/Spectrogram_Hann/Train/spc_a05_389.png  \n",
            "  inflating: /content/Spectrogram_Hann/Train/spc_c01_74.png  \n",
            "  inflating: /content/Spectrogram_Hann/Train/spc_c03_204.png  \n",
            "  inflating: /content/Spectrogram_Hann/Train/spc_b02_458.png  \n",
            "  inflating: /content/Spectrogram_Hann/Train/spc_c07_146.png  \n",
            "  inflating: /content/Spectrogram_Hann/Train/spc_a02_108.png  \n",
            "  inflating: /content/Spectrogram_Hann/Train/spc_c05_296.png  \n",
            "  inflating: /content/Spectrogram_Hann/Train/spc_c08_50.png  \n",
            "  inflating: /content/Spectrogram_Hann/Train/spc_c06_355.png  \n",
            "  inflating: /content/Spectrogram_Hann/Train/spc_a13_469.png  \n",
            "  inflating: /content/Spectrogram_Hann/Train/spc_b01_60.png  \n",
            "  inflating: /content/Spectrogram_Hann/Train/spc_c03_9.png  \n",
            "  inflating: /content/Spectrogram_Hann/Train/spc_a15_389.png  \n",
            "  inflating: /content/Spectrogram_Hann/Train/spc_b01_74.png  \n",
            "  inflating: /content/Spectrogram_Hann/Train/spc_c06_69.png  \n",
            "  inflating: /content/Spectrogram_Hann/Train/spc_c07_152.png  \n",
            "  inflating: /content/Spectrogram_Hann/Train/spc_c05_282.png  \n",
            "  inflating: /content/Spectrogram_Hann/Train/spc_c06_341.png  \n",
            "  inflating: /content/Spectrogram_Hann/Train/spc_c08_44.png  \n",
            "  inflating: /content/Spectrogram_Hann/Train/spc_c06_427.png  \n",
            "  inflating: /content/Spectrogram_Hann/Train/spc_a03_469.png  \n",
            "  inflating: /content/Spectrogram_Hann/Train/spc_c01_60.png  \n",
            "  inflating: /content/Spectrogram_Hann/Train/spc_b03_139.png  \n",
            "  inflating: /content/Spectrogram_Hann/Train/spc_c03_210.png  \n",
            "  inflating: /content/Spectrogram_Hann/Train/spc_a12_108.png  \n",
            "  inflating: /content/Spectrogram_Hann/Train/spc_a15_52.png  \n",
            "  inflating: /content/Spectrogram_Hann/Train/spc_a10_233.png  \n",
            "  inflating: /content/Spectrogram_Hann/Train/spc_a15_404.png  \n",
            "  inflating: /content/Spectrogram_Hann/Train/spc_a08_427.png  \n",
            "  inflating: /content/Spectrogram_Hann/Train/spc_a05_376.png  \n",
            "  inflating: /content/Spectrogram_Hann/Train/spc_b01_202.png  \n",
            "  inflating: /content/Spectrogram_Hann/Train/spc_a04_165.png  \n",
            "  inflating: /content/Spectrogram_Hann/Train/spc_a03_482.png  \n",
            "  inflating: /content/Spectrogram_Hann/Train/spc_a01_27.png  \n",
            "  inflating: /content/Spectrogram_Hann/Train/spc_c05_269.png  \n",
            "  inflating: /content/Spectrogram_Hann/Train/spc_b04_353.png  \n",
            "  inflating: /content/Spectrogram_Hann/Train/spc_c06_82.png  \n",
            "  inflating: /content/Spectrogram_Hann/Train/spc_a05_410.png  \n",
            "  inflating: /content/Spectrogram_Hann/Train/spc_a09_152.png  \n",
            "  inflating: /content/Spectrogram_Hann/Train/spc_a14_171.png  \n",
            "  inflating: /content/Spectrogram_Hann/Train/spc_a15_362.png  \n",
            "  inflating: /content/Spectrogram_Hann/Train/spc_a08_341.png  \n",
            "  inflating: /content/Spectrogram_Hann/Train/spc_a14_165.png  \n",
            "  inflating: /content/Spectrogram_Hann/Train/spc_a09_146.png  \n",
            "  inflating: /content/Spectrogram_Hann/Train/spc_a08_355.png  \n",
            "  inflating: /content/Spectrogram_Hann/Train/spc_a15_376.png  \n",
            "  inflating: /content/Spectrogram_Hann/Train/spc_a13_482.png  \n",
            "  inflating: /content/Spectrogram_Hann/Train/spc_b04_347.png  \n",
            "  inflating: /content/Spectrogram_Hann/Train/spc_c06_96.png  \n",
            "  inflating: /content/Spectrogram_Hann/Train/spc_a08_17.png  \n",
            "  inflating: /content/Spectrogram_Hann/Train/spc_a05_404.png  \n",
            "  inflating: /content/Spectrogram_Hann/Train/spc_a05_362.png  \n",
            "  inflating: /content/Spectrogram_Hann/Train/spc_b01_216.png  \n",
            "  inflating: /content/Spectrogram_Hann/Train/spc_a04_171.png  \n",
            "  inflating: /content/Spectrogram_Hann/Train/spc_a03_496.png  \n",
            "  inflating: /content/Spectrogram_Hann/Train/spc_b04_421.png  \n",
            "  inflating: /content/Spectrogram_Hann/Train/spc_a01_33.png  \n",
            "  inflating: /content/Spectrogram_Hann/Train/spc_a15_46.png  \n",
            "  inflating: /content/Spectrogram_Hann/Train/spc_a10_227.png  \n",
            "  inflating: /content/Spectrogram_Hann/Train/spc_a08_433.png  \n",
            "  inflating: /content/Spectrogram_Hann/Train/spc_a15_410.png  \n",
            "  inflating: /content/Spectrogram_Hann/Train/spc_a04_159.png  \n",
            "  inflating: /content/Spectrogram_Hann/Train/spc_c01_117.png  \n",
            "  inflating: /content/Spectrogram_Hann/Train/spc_a06_289.png  \n",
            "  inflating: /content/Spectrogram_Hann/Train/spc_b04_409.png  \n",
            "  inflating: /content/Spectrogram_Hann/Train/spc_c08_262.png  \n",
            "  inflating: /content/Spectrogram_Hann/Train/spc_a15_438.png  \n",
            "  inflating: /content/Spectrogram_Hann/Train/spc_a12_67.png  \n",
            "  inflating: /content/Spectrogram_Hann/Train/spc_c08_504.png  \n",
            "  inflating: /content/Spectrogram_Hann/Train/spc_c07_185.png  \n",
            "  inflating: /content/Spectrogram_Hann/Train/spc_c05_255.png  \n",
            "  inflating: /content/Spectrogram_Hann/Train/spc_c06_396.png  \n",
            "  inflating: /content/Spectrogram_Hann/Train/spc_a06_12.png  \n",
            "  inflating: /content/Spectrogram_Hann/Train/spc_c08_93.png  \n",
            "  inflating: /content/Spectrogram_Hann/Train/spc_c07_191.png  \n",
            "  inflating: /content/Spectrogram_Hann/Train/spc_c05_241.png  \n",
            "  inflating: /content/Spectrogram_Hann/Train/spc_c08_87.png  \n",
            "  inflating: /content/Spectrogram_Hann/Train/spc_c06_382.png  \n",
            "  inflating: /content/Spectrogram_Hann/Train/spc_a05_438.png  \n",
            "  inflating: /content/Spectrogram_Hann/Train/spc_a14_159.png  \n",
            "  inflating: /content/Spectrogram_Hann/Train/spc_a16_289.png  \n",
            "  inflating: /content/Spectrogram_Hann/Train/spc_a08_369.png  \n",
            "  inflating: /content/Spectrogram_Hann/Train/spc_a13_4.png  \n",
            "  inflating: /content/Spectrogram_Hann/Train/spc_a12_73.png  \n",
            "  inflating: /content/Spectrogram_Hann/Train/spc_c08_510.png  \n",
            "  inflating: /content/Spectrogram_Hann/Train/spc_c08_276.png  \n",
            "  inflating: /content/Spectrogram_Hann/Train/spc_c01_103.png  \n",
            "  inflating: /content/Spectrogram_Hann/Train/spc_b04_192.png  \n",
            "  inflating: /content/Spectrogram_Hann/Train/spc_a03_125.png  \n",
            "  inflating: /content/Spectrogram_Hann/Train/spc_a02_336.png  \n",
            "  inflating: /content/Spectrogram_Hann/Train/spc_c07_378.png  \n",
            "  inflating: /content/Spectrogram_Hann/Train/spc_a07_501.png  \n",
            "  inflating: /content/Spectrogram_Hann/Train/spc_a08_180.png  \n",
            "  inflating: /content/Spectrogram_Hann/Train/spc_a09_393.png  \n",
            "  inflating: /content/Spectrogram_Hann/Train/spc_c02_25.png  \n",
            "  inflating: /content/Spectrogram_Hann/Train/spc_a02_89.png  \n",
            "  inflating: /content/Spectrogram_Hann/Train/spc_a12_444.png  \n",
            "  inflating: /content/Spectrogram_Hann/Train/spc_a12_322.png  \n",
            "  inflating: /content/Spectrogram_Hann/Train/spc_a05_80.png  \n",
            "  inflating: /content/Spectrogram_Hann/Train/spc_a13_131.png  \n",
            "  inflating: /content/Spectrogram_Hann/Train/spc_b03_313.png  \n",
            "  inflating: /content/Spectrogram_Hann/Train/spc_b02_31.png  \n",
            "  inflating: /content/Spectrogram_Hann/Train/spc_b02_100.png  \n",
            "  inflating: /content/Spectrogram_Hann/Train/spc_a07_267.png  \n",
            "  inflating: /content/Spectrogram_Hann/Train/spc_c02_229.png  \n",
            "  inflating: /content/Spectrogram_Hann/Train/spc_a02_450.png  \n",
            "  inflating: /content/Spectrogram_Hann/Train/spc_b03_307.png  \n",
            "  inflating: /content/Spectrogram_Hann/Train/spc_b02_25.png  \n",
            "  inflating: /content/Spectrogram_Hann/Train/spc_b02_114.png  \n",
            "  inflating: /content/Spectrogram_Hann/Train/spc_a07_273.png  \n",
            "  inflating: /content/Spectrogram_Hann/Train/spc_a02_444.png  \n",
            "  inflating: /content/Spectrogram_Hann/Train/spc_a12_336.png  \n",
            "  inflating: /content/Spectrogram_Hann/Train/spc_a05_94.png  \n",
            "  inflating: /content/Spectrogram_Hann/Train/spc_a13_125.png  \n",
            "  inflating: /content/Spectrogram_Hann/Train/spc_c05_38.png  \n",
            "  inflating: /content/Spectrogram_Hann/Train/spc_a08_194.png  \n",
            "  inflating: /content/Spectrogram_Hann/Train/spc_a09_387.png  \n",
            "  inflating: /content/Spectrogram_Hann/Train/spc_c02_31.png  \n",
            "  inflating: /content/Spectrogram_Hann/Train/spc_a12_450.png  \n",
            "  inflating: /content/Spectrogram_Hann/Train/spc_a03_131.png  \n",
            "  inflating: /content/Spectrogram_Hann/Train/spc_b04_186.png  \n",
            "  inflating: /content/Spectrogram_Hann/Train/spc_a02_322.png  \n",
            "  inflating: /content/Spectrogram_Hann/Train/spc_c02_19.png  \n",
            "  inflating: /content/Spectrogram_Hann/Train/spc_a12_478.png  \n",
            "  inflating: /content/Spectrogram_Hann/Train/spc_c04_287.png  \n",
            "  inflating: /content/Spectrogram_Hann/Train/spc_c06_157.png  \n",
            "  inflating: /content/Spectrogram_Hann/Train/spc_a03_119.png  \n",
            "  inflating: /content/Spectrogram_Hann/Train/spc_c07_344.png  \n",
            "  inflating: /content/Spectrogram_Hann/Train/spc_a04_398.png  \n",
            "  inflating: /content/Spectrogram_Hann/Train/spc_c02_215.png  \n",
            "  inflating: /content/Spectrogram_Hann/Train/spc_c07_422.png  \n",
            "  inflating: /content/Spectrogram_Hann/Train/spc_c05_10.png  \n",
            "  inflating: /content/Spectrogram_Hann/Train/spc_a13_119.png  \n",
            "  inflating: /content/Spectrogram_Hann/Train/spc_b02_19.png  \n",
            "  inflating: /content/Spectrogram_Hann/Train/spc_c02_201.png  \n",
            "  inflating: /content/Spectrogram_Hann/Train/spc_b02_128.png  \n",
            "  inflating: /content/Spectrogram_Hann/Train/spc_a02_478.png  \n",
            "  inflating: /content/Spectrogram_Hann/Train/spc_c04_293.png  \n",
            "  inflating: /content/Spectrogram_Hann/Train/spc_c06_143.png  \n",
            "  inflating: /content/Spectrogram_Hann/Train/spc_c07_350.png  \n",
            "  inflating: /content/Spectrogram_Hann/Train/spc_a14_398.png  \n",
            "  inflating: /content/Spectrogram_Hann/Train/spc_a12_487.png  \n",
            "  inflating: /content/Spectrogram_Hann/Train/spc_a08_143.png  \n",
            "  inflating: /content/Spectrogram_Hann/Train/spc_a15_160.png  \n",
            "  inflating: /content/Spectrogram_Hann/Train/spc_a14_373.png  \n",
            "  inflating: /content/Spectrogram_Hann/Train/spc_a09_350.png  \n",
            "  inflating: /content/Spectrogram_Hann/Train/spc_a04_401.png  \n",
            "  inflating: /content/Spectrogram_Hann/Train/spc_b04_151.png  \n",
            "  inflating: /content/Spectrogram_Hann/Train/spc_c04_278.png  \n",
            "  inflating: /content/Spectrogram_Hann/Train/spc_a01_236.png  \n",
            "  inflating: /content/Spectrogram_Hann/Train/spc_a02_493.png  \n",
            "  inflating: /content/Spectrogram_Hann/Train/spc_a11_36.png  \n",
            "  inflating: /content/Spectrogram_Hann/Train/spc_c01_329.png  \n",
            "  inflating: /content/Spectrogram_Hann/Train/spc_a04_367.png  \n",
            "  inflating: /content/Spectrogram_Hann/Train/spc_a05_174.png  \n",
            "  inflating: /content/Spectrogram_Hann/Train/spc_a14_415.png  \n",
            "  inflating: /content/Spectrogram_Hann/Train/spc_a09_436.png  \n",
            "  inflating: /content/Spectrogram_Hann/Train/spc_a05_43.png  \n",
            "  inflating: /content/Spectrogram_Hann/Train/spc_a11_222.png  \n",
            "  inflating: /content/Spectrogram_Hann/Train/spc_a09_422.png  \n",
            "  inflating: /content/Spectrogram_Hann/Train/spc_a14_401.png  \n",
            "  inflating: /content/Spectrogram_Hann/Train/spc_a05_57.png  \n",
            "  inflating: /content/Spectrogram_Hann/Train/spc_a11_236.png  \n",
            "  inflating: /content/Spectrogram_Hann/Train/spc_a02_487.png  \n",
            "  inflating: /content/Spectrogram_Hann/Train/spc_a11_22.png  \n",
            "  inflating: /content/Spectrogram_Hann/Train/spc_a04_373.png  \n",
            "  inflating: /content/Spectrogram_Hann/Train/spc_a05_160.png  \n",
            "  inflating: /content/Spectrogram_Hann/Train/spc_a04_415.png  \n",
            "  inflating: /content/Spectrogram_Hann/Train/spc_b04_145.png  \n",
            "  inflating: /content/Spectrogram_Hann/Train/spc_a01_222.png  \n",
            "  inflating: /content/Spectrogram_Hann/Train/spc_a12_493.png  \n",
            "  inflating: /content/Spectrogram_Hann/Train/spc_a15_174.png  \n",
            "  inflating: /content/Spectrogram_Hann/Train/spc_a08_157.png  \n",
            "  inflating: /content/Spectrogram_Hann/Train/spc_a09_344.png  \n",
            "  inflating: /content/Spectrogram_Hann/Train/spc_a14_367.png  \n",
            "  inflating: /content/Spectrogram_Hann/Train/spc_c01_473.png  \n",
            "  inflating: /content/Spectrogram_Hann/Train/spc_c04_244.png  \n",
            "  inflating: /content/Spectrogram_Hann/Train/spc_c06_194.png  \n",
            "  inflating: /content/Spectrogram_Hann/Train/spc_c07_387.png  \n",
            "  inflating: /content/Spectrogram_Hann/Train/spc_a02_76.png  \n",
            "  inflating: /content/Spectrogram_Hann/Train/spc_a14_429.png  \n",
            "  inflating: /content/Spectrogram_Hann/Train/spc_c01_315.png  \n",
            "  inflating: /content/Spectrogram_Hann/Train/spc_a07_298.png  \n",
            "  inflating: /content/Spectrogram_Hann/Train/spc_a05_148.png  \n",
            "  inflating: /content/Spectrogram_Hann/Train/spc_c01_301.png  \n",
            "  inflating: /content/Spectrogram_Hann/Train/spc_a02_62.png  \n",
            "  inflating: /content/Spectrogram_Hann/Train/spc_a11_6.png  \n",
            "  inflating: /content/Spectrogram_Hann/Train/spc_a15_148.png  \n",
            "  inflating: /content/Spectrogram_Hann/Train/spc_a09_378.png  \n",
            "  inflating: /content/Spectrogram_Hann/Train/spc_a04_429.png  \n",
            "  inflating: /content/Spectrogram_Hann/Train/spc_c01_467.png  \n",
            "  inflating: /content/Spectrogram_Hann/Train/spc_c04_250.png  \n",
            "  inflating: /content/Spectrogram_Hann/Train/spc_b04_179.png  \n",
            "  inflating: /content/Spectrogram_Hann/Train/spc_c06_180.png  \n",
            "  inflating: /content/Spectrogram_Hann/Train/spc_a16_17.png  \n",
            "  inflating: /content/Spectrogram_Hann/Train/spc_c07_393.png  \n",
            "  inflating: /content/Spectrogram_Hann/Train/spc_a07_85.png  \n",
            "  inflating: /content/Spectrogram_Hann/Train/spc_a07_475.png  \n",
            "  inflating: /content/Spectrogram_Hann/Train/spc_a02_242.png  \n",
            "  inflating: /content/Spectrogram_Hann/Train/spc_a01_381.png  \n",
            "  inflating: /content/Spectrogram_Hann/Train/spc_c07_29.png  \n",
            "  inflating: /content/Spectrogram_Hann/Train/spc_a12_530.png  \n",
            "  inflating: /content/Spectrogram_Hann/Train/spc_a16_114.png  \n",
            "  inflating: /content/Spectrogram_Hann/Train/spc_a11_395.png  \n",
            "  inflating: /content/Spectrogram_Hann/Train/spc_a12_256.png  \n",
            "  inflating: /content/Spectrogram_Hann/Train/spc_a10_186.png  \n",
            "  inflating: /content/Spectrogram_Hann/Train/spc_a02_524.png  \n",
            "  inflating: /content/Spectrogram_Hann/Train/spc_a07_313.png  \n",
            "  inflating: /content/Spectrogram_Hann/Train/spc_b03_267.png  \n",
            "  inflating: /content/Spectrogram_Hann/Train/spc_a06_100.png  \n",
            "  inflating: /content/Spectrogram_Hann/Train/spc_a07_307.png  \n",
            "  inflating: /content/Spectrogram_Hann/Train/spc_c02_349.png  \n",
            "  inflating: /content/Spectrogram_Hann/Train/spc_b03_273.png  \n",
            "  inflating: /content/Spectrogram_Hann/Train/spc_a06_114.png  \n",
            "  inflating: /content/Spectrogram_Hann/Train/spc_a11_381.png  \n",
            "  inflating: /content/Spectrogram_Hann/Train/spc_a12_242.png  \n",
            "  inflating: /content/Spectrogram_Hann/Train/spc_a10_192.png  \n",
            "  inflating: /content/Spectrogram_Hann/Train/spc_a12_524.png  \n",
            "  inflating: /content/Spectrogram_Hann/Train/spc_a16_100.png  \n",
            "  inflating: /content/Spectrogram_Hann/Train/spc_a07_91.png  \n",
            "  inflating: /content/Spectrogram_Hann/Train/spc_a07_461.png  \n",
            "  inflating: /content/Spectrogram_Hann/Train/spc_a02_256.png  \n",
            "  inflating: /content/Spectrogram_Hann/Train/spc_c07_218.png  \n",
            "  inflating: /content/Spectrogram_Hann/Train/spc_a01_395.png  \n",
            "  inflating: /content/Spectrogram_Hann/Train/spc_a16_128.png  \n",
            "  inflating: /content/Spectrogram_Hann/Train/spc_c02_407.png  \n",
            "  inflating: /content/Spectrogram_Hann/Train/spc_a07_449.png  \n",
            "  inflating: /content/Spectrogram_Hann/Train/spc_c07_230.png  \n",
            "  inflating: /content/Spectrogram_Hann/Train/spc_a09_94.png  \n",
            "  inflating: /content/Spectrogram_Hann/Train/spc_c07_15.png  \n",
            "  inflating: /content/Spectrogram_Hann/Train/spc_a02_518.png  \n",
            "  inflating: /content/Spectrogram_Hann/Train/spc_c02_361.png  \n",
            "  inflating: /content/Spectrogram_Hann/Train/spc_c03_172.png  \n",
            "  inflating: /content/Spectrogram_Hann/Train/spc_c02_375.png  \n",
            "  inflating: /content/Spectrogram_Hann/Train/spc_c03_166.png  \n",
            "  inflating: /content/Spectrogram_Hann/Train/spc_a06_128.png  \n",
            "  inflating: /content/Spectrogram_Hann/Train/spc_c02_413.png  \n",
            "  inflating: /content/Spectrogram_Hann/Train/spc_c07_224.png  \n",
            "  inflating: /content/Spectrogram_Hann/Train/spc_a09_80.png  \n",
            "  inflating: /content/Spectrogram_Hann/Train/spc_a12_518.png  \n",
            "  inflating: /content/Spectrogram_Hann/Train/spc_a09_224.png  \n",
            "  inflating: /content/Spectrogram_Hann/Train/spc_a14_207.png  \n",
            "  inflating: /content/Spectrogram_Hann/Train/spc_a13_33.png  \n",
            "  inflating: /content/Spectrogram_Hann/Train/spc_a11_430.png  \n",
            "  inflating: /content/Spectrogram_Hann/Train/spc_a02_281.png  \n",
            "  inflating: /content/Spectrogram_Hann/Train/spc_a01_342.png  \n",
            "  inflating: /content/Spectrogram_Hann/Train/spc_a07_46.png  \n",
            "  inflating: /content/Spectrogram_Hann/Train/spc_a04_213.png  \n",
            "  inflating: /content/Spectrogram_Hann/Train/spc_b01_174.png  \n",
            "  inflating: /content/Spectrogram_Hann/Train/spc_a01_424.png  \n",
            "  inflating: /content/Spectrogram_Hann/Train/spc_a11_356.png  \n",
            "  inflating: /content/Spectrogram_Hann/Train/spc_a12_295.png  \n",
            "  inflating: /content/Spectrogram_Hann/Train/spc_c08_128.png  \n",
            "  inflating: /content/Spectrogram_Hann/Train/spc_a10_145.png  \n",
            "  inflating: /content/Spectrogram_Hann/Train/spc_a11_342.png  \n",
            "  inflating: /content/Spectrogram_Hann/Train/spc_a12_281.png  \n",
            "  inflating: /content/Spectrogram_Hann/Train/spc_a10_151.png  \n",
            "  inflating: /content/Spectrogram_Hann/Train/spc_c01_249.png  \n",
            "  inflating: /content/Spectrogram_Hann/Train/spc_a04_207.png  \n",
            "  inflating: /content/Spectrogram_Hann/Train/spc_b01_160.png  \n",
            "  inflating: /content/Spectrogram_Hann/Train/spc_c03_199.png  \n",
            "  inflating: /content/Spectrogram_Hann/Train/spc_a01_430.png  \n",
            "  inflating: /content/Spectrogram_Hann/Train/spc_a02_295.png  \n",
            "  inflating: /content/Spectrogram_Hann/Train/spc_c04_318.png  \n",
            "  inflating: /content/Spectrogram_Hann/Train/spc_a01_356.png  \n",
            "  inflating: /content/Spectrogram_Hann/Train/spc_a07_52.png  \n",
            "  inflating: /content/Spectrogram_Hann/Train/spc_a14_213.png  \n",
            "  inflating: /content/Spectrogram_Hann/Train/spc_a09_230.png  \n",
            "  inflating: /content/Spectrogram_Hann/Train/spc_a13_27.png  \n",
            "  inflating: /content/Spectrogram_Hann/Train/spc_a11_424.png  \n",
            "  inflating: /content/Spectrogram_Hann/Train/spc_c05_123.png  \n",
            "  inflating: /content/Spectrogram_Hann/Train/spc_a09_57.png  \n",
            "  inflating: /content/Spectrogram_Hann/Train/spc_c04_330.png  \n",
            "  inflating: /content/Spectrogram_Hann/Train/spc_a09_218.png  \n",
            "  inflating: /content/Spectrogram_Hann/Train/spc_c08_114.png  \n",
            "  inflating: /content/Spectrogram_Hann/Train/spc_a10_179.png  \n",
            "  inflating: /content/Spectrogram_Hann/Train/spc_b01_148.png  \n",
            "  inflating: /content/Spectrogram_Hann/Train/spc_c01_261.png  \n",
            "  inflating: /content/Spectrogram_Hann/Train/spc_b03_298.png  \n",
            "  inflating: /content/Spectrogram_Hann/Train/spc_a01_418.png  \n",
            "  inflating: /content/Spectrogram_Hann/Train/spc_c04_456.png  \n",
            "  inflating: /content/Spectrogram_Hann/Train/spc_c01_275.png  \n",
            "  inflating: /content/Spectrogram_Hann/Train/spc_c04_442.png  \n",
            "  inflating: /content/Spectrogram_Hann/Train/spc_c08_100.png  \n",
            "  inflating: /content/Spectrogram_Hann/Train/spc_a14_12.png  \n",
            "  inflating: /content/Spectrogram_Hann/Train/spc_a11_418.png  \n",
            "  inflating: /content/Spectrogram_Hann/Train/spc_c05_137.png  \n",
            "  inflating: /content/Spectrogram_Hann/Train/spc_c04_324.png  \n",
            "  inflating: /content/Spectrogram_Hann/Train/spc_a09_43.png  \n",
            "  inflating: /content/Spectrogram_Hann/Train/spc_a06_302.png  \n",
            "  inflating: /content/Spectrogram_Hann/Train/spc_a07_111.png  \n",
            "  inflating: /content/Spectrogram_Hann/Train/spc_b02_276.png  \n",
            "  inflating: /content/Spectrogram_Hann/Train/spc_b03_59.png  \n",
            "  inflating: /content/Spectrogram_Hann/Train/spc_a10_384.png  \n",
            "  inflating: /content/Spectrogram_Hann/Train/spc_c04_44.png  \n",
            "  inflating: /content/Spectrogram_Hann/Train/spc_a11_197.png  \n",
            "  inflating: /content/Spectrogram_Hann/Train/spc_a13_247.png  \n",
            "  inflating: /content/Spectrogram_Hann/Train/spc_a16_470.png  \n",
            "  inflating: /content/Spectrogram_Hann/Train/spc_a16_316.png  \n",
            "  inflating: /content/Spectrogram_Hann/Train/spc_a01_183.png  \n",
            "  inflating: /content/Spectrogram_Hann/Train/spc_a03_253.png  \n",
            "  inflating: /content/Spectrogram_Hann/Train/spc_b04_50.png  \n",
            "  inflating: /content/Spectrogram_Hann/Train/spc_b02_510.png  \n",
            "  inflating: /content/Spectrogram_Hann/Train/spc_a06_464.png  \n",
            "  inflating: /content/Spectrogram_Hann/Train/spc_a01_197.png  \n",
            "  inflating: /content/Spectrogram_Hann/Train/spc_a03_247.png  \n",
            "  inflating: /content/Spectrogram_Hann/Train/spc_c06_209.png  \n",
            "  inflating: /content/Spectrogram_Hann/Train/spc_b04_44.png  \n",
            "  inflating: /content/Spectrogram_Hann/Train/spc_b02_504.png  \n",
            "  inflating: /content/Spectrogram_Hann/Train/spc_a06_470.png  \n",
            "  inflating: /content/Spectrogram_Hann/Train/spc_a16_302.png  \n",
            "  inflating: /content/Spectrogram_Hann/Train/spc_c03_59.png  \n",
            "  inflating: /content/Spectrogram_Hann/Train/spc_a10_390.png  \n",
            "  inflating: /content/Spectrogram_Hann/Train/spc_c04_50.png  \n",
            "  inflating: /content/Spectrogram_Hann/Train/spc_a11_183.png  \n",
            "  inflating: /content/Spectrogram_Hann/Train/spc_a13_253.png  \n",
            "  inflating: /content/Spectrogram_Hann/Train/spc_a16_464.png  \n",
            "  inflating: /content/Spectrogram_Hann/Train/spc_a06_316.png  \n",
            "  inflating: /content/Spectrogram_Hann/Train/spc_a10_89.png  \n",
            "  inflating: /content/Spectrogram_Hann/Train/spc_c03_358.png  \n",
            "  inflating: /content/Spectrogram_Hann/Train/spc_a07_105.png  \n",
            "  inflating: /content/Spectrogram_Hann/Train/spc_b02_262.png  \n",
            "  inflating: /content/Spectrogram_Hann/Train/spc_c04_78.png  \n",
            "  inflating: /content/Spectrogram_Hann/Train/spc_a08_7.png  \n",
            "  inflating: /content/Spectrogram_Hann/Train/spc_b01_389.png  \n",
            "  inflating: /content/Spectrogram_Hann/Train/spc_c03_370.png  \n",
            "  inflating: /content/Spectrogram_Hann/Train/spc_c02_163.png  \n",
            "  inflating: /content/Spectrogram_Hann/Train/spc_a03_509.png  \n",
            "  inflating: /content/Spectrogram_Hann/Train/spc_b03_65.png  \n",
            "  inflating: /content/Spectrogram_Hann/Train/spc_c06_221.png  \n",
            "  inflating: /content/Spectrogram_Hann/Train/spc_c03_416.png  \n",
            "  inflating: /content/Spectrogram_Hann/Train/spc_a06_458.png  \n",
            "  inflating: /content/Spectrogram_Hann/Train/spc_c03_71.png  \n",
            "  inflating: /content/Spectrogram_Hann/Train/spc_c03_65.png  \n",
            "  inflating: /content/Spectrogram_Hann/Train/spc_c06_235.png  \n",
            "  inflating: /content/Spectrogram_Hann/Train/spc_b04_78.png  \n",
            "  inflating: /content/Spectrogram_Hann/Train/spc_c03_402.png  \n",
            "  inflating: /content/Spectrogram_Hann/Train/spc_c03_364.png  \n",
            "  inflating: /content/Spectrogram_Hann/Train/spc_c02_177.png  \n",
            "  inflating: /content/Spectrogram_Hann/Train/spc_a07_139.png  \n",
            "  inflating: /content/Spectrogram_Hann/Train/spc_b03_71.png  \n",
            "  inflating: /content/Spectrogram_Hann/Train/spc_a16_458.png  \n",
            "  inflating: /content/Spectrogram_Hann/Train/spc_a10_347.png  \n",
            "  inflating: /content/Spectrogram_Hann/Train/spc_c04_87.png  \n",
            "  inflating: /content/Spectrogram_Hann/Train/spc_a11_154.png  \n",
            "  inflating: /content/Spectrogram_Hann/Train/spc_a13_284.png  \n",
            "  inflating: /content/Spectrogram_Hann/Train/spc_b01_376.png  \n",
            "  inflating: /content/Spectrogram_Hann/Train/spc_a05_202.png  \n",
            "  inflating: /content/Spectrogram_Hann/Train/spc_b01_410.png  \n",
            "  inflating: /content/Spectrogram_Hann/Train/spc_a01_140.png  \n",
            "  inflating: /content/Spectrogram_Hann/Train/spc_a03_290.png  \n",
            "  inflating: /content/Spectrogram_Hann/Train/spc_b04_227.png  \n",
            "  inflating: /content/Spectrogram_Hann/Train/spc_b04_93.png  \n",
            "  inflating: /content/Spectrogram_Hann/Train/spc_a10_421.png  \n",
            "  inflating: /content/Spectrogram_Hann/Train/spc_a08_235.png  \n",
            "  inflating: /content/Spectrogram_Hann/Train/spc_a15_216.png  \n",
            "  inflating: /content/Spectrogram_Hann/Train/spc_a03_22.png  \n",
            "  inflating: /content/Spectrogram_Hann/Train/spc_a10_435.png  \n",
            "  inflating: /content/Spectrogram_Hann/Train/spc_c08_458.png  \n",
            "  inflating: /content/Spectrogram_Hann/Train/spc_a15_202.png  \n",
            "  inflating: /content/Spectrogram_Hann/Train/spc_a08_221.png  \n",
            "  inflating: /content/Spectrogram_Hann/Train/spc_a03_36.png  \n",
            "  inflating: /content/Spectrogram_Hann/Train/spc_b01_404.png  \n",
            "  inflating: /content/Spectrogram_Hann/Train/spc_a01_154.png  \n",
            "  inflating: /content/Spectrogram_Hann/Train/spc_b04_233.png  \n",
            "  inflating: /content/Spectrogram_Hann/Train/spc_a03_284.png  \n",
            "  inflating: /content/Spectrogram_Hann/Train/spc_c05_309.png  \n",
            "  inflating: /content/Spectrogram_Hann/Train/spc_b04_87.png  \n",
            "  inflating: /content/Spectrogram_Hann/Train/spc_b01_362.png  \n",
            "  inflating: /content/Spectrogram_Hann/Train/spc_c02_188.png  \n",
            "  inflating: /content/Spectrogram_Hann/Train/spc_a05_216.png  \n",
            "  inflating: /content/Spectrogram_Hann/Train/spc_a10_353.png  \n",
            "  inflating: /content/Spectrogram_Hann/Train/spc_c04_93.png  \n",
            "  inflating: /content/Spectrogram_Hann/Train/spc_a11_140.png  \n",
            "  inflating: /content/Spectrogram_Hann/Train/spc_a13_290.png  \n",
            "  inflating: /content/Spectrogram_Hann/Train/spc_c05_447.png  \n",
            "  inflating: /content/Spectrogram_Hann/Train/spc_a10_62.png  \n",
            "  inflating: /content/Spectrogram_Hann/Train/spc_b02_289.png  \n",
            "  inflating: /content/Spectrogram_Hann/Train/spc_a04_17.png  \n",
            "  inflating: /content/Spectrogram_Hann/Train/spc_a15_2.png  \n",
            "  inflating: /content/Spectrogram_Hann/Train/spc_c08_316.png  \n",
            "  inflating: /content/Spectrogram_Hann/Train/spc_a11_168.png  \n",
            "  inflating: /content/Spectrogram_Hann/Train/spc_c08_470.png  \n",
            "  inflating: /content/Spectrogram_Hann/Train/spc_a08_209.png  \n",
            "  inflating: /content/Spectrogram_Hann/Train/spc_c04_132.png  \n",
            "  inflating: /content/Spectrogram_Hann/Train/spc_c05_321.png  \n",
            "  inflating: /content/Spectrogram_Hann/Train/spc_b01_438.png  \n",
            "  inflating: /content/Spectrogram_Hann/Train/spc_a01_168.png  \n",
            "  inflating: /content/Spectrogram_Hann/Train/spc_c04_126.png  \n",
            "  inflating: /content/Spectrogram_Hann/Train/spc_c05_335.png  \n",
            "  inflating: /content/Spectrogram_Hann/Train/spc_a10_409.png  \n",
            "  inflating: /content/Spectrogram_Hann/Train/spc_c08_464.png  \n",
            "  inflating: /content/Spectrogram_Hann/Train/spc_c08_302.png  \n",
            "  inflating: /content/Spectrogram_Hann/Train/spc_a06_8.png  \n",
            "  inflating: /content/Spectrogram_Hann/Train/spc_c05_453.png  \n",
            "  inflating: /content/Spectrogram_Hann/Train/spc_a10_76.png  \n",
            "  inflating: /content/Spectrogram_Hann/Train/spc_c08_465.png  \n",
            "  inflating: /content/Spectrogram_Hann/Train/spc_a10_408.png  \n",
            "  inflating: /content/Spectrogram_Hann/Train/spc_c05_334.png  \n",
            "  inflating: /content/Spectrogram_Hann/Train/spc_a01_169.png  \n",
            "  inflating: /content/Spectrogram_Hann/Train/spc_c04_127.png  \n",
            "  inflating: /content/Spectrogram_Hann/Train/spc_b01_439.png  \n",
            "  inflating: /content/Spectrogram_Hann/Train/spc_a10_77.png  \n",
            "  inflating: /content/Spectrogram_Hann/Train/spc_c05_452.png  \n",
            "  inflating: /content/Spectrogram_Hann/Train/spc_c08_303.png  \n",
            "  inflating: /content/Spectrogram_Hann/Train/spc_a06_9.png  \n",
            "  inflating: /content/Spectrogram_Hann/Train/spc_a11_169.png  \n",
            "  inflating: /content/Spectrogram_Hann/Train/spc_c08_317.png  \n",
            "  inflating: /content/Spectrogram_Hann/Train/spc_a15_3.png  \n",
            "  inflating: /content/Spectrogram_Hann/Train/spc_a04_16.png  \n",
            "  inflating: /content/Spectrogram_Hann/Train/spc_b02_288.png  \n",
            "  inflating: /content/Spectrogram_Hann/Train/spc_a10_63.png  \n",
            "  inflating: /content/Spectrogram_Hann/Train/spc_c05_446.png  \n",
            "  inflating: /content/Spectrogram_Hann/Train/spc_c05_320.png  \n",
            "  inflating: /content/Spectrogram_Hann/Train/spc_c04_133.png  \n",
            "  inflating: /content/Spectrogram_Hann/Train/spc_a08_208.png  \n",
            "  inflating: /content/Spectrogram_Hann/Train/spc_c08_471.png  \n",
            "  inflating: /content/Spectrogram_Hann/Train/spc_b04_86.png  \n",
            "  inflating: /content/Spectrogram_Hann/Train/spc_c05_308.png  \n",
            "  inflating: /content/Spectrogram_Hann/Train/spc_b04_232.png  \n",
            "  inflating: /content/Spectrogram_Hann/Train/spc_a03_285.png  \n",
            "  inflating: /content/Spectrogram_Hann/Train/spc_a01_155.png  \n",
            "  inflating: /content/Spectrogram_Hann/Train/spc_b01_405.png  \n",
            "  inflating: /content/Spectrogram_Hann/Train/spc_a03_37.png  \n",
            "  inflating: /content/Spectrogram_Hann/Train/spc_a15_203.png  \n",
            "  inflating: /content/Spectrogram_Hann/Train/spc_a08_220.png  \n",
            "  inflating: /content/Spectrogram_Hann/Train/spc_c08_459.png  \n",
            "  inflating: /content/Spectrogram_Hann/Train/spc_a10_434.png  \n",
            "  inflating: /content/Spectrogram_Hann/Train/spc_a13_291.png  \n",
            "  inflating: /content/Spectrogram_Hann/Train/spc_a11_141.png  \n",
            "  inflating: /content/Spectrogram_Hann/Train/spc_c04_92.png  \n",
            "  inflating: /content/Spectrogram_Hann/Train/spc_a10_352.png  \n",
            "  inflating: /content/Spectrogram_Hann/Train/spc_a05_217.png  \n",
            "  inflating: /content/Spectrogram_Hann/Train/spc_c02_189.png  \n",
            "  inflating: /content/Spectrogram_Hann/Train/spc_b01_363.png  \n",
            "  inflating: /content/Spectrogram_Hann/Train/spc_a05_203.png  \n",
            "  inflating: /content/Spectrogram_Hann/Train/spc_b01_377.png  \n",
            "  inflating: /content/Spectrogram_Hann/Train/spc_a13_285.png  \n",
            "  inflating: /content/Spectrogram_Hann/Train/spc_a11_155.png  \n",
            "  inflating: /content/Spectrogram_Hann/Train/spc_c04_86.png  \n",
            "  inflating: /content/Spectrogram_Hann/Train/spc_a10_346.png  \n",
            "  inflating: /content/Spectrogram_Hann/Train/spc_a03_23.png  \n",
            "  inflating: /content/Spectrogram_Hann/Train/spc_a08_234.png  \n",
            "  inflating: /content/Spectrogram_Hann/Train/spc_a15_217.png  \n",
            "  inflating: /content/Spectrogram_Hann/Train/spc_a10_420.png  \n",
            "  inflating: /content/Spectrogram_Hann/Train/spc_b04_92.png  \n",
            "  inflating: /content/Spectrogram_Hann/Train/spc_a03_291.png  \n",
            "  inflating: /content/Spectrogram_Hann/Train/spc_b04_226.png  \n",
            "  inflating: /content/Spectrogram_Hann/Train/spc_a01_141.png  \n",
            "  inflating: /content/Spectrogram_Hann/Train/spc_b01_411.png  \n",
            "  inflating: /content/Spectrogram_Hann/Train/spc_c03_403.png  \n",
            "  inflating: /content/Spectrogram_Hann/Train/spc_b04_79.png  \n",
            "  inflating: /content/Spectrogram_Hann/Train/spc_c06_234.png  \n",
            "  inflating: /content/Spectrogram_Hann/Train/spc_c03_64.png  \n",
            "  inflating: /content/Spectrogram_Hann/Train/spc_a16_459.png  \n",
            "  inflating: /content/Spectrogram_Hann/Train/spc_b03_70.png  \n",
            "  inflating: /content/Spectrogram_Hann/Train/spc_c02_176.png  \n",
            "  inflating: /content/Spectrogram_Hann/Train/spc_a07_138.png  \n",
            "  inflating: /content/Spectrogram_Hann/Train/spc_c03_365.png  \n",
            "  inflating: /content/Spectrogram_Hann/Train/spc_b03_64.png  \n",
            "  inflating: /content/Spectrogram_Hann/Train/spc_a03_508.png  \n",
            "  inflating: /content/Spectrogram_Hann/Train/spc_c02_162.png  \n",
            "  inflating: /content/Spectrogram_Hann/Train/spc_c03_371.png  \n",
            "  inflating: /content/Spectrogram_Hann/Train/spc_b01_388.png  \n",
            "  inflating: /content/Spectrogram_Hann/Train/spc_a08_6.png  \n",
            "  inflating: /content/Spectrogram_Hann/Train/spc_c04_79.png  \n",
            "  inflating: /content/Spectrogram_Hann/Train/spc_c03_70.png  \n",
            "  inflating: /content/Spectrogram_Hann/Train/spc_c03_417.png  \n",
            "  inflating: /content/Spectrogram_Hann/Train/spc_a06_459.png  \n",
            "  inflating: /content/Spectrogram_Hann/Train/spc_c06_220.png  \n",
            "  inflating: /content/Spectrogram_Hann/Train/spc_c03_58.png  \n",
            "  inflating: /content/Spectrogram_Hann/Train/spc_a16_303.png  \n",
            "  inflating: /content/Spectrogram_Hann/Train/spc_a06_471.png  \n",
            "  inflating: /content/Spectrogram_Hann/Train/spc_b02_505.png  \n",
            "  inflating: /content/Spectrogram_Hann/Train/spc_b04_45.png  \n",
            "  inflating: /content/Spectrogram_Hann/Train/spc_a03_246.png  \n",
            "  inflating: /content/Spectrogram_Hann/Train/spc_c06_208.png  \n",
            "  inflating: /content/Spectrogram_Hann/Train/spc_a01_196.png  \n",
            "  inflating: /content/Spectrogram_Hann/Train/spc_b02_263.png  \n",
            "  inflating: /content/Spectrogram_Hann/Train/spc_a07_104.png  \n",
            "  inflating: /content/Spectrogram_Hann/Train/spc_a10_88.png  \n",
            "  inflating: /content/Spectrogram_Hann/Train/spc_a06_317.png  \n",
            "  inflating: /content/Spectrogram_Hann/Train/spc_c03_359.png  \n",
            "  inflating: /content/Spectrogram_Hann/Train/spc_a16_465.png  \n",
            "  inflating: /content/Spectrogram_Hann/Train/spc_a13_252.png  \n",
            "  inflating: /content/Spectrogram_Hann/Train/spc_a11_182.png  \n",
            "  inflating: /content/Spectrogram_Hann/Train/spc_c04_51.png  \n",
            "  inflating: /content/Spectrogram_Hann/Train/spc_a10_391.png  \n",
            "  inflating: /content/Spectrogram_Hann/Train/spc_a16_471.png  \n",
            "  inflating: /content/Spectrogram_Hann/Train/spc_a13_246.png  \n",
            "  inflating: /content/Spectrogram_Hann/Train/spc_a11_196.png  \n",
            "  inflating: /content/Spectrogram_Hann/Train/spc_c04_45.png  \n",
            "  inflating: /content/Spectrogram_Hann/Train/spc_a10_385.png  \n",
            "  inflating: /content/Spectrogram_Hann/Train/spc_b03_58.png  \n",
            "  inflating: /content/Spectrogram_Hann/Train/spc_b02_277.png  \n",
            "  inflating: /content/Spectrogram_Hann/Train/spc_a07_110.png  \n",
            "  inflating: /content/Spectrogram_Hann/Train/spc_a06_303.png  \n",
            "  inflating: /content/Spectrogram_Hann/Train/spc_a06_465.png  \n",
            "  inflating: /content/Spectrogram_Hann/Train/spc_b02_511.png  \n",
            "  inflating: /content/Spectrogram_Hann/Train/spc_b04_51.png  \n",
            "  inflating: /content/Spectrogram_Hann/Train/spc_a03_252.png  \n",
            "  inflating: /content/Spectrogram_Hann/Train/spc_a01_182.png  \n",
            "  inflating: /content/Spectrogram_Hann/Train/spc_a16_317.png  \n",
            "  inflating: /content/Spectrogram_Hann/Train/spc_a14_13.png  \n",
            "  inflating: /content/Spectrogram_Hann/Train/spc_c08_101.png  \n",
            "  inflating: /content/Spectrogram_Hann/Train/spc_c04_443.png  \n",
            "  inflating: /content/Spectrogram_Hann/Train/spc_c01_274.png  \n",
            "  inflating: /content/Spectrogram_Hann/Train/spc_a09_42.png  \n",
            "  inflating: /content/Spectrogram_Hann/Train/spc_c04_325.png  \n",
            "  inflating: /content/Spectrogram_Hann/Train/spc_c05_136.png  \n",
            "  inflating: /content/Spectrogram_Hann/Train/spc_a11_419.png  \n",
            "  inflating: /content/Spectrogram_Hann/Train/spc_a09_219.png  \n",
            "  inflating: /content/Spectrogram_Hann/Train/spc_c04_331.png  \n",
            "  inflating: /content/Spectrogram_Hann/Train/spc_a09_56.png  \n",
            "  inflating: /content/Spectrogram_Hann/Train/spc_c05_122.png  \n",
            "  inflating: /content/Spectrogram_Hann/Train/spc_a01_419.png  \n",
            "  inflating: /content/Spectrogram_Hann/Train/spc_c04_457.png  \n",
            "  inflating: /content/Spectrogram_Hann/Train/spc_b03_299.png  \n",
            "  inflating: /content/Spectrogram_Hann/Train/spc_c01_260.png  \n",
            "  inflating: /content/Spectrogram_Hann/Train/spc_b01_149.png  \n",
            "  inflating: /content/Spectrogram_Hann/Train/spc_a10_178.png  \n",
            "  inflating: /content/Spectrogram_Hann/Train/spc_c08_115.png  \n",
            "  inflating: /content/Spectrogram_Hann/Train/spc_a01_431.png  \n",
            "  inflating: /content/Spectrogram_Hann/Train/spc_c03_198.png  \n",
            "  inflating: /content/Spectrogram_Hann/Train/spc_b01_161.png  \n",
            "  inflating: /content/Spectrogram_Hann/Train/spc_c01_248.png  \n",
            "  inflating: /content/Spectrogram_Hann/Train/spc_a04_206.png  \n",
            "  inflating: /content/Spectrogram_Hann/Train/spc_a10_150.png  \n",
            "  inflating: /content/Spectrogram_Hann/Train/spc_a12_280.png  \n",
            "  inflating: /content/Spectrogram_Hann/Train/spc_a11_343.png  \n",
            "  inflating: /content/Spectrogram_Hann/Train/spc_a11_425.png  \n",
            "  inflating: /content/Spectrogram_Hann/Train/spc_a13_26.png  \n",
            "  inflating: /content/Spectrogram_Hann/Train/spc_a14_212.png  \n",
            "  inflating: /content/Spectrogram_Hann/Train/spc_a09_231.png  \n",
            "  inflating: /content/Spectrogram_Hann/Train/spc_a07_53.png  \n",
            "  inflating: /content/Spectrogram_Hann/Train/spc_c04_319.png  \n",
            "  inflating: /content/Spectrogram_Hann/Train/spc_a01_357.png  \n",
            "  inflating: /content/Spectrogram_Hann/Train/spc_a02_294.png  \n",
            "  inflating: /content/Spectrogram_Hann/Train/spc_a07_47.png  \n",
            "  inflating: /content/Spectrogram_Hann/Train/spc_a01_343.png  \n",
            "  inflating: /content/Spectrogram_Hann/Train/spc_a02_280.png  \n",
            "  inflating: /content/Spectrogram_Hann/Train/spc_a11_431.png  \n",
            "  inflating: /content/Spectrogram_Hann/Train/spc_a13_32.png  \n",
            "  inflating: /content/Spectrogram_Hann/Train/spc_a09_225.png  \n",
            "  inflating: /content/Spectrogram_Hann/Train/spc_a14_206.png  \n",
            "  inflating: /content/Spectrogram_Hann/Train/spc_a10_144.png  \n",
            "  inflating: /content/Spectrogram_Hann/Train/spc_c08_129.png  \n",
            "  inflating: /content/Spectrogram_Hann/Train/spc_a12_294.png  \n",
            "  inflating: /content/Spectrogram_Hann/Train/spc_a11_357.png  \n",
            "  inflating: /content/Spectrogram_Hann/Train/spc_a01_425.png  \n",
            "  inflating: /content/Spectrogram_Hann/Train/spc_b01_175.png  \n",
            "  inflating: /content/Spectrogram_Hann/Train/spc_a04_212.png  \n",
            "  inflating: /content/Spectrogram_Hann/Train/spc_c03_167.png  \n",
            "  inflating: /content/Spectrogram_Hann/Train/spc_a06_129.png  \n",
            "  inflating: /content/Spectrogram_Hann/Train/spc_c02_374.png  \n",
            "  inflating: /content/Spectrogram_Hann/Train/spc_a12_519.png  \n",
            "  inflating: /content/Spectrogram_Hann/Train/spc_a09_81.png  \n",
            "  inflating: /content/Spectrogram_Hann/Train/spc_c07_225.png  \n",
            "  inflating: /content/Spectrogram_Hann/Train/spc_c02_412.png  \n",
            "  inflating: /content/Spectrogram_Hann/Train/spc_a09_95.png  \n",
            "  inflating: /content/Spectrogram_Hann/Train/spc_c07_14.png  \n",
            "  inflating: /content/Spectrogram_Hann/Train/spc_c07_231.png  \n",
            "  inflating: /content/Spectrogram_Hann/Train/spc_c02_406.png  \n",
            "  inflating: /content/Spectrogram_Hann/Train/spc_a07_448.png  \n",
            "  inflating: /content/Spectrogram_Hann/Train/spc_a16_129.png  \n",
            "  inflating: /content/Spectrogram_Hann/Train/spc_c03_173.png  \n",
            "  inflating: /content/Spectrogram_Hann/Train/spc_c02_360.png  \n",
            "  inflating: /content/Spectrogram_Hann/Train/spc_a02_519.png  \n",
            "  inflating: /content/Spectrogram_Hann/Train/spc_a10_193.png  \n",
            "  inflating: /content/Spectrogram_Hann/Train/spc_a12_243.png  \n",
            "  inflating: /content/Spectrogram_Hann/Train/spc_a11_380.png  \n",
            "  inflating: /content/Spectrogram_Hann/Train/spc_a06_115.png  \n",
            "  inflating: /content/Spectrogram_Hann/Train/spc_b03_272.png  \n",
            "  inflating: /content/Spectrogram_Hann/Train/spc_a07_306.png  \n",
            "  inflating: /content/Spectrogram_Hann/Train/spc_c02_348.png  \n",
            "  inflating: /content/Spectrogram_Hann/Train/spc_a01_394.png  \n",
            "  inflating: /content/Spectrogram_Hann/Train/spc_a02_257.png  \n",
            "  inflating: /content/Spectrogram_Hann/Train/spc_c07_219.png  \n",
            "  inflating: /content/Spectrogram_Hann/Train/spc_a07_460.png  \n",
            "  inflating: /content/Spectrogram_Hann/Train/spc_a07_90.png  \n",
            "  inflating: /content/Spectrogram_Hann/Train/spc_a16_101.png  \n",
            "  inflating: /content/Spectrogram_Hann/Train/spc_a12_525.png  \n",
            "  inflating: /content/Spectrogram_Hann/Train/spc_a16_115.png  \n",
            "  inflating: /content/Spectrogram_Hann/Train/spc_a12_531.png  \n",
            "  inflating: /content/Spectrogram_Hann/Train/spc_c07_28.png  \n",
            "  inflating: /content/Spectrogram_Hann/Train/spc_a01_380.png  \n",
            "  inflating: /content/Spectrogram_Hann/Train/spc_a02_243.png  \n",
            "  inflating: /content/Spectrogram_Hann/Train/spc_a07_474.png  \n",
            "  inflating: /content/Spectrogram_Hann/Train/spc_a07_84.png  \n",
            "  inflating: /content/Spectrogram_Hann/Train/spc_a06_101.png  \n",
            "  inflating: /content/Spectrogram_Hann/Train/spc_b03_266.png  \n",
            "  inflating: /content/Spectrogram_Hann/Train/spc_a07_312.png  \n",
            "  inflating: /content/Spectrogram_Hann/Train/spc_a02_525.png  \n",
            "  inflating: /content/Spectrogram_Hann/Train/spc_a10_187.png  \n",
            "  inflating: /content/Spectrogram_Hann/Train/spc_a12_257.png  \n",
            "  inflating: /content/Spectrogram_Hann/Train/spc_a11_394.png  \n",
            "  inflating: /content/Spectrogram_Hann/Train/spc_c01_300.png  \n",
            "  inflating: /content/Spectrogram_Hann/Train/spc_c07_392.png  \n",
            "  inflating: /content/Spectrogram_Hann/Train/spc_a16_16.png  \n",
            "  inflating: /content/Spectrogram_Hann/Train/spc_c06_181.png  \n",
            "  inflating: /content/Spectrogram_Hann/Train/spc_b04_178.png  \n",
            "  inflating: /content/Spectrogram_Hann/Train/spc_c04_251.png  \n",
            "  inflating: /content/Spectrogram_Hann/Train/spc_a04_428.png  \n",
            "  inflating: /content/Spectrogram_Hann/Train/spc_c01_466.png  \n",
            "  inflating: /content/Spectrogram_Hann/Train/spc_a09_379.png  \n",
            "  inflating: /content/Spectrogram_Hann/Train/spc_a15_149.png  \n",
            "  inflating: /content/Spectrogram_Hann/Train/spc_a11_7.png  \n",
            "  inflating: /content/Spectrogram_Hann/Train/spc_a02_63.png  \n",
            "  inflating: /content/Spectrogram_Hann/Train/spc_a02_77.png  \n",
            "  inflating: /content/Spectrogram_Hann/Train/spc_c07_386.png  \n",
            "  inflating: /content/Spectrogram_Hann/Train/spc_c06_195.png  \n",
            "  inflating: /content/Spectrogram_Hann/Train/spc_c04_245.png  \n",
            "  inflating: /content/Spectrogram_Hann/Train/spc_c01_472.png  \n",
            "  inflating: /content/Spectrogram_Hann/Train/spc_a05_149.png  \n",
            "  inflating: /content/Spectrogram_Hann/Train/spc_a07_299.png  \n",
            "  inflating: /content/Spectrogram_Hann/Train/spc_c01_314.png  \n",
            "  inflating: /content/Spectrogram_Hann/Train/spc_a14_428.png  \n",
            "  inflating: /content/Spectrogram_Hann/Train/spc_a05_161.png  \n",
            "  inflating: /content/Spectrogram_Hann/Train/spc_a04_372.png  \n",
            "  inflating: /content/Spectrogram_Hann/Train/spc_a11_23.png  \n",
            "  inflating: /content/Spectrogram_Hann/Train/spc_a02_486.png  \n",
            "  inflating: /content/Spectrogram_Hann/Train/spc_a11_237.png  \n",
            "  inflating: /content/Spectrogram_Hann/Train/spc_a05_56.png  \n",
            "  inflating: /content/Spectrogram_Hann/Train/spc_a09_423.png  \n",
            "  inflating: /content/Spectrogram_Hann/Train/spc_a14_400.png  \n",
            "  inflating: /content/Spectrogram_Hann/Train/spc_a09_345.png  \n",
            "  inflating: /content/Spectrogram_Hann/Train/spc_a14_366.png  \n",
            "  inflating: /content/Spectrogram_Hann/Train/spc_a15_175.png  \n",
            "  inflating: /content/Spectrogram_Hann/Train/spc_a08_156.png  \n",
            "  inflating: /content/Spectrogram_Hann/Train/spc_a12_492.png  \n",
            "  inflating: /content/Spectrogram_Hann/Train/spc_a01_223.png  \n",
            "  inflating: /content/Spectrogram_Hann/Train/spc_b04_144.png  \n",
            "  inflating: /content/Spectrogram_Hann/Train/spc_a04_414.png  \n",
            "  inflating: /content/Spectrogram_Hann/Train/spc_c04_279.png  \n",
            "  inflating: /content/Spectrogram_Hann/Train/spc_a01_237.png  \n",
            "  inflating: /content/Spectrogram_Hann/Train/spc_b04_150.png  \n",
            "  inflating: /content/Spectrogram_Hann/Train/spc_a04_400.png  \n",
            "  inflating: /content/Spectrogram_Hann/Train/spc_a14_372.png  \n",
            "  inflating: /content/Spectrogram_Hann/Train/spc_a09_351.png  \n",
            "  inflating: /content/Spectrogram_Hann/Train/spc_a08_142.png  \n",
            "  inflating: /content/Spectrogram_Hann/Train/spc_a15_161.png  \n",
            "  inflating: /content/Spectrogram_Hann/Train/spc_a12_486.png  \n",
            "  inflating: /content/Spectrogram_Hann/Train/spc_a11_223.png  \n",
            "  inflating: /content/Spectrogram_Hann/Train/spc_a05_42.png  \n",
            "  inflating: /content/Spectrogram_Hann/Train/spc_a14_414.png  \n",
            "  inflating: /content/Spectrogram_Hann/Train/spc_a09_437.png  \n",
            "  inflating: /content/Spectrogram_Hann/Train/spc_a05_175.png  \n",
            "  inflating: /content/Spectrogram_Hann/Train/spc_c01_328.png  \n",
            "  inflating: /content/Spectrogram_Hann/Train/spc_a04_366.png  \n",
            "  inflating: /content/Spectrogram_Hann/Train/spc_a11_37.png  \n",
            "  inflating: /content/Spectrogram_Hann/Train/spc_a02_492.png  \n",
            "  inflating: /content/Spectrogram_Hann/Train/spc_a02_479.png  \n",
            "  inflating: /content/Spectrogram_Hann/Train/spc_b02_129.png  \n",
            "  inflating: /content/Spectrogram_Hann/Train/spc_c02_200.png  \n",
            "  inflating: /content/Spectrogram_Hann/Train/spc_b02_18.png  \n",
            "  inflating: /content/Spectrogram_Hann/Train/spc_a13_118.png  \n",
            "  inflating: /content/Spectrogram_Hann/Train/spc_a14_399.png  \n",
            "  inflating: /content/Spectrogram_Hann/Train/spc_c07_351.png  \n",
            "  inflating: /content/Spectrogram_Hann/Train/spc_c06_142.png  \n",
            "  inflating: /content/Spectrogram_Hann/Train/spc_c04_292.png  \n",
            "  inflating: /content/Spectrogram_Hann/Train/spc_c07_345.png  \n",
            "  inflating: /content/Spectrogram_Hann/Train/spc_c06_156.png  \n",
            "  inflating: /content/Spectrogram_Hann/Train/spc_a03_118.png  \n",
            "  inflating: /content/Spectrogram_Hann/Train/spc_c04_286.png  \n",
            "  inflating: /content/Spectrogram_Hann/Train/spc_a12_479.png  \n",
            "  inflating: /content/Spectrogram_Hann/Train/spc_c02_18.png  \n",
            "  inflating: /content/Spectrogram_Hann/Train/spc_c05_11.png  \n",
            "  inflating: /content/Spectrogram_Hann/Train/spc_c07_423.png  \n",
            "  inflating: /content/Spectrogram_Hann/Train/spc_c02_214.png  \n",
            "  inflating: /content/Spectrogram_Hann/Train/spc_a04_399.png  \n",
            "  inflating: /content/Spectrogram_Hann/Train/spc_c05_39.png  \n",
            "  inflating: /content/Spectrogram_Hann/Train/spc_a13_124.png  \n",
            "  inflating: /content/Spectrogram_Hann/Train/spc_a05_95.png  \n",
            "  inflating: /content/Spectrogram_Hann/Train/spc_a12_337.png  \n",
            "  inflating: /content/Spectrogram_Hann/Train/spc_a02_445.png  \n",
            "  inflating: /content/Spectrogram_Hann/Train/spc_a07_272.png  \n",
            "  inflating: /content/Spectrogram_Hann/Train/spc_b02_115.png  \n",
            "  inflating: /content/Spectrogram_Hann/Train/spc_b02_24.png  \n",
            "  inflating: /content/Spectrogram_Hann/Train/spc_b03_306.png  \n",
            "  inflating: /content/Spectrogram_Hann/Train/spc_a02_323.png  \n",
            "  inflating: /content/Spectrogram_Hann/Train/spc_a03_130.png  \n",
            "  inflating: /content/Spectrogram_Hann/Train/spc_b04_187.png  \n",
            "  inflating: /content/Spectrogram_Hann/Train/spc_a12_451.png  \n",
            "  inflating: /content/Spectrogram_Hann/Train/spc_c02_30.png  \n",
            "  inflating: /content/Spectrogram_Hann/Train/spc_a09_386.png  \n",
            "  inflating: /content/Spectrogram_Hann/Train/spc_a08_195.png  \n",
            "  inflating: /content/Spectrogram_Hann/Train/spc_a12_445.png  \n",
            "  inflating: /content/Spectrogram_Hann/Train/spc_a02_88.png  \n",
            "  inflating: /content/Spectrogram_Hann/Train/spc_c02_24.png  \n",
            "  inflating: /content/Spectrogram_Hann/Train/spc_a09_392.png  \n",
            "  inflating: /content/Spectrogram_Hann/Train/spc_a08_181.png  \n",
            "  inflating: /content/Spectrogram_Hann/Train/spc_a07_500.png  \n",
            "  inflating: /content/Spectrogram_Hann/Train/spc_a02_337.png  \n",
            "  inflating: /content/Spectrogram_Hann/Train/spc_c07_379.png  \n",
            "  inflating: /content/Spectrogram_Hann/Train/spc_b04_193.png  \n",
            "  inflating: /content/Spectrogram_Hann/Train/spc_a03_124.png  \n",
            "  inflating: /content/Spectrogram_Hann/Train/spc_a02_451.png  \n",
            "  inflating: /content/Spectrogram_Hann/Train/spc_a07_266.png  \n",
            "  inflating: /content/Spectrogram_Hann/Train/spc_c02_228.png  \n",
            "  inflating: /content/Spectrogram_Hann/Train/spc_b02_101.png  \n",
            "  inflating: /content/Spectrogram_Hann/Train/spc_b02_30.png  \n",
            "  inflating: /content/Spectrogram_Hann/Train/spc_b03_312.png  \n",
            "  inflating: /content/Spectrogram_Hann/Train/spc_a13_130.png  \n",
            "  inflating: /content/Spectrogram_Hann/Train/spc_a05_81.png  \n",
            "  inflating: /content/Spectrogram_Hann/Train/spc_a12_323.png  \n",
            "  inflating: /content/Spectrogram_Hann/Train/spc_c08_511.png  \n",
            "  inflating: /content/Spectrogram_Hann/Train/spc_a12_72.png  \n",
            "  inflating: /content/Spectrogram_Hann/Train/spc_a13_5.png  \n",
            "  inflating: /content/Spectrogram_Hann/Train/spc_a08_368.png  \n",
            "  inflating: /content/Spectrogram_Hann/Train/spc_a16_288.png  \n",
            "  inflating: /content/Spectrogram_Hann/Train/spc_a14_158.png  \n",
            "  inflating: /content/Spectrogram_Hann/Train/spc_a05_439.png  \n",
            "  inflating: /content/Spectrogram_Hann/Train/spc_c08_86.png  \n",
            "  inflating: /content/Spectrogram_Hann/Train/spc_c06_383.png  \n",
            "  inflating: /content/Spectrogram_Hann/Train/spc_c05_240.png  \n",
            "  inflating: /content/Spectrogram_Hann/Train/spc_c07_190.png  \n",
            "  inflating: /content/Spectrogram_Hann/Train/spc_c01_102.png  \n",
            "  inflating: /content/Spectrogram_Hann/Train/spc_c08_277.png  \n",
            "  inflating: /content/Spectrogram_Hann/Train/spc_a15_439.png  \n",
            "  inflating: /content/Spectrogram_Hann/Train/spc_c08_263.png  \n",
            "  inflating: /content/Spectrogram_Hann/Train/spc_b04_408.png  \n",
            "  inflating: /content/Spectrogram_Hann/Train/spc_a06_288.png  \n",
            "  inflating: /content/Spectrogram_Hann/Train/spc_a04_158.png  \n",
            "  inflating: /content/Spectrogram_Hann/Train/spc_c01_116.png  \n",
            "  inflating: /content/Spectrogram_Hann/Train/spc_a06_13.png  \n",
            "  inflating: /content/Spectrogram_Hann/Train/spc_c06_397.png  \n",
            "  inflating: /content/Spectrogram_Hann/Train/spc_c08_92.png  \n",
            "  inflating: /content/Spectrogram_Hann/Train/spc_c05_254.png  \n",
            "  inflating: /content/Spectrogram_Hann/Train/spc_c07_184.png  \n",
            "  inflating: /content/Spectrogram_Hann/Train/spc_c08_505.png  \n",
            "  inflating: /content/Spectrogram_Hann/Train/spc_a12_66.png  \n",
            "  inflating: /content/Spectrogram_Hann/Train/spc_a05_405.png  \n",
            "  inflating: /content/Spectrogram_Hann/Train/spc_c06_97.png  \n",
            "  inflating: /content/Spectrogram_Hann/Train/spc_a08_16.png  \n",
            "  inflating: /content/Spectrogram_Hann/Train/spc_b04_346.png  \n",
            "  inflating: /content/Spectrogram_Hann/Train/spc_a13_483.png  \n",
            "  inflating: /content/Spectrogram_Hann/Train/spc_a08_354.png  \n",
            "  inflating: /content/Spectrogram_Hann/Train/spc_a15_377.png  \n",
            "  inflating: /content/Spectrogram_Hann/Train/spc_a14_164.png  \n",
            "  inflating: /content/Spectrogram_Hann/Train/spc_a09_147.png  \n",
            "  inflating: /content/Spectrogram_Hann/Train/spc_a08_432.png  \n",
            "  inflating: /content/Spectrogram_Hann/Train/spc_a15_411.png  \n",
            "  inflating: /content/Spectrogram_Hann/Train/spc_a10_226.png  \n",
            "  inflating: /content/Spectrogram_Hann/Train/spc_a15_47.png  \n",
            "  inflating: /content/Spectrogram_Hann/Train/spc_a01_32.png  \n",
            "  inflating: /content/Spectrogram_Hann/Train/spc_a03_497.png  \n",
            "  inflating: /content/Spectrogram_Hann/Train/spc_b04_420.png  \n",
            "  inflating: /content/Spectrogram_Hann/Train/spc_a04_170.png  \n",
            "  inflating: /content/Spectrogram_Hann/Train/spc_b01_217.png  \n",
            "  inflating: /content/Spectrogram_Hann/Train/spc_a05_363.png  \n",
            "  inflating: /content/Spectrogram_Hann/Train/spc_a01_26.png  \n",
            "  inflating: /content/Spectrogram_Hann/Train/spc_a03_483.png  \n",
            "  inflating: /content/Spectrogram_Hann/Train/spc_a04_164.png  \n",
            "  inflating: /content/Spectrogram_Hann/Train/spc_b01_203.png  \n",
            "  inflating: /content/Spectrogram_Hann/Train/spc_a05_377.png  \n",
            "  inflating: /content/Spectrogram_Hann/Train/spc_a15_405.png  \n",
            "  inflating: /content/Spectrogram_Hann/Train/spc_a08_426.png  \n",
            "  inflating: /content/Spectrogram_Hann/Train/spc_a10_232.png  \n",
            "  inflating: /content/Spectrogram_Hann/Train/spc_a15_53.png  \n",
            "  inflating: /content/Spectrogram_Hann/Train/spc_a15_363.png  \n",
            "  inflating: /content/Spectrogram_Hann/Train/spc_a08_340.png  \n",
            "  inflating: /content/Spectrogram_Hann/Train/spc_a09_153.png  \n",
            "  inflating: /content/Spectrogram_Hann/Train/spc_a14_170.png  \n",
            "  inflating: /content/Spectrogram_Hann/Train/spc_a05_411.png  \n",
            "  inflating: /content/Spectrogram_Hann/Train/spc_c06_83.png  \n",
            "  inflating: /content/Spectrogram_Hann/Train/spc_b04_352.png  \n",
            "  inflating: /content/Spectrogram_Hann/Train/spc_c05_268.png  \n",
            "  inflating: /content/Spectrogram_Hann/Train/spc_c06_340.png  \n",
            "  inflating: /content/Spectrogram_Hann/Train/spc_c08_45.png  \n",
            "  inflating: /content/Spectrogram_Hann/Train/spc_c05_283.png  \n",
            "  inflating: /content/Spectrogram_Hann/Train/spc_c07_153.png  \n",
            "  inflating: /content/Spectrogram_Hann/Train/spc_c06_68.png  \n",
            "  inflating: /content/Spectrogram_Hann/Train/spc_a15_388.png  \n",
            "  inflating: /content/Spectrogram_Hann/Train/spc_b01_75.png  \n",
            "  inflating: /content/Spectrogram_Hann/Train/spc_c03_8.png  \n",
            "  inflating: /content/Spectrogram_Hann/Train/spc_a12_109.png  \n",
            "  inflating: /content/Spectrogram_Hann/Train/spc_c03_211.png  \n",
            "  inflating: /content/Spectrogram_Hann/Train/spc_b03_138.png  \n",
            "  inflating: /content/Spectrogram_Hann/Train/spc_c01_61.png  \n",
            "  inflating: /content/Spectrogram_Hann/Train/spc_c06_426.png  \n",
            "  inflating: /content/Spectrogram_Hann/Train/spc_a03_468.png  \n",
            "  inflating: /content/Spectrogram_Hann/Train/spc_c03_205.png  \n",
            "  inflating: /content/Spectrogram_Hann/Train/spc_a05_388.png  \n",
            "  inflating: /content/Spectrogram_Hann/Train/spc_c01_75.png  \n",
            "  inflating: /content/Spectrogram_Hann/Train/spc_c06_432.png  \n",
            "  inflating: /content/Spectrogram_Hann/Train/spc_b01_61.png  \n",
            "  inflating: /content/Spectrogram_Hann/Train/spc_a13_468.png  \n",
            "  inflating: /content/Spectrogram_Hann/Train/spc_c08_51.png  \n",
            "  inflating: /content/Spectrogram_Hann/Train/spc_c06_354.png  \n",
            "  inflating: /content/Spectrogram_Hann/Train/spc_c05_297.png  \n",
            "  inflating: /content/Spectrogram_Hann/Train/spc_c07_147.png  \n",
            "  inflating: /content/Spectrogram_Hann/Train/spc_a02_109.png  \n",
            "  inflating: /content/Spectrogram_Hann/Train/spc_b02_459.png  \n",
            "  inflating: /content/Spectrogram_Hann/Train/spc_b01_49.png  \n",
            "  inflating: /content/Spectrogram_Hann/Train/spc_a08_397.png  \n",
            "  inflating: /content/Spectrogram_Hann/Train/spc_a09_184.png  \n",
            "  inflating: /content/Spectrogram_Hann/Train/spc_a16_277.png  \n",
            "  inflating: /content/Spectrogram_Hann/Train/spc_a13_440.png  \n",
            "  inflating: /content/Spectrogram_Hann/Train/spc_b04_385.png  \n",
            "  inflating: /content/Spectrogram_Hann/Train/spc_a03_332.png  \n",
            "  inflating: /content/Spectrogram_Hann/Train/spc_c08_79.png  \n",
            "  inflating: /content/Spectrogram_Hann/Train/spc_a02_121.png  \n",
            "  inflating: /content/Spectrogram_Hann/Train/spc_b02_471.png  \n",
            "  inflating: /content/Spectrogram_Hann/Train/spc_c06_54.png  \n",
            "  inflating: /content/Spectrogram_Hann/Train/spc_a06_505.png  \n",
            "  inflating: /content/Spectrogram_Hann/Train/spc_b03_104.png  \n",
            "  inflating: /content/Spectrogram_Hann/Train/spc_a06_263.png  \n",
            "  inflating: /content/Spectrogram_Hann/Train/spc_b02_317.png  \n",
            "  inflating: /content/Spectrogram_Hann/Train/spc_a03_454.png  \n",
            "  inflating: /content/Spectrogram_Hann/Train/spc_a12_135.png  \n",
            "  inflating: /content/Spectrogram_Hann/Train/spc_c08_288.png  \n",
            "  inflating: /content/Spectrogram_Hann/Train/spc_a13_326.png  \n",
            "  inflating: /content/Spectrogram_Hann/Train/spc_a15_84.png  \n",
            "  inflating: /content/Spectrogram_Hann/Train/spc_a12_121.png  \n",
            "  inflating: /content/Spectrogram_Hann/Train/spc_a13_332.png  \n",
            "  inflating: /content/Spectrogram_Hann/Train/spc_a15_90.png  \n",
            "  inflating: /content/Spectrogram_Hann/Train/spc_b03_110.png  \n",
            "  inflating: /content/Spectrogram_Hann/Train/spc_a06_277.png  \n",
            "  inflating: /content/Spectrogram_Hann/Train/spc_c03_239.png  \n",
            "  inflating: /content/Spectrogram_Hann/Train/spc_c01_49.png  \n",
            "  inflating: /content/Spectrogram_Hann/Train/spc_b02_303.png  \n",
            "  inflating: /content/Spectrogram_Hann/Train/spc_a03_440.png  \n",
            "  inflating: /content/Spectrogram_Hann/Train/spc_a03_326.png  \n",
            "  inflating: /content/Spectrogram_Hann/Train/spc_c06_368.png  \n",
            "  inflating: /content/Spectrogram_Hann/Train/spc_b04_391.png  \n",
            "  inflating: /content/Spectrogram_Hann/Train/spc_a02_135.png  \n",
            "  inflating: /content/Spectrogram_Hann/Train/spc_b02_465.png  \n",
            "  inflating: /content/Spectrogram_Hann/Train/spc_c06_40.png  \n",
            "  inflating: /content/Spectrogram_Hann/Train/spc_a08_383.png  \n",
            "  inflating: /content/Spectrogram_Hann/Train/spc_a09_190.png  \n",
            "  inflating: /content/Spectrogram_Hann/Train/spc_a16_263.png  \n",
            "  inflating: /content/Spectrogram_Hann/Train/spc_a13_454.png  \n",
            "  inflating: /content/Spectrogram_Hann/Train/spc_a12_99.png  \n",
            "  inflating: /content/Spectrogram_Hann/Train/spc_c06_78.png  \n",
            "  inflating: /content/Spectrogram_Hann/Train/spc_c06_350.png  \n",
            "  inflating: /content/Spectrogram_Hann/Train/spc_c08_55.png  \n",
            "  inflating: /content/Spectrogram_Hann/Train/spc_c07_143.png  \n",
            "  inflating: /content/Spectrogram_Hann/Train/spc_c05_293.png  \n",
            "  inflating: /content/Spectrogram_Hann/Train/spc_a15_398.png  \n",
            "  inflating: /content/Spectrogram_Hann/Train/spc_b01_65.png  \n",
            "  inflating: /content/Spectrogram_Hann/Train/spc_a12_119.png  \n",
            "  inflating: /content/Spectrogram_Hann/Train/spc_c06_436.png  \n",
            "  inflating: /content/Spectrogram_Hann/Train/spc_a03_478.png  \n",
            "  inflating: /content/Spectrogram_Hann/Train/spc_b03_128.png  \n",
            "  inflating: /content/Spectrogram_Hann/Train/spc_c03_201.png  \n",
            "  inflating: /content/Spectrogram_Hann/Train/spc_c01_71.png  \n",
            "  inflating: /content/Spectrogram_Hann/Train/spc_c06_422.png  \n",
            "  inflating: /content/Spectrogram_Hann/Train/spc_c03_215.png  \n",
            "  inflating: /content/Spectrogram_Hann/Train/spc_a05_398.png  \n",
            "  inflating: /content/Spectrogram_Hann/Train/spc_c01_65.png  \n",
            "  inflating: /content/Spectrogram_Hann/Train/spc_a13_478.png  \n",
            "  inflating: /content/Spectrogram_Hann/Train/spc_b01_71.png  \n",
            "  inflating: /content/Spectrogram_Hann/Train/spc_b02_449.png  \n",
            "  inflating: /content/Spectrogram_Hann/Train/spc_c08_41.png  \n",
            "  inflating: /content/Spectrogram_Hann/Train/spc_c06_344.png  \n",
            "  inflating: /content/Spectrogram_Hann/Train/spc_c07_157.png  \n",
            "  inflating: /content/Spectrogram_Hann/Train/spc_a02_119.png  \n",
            "  inflating: /content/Spectrogram_Hann/Train/spc_c05_287.png  \n",
            "  inflating: /content/Spectrogram_Hann/Train/spc_a13_450.png  \n",
            "  inflating: /content/Spectrogram_Hann/Train/spc_b01_59.png  \n",
            "  inflating: /content/Spectrogram_Hann/Train/spc_a08_387.png  \n",
            "  inflating: /content/Spectrogram_Hann/Train/spc_a16_267.png  \n",
            "  inflating: /content/Spectrogram_Hann/Train/spc_a09_194.png  \n",
            "  inflating: /content/Spectrogram_Hann/Train/spc_b02_461.png  \n",
            "  inflating: /content/Spectrogram_Hann/Train/spc_c06_44.png  \n",
            "  inflating: /content/Spectrogram_Hann/Train/spc_b04_395.png  \n",
            "  inflating: /content/Spectrogram_Hann/Train/spc_a03_322.png  \n",
            "  inflating: /content/Spectrogram_Hann/Train/spc_c08_69.png  \n",
            "  inflating: /content/Spectrogram_Hann/Train/spc_a02_131.png  \n",
            "  inflating: /content/Spectrogram_Hann/Train/spc_a03_444.png  \n",
            "  inflating: /content/Spectrogram_Hann/Train/spc_a06_273.png  \n",
            "  inflating: /content/Spectrogram_Hann/Train/spc_b03_114.png  \n",
            "  inflating: /content/Spectrogram_Hann/Train/spc_b02_307.png  \n",
            "  inflating: /content/Spectrogram_Hann/Train/spc_c08_298.png  \n",
            "  inflating: /content/Spectrogram_Hann/Train/spc_a12_125.png  \n",
            "  inflating: /content/Spectrogram_Hann/Train/spc_a15_94.png  \n",
            "  inflating: /content/Spectrogram_Hann/Train/spc_a13_336.png  \n",
            "  inflating: /content/Spectrogram_Hann/Train/spc_a12_131.png  \n",
            "  inflating: /content/Spectrogram_Hann/Train/spc_a15_80.png  \n",
            "  inflating: /content/Spectrogram_Hann/Train/spc_a13_322.png  \n",
            "  inflating: /content/Spectrogram_Hann/Train/spc_a03_450.png  \n",
            "  inflating: /content/Spectrogram_Hann/Train/spc_a06_267.png  \n",
            "  inflating: /content/Spectrogram_Hann/Train/spc_c03_229.png  \n",
            "  inflating: /content/Spectrogram_Hann/Train/spc_b03_100.png  \n",
            "  inflating: /content/Spectrogram_Hann/Train/spc_b02_313.png  \n",
            "  inflating: /content/Spectrogram_Hann/Train/spc_c01_59.png  \n",
            "  inflating: /content/Spectrogram_Hann/Train/spc_b02_475.png  \n",
            "  inflating: /content/Spectrogram_Hann/Train/spc_a06_501.png  \n",
            "  inflating: /content/Spectrogram_Hann/Train/spc_c06_50.png  \n",
            "  inflating: /content/Spectrogram_Hann/Train/spc_a03_336.png  \n",
            "  inflating: /content/Spectrogram_Hann/Train/spc_c06_378.png  \n",
            "  inflating: /content/Spectrogram_Hann/Train/spc_b04_381.png  \n",
            "  inflating: /content/Spectrogram_Hann/Train/spc_a02_125.png  \n",
            "  inflating: /content/Spectrogram_Hann/Train/spc_a13_444.png  \n",
            "  inflating: /content/Spectrogram_Hann/Train/spc_a12_89.png  \n",
            "  inflating: /content/Spectrogram_Hann/Train/spc_a08_393.png  \n",
            "  inflating: /content/Spectrogram_Hann/Train/spc_a16_273.png  \n",
            "  inflating: /content/Spectrogram_Hann/Train/spc_a09_180.png  \n",
            "  inflating: /content/Spectrogram_Hann/Train/spc_a08_378.png  \n",
            "  inflating: /content/Spectrogram_Hann/Train/spc_a14_148.png  \n",
            "  inflating: /content/Spectrogram_Hann/Train/spc_a16_298.png  \n",
            "  inflating: /content/Spectrogram_Hann/Train/spc_a12_62.png  \n",
            "  inflating: /content/Spectrogram_Hann/Train/spc_c08_501.png  \n",
            "  inflating: /content/Spectrogram_Hann/Train/spc_c08_96.png  \n",
            "  inflating: /content/Spectrogram_Hann/Train/spc_c06_393.png  \n",
            "  inflating: /content/Spectrogram_Hann/Train/spc_a06_17.png  \n",
            "  inflating: /content/Spectrogram_Hann/Train/spc_c07_180.png  \n",
            "  inflating: /content/Spectrogram_Hann/Train/spc_c05_250.png  \n",
            "  inflating: /content/Spectrogram_Hann/Train/spc_a05_429.png  \n",
            "  inflating: /content/Spectrogram_Hann/Train/spc_c01_112.png  \n",
            "  inflating: /content/Spectrogram_Hann/Train/spc_c08_267.png  \n",
            "  inflating: /content/Spectrogram_Hann/Train/spc_c08_273.png  \n",
            "  inflating: /content/Spectrogram_Hann/Train/spc_a15_429.png  \n",
            "  inflating: /content/Spectrogram_Hann/Train/spc_a04_148.png  \n",
            "  inflating: /content/Spectrogram_Hann/Train/spc_c01_106.png  \n",
            "  inflating: /content/Spectrogram_Hann/Train/spc_a06_298.png  \n",
            "  inflating: /content/Spectrogram_Hann/Train/spc_b04_418.png  \n",
            "  inflating: /content/Spectrogram_Hann/Train/spc_c06_387.png  \n",
            "  inflating: /content/Spectrogram_Hann/Train/spc_c08_82.png  \n",
            "  inflating: /content/Spectrogram_Hann/Train/spc_c07_194.png  \n",
            "  inflating: /content/Spectrogram_Hann/Train/spc_c05_244.png  \n",
            "  inflating: /content/Spectrogram_Hann/Train/spc_a13_1.png  \n",
            "  inflating: /content/Spectrogram_Hann/Train/spc_a12_76.png  \n",
            "  inflating: /content/Spectrogram_Hann/Train/spc_b04_356.png  \n",
            "  inflating: /content/Spectrogram_Hann/Train/spc_a05_415.png  \n",
            "  inflating: /content/Spectrogram_Hann/Train/spc_c06_87.png  \n",
            "  inflating: /content/Spectrogram_Hann/Train/spc_a08_344.png  \n",
            "  inflating: /content/Spectrogram_Hann/Train/spc_a15_367.png  \n",
            "  inflating: /content/Spectrogram_Hann/Train/spc_a14_174.png  \n",
            "  inflating: /content/Spectrogram_Hann/Train/spc_a09_157.png  \n",
            "  inflating: /content/Spectrogram_Hann/Train/spc_a10_236.png  \n",
            "  inflating: /content/Spectrogram_Hann/Train/spc_a15_57.png  \n",
            "  inflating: /content/Spectrogram_Hann/Train/spc_a08_422.png  \n",
            "  inflating: /content/Spectrogram_Hann/Train/spc_a15_401.png  \n",
            "  inflating: /content/Spectrogram_Hann/Train/spc_b01_207.png  \n",
            "  inflating: /content/Spectrogram_Hann/Train/spc_a04_160.png  \n",
            "  inflating: /content/Spectrogram_Hann/Train/spc_a05_373.png  \n",
            "  inflating: /content/Spectrogram_Hann/Train/spc_a01_22.png  \n",
            "  inflating: /content/Spectrogram_Hann/Train/spc_a03_487.png  \n",
            "  inflating: /content/Spectrogram_Hann/Train/spc_b01_213.png  \n",
            "  inflating: /content/Spectrogram_Hann/Train/spc_a04_174.png  \n",
            "  inflating: /content/Spectrogram_Hann/Train/spc_a05_367.png  \n",
            "  inflating: /content/Spectrogram_Hann/Train/spc_a01_36.png  \n",
            "  inflating: /content/Spectrogram_Hann/Train/spc_b04_424.png  \n",
            "  inflating: /content/Spectrogram_Hann/Train/spc_a03_493.png  \n",
            "  inflating: /content/Spectrogram_Hann/Train/spc_a10_222.png  \n",
            "  inflating: /content/Spectrogram_Hann/Train/spc_a15_43.png  \n",
            "  inflating: /content/Spectrogram_Hann/Train/spc_a15_415.png  \n",
            "  inflating: /content/Spectrogram_Hann/Train/spc_a08_436.png  \n",
            "  inflating: /content/Spectrogram_Hann/Train/spc_a15_373.png  \n",
            "  inflating: /content/Spectrogram_Hann/Train/spc_a08_350.png  \n",
            "  inflating: /content/Spectrogram_Hann/Train/spc_a09_143.png  \n",
            "  inflating: /content/Spectrogram_Hann/Train/spc_a14_160.png  \n",
            "  inflating: /content/Spectrogram_Hann/Train/spc_a13_487.png  \n",
            "  inflating: /content/Spectrogram_Hann/Train/spc_b04_342.png  \n",
            "  inflating: /content/Spectrogram_Hann/Train/spc_c05_278.png  \n",
            "  inflating: /content/Spectrogram_Hann/Train/spc_a05_401.png  \n",
            "  inflating: /content/Spectrogram_Hann/Train/spc_a08_12.png  \n",
            "  inflating: /content/Spectrogram_Hann/Train/spc_c06_93.png  \n",
            "  inflating: /content/Spectrogram_Hann/Train/spc_c02_210.png  \n",
            "  inflating: /content/Spectrogram_Hann/Train/spc_b02_139.png  \n",
            "  inflating: /content/Spectrogram_Hann/Train/spc_a02_469.png  \n",
            "  inflating: /content/Spectrogram_Hann/Train/spc_a13_108.png  \n",
            "  inflating: /content/Spectrogram_Hann/Train/spc_c05_15.png  \n",
            "  inflating: /content/Spectrogram_Hann/Train/spc_a14_389.png  \n",
            "  inflating: /content/Spectrogram_Hann/Train/spc_b03_9.png  \n",
            "  inflating: /content/Spectrogram_Hann/Train/spc_c07_341.png  \n",
            "  inflating: /content/Spectrogram_Hann/Train/spc_c04_282.png  \n",
            "  inflating: /content/Spectrogram_Hann/Train/spc_c06_152.png  \n",
            "  inflating: /content/Spectrogram_Hann/Train/spc_c07_355.png  \n",
            "  inflating: /content/Spectrogram_Hann/Train/spc_c04_296.png  \n",
            "  inflating: /content/Spectrogram_Hann/Train/spc_c06_146.png  \n",
            "  inflating: /content/Spectrogram_Hann/Train/spc_a03_108.png  \n",
            "  inflating: /content/Spectrogram_Hann/Train/spc_a12_469.png  \n",
            "  inflating: /content/Spectrogram_Hann/Train/spc_c02_204.png  \n",
            "  inflating: /content/Spectrogram_Hann/Train/spc_a04_389.png  \n",
            "  inflating: /content/Spectrogram_Hann/Train/spc_a13_134.png  \n",
            "  inflating: /content/Spectrogram_Hann/Train/spc_a12_327.png  \n",
            "  inflating: /content/Spectrogram_Hann/Train/spc_a05_85.png  \n",
            "  inflating: /content/Spectrogram_Hann/Train/spc_c05_29.png  \n",
            "  inflating: /content/Spectrogram_Hann/Train/spc_b02_105.png  \n",
            "  inflating: /content/Spectrogram_Hann/Train/spc_a07_262.png  \n",
            "  inflating: /content/Spectrogram_Hann/Train/spc_b03_316.png  \n",
            "  inflating: /content/Spectrogram_Hann/Train/spc_b02_34.png  \n",
            "  inflating: /content/Spectrogram_Hann/Train/spc_a02_455.png  \n",
            "  inflating: /content/Spectrogram_Hann/Train/spc_a02_333.png  \n",
            "  inflating: /content/Spectrogram_Hann/Train/spc_a03_120.png  \n",
            "  inflating: /content/Spectrogram_Hann/Train/spc_b04_197.png  \n",
            "  inflating: /content/Spectrogram_Hann/Train/spc_a07_504.png  \n",
            "  inflating: /content/Spectrogram_Hann/Train/spc_a09_396.png  \n",
            "  inflating: /content/Spectrogram_Hann/Train/spc_c02_20.png  \n",
            "  inflating: /content/Spectrogram_Hann/Train/spc_a08_185.png  \n",
            "  inflating: /content/Spectrogram_Hann/Train/spc_a12_441.png  \n",
            "  inflating: /content/Spectrogram_Hann/Train/spc_a09_382.png  \n",
            "  inflating: /content/Spectrogram_Hann/Train/spc_c02_34.png  \n",
            "  inflating: /content/Spectrogram_Hann/Train/spc_a08_191.png  \n",
            "  inflating: /content/Spectrogram_Hann/Train/spc_a12_455.png  \n",
            "  inflating: /content/Spectrogram_Hann/Train/spc_a02_98.png  \n",
            "  inflating: /content/Spectrogram_Hann/Train/spc_a02_327.png  \n",
            "  inflating: /content/Spectrogram_Hann/Train/spc_c07_369.png  \n",
            "  inflating: /content/Spectrogram_Hann/Train/spc_b04_183.png  \n",
            "  inflating: /content/Spectrogram_Hann/Train/spc_a03_134.png  \n",
            "  inflating: /content/Spectrogram_Hann/Train/spc_b02_111.png  \n",
            "  inflating: /content/Spectrogram_Hann/Train/spc_a07_276.png  \n",
            "  inflating: /content/Spectrogram_Hann/Train/spc_c02_238.png  \n",
            "  inflating: /content/Spectrogram_Hann/Train/spc_b03_302.png  \n",
            "  inflating: /content/Spectrogram_Hann/Train/spc_b02_20.png  \n",
            "  inflating: /content/Spectrogram_Hann/Train/spc_a02_441.png  \n",
            "  inflating: /content/Spectrogram_Hann/Train/spc_a13_120.png  \n",
            "  inflating: /content/Spectrogram_Hann/Train/spc_a12_333.png  \n",
            "  inflating: /content/Spectrogram_Hann/Train/spc_a05_91.png  \n",
            "  inflating: /content/Spectrogram_Hann/Train/spc_c01_310.png  \n",
            "  inflating: /content/Spectrogram_Hann/Train/spc_a04_438.png  \n",
            "  inflating: /content/Spectrogram_Hann/Train/spc_c01_476.png  \n",
            "  inflating: /content/Spectrogram_Hann/Train/spc_c07_382.png  \n",
            "  inflating: /content/Spectrogram_Hann/Train/spc_c04_241.png  \n",
            "  inflating: /content/Spectrogram_Hann/Train/spc_c06_191.png  \n",
            "  inflating: /content/Spectrogram_Hann/Train/spc_b04_168.png  \n",
            "  inflating: /content/Spectrogram_Hann/Train/spc_a02_9.png  \n",
            "  inflating: /content/Spectrogram_Hann/Train/spc_a02_73.png  \n",
            "  inflating: /content/Spectrogram_Hann/Train/spc_a09_369.png  \n",
            "  inflating: /content/Spectrogram_Hann/Train/spc_a15_159.png  \n",
            "  inflating: /content/Spectrogram_Hann/Train/spc_a02_67.png  \n",
            "  inflating: /content/Spectrogram_Hann/Train/spc_a11_3.png  \n",
            "  inflating: /content/Spectrogram_Hann/Train/spc_c01_462.png  \n",
            "  inflating: /content/Spectrogram_Hann/Train/spc_a16_12.png  \n",
            "  inflating: /content/Spectrogram_Hann/Train/spc_c07_396.png  \n",
            "  inflating: /content/Spectrogram_Hann/Train/spc_c04_255.png  \n",
            "  inflating: /content/Spectrogram_Hann/Train/spc_c06_185.png  \n",
            "  inflating: /content/Spectrogram_Hann/Train/spc_a07_289.png  \n",
            "  inflating: /content/Spectrogram_Hann/Train/spc_a05_159.png  \n",
            "  inflating: /content/Spectrogram_Hann/Train/spc_c01_304.png  \n",
            "  inflating: /content/Spectrogram_Hann/Train/spc_a14_438.png  \n",
            "  inflating: /content/Spectrogram_Hann/Train/spc_a11_33.png  \n",
            "  inflating: /content/Spectrogram_Hann/Train/spc_a02_496.png  \n",
            "  inflating: /content/Spectrogram_Hann/Train/spc_a05_171.png  \n",
            "  inflating: /content/Spectrogram_Hann/Train/spc_a04_362.png  \n",
            "  inflating: /content/Spectrogram_Hann/Train/spc_a09_433.png  \n",
            "  inflating: /content/Spectrogram_Hann/Train/spc_a14_410.png  \n",
            "  inflating: /content/Spectrogram_Hann/Train/spc_a11_227.png  \n",
            "  inflating: /content/Spectrogram_Hann/Train/spc_a05_46.png  \n",
            "  inflating: /content/Spectrogram_Hann/Train/spc_a12_482.png  \n",
            "  inflating: /content/Spectrogram_Hann/Train/spc_a09_355.png  \n",
            "  inflating: /content/Spectrogram_Hann/Train/spc_a14_376.png  \n",
            "  inflating: /content/Spectrogram_Hann/Train/spc_a15_165.png  \n",
            "  inflating: /content/Spectrogram_Hann/Train/spc_a08_146.png  \n",
            "  inflating: /content/Spectrogram_Hann/Train/spc_a04_404.png  \n",
            "  inflating: /content/Spectrogram_Hann/Train/spc_b04_154.png  \n",
            "  inflating: /content/Spectrogram_Hann/Train/spc_a01_233.png  \n",
            "  inflating: /content/Spectrogram_Hann/Train/spc_a04_410.png  \n",
            "  inflating: /content/Spectrogram_Hann/Train/spc_b04_140.png  \n",
            "  inflating: /content/Spectrogram_Hann/Train/spc_c04_269.png  \n",
            "  inflating: /content/Spectrogram_Hann/Train/spc_a01_227.png  \n",
            "  inflating: /content/Spectrogram_Hann/Train/spc_a12_496.png  \n",
            "  inflating: /content/Spectrogram_Hann/Train/spc_a14_362.png  \n",
            "  inflating: /content/Spectrogram_Hann/Train/spc_a09_341.png  \n",
            "  inflating: /content/Spectrogram_Hann/Train/spc_a08_152.png  \n",
            "  inflating: /content/Spectrogram_Hann/Train/spc_a15_171.png  \n",
            "  inflating: /content/Spectrogram_Hann/Train/spc_a14_404.png  \n",
            "  inflating: /content/Spectrogram_Hann/Train/spc_a09_427.png  \n",
            "  inflating: /content/Spectrogram_Hann/Train/spc_a11_233.png  \n",
            "  inflating: /content/Spectrogram_Hann/Train/spc_a05_52.png  \n",
            "  inflating: /content/Spectrogram_Hann/Train/spc_a11_27.png  \n",
            "  inflating: /content/Spectrogram_Hann/Train/spc_a02_482.png  \n",
            "  inflating: /content/Spectrogram_Hann/Train/spc_a05_165.png  \n",
            "  inflating: /content/Spectrogram_Hann/Train/spc_c01_338.png  \n",
            "  inflating: /content/Spectrogram_Hann/Train/spc_a04_376.png  \n",
            "  inflating: /content/Spectrogram_Hann/Train/spc_c03_177.png  \n",
            "  inflating: /content/Spectrogram_Hann/Train/spc_a06_139.png  \n",
            "  inflating: /content/Spectrogram_Hann/Train/spc_c02_364.png  \n",
            "  inflating: /content/Spectrogram_Hann/Train/spc_c07_8.png  \n",
            "  inflating: /content/Spectrogram_Hann/Train/spc_a12_509.png  \n",
            "  inflating: /content/Spectrogram_Hann/Train/spc_c02_402.png  \n",
            "  inflating: /content/Spectrogram_Hann/Train/spc_c07_10.png  \n",
            "  inflating: /content/Spectrogram_Hann/Train/spc_a09_91.png  \n",
            "  inflating: /content/Spectrogram_Hann/Train/spc_c07_235.png  \n",
            "  inflating: /content/Spectrogram_Hann/Train/spc_c02_416.png  \n",
            "  inflating: /content/Spectrogram_Hann/Train/spc_a07_458.png  \n",
            "  inflating: /content/Spectrogram_Hann/Train/spc_a09_85.png  \n",
            "  inflating: /content/Spectrogram_Hann/Train/spc_c07_221.png  \n",
            "  inflating: /content/Spectrogram_Hann/Train/spc_a16_139.png  \n",
            "  inflating: /content/Spectrogram_Hann/Train/spc_a02_509.png  \n",
            "  inflating: /content/Spectrogram_Hann/Train/spc_c03_163.png  \n",
            "  inflating: /content/Spectrogram_Hann/Train/spc_c02_370.png  \n",
            "  inflating: /content/Spectrogram_Hann/Train/spc_a12_253.png  \n",
            "  inflating: /content/Spectrogram_Hann/Train/spc_a10_183.png  \n",
            "  inflating: /content/Spectrogram_Hann/Train/spc_a11_390.png  \n",
            "  inflating: /content/Spectrogram_Hann/Train/spc_a02_521.png  \n",
            "  inflating: /content/Spectrogram_Hann/Train/spc_b03_262.png  \n",
            "  inflating: /content/Spectrogram_Hann/Train/spc_a06_105.png  \n",
            "  inflating: /content/Spectrogram_Hann/Train/spc_a07_316.png  \n",
            "  inflating: /content/Spectrogram_Hann/Train/spc_c02_358.png  \n",
            "  inflating: /content/Spectrogram_Hann/Train/spc_a07_470.png  \n",
            "  inflating: /content/Spectrogram_Hann/Train/spc_a07_80.png  \n",
            "  inflating: /content/Spectrogram_Hann/Train/spc_a01_384.png  \n",
            "  inflating: /content/Spectrogram_Hann/Train/spc_a02_247.png  \n",
            "  inflating: /content/Spectrogram_Hann/Train/spc_c07_209.png  \n",
            "  inflating: /content/Spectrogram_Hann/Train/spc_a12_535.png  \n",
            "  inflating: /content/Spectrogram_Hann/Train/spc_a16_111.png  \n",
            "  inflating: /content/Spectrogram_Hann/Train/spc_a12_521.png  \n",
            "  inflating: /content/Spectrogram_Hann/Train/spc_a16_105.png  \n",
            "  inflating: /content/Spectrogram_Hann/Train/spc_a07_464.png  \n",
            "  inflating: /content/Spectrogram_Hann/Train/spc_a07_94.png  \n",
            "  inflating: /content/Spectrogram_Hann/Train/spc_c07_38.png  \n",
            "  inflating: /content/Spectrogram_Hann/Train/spc_a01_390.png  \n",
            "  inflating: /content/Spectrogram_Hann/Train/spc_a02_253.png  \n",
            "  inflating: /content/Spectrogram_Hann/Train/spc_b03_276.png  \n",
            "  inflating: /content/Spectrogram_Hann/Train/spc_a06_111.png  \n",
            "  inflating: /content/Spectrogram_Hann/Train/spc_a07_302.png  \n",
            "  inflating: /content/Spectrogram_Hann/Train/spc_a12_247.png  \n",
            "  inflating: /content/Spectrogram_Hann/Train/spc_a10_197.png  \n",
            "  inflating: /content/Spectrogram_Hann/Train/spc_a11_384.png  \n",
            "  inflating: /content/Spectrogram_Hann/Train/spc_c08_111.png  \n",
            "  inflating: /content/Spectrogram_Hann/Train/spc_c01_264.png  \n",
            "  inflating: /content/Spectrogram_Hann/Train/spc_c04_453.png  \n",
            "  inflating: /content/Spectrogram_Hann/Train/spc_c04_335.png  \n",
            "  inflating: /content/Spectrogram_Hann/Train/spc_a09_52.png  \n",
            "  inflating: /content/Spectrogram_Hann/Train/spc_c05_126.png  \n",
            "  inflating: /content/Spectrogram_Hann/Train/spc_a11_409.png  \n",
            "  inflating: /content/Spectrogram_Hann/Train/spc_a09_209.png  \n",
            "  inflating: /content/Spectrogram_Hann/Train/spc_a09_46.png  \n",
            "  inflating: /content/Spectrogram_Hann/Train/spc_c04_321.png  \n",
            "  inflating: /content/Spectrogram_Hann/Train/spc_c05_132.png  \n",
            "  inflating: /content/Spectrogram_Hann/Train/spc_b01_159.png  \n",
            "  inflating: /content/Spectrogram_Hann/Train/spc_b03_289.png  \n",
            "  inflating: /content/Spectrogram_Hann/Train/spc_c01_270.png  \n",
            "  inflating: /content/Spectrogram_Hann/Train/spc_a01_409.png  \n",
            "  inflating: /content/Spectrogram_Hann/Train/spc_c04_447.png  \n",
            "  inflating: /content/Spectrogram_Hann/Train/spc_a10_168.png  \n",
            "  inflating: /content/Spectrogram_Hann/Train/spc_c08_105.png  \n",
            "  inflating: /content/Spectrogram_Hann/Train/spc_a14_17.png  \n",
            "  inflating: /content/Spectrogram_Hann/Train/spc_c01_258.png  \n",
            "  inflating: /content/Spectrogram_Hann/Train/spc_a04_216.png  \n",
            "  inflating: /content/Spectrogram_Hann/Train/spc_c03_188.png  \n",
            "  inflating: /content/Spectrogram_Hann/Train/spc_b01_171.png  \n",
            "  inflating: /content/Spectrogram_Hann/Train/spc_a01_421.png  \n",
            "  inflating: /content/Spectrogram_Hann/Train/spc_a12_290.png  \n",
            "  inflating: /content/Spectrogram_Hann/Train/spc_a10_140.png  \n",
            "  inflating: /content/Spectrogram_Hann/Train/spc_a11_353.png  \n",
            "  inflating: /content/Spectrogram_Hann/Train/spc_a13_36.png  \n",
            "  inflating: /content/Spectrogram_Hann/Train/spc_a14_202.png  \n",
            "  inflating: /content/Spectrogram_Hann/Train/spc_a09_221.png  \n",
            "  inflating: /content/Spectrogram_Hann/Train/spc_a11_435.png  \n",
            "  inflating: /content/Spectrogram_Hann/Train/spc_c04_309.png  \n",
            "  inflating: /content/Spectrogram_Hann/Train/spc_a01_347.png  \n",
            "  inflating: /content/Spectrogram_Hann/Train/spc_a02_284.png  \n",
            "  inflating: /content/Spectrogram_Hann/Train/spc_a07_43.png  \n",
            "  inflating: /content/Spectrogram_Hann/Train/spc_a01_353.png  \n",
            "  inflating: /content/Spectrogram_Hann/Train/spc_a02_290.png  \n",
            "  inflating: /content/Spectrogram_Hann/Train/spc_a07_57.png  \n",
            "  inflating: /content/Spectrogram_Hann/Train/spc_a13_22.png  \n",
            "  inflating: /content/Spectrogram_Hann/Train/spc_a09_235.png  \n",
            "  inflating: /content/Spectrogram_Hann/Train/spc_a14_216.png  \n",
            "  inflating: /content/Spectrogram_Hann/Train/spc_a11_421.png  \n",
            "  inflating: /content/Spectrogram_Hann/Train/spc_a12_284.png  \n",
            "  inflating: /content/Spectrogram_Hann/Train/spc_a10_154.png  \n",
            "  inflating: /content/Spectrogram_Hann/Train/spc_c08_139.png  \n",
            "  inflating: /content/Spectrogram_Hann/Train/spc_a11_347.png  \n",
            "  inflating: /content/Spectrogram_Hann/Train/spc_a04_202.png  \n",
            "  inflating: /content/Spectrogram_Hann/Train/spc_b01_165.png  \n",
            "  inflating: /content/Spectrogram_Hann/Train/spc_a01_435.png  \n",
            "  inflating: /content/Spectrogram_Hann/Train/spc_b04_69.png  \n",
            "  inflating: /content/Spectrogram_Hann/Train/spc_c06_224.png  \n",
            "  inflating: /content/Spectrogram_Hann/Train/spc_c03_413.png  \n",
            "  inflating: /content/Spectrogram_Hann/Train/spc_c03_74.png  \n",
            "  inflating: /content/Spectrogram_Hann/Train/spc_a08_2.png  \n",
            "  inflating: /content/Spectrogram_Hann/Train/spc_a16_449.png  \n",
            "  inflating: /content/Spectrogram_Hann/Train/spc_c02_166.png  \n",
            "  inflating: /content/Spectrogram_Hann/Train/spc_a07_128.png  \n",
            "  inflating: /content/Spectrogram_Hann/Train/spc_c03_375.png  \n",
            "  inflating: /content/Spectrogram_Hann/Train/spc_b03_60.png  \n",
            "  inflating: /content/Spectrogram_Hann/Train/spc_c02_172.png  \n",
            "  inflating: /content/Spectrogram_Hann/Train/spc_c03_361.png  \n",
            "  inflating: /content/Spectrogram_Hann/Train/spc_b01_398.png  \n",
            "  inflating: /content/Spectrogram_Hann/Train/spc_b03_74.png  \n",
            "  inflating: /content/Spectrogram_Hann/Train/spc_c04_69.png  \n",
            "  inflating: /content/Spectrogram_Hann/Train/spc_c03_60.png  \n",
            "  inflating: /content/Spectrogram_Hann/Train/spc_c06_230.png  \n",
            "  inflating: /content/Spectrogram_Hann/Train/spc_c03_407.png  \n",
            "  inflating: /content/Spectrogram_Hann/Train/spc_a06_449.png  \n",
            "  inflating: /content/Spectrogram_Hann/Train/spc_a16_313.png  \n",
            "  inflating: /content/Spectrogram_Hann/Train/spc_c03_48.png  \n",
            "  inflating: /content/Spectrogram_Hann/Train/spc_b04_55.png  \n",
            "  inflating: /content/Spectrogram_Hann/Train/spc_a01_186.png  \n",
            "  inflating: /content/Spectrogram_Hann/Train/spc_a03_256.png  \n",
            "  inflating: /content/Spectrogram_Hann/Train/spc_c06_218.png  \n",
            "  inflating: /content/Spectrogram_Hann/Train/spc_a06_461.png  \n",
            "  inflating: /content/Spectrogram_Hann/Train/spc_b02_515.png  \n",
            "  inflating: /content/Spectrogram_Hann/Train/spc_a07_114.png  \n",
            "  inflating: /content/Spectrogram_Hann/Train/spc_b02_273.png  \n",
            "  inflating: /content/Spectrogram_Hann/Train/spc_a10_98.png  \n",
            "  inflating: /content/Spectrogram_Hann/Train/spc_a06_307.png  \n",
            "  inflating: /content/Spectrogram_Hann/Train/spc_c03_349.png  \n",
            "  inflating: /content/Spectrogram_Hann/Train/spc_a11_192.png  \n",
            "  inflating: /content/Spectrogram_Hann/Train/spc_a13_242.png  \n",
            "  inflating: /content/Spectrogram_Hann/Train/spc_a10_381.png  \n",
            "  inflating: /content/Spectrogram_Hann/Train/spc_c04_41.png  \n",
            "  inflating: /content/Spectrogram_Hann/Train/spc_a16_475.png  \n",
            "  inflating: /content/Spectrogram_Hann/Train/spc_a11_186.png  \n",
            "  inflating: /content/Spectrogram_Hann/Train/spc_a13_256.png  \n",
            "  inflating: /content/Spectrogram_Hann/Train/spc_a10_395.png  \n",
            "  inflating: /content/Spectrogram_Hann/Train/spc_c04_55.png  \n",
            "  inflating: /content/Spectrogram_Hann/Train/spc_a16_461.png  \n",
            "  inflating: /content/Spectrogram_Hann/Train/spc_a07_100.png  \n",
            "  inflating: /content/Spectrogram_Hann/Train/spc_b02_267.png  \n",
            "  inflating: /content/Spectrogram_Hann/Train/spc_a06_313.png  \n",
            "  inflating: /content/Spectrogram_Hann/Train/spc_b03_48.png  \n",
            "  inflating: /content/Spectrogram_Hann/Train/spc_b04_41.png  \n",
            "  inflating: /content/Spectrogram_Hann/Train/spc_a01_192.png  \n",
            "  inflating: /content/Spectrogram_Hann/Train/spc_a03_242.png  \n",
            "  inflating: /content/Spectrogram_Hann/Train/spc_a06_475.png  \n",
            "  inflating: /content/Spectrogram_Hann/Train/spc_b02_501.png  \n",
            "  inflating: /content/Spectrogram_Hann/Train/spc_a16_307.png  \n",
            "  inflating: /content/Spectrogram_Hann/Train/spc_c08_475.png  \n",
            "  inflating: /content/Spectrogram_Hann/Train/spc_a10_418.png  \n",
            "  inflating: /content/Spectrogram_Hann/Train/spc_b01_429.png  \n",
            "  inflating: /content/Spectrogram_Hann/Train/spc_c05_324.png  \n",
            "  inflating: /content/Spectrogram_Hann/Train/spc_a01_179.png  \n",
            "  inflating: /content/Spectrogram_Hann/Train/spc_c04_137.png  \n",
            "  inflating: /content/Spectrogram_Hann/Train/spc_c05_442.png  \n",
            "  inflating: /content/Spectrogram_Hann/Train/spc_a10_67.png  \n",
            "  inflating: /content/Spectrogram_Hann/Train/spc_a15_7.png  \n",
            "  inflating: /content/Spectrogram_Hann/Train/spc_a04_12.png  \n",
            "  inflating: /content/Spectrogram_Hann/Train/spc_c08_313.png  \n",
            "  inflating: /content/Spectrogram_Hann/Train/spc_a11_179.png  \n",
            "  inflating: /content/Spectrogram_Hann/Train/spc_c08_307.png  \n",
            "  inflating: /content/Spectrogram_Hann/Train/spc_c05_456.png  \n",
            "  inflating: /content/Spectrogram_Hann/Train/spc_b02_298.png  \n",
            "  inflating: /content/Spectrogram_Hann/Train/spc_a10_73.png  \n",
            "  inflating: /content/Spectrogram_Hann/Train/spc_c05_330.png  \n",
            "  inflating: /content/Spectrogram_Hann/Train/spc_c04_123.png  \n",
            "  inflating: /content/Spectrogram_Hann/Train/spc_c08_461.png  \n",
            "  inflating: /content/Spectrogram_Hann/Train/spc_a08_218.png  \n",
            "  inflating: /content/Spectrogram_Hann/Train/spc_b01_415.png  \n",
            "  inflating: /content/Spectrogram_Hann/Train/spc_c05_318.png  \n",
            "  inflating: /content/Spectrogram_Hann/Train/spc_b04_96.png  \n",
            "  inflating: /content/Spectrogram_Hann/Train/spc_a01_145.png  \n",
            "  inflating: /content/Spectrogram_Hann/Train/spc_b04_222.png  \n",
            "  inflating: /content/Spectrogram_Hann/Train/spc_a03_295.png  \n",
            "  inflating: /content/Spectrogram_Hann/Train/spc_c08_449.png  \n",
            "  inflating: /content/Spectrogram_Hann/Train/spc_a10_424.png  \n",
            "  inflating: /content/Spectrogram_Hann/Train/spc_a03_27.png  \n",
            "  inflating: /content/Spectrogram_Hann/Train/spc_a15_213.png  \n",
            "  inflating: /content/Spectrogram_Hann/Train/spc_a08_230.png  \n",
            "  inflating: /content/Spectrogram_Hann/Train/spc_a11_151.png  \n",
            "  inflating: /content/Spectrogram_Hann/Train/spc_a13_281.png  \n",
            "  inflating: /content/Spectrogram_Hann/Train/spc_a10_342.png  \n",
            "  inflating: /content/Spectrogram_Hann/Train/spc_c04_82.png  \n",
            "  inflating: /content/Spectrogram_Hann/Train/spc_c02_199.png  \n",
            "  inflating: /content/Spectrogram_Hann/Train/spc_a05_207.png  \n",
            "  inflating: /content/Spectrogram_Hann/Train/spc_b01_373.png  \n",
            "  inflating: /content/Spectrogram_Hann/Train/spc_a05_213.png  \n",
            "  inflating: /content/Spectrogram_Hann/Train/spc_b01_367.png  \n",
            "  inflating: /content/Spectrogram_Hann/Train/spc_a11_145.png  \n",
            "  inflating: /content/Spectrogram_Hann/Train/spc_a13_295.png  \n",
            "  inflating: /content/Spectrogram_Hann/Train/spc_a10_356.png  \n",
            "  inflating: /content/Spectrogram_Hann/Train/spc_c04_96.png  \n",
            "  inflating: /content/Spectrogram_Hann/Train/spc_a10_430.png  \n",
            "  inflating: /content/Spectrogram_Hann/Train/spc_a03_33.png  \n",
            "  inflating: /content/Spectrogram_Hann/Train/spc_a08_224.png  \n",
            "  inflating: /content/Spectrogram_Hann/Train/spc_a15_207.png  \n",
            "  inflating: /content/Spectrogram_Hann/Train/spc_b01_401.png  \n",
            "  inflating: /content/Spectrogram_Hann/Train/spc_b04_82.png  \n",
            "  inflating: /content/Spectrogram_Hann/Train/spc_a01_151.png  \n",
            "  inflating: /content/Spectrogram_Hann/Train/spc_a03_281.png  \n",
            "  inflating: /content/Spectrogram_Hann/Train/spc_b04_236.png  \n",
            "  inflating: /content/Spectrogram_Hann/Train/spc_c04_97.png  \n",
            "  inflating: /content/Spectrogram_Hann/Train/spc_a10_357.png  \n",
            "  inflating: /content/Spectrogram_Hann/Train/spc_a13_294.png  \n",
            "  inflating: /content/Spectrogram_Hann/Train/spc_a11_144.png  \n",
            "  inflating: /content/Spectrogram_Hann/Train/spc_b01_366.png  \n",
            "  inflating: /content/Spectrogram_Hann/Train/spc_a05_212.png  \n",
            "  inflating: /content/Spectrogram_Hann/Train/spc_a03_280.png  \n",
            "  inflating: /content/Spectrogram_Hann/Train/spc_b04_237.png  \n",
            "  inflating: /content/Spectrogram_Hann/Train/spc_a01_150.png  \n",
            "  inflating: /content/Spectrogram_Hann/Train/spc_b04_83.png  \n",
            "  inflating: /content/Spectrogram_Hann/Train/spc_b01_400.png  \n",
            "  inflating: /content/Spectrogram_Hann/Train/spc_a08_225.png  \n",
            "  inflating: /content/Spectrogram_Hann/Train/spc_a15_206.png  \n",
            "  inflating: /content/Spectrogram_Hann/Train/spc_a03_32.png  \n",
            "  inflating: /content/Spectrogram_Hann/Train/spc_a10_431.png  \n",
            "  inflating: /content/Spectrogram_Hann/Train/spc_a15_212.png  \n",
            "  inflating: /content/Spectrogram_Hann/Train/spc_a08_231.png  \n",
            "  inflating: /content/Spectrogram_Hann/Train/spc_a03_26.png  \n",
            "  inflating: /content/Spectrogram_Hann/Train/spc_a10_425.png  \n",
            "  inflating: /content/Spectrogram_Hann/Train/spc_c08_448.png  \n",
            "  inflating: /content/Spectrogram_Hann/Train/spc_b04_223.png  \n",
            "  inflating: /content/Spectrogram_Hann/Train/spc_a03_294.png  \n",
            "  inflating: /content/Spectrogram_Hann/Train/spc_a01_144.png  \n",
            "  inflating: /content/Spectrogram_Hann/Train/spc_b04_97.png  \n",
            "  inflating: /content/Spectrogram_Hann/Train/spc_c05_319.png  \n",
            "  inflating: /content/Spectrogram_Hann/Train/spc_b01_414.png  \n",
            "  inflating: /content/Spectrogram_Hann/Train/spc_b01_372.png  \n",
            "  inflating: /content/Spectrogram_Hann/Train/spc_a05_206.png  \n",
            "  inflating: /content/Spectrogram_Hann/Train/spc_c02_198.png  \n",
            "  inflating: /content/Spectrogram_Hann/Train/spc_c04_83.png  \n",
            "  inflating: /content/Spectrogram_Hann/Train/spc_a10_343.png  \n",
            "  inflating: /content/Spectrogram_Hann/Train/spc_a13_280.png  \n",
            "  inflating: /content/Spectrogram_Hann/Train/spc_a11_150.png  \n",
            "  inflating: /content/Spectrogram_Hann/Train/spc_a10_72.png  \n",
            "  inflating: /content/Spectrogram_Hann/Train/spc_b02_299.png  \n",
            "  inflating: /content/Spectrogram_Hann/Train/spc_c05_457.png  \n",
            "  inflating: /content/Spectrogram_Hann/Train/spc_c08_306.png  \n",
            "  inflating: /content/Spectrogram_Hann/Train/spc_a11_178.png  \n",
            "  inflating: /content/Spectrogram_Hann/Train/spc_a08_219.png  \n",
            "  inflating: /content/Spectrogram_Hann/Train/spc_c08_460.png  \n",
            "  inflating: /content/Spectrogram_Hann/Train/spc_c04_122.png  \n",
            "  inflating: /content/Spectrogram_Hann/Train/spc_c05_331.png  \n",
            "  inflating: /content/Spectrogram_Hann/Train/spc_a01_178.png  \n",
            "  inflating: /content/Spectrogram_Hann/Train/spc_c04_136.png  \n",
            "  inflating: /content/Spectrogram_Hann/Train/spc_c05_325.png  \n",
            "  inflating: /content/Spectrogram_Hann/Train/spc_b01_428.png  \n",
            "  inflating: /content/Spectrogram_Hann/Train/spc_a10_419.png  \n",
            "  inflating: /content/Spectrogram_Hann/Train/spc_c08_474.png  \n",
            "  inflating: /content/Spectrogram_Hann/Train/spc_c08_312.png  \n",
            "  inflating: /content/Spectrogram_Hann/Train/spc_a04_13.png  \n",
            "  inflating: /content/Spectrogram_Hann/Train/spc_a15_6.png  \n",
            "  inflating: /content/Spectrogram_Hann/Train/spc_a10_66.png  \n",
            "  inflating: /content/Spectrogram_Hann/Train/spc_c05_443.png  \n",
            "  inflating: /content/Spectrogram_Hann/Train/spc_b03_49.png  \n",
            "  inflating: /content/Spectrogram_Hann/Train/spc_a06_312.png  \n",
            "  inflating: /content/Spectrogram_Hann/Train/spc_b02_266.png  \n",
            "  inflating: /content/Spectrogram_Hann/Train/spc_a07_101.png  \n",
            "  inflating: /content/Spectrogram_Hann/Train/spc_a16_460.png  \n",
            "  inflating: /content/Spectrogram_Hann/Train/spc_c04_54.png  \n",
            "  inflating: /content/Spectrogram_Hann/Train/spc_a10_394.png  \n",
            "  inflating: /content/Spectrogram_Hann/Train/spc_a13_257.png  \n",
            "  inflating: /content/Spectrogram_Hann/Train/spc_a11_187.png  \n",
            "  inflating: /content/Spectrogram_Hann/Train/spc_a16_306.png  \n",
            "  inflating: /content/Spectrogram_Hann/Train/spc_b02_500.png  \n",
            "  inflating: /content/Spectrogram_Hann/Train/spc_a06_474.png  \n",
            "  inflating: /content/Spectrogram_Hann/Train/spc_a03_243.png  \n",
            "  inflating: /content/Spectrogram_Hann/Train/spc_a01_193.png  \n",
            "  inflating: /content/Spectrogram_Hann/Train/spc_b04_40.png  \n",
            "  inflating: /content/Spectrogram_Hann/Train/spc_b02_514.png  \n",
            "  inflating: /content/Spectrogram_Hann/Train/spc_a06_460.png  \n",
            "  inflating: /content/Spectrogram_Hann/Train/spc_a03_257.png  \n",
            "  inflating: /content/Spectrogram_Hann/Train/spc_c06_219.png  \n",
            "  inflating: /content/Spectrogram_Hann/Train/spc_a01_187.png  \n",
            "  inflating: /content/Spectrogram_Hann/Train/spc_b04_54.png  \n",
            "  inflating: /content/Spectrogram_Hann/Train/spc_c03_49.png  \n",
            "  inflating: /content/Spectrogram_Hann/Train/spc_a16_312.png  \n",
            "  inflating: /content/Spectrogram_Hann/Train/spc_a16_474.png  \n",
            "  inflating: /content/Spectrogram_Hann/Train/spc_c04_40.png  \n",
            "  inflating: /content/Spectrogram_Hann/Train/spc_a10_380.png  \n",
            "  inflating: /content/Spectrogram_Hann/Train/spc_a13_243.png  \n",
            "  inflating: /content/Spectrogram_Hann/Train/spc_a11_193.png  \n",
            "  inflating: /content/Spectrogram_Hann/Train/spc_a06_306.png  \n",
            "  inflating: /content/Spectrogram_Hann/Train/spc_a10_99.png  \n",
            "  inflating: /content/Spectrogram_Hann/Train/spc_c03_348.png  \n",
            "  inflating: /content/Spectrogram_Hann/Train/spc_b02_272.png  \n",
            "  inflating: /content/Spectrogram_Hann/Train/spc_a07_115.png  \n",
            "  inflating: /content/Spectrogram_Hann/Train/spc_c04_68.png  \n",
            "  inflating: /content/Spectrogram_Hann/Train/spc_b03_75.png  \n",
            "  inflating: /content/Spectrogram_Hann/Train/spc_b01_399.png  \n",
            "  inflating: /content/Spectrogram_Hann/Train/spc_c03_360.png  \n",
            "  inflating: /content/Spectrogram_Hann/Train/spc_c02_173.png  \n",
            "  inflating: /content/Spectrogram_Hann/Train/spc_c03_406.png  \n",
            "  inflating: /content/Spectrogram_Hann/Train/spc_a06_448.png  \n",
            "  inflating: /content/Spectrogram_Hann/Train/spc_c06_231.png  \n",
            "  inflating: /content/Spectrogram_Hann/Train/spc_c03_61.png  \n",
            "  inflating: /content/Spectrogram_Hann/Train/spc_c03_75.png  \n",
            "  inflating: /content/Spectrogram_Hann/Train/spc_c03_412.png  \n",
            "  inflating: /content/Spectrogram_Hann/Train/spc_c06_225.png  \n",
            "  inflating: /content/Spectrogram_Hann/Train/spc_b04_68.png  \n",
            "  inflating: /content/Spectrogram_Hann/Train/spc_b03_61.png  \n",
            "  inflating: /content/Spectrogram_Hann/Train/spc_c03_374.png  \n",
            "  inflating: /content/Spectrogram_Hann/Train/spc_c02_167.png  \n",
            "  inflating: /content/Spectrogram_Hann/Train/spc_a07_129.png  \n",
            "  inflating: /content/Spectrogram_Hann/Train/spc_a08_3.png  \n",
            "  inflating: /content/Spectrogram_Hann/Train/spc_a16_448.png  \n",
            "  inflating: /content/Spectrogram_Hann/Train/spc_a11_420.png  \n",
            "  inflating: /content/Spectrogram_Hann/Train/spc_a09_234.png  \n",
            "  inflating: /content/Spectrogram_Hann/Train/spc_a14_217.png  \n",
            "  inflating: /content/Spectrogram_Hann/Train/spc_a13_23.png  \n",
            "  inflating: /content/Spectrogram_Hann/Train/spc_a07_56.png  \n",
            "  inflating: /content/Spectrogram_Hann/Train/spc_a02_291.png  \n",
            "  inflating: /content/Spectrogram_Hann/Train/spc_a01_352.png  \n",
            "  inflating: /content/Spectrogram_Hann/Train/spc_a01_434.png  \n",
            "  inflating: /content/Spectrogram_Hann/Train/spc_b01_164.png  \n",
            "  inflating: /content/Spectrogram_Hann/Train/spc_a04_203.png  \n",
            "  inflating: /content/Spectrogram_Hann/Train/spc_a11_346.png  \n",
            "  inflating: /content/Spectrogram_Hann/Train/spc_c08_138.png  \n",
            "  inflating: /content/Spectrogram_Hann/Train/spc_a10_155.png  \n",
            "  inflating: /content/Spectrogram_Hann/Train/spc_a12_285.png  \n",
            "  inflating: /content/Spectrogram_Hann/Train/spc_a11_352.png  \n",
            "  inflating: /content/Spectrogram_Hann/Train/spc_a10_141.png  \n",
            "  inflating: /content/Spectrogram_Hann/Train/spc_a12_291.png  \n",
            "  inflating: /content/Spectrogram_Hann/Train/spc_a01_420.png  \n",
            "  inflating: /content/Spectrogram_Hann/Train/spc_b01_170.png  \n",
            "  inflating: /content/Spectrogram_Hann/Train/spc_c03_189.png  \n",
            "  inflating: /content/Spectrogram_Hann/Train/spc_c01_259.png  \n",
            "  inflating: /content/Spectrogram_Hann/Train/spc_a04_217.png  \n",
            "  inflating: /content/Spectrogram_Hann/Train/spc_a07_42.png  \n",
            "  inflating: /content/Spectrogram_Hann/Train/spc_a02_285.png  \n",
            "  inflating: /content/Spectrogram_Hann/Train/spc_c04_308.png  \n",
            "  inflating: /content/Spectrogram_Hann/Train/spc_a01_346.png  \n",
            "  inflating: /content/Spectrogram_Hann/Train/spc_a11_434.png  \n",
            "  inflating: /content/Spectrogram_Hann/Train/spc_a14_203.png  \n",
            "  inflating: /content/Spectrogram_Hann/Train/spc_a09_220.png  \n",
            "  inflating: /content/Spectrogram_Hann/Train/spc_a13_37.png  \n",
            "  inflating: /content/Spectrogram_Hann/Train/spc_c05_133.png  \n",
            "  inflating: /content/Spectrogram_Hann/Train/spc_c04_320.png  \n",
            "  inflating: /content/Spectrogram_Hann/Train/spc_a09_47.png  \n",
            "  inflating: /content/Spectrogram_Hann/Train/spc_a09_208.png  \n",
            "  inflating: /content/Spectrogram_Hann/Train/spc_a14_16.png  \n",
            "  inflating: /content/Spectrogram_Hann/Train/spc_c08_104.png  \n",
            "  inflating: /content/Spectrogram_Hann/Train/spc_a10_169.png  \n",
            "  inflating: /content/Spectrogram_Hann/Train/spc_a01_408.png  \n",
            "  inflating: /content/Spectrogram_Hann/Train/spc_c04_446.png  \n",
            "  inflating: /content/Spectrogram_Hann/Train/spc_c01_271.png  \n",
            "  inflating: /content/Spectrogram_Hann/Train/spc_b03_288.png  \n",
            "  inflating: /content/Spectrogram_Hann/Train/spc_b01_158.png  \n",
            "  inflating: /content/Spectrogram_Hann/Train/spc_c04_452.png  \n",
            "  inflating: /content/Spectrogram_Hann/Train/spc_c01_265.png  \n",
            "  inflating: /content/Spectrogram_Hann/Train/spc_c08_110.png  \n",
            "  inflating: /content/Spectrogram_Hann/Train/spc_a11_408.png  \n",
            "  inflating: /content/Spectrogram_Hann/Train/spc_c05_127.png  \n",
            "  inflating: /content/Spectrogram_Hann/Train/spc_a09_53.png  \n",
            "  inflating: /content/Spectrogram_Hann/Train/spc_c04_334.png  \n",
            "  inflating: /content/Spectrogram_Hann/Train/spc_a02_252.png  \n",
            "  inflating: /content/Spectrogram_Hann/Train/spc_a01_391.png  \n",
            "  inflating: /content/Spectrogram_Hann/Train/spc_c07_39.png  \n",
            "  inflating: /content/Spectrogram_Hann/Train/spc_a07_95.png  \n",
            "  inflating: /content/Spectrogram_Hann/Train/spc_a07_465.png  \n",
            "  inflating: /content/Spectrogram_Hann/Train/spc_a16_104.png  \n",
            "  inflating: /content/Spectrogram_Hann/Train/spc_a12_520.png  \n",
            "  inflating: /content/Spectrogram_Hann/Train/spc_a11_385.png  \n",
            "  inflating: /content/Spectrogram_Hann/Train/spc_a10_196.png  \n",
            "  inflating: /content/Spectrogram_Hann/Train/spc_a12_246.png  \n",
            "  inflating: /content/Spectrogram_Hann/Train/spc_a07_303.png  \n",
            "  inflating: /content/Spectrogram_Hann/Train/spc_a06_110.png  \n",
            "  inflating: /content/Spectrogram_Hann/Train/spc_b03_277.png  \n",
            "  inflating: /content/Spectrogram_Hann/Train/spc_a07_317.png  \n",
            "  inflating: /content/Spectrogram_Hann/Train/spc_c02_359.png  \n",
            "  inflating: /content/Spectrogram_Hann/Train/spc_a06_104.png  \n",
            "  inflating: /content/Spectrogram_Hann/Train/spc_b03_263.png  \n",
            "  inflating: /content/Spectrogram_Hann/Train/spc_a02_520.png  \n",
            "  inflating: /content/Spectrogram_Hann/Train/spc_a11_391.png  \n",
            "  inflating: /content/Spectrogram_Hann/Train/spc_a10_182.png  \n",
            "  inflating: /content/Spectrogram_Hann/Train/spc_a12_252.png  \n",
            "  inflating: /content/Spectrogram_Hann/Train/spc_a16_110.png  \n",
            "  inflating: /content/Spectrogram_Hann/Train/spc_a12_534.png  \n",
            "  inflating: /content/Spectrogram_Hann/Train/spc_a02_246.png  \n",
            "  inflating: /content/Spectrogram_Hann/Train/spc_c07_208.png  \n",
            "  inflating: /content/Spectrogram_Hann/Train/spc_a01_385.png  \n",
            "  inflating: /content/Spectrogram_Hann/Train/spc_a07_81.png  \n",
            "  inflating: /content/Spectrogram_Hann/Train/spc_a07_471.png  \n",
            "  inflating: /content/Spectrogram_Hann/Train/spc_a16_138.png  \n",
            "  inflating: /content/Spectrogram_Hann/Train/spc_c07_220.png  \n",
            "  inflating: /content/Spectrogram_Hann/Train/spc_a09_84.png  \n",
            "  inflating: /content/Spectrogram_Hann/Train/spc_c02_417.png  \n",
            "  inflating: /content/Spectrogram_Hann/Train/spc_a07_459.png  \n",
            "  inflating: /content/Spectrogram_Hann/Train/spc_c02_371.png  \n",
            "  inflating: /content/Spectrogram_Hann/Train/spc_c03_162.png  \n",
            "  inflating: /content/Spectrogram_Hann/Train/spc_a02_508.png  \n",
            "  inflating: /content/Spectrogram_Hann/Train/spc_c07_9.png  \n",
            "  inflating: /content/Spectrogram_Hann/Train/spc_c02_365.png  \n",
            "  inflating: /content/Spectrogram_Hann/Train/spc_c03_176.png  \n",
            "  inflating: /content/Spectrogram_Hann/Train/spc_a06_138.png  \n",
            "  inflating: /content/Spectrogram_Hann/Train/spc_c07_234.png  \n",
            "  inflating: /content/Spectrogram_Hann/Train/spc_c07_11.png  \n",
            "  inflating: /content/Spectrogram_Hann/Train/spc_a09_90.png  \n",
            "  inflating: /content/Spectrogram_Hann/Train/spc_c02_403.png  \n",
            "  inflating: /content/Spectrogram_Hann/Train/spc_a12_508.png  \n",
            "  inflating: /content/Spectrogram_Hann/Train/spc_a08_153.png  \n",
            "  inflating: /content/Spectrogram_Hann/Train/spc_a15_170.png  \n",
            "  inflating: /content/Spectrogram_Hann/Train/spc_a14_363.png  \n",
            "  inflating: /content/Spectrogram_Hann/Train/spc_a09_340.png  \n",
            "  inflating: /content/Spectrogram_Hann/Train/spc_a12_497.png  \n",
            "  inflating: /content/Spectrogram_Hann/Train/spc_c04_268.png  \n",
            "  inflating: /content/Spectrogram_Hann/Train/spc_a01_226.png  \n",
            "  inflating: /content/Spectrogram_Hann/Train/spc_b04_141.png  \n",
            "  inflating: /content/Spectrogram_Hann/Train/spc_a04_411.png  \n",
            "  inflating: /content/Spectrogram_Hann/Train/spc_c01_339.png  \n",
            "  inflating: /content/Spectrogram_Hann/Train/spc_a04_377.png  \n",
            "  inflating: /content/Spectrogram_Hann/Train/spc_a05_164.png  \n",
            "  inflating: /content/Spectrogram_Hann/Train/spc_a02_483.png  \n",
            "  inflating: /content/Spectrogram_Hann/Train/spc_a11_26.png  \n",
            "  inflating: /content/Spectrogram_Hann/Train/spc_a05_53.png  \n",
            "  inflating: /content/Spectrogram_Hann/Train/spc_a11_232.png  \n",
            "  inflating: /content/Spectrogram_Hann/Train/spc_a14_405.png  \n",
            "  inflating: /content/Spectrogram_Hann/Train/spc_a09_426.png  \n",
            "  inflating: /content/Spectrogram_Hann/Train/spc_a05_47.png  \n",
            "  inflating: /content/Spectrogram_Hann/Train/spc_a11_226.png  \n",
            "  inflating: /content/Spectrogram_Hann/Train/spc_a09_432.png  \n",
            "  inflating: /content/Spectrogram_Hann/Train/spc_a14_411.png  \n",
            "  inflating: /content/Spectrogram_Hann/Train/spc_a04_363.png  \n",
            "  inflating: /content/Spectrogram_Hann/Train/spc_a05_170.png  \n",
            "  inflating: /content/Spectrogram_Hann/Train/spc_a02_497.png  \n",
            "  inflating: /content/Spectrogram_Hann/Train/spc_a11_32.png  \n",
            "  inflating: /content/Spectrogram_Hann/Train/spc_a01_232.png  \n",
            "  inflating: /content/Spectrogram_Hann/Train/spc_b04_155.png  \n",
            "  inflating: /content/Spectrogram_Hann/Train/spc_a04_405.png  \n",
            "  inflating: /content/Spectrogram_Hann/Train/spc_a15_164.png  \n",
            "  inflating: /content/Spectrogram_Hann/Train/spc_a08_147.png  \n",
            "  inflating: /content/Spectrogram_Hann/Train/spc_a09_354.png  \n",
            "  inflating: /content/Spectrogram_Hann/Train/spc_a14_377.png  \n",
            "  inflating: /content/Spectrogram_Hann/Train/spc_a12_483.png  \n",
            "  inflating: /content/Spectrogram_Hann/Train/spc_c06_184.png  \n",
            "  inflating: /content/Spectrogram_Hann/Train/spc_c04_254.png  \n",
            "  inflating: /content/Spectrogram_Hann/Train/spc_c07_397.png  \n",
            "  inflating: /content/Spectrogram_Hann/Train/spc_a16_13.png  \n",
            "  inflating: /content/Spectrogram_Hann/Train/spc_c01_463.png  \n",
            "  inflating: /content/Spectrogram_Hann/Train/spc_a11_2.png  \n",
            "  inflating: /content/Spectrogram_Hann/Train/spc_a02_66.png  \n",
            "  inflating: /content/Spectrogram_Hann/Train/spc_a14_439.png  \n",
            "  inflating: /content/Spectrogram_Hann/Train/spc_c01_305.png  \n",
            "  inflating: /content/Spectrogram_Hann/Train/spc_a05_158.png  \n",
            "  inflating: /content/Spectrogram_Hann/Train/spc_a07_288.png  \n",
            "  inflating: /content/Spectrogram_Hann/Train/spc_c01_311.png  \n",
            "  inflating: /content/Spectrogram_Hann/Train/spc_a15_158.png  \n",
            "  inflating: /content/Spectrogram_Hann/Train/spc_a09_368.png  \n",
            "  inflating: /content/Spectrogram_Hann/Train/spc_a02_72.png  \n",
            "  inflating: /content/Spectrogram_Hann/Train/spc_a02_8.png  \n",
            "  inflating: /content/Spectrogram_Hann/Train/spc_b04_169.png  \n",
            "  inflating: /content/Spectrogram_Hann/Train/spc_c06_190.png  \n",
            "  inflating: /content/Spectrogram_Hann/Train/spc_c04_240.png  \n",
            "  inflating: /content/Spectrogram_Hann/Train/spc_c07_383.png  \n",
            "  inflating: /content/Spectrogram_Hann/Train/spc_a04_439.png  \n",
            "  inflating: /content/Spectrogram_Hann/Train/spc_c01_477.png  \n",
            "  inflating: /content/Spectrogram_Hann/Train/spc_b04_182.png  \n",
            "  inflating: /content/Spectrogram_Hann/Train/spc_a03_135.png  \n",
            "  inflating: /content/Spectrogram_Hann/Train/spc_a02_326.png  \n",
            "  inflating: /content/Spectrogram_Hann/Train/spc_c07_368.png  \n",
            "  inflating: /content/Spectrogram_Hann/Train/spc_a02_99.png  \n",
            "  inflating: /content/Spectrogram_Hann/Train/spc_a12_454.png  \n",
            "  inflating: /content/Spectrogram_Hann/Train/spc_a08_190.png  \n",
            "  inflating: /content/Spectrogram_Hann/Train/spc_c02_35.png  \n",
            "  inflating: /content/Spectrogram_Hann/Train/spc_a09_383.png  \n",
            "  inflating: /content/Spectrogram_Hann/Train/spc_a05_90.png  \n",
            "  inflating: /content/Spectrogram_Hann/Train/spc_a12_332.png  \n",
            "  inflating: /content/Spectrogram_Hann/Train/spc_a13_121.png  \n",
            "  inflating: /content/Spectrogram_Hann/Train/spc_a02_440.png  \n",
            "  inflating: /content/Spectrogram_Hann/Train/spc_b02_21.png  \n",
            "  inflating: /content/Spectrogram_Hann/Train/spc_b03_303.png  \n",
            "  inflating: /content/Spectrogram_Hann/Train/spc_a07_277.png  \n",
            "  inflating: /content/Spectrogram_Hann/Train/spc_c02_239.png  \n",
            "  inflating: /content/Spectrogram_Hann/Train/spc_b02_110.png  \n",
            "  inflating: /content/Spectrogram_Hann/Train/spc_a02_454.png  \n",
            "  inflating: /content/Spectrogram_Hann/Train/spc_b02_35.png  \n",
            "  inflating: /content/Spectrogram_Hann/Train/spc_b03_317.png  \n",
            "  inflating: /content/Spectrogram_Hann/Train/spc_a07_263.png  \n",
            "  inflating: /content/Spectrogram_Hann/Train/spc_b02_104.png  \n",
            "  inflating: /content/Spectrogram_Hann/Train/spc_c05_28.png  \n",
            "  inflating: /content/Spectrogram_Hann/Train/spc_a05_84.png  \n",
            "  inflating: /content/Spectrogram_Hann/Train/spc_a12_326.png  \n",
            "  inflating: /content/Spectrogram_Hann/Train/spc_a13_135.png  \n",
            "  inflating: /content/Spectrogram_Hann/Train/spc_a12_440.png  \n",
            "  inflating: /content/Spectrogram_Hann/Train/spc_a08_184.png  \n",
            "  inflating: /content/Spectrogram_Hann/Train/spc_c02_21.png  \n",
            "  inflating: /content/Spectrogram_Hann/Train/spc_a09_397.png  \n",
            "  inflating: /content/Spectrogram_Hann/Train/spc_a07_505.png  \n",
            "  inflating: /content/Spectrogram_Hann/Train/spc_a03_121.png  \n",
            "  inflating: /content/Spectrogram_Hann/Train/spc_b04_196.png  \n",
            "  inflating: /content/Spectrogram_Hann/Train/spc_a02_332.png  \n",
            "  inflating: /content/Spectrogram_Hann/Train/spc_a12_468.png  \n",
            "  inflating: /content/Spectrogram_Hann/Train/spc_c06_147.png  \n",
            "  inflating: /content/Spectrogram_Hann/Train/spc_a03_109.png  \n",
            "  inflating: /content/Spectrogram_Hann/Train/spc_c04_297.png  \n",
            "  inflating: /content/Spectrogram_Hann/Train/spc_c07_354.png  \n",
            "  inflating: /content/Spectrogram_Hann/Train/spc_a04_388.png  \n",
            "  inflating: /content/Spectrogram_Hann/Train/spc_c02_205.png  \n",
            "  inflating: /content/Spectrogram_Hann/Train/spc_c05_14.png  \n",
            "  inflating: /content/Spectrogram_Hann/Train/spc_a13_109.png  \n",
            "  inflating: /content/Spectrogram_Hann/Train/spc_c07_426.png  \n",
            "  inflating: /content/Spectrogram_Hann/Train/spc_a02_468.png  \n",
            "  inflating: /content/Spectrogram_Hann/Train/spc_b02_138.png  \n",
            "  inflating: /content/Spectrogram_Hann/Train/spc_c02_211.png  \n",
            "  inflating: /content/Spectrogram_Hann/Train/spc_c06_153.png  \n",
            "  inflating: /content/Spectrogram_Hann/Train/spc_c04_283.png  \n",
            "  inflating: /content/Spectrogram_Hann/Train/spc_c07_340.png  \n",
            "  inflating: /content/Spectrogram_Hann/Train/spc_b03_8.png  \n",
            "  inflating: /content/Spectrogram_Hann/Train/spc_a14_388.png  \n",
            "  inflating: /content/Spectrogram_Hann/Train/spc_a15_414.png  \n",
            "  inflating: /content/Spectrogram_Hann/Train/spc_a08_437.png  \n",
            "  inflating: /content/Spectrogram_Hann/Train/spc_a15_42.png  \n",
            "  inflating: /content/Spectrogram_Hann/Train/spc_a10_223.png  \n",
            "  inflating: /content/Spectrogram_Hann/Train/spc_b04_425.png  \n",
            "  inflating: /content/Spectrogram_Hann/Train/spc_a03_492.png  \n",
            "  inflating: /content/Spectrogram_Hann/Train/spc_a01_37.png  \n",
            "  inflating: /content/Spectrogram_Hann/Train/spc_a05_366.png  \n",
            "  inflating: /content/Spectrogram_Hann/Train/spc_a04_175.png  \n",
            "  inflating: /content/Spectrogram_Hann/Train/spc_b01_212.png  \n",
            "  inflating: /content/Spectrogram_Hann/Train/spc_a08_13.png  \n",
            "  inflating: /content/Spectrogram_Hann/Train/spc_c06_92.png  \n",
            "  inflating: /content/Spectrogram_Hann/Train/spc_a05_400.png  \n",
            "  inflating: /content/Spectrogram_Hann/Train/spc_c05_279.png  \n",
            "  inflating: /content/Spectrogram_Hann/Train/spc_b04_343.png  \n",
            "  inflating: /content/Spectrogram_Hann/Train/spc_a13_486.png  \n",
            "  inflating: /content/Spectrogram_Hann/Train/spc_a09_142.png  \n",
            "  inflating: /content/Spectrogram_Hann/Train/spc_a14_161.png  \n",
            "  inflating: /content/Spectrogram_Hann/Train/spc_a15_372.png  \n",
            "  inflating: /content/Spectrogram_Hann/Train/spc_a08_351.png  \n",
            "  inflating: /content/Spectrogram_Hann/Train/spc_a13_492.png  \n",
            "  inflating: /content/Spectrogram_Hann/Train/spc_a14_175.png  \n",
            "  inflating: /content/Spectrogram_Hann/Train/spc_a09_156.png  \n",
            "  inflating: /content/Spectrogram_Hann/Train/spc_a08_345.png  \n",
            "  inflating: /content/Spectrogram_Hann/Train/spc_a15_366.png  \n",
            "  inflating: /content/Spectrogram_Hann/Train/spc_c06_86.png  \n",
            "  inflating: /content/Spectrogram_Hann/Train/spc_a05_414.png  \n",
            "  inflating: /content/Spectrogram_Hann/Train/spc_b04_357.png  \n",
            "  inflating: /content/Spectrogram_Hann/Train/spc_a03_486.png  \n",
            "  inflating: /content/Spectrogram_Hann/Train/spc_a01_23.png  \n",
            "  inflating: /content/Spectrogram_Hann/Train/spc_a05_372.png  \n",
            "  inflating: /content/Spectrogram_Hann/Train/spc_a04_161.png  \n",
            "  inflating: /content/Spectrogram_Hann/Train/spc_b01_206.png  \n",
            "  inflating: /content/Spectrogram_Hann/Train/spc_a08_423.png  \n",
            "  inflating: /content/Spectrogram_Hann/Train/spc_a15_400.png  \n",
            "  inflating: /content/Spectrogram_Hann/Train/spc_a15_56.png  \n",
            "  inflating: /content/Spectrogram_Hann/Train/spc_a10_237.png  \n",
            "  inflating: /content/Spectrogram_Hann/Train/spc_b04_419.png  \n",
            "  inflating: /content/Spectrogram_Hann/Train/spc_a06_299.png  \n",
            "  inflating: /content/Spectrogram_Hann/Train/spc_a04_149.png  \n",
            "  inflating: /content/Spectrogram_Hann/Train/spc_c01_107.png  \n",
            "  inflating: /content/Spectrogram_Hann/Train/spc_a15_428.png  \n",
            "  inflating: /content/Spectrogram_Hann/Train/spc_c08_272.png  \n",
            "  inflating: /content/Spectrogram_Hann/Train/spc_a12_77.png  \n",
            "  inflating: /content/Spectrogram_Hann/Train/spc_a13_0.png  \n",
            "  inflating: /content/Spectrogram_Hann/Train/spc_c05_245.png  \n",
            "  inflating: /content/Spectrogram_Hann/Train/spc_c07_195.png  \n",
            "  inflating: /content/Spectrogram_Hann/Train/spc_c06_386.png  \n",
            "  inflating: /content/Spectrogram_Hann/Train/spc_c08_83.png  \n",
            "  inflating: /content/Spectrogram_Hann/Train/spc_a05_428.png  \n",
            "  inflating: /content/Spectrogram_Hann/Train/spc_c05_251.png  \n",
            "  inflating: /content/Spectrogram_Hann/Train/spc_c07_181.png  \n",
            "  inflating: /content/Spectrogram_Hann/Train/spc_c08_97.png  \n",
            "  inflating: /content/Spectrogram_Hann/Train/spc_a06_16.png  \n",
            "  inflating: /content/Spectrogram_Hann/Train/spc_c06_392.png  \n",
            "  inflating: /content/Spectrogram_Hann/Train/spc_c08_500.png  \n",
            "  inflating: /content/Spectrogram_Hann/Train/spc_a12_63.png  \n",
            "  inflating: /content/Spectrogram_Hann/Train/spc_a16_299.png  \n",
            "  inflating: /content/Spectrogram_Hann/Train/spc_a14_149.png  \n",
            "  inflating: /content/Spectrogram_Hann/Train/spc_a08_379.png  \n",
            "  inflating: /content/Spectrogram_Hann/Train/spc_c08_266.png  \n",
            "  inflating: /content/Spectrogram_Hann/Train/spc_c01_113.png  \n",
            "  inflating: /content/Spectrogram_Hann/Train/spc_c01_58.png  \n",
            "  inflating: /content/Spectrogram_Hann/Train/spc_b02_312.png  \n",
            "  inflating: /content/Spectrogram_Hann/Train/spc_b03_101.png  \n",
            "  inflating: /content/Spectrogram_Hann/Train/spc_a06_266.png  \n",
            "  inflating: /content/Spectrogram_Hann/Train/spc_c03_228.png  \n",
            "  inflating: /content/Spectrogram_Hann/Train/spc_a03_451.png  \n",
            "  inflating: /content/Spectrogram_Hann/Train/spc_a13_323.png  \n",
            "  inflating: /content/Spectrogram_Hann/Train/spc_a15_81.png  \n",
            "  inflating: /content/Spectrogram_Hann/Train/spc_a12_130.png  \n",
            "  inflating: /content/Spectrogram_Hann/Train/spc_a09_181.png  \n",
            "  inflating: /content/Spectrogram_Hann/Train/spc_a16_272.png  \n",
            "  inflating: /content/Spectrogram_Hann/Train/spc_a08_392.png  \n",
            "  inflating: /content/Spectrogram_Hann/Train/spc_a12_88.png  \n",
            "  inflating: /content/Spectrogram_Hann/Train/spc_a13_445.png  \n",
            "  inflating: /content/Spectrogram_Hann/Train/spc_a02_124.png  \n",
            "  inflating: /content/Spectrogram_Hann/Train/spc_a03_337.png  \n",
            "  inflating: /content/Spectrogram_Hann/Train/spc_b04_380.png  \n",
            "  inflating: /content/Spectrogram_Hann/Train/spc_c06_379.png  \n",
            "  inflating: /content/Spectrogram_Hann/Train/spc_c06_51.png  \n",
            "  inflating: /content/Spectrogram_Hann/Train/spc_a06_500.png  \n",
            "  inflating: /content/Spectrogram_Hann/Train/spc_b02_474.png  \n",
            "  inflating: /content/Spectrogram_Hann/Train/spc_a02_130.png  \n",
            "  inflating: /content/Spectrogram_Hann/Train/spc_b04_394.png  \n",
            "  inflating: /content/Spectrogram_Hann/Train/spc_c08_68.png  \n",
            "  inflating: /content/Spectrogram_Hann/Train/spc_a03_323.png  \n",
            "  inflating: /content/Spectrogram_Hann/Train/spc_c06_45.png  \n",
            "  inflating: /content/Spectrogram_Hann/Train/spc_b02_460.png  \n",
            "  inflating: /content/Spectrogram_Hann/Train/spc_a09_195.png  \n",
            "  inflating: /content/Spectrogram_Hann/Train/spc_a16_266.png  \n",
            "  inflating: /content/Spectrogram_Hann/Train/spc_a08_386.png  \n",
            "  inflating: /content/Spectrogram_Hann/Train/spc_b01_58.png  \n",
            "  inflating: /content/Spectrogram_Hann/Train/spc_a13_451.png  \n",
            "  inflating: /content/Spectrogram_Hann/Train/spc_a13_337.png  \n",
            "  inflating: /content/Spectrogram_Hann/Train/spc_a15_95.png  \n",
            "  inflating: /content/Spectrogram_Hann/Train/spc_a12_124.png  \n",
            "  inflating: /content/Spectrogram_Hann/Train/spc_c08_299.png  \n",
            "  inflating: /content/Spectrogram_Hann/Train/spc_b02_306.png  \n",
            "  inflating: /content/Spectrogram_Hann/Train/spc_b03_115.png  \n",
            "  inflating: /content/Spectrogram_Hann/Train/spc_a06_272.png  \n",
            "  inflating: /content/Spectrogram_Hann/Train/spc_a03_445.png  \n",
            "  inflating: /content/Spectrogram_Hann/Train/spc_a05_399.png  \n",
            "  inflating: /content/Spectrogram_Hann/Train/spc_c01_64.png  \n",
            "  inflating: /content/Spectrogram_Hann/Train/spc_c03_214.png  \n",
            "  inflating: /content/Spectrogram_Hann/Train/spc_c06_423.png  \n",
            "  inflating: /content/Spectrogram_Hann/Train/spc_c05_286.png  \n",
            "  inflating: /content/Spectrogram_Hann/Train/spc_c07_156.png  \n",
            "  inflating: /content/Spectrogram_Hann/Train/spc_a02_118.png  \n",
            "  inflating: /content/Spectrogram_Hann/Train/spc_c08_40.png  \n",
            "  inflating: /content/Spectrogram_Hann/Train/spc_c06_345.png  \n",
            "  inflating: /content/Spectrogram_Hann/Train/spc_b02_448.png  \n",
            "  inflating: /content/Spectrogram_Hann/Train/spc_b01_70.png  \n",
            "  inflating: /content/Spectrogram_Hann/Train/spc_a13_479.png  \n",
            "  inflating: /content/Spectrogram_Hann/Train/spc_a15_399.png  \n",
            "  inflating: /content/Spectrogram_Hann/Train/spc_b01_64.png  \n",
            "  inflating: /content/Spectrogram_Hann/Train/spc_c05_292.png  \n",
            "  inflating: /content/Spectrogram_Hann/Train/spc_c07_142.png  \n",
            "  inflating: /content/Spectrogram_Hann/Train/spc_c06_351.png  \n",
            "  inflating: /content/Spectrogram_Hann/Train/spc_c08_54.png  \n",
            "  inflating: /content/Spectrogram_Hann/Train/spc_c06_79.png  \n",
            "  inflating: /content/Spectrogram_Hann/Train/spc_c01_70.png  \n",
            "  inflating: /content/Spectrogram_Hann/Train/spc_c03_200.png  \n",
            "  inflating: /content/Spectrogram_Hann/Train/spc_b03_129.png  \n",
            "  inflating: /content/Spectrogram_Hann/Train/spc_c06_437.png  \n",
            "  inflating: /content/Spectrogram_Hann/Train/spc_a03_479.png  \n",
            "  inflating: /content/Spectrogram_Hann/Train/spc_a12_118.png  \n",
            "  inflating: /content/Spectrogram_Hann/Train/spc_b01_72.png  \n",
            "  inflating: /content/Spectrogram_Hann/Train/spc_c06_347.png  \n",
            "  inflating: /content/Spectrogram_Hann/Train/spc_c08_42.png  \n",
            "  inflating: /content/Spectrogram_Hann/Train/spc_a03_309.png  \n",
            "  inflating: /content/Spectrogram_Hann/Train/spc_c05_284.png  \n",
            "  inflating: /content/Spectrogram_Hann/Train/spc_c07_154.png  \n",
            "  inflating: /content/Spectrogram_Hann/Train/spc_c06_421.png  \n",
            "  inflating: /content/Spectrogram_Hann/Train/spc_c03_216.png  \n",
            "  inflating: /content/Spectrogram_Hann/Train/spc_a06_258.png  \n",
            "  inflating: /content/Spectrogram_Hann/Train/spc_a04_188.png  \n",
            "  inflating: /content/Spectrogram_Hann/Train/spc_c01_66.png  \n",
            "  inflating: /content/Spectrogram_Hann/Train/spc_a13_309.png  \n",
            "  inflating: /content/Spectrogram_Hann/Train/spc_c06_435.png  \n",
            "  inflating: /content/Spectrogram_Hann/Train/spc_c03_202.png  \n",
            "  inflating: /content/Spectrogram_Hann/Train/spc_b02_338.png  \n",
            "  inflating: /content/Spectrogram_Hann/Train/spc_c01_72.png  \n",
            "  inflating: /content/Spectrogram_Hann/Train/spc_c08_56.png  \n",
            "  inflating: /content/Spectrogram_Hann/Train/spc_c06_353.png  \n",
            "  inflating: /content/Spectrogram_Hann/Train/spc_c05_290.png  \n",
            "  inflating: /content/Spectrogram_Hann/Train/spc_c07_140.png  \n",
            "  inflating: /content/Spectrogram_Hann/Train/spc_b01_8.png  \n",
            "  inflating: /content/Spectrogram_Hann/Train/spc_b01_66.png  \n",
            "  inflating: /content/Spectrogram_Hann/Train/spc_a16_258.png  \n",
            "  inflating: /content/Spectrogram_Hann/Train/spc_a14_188.png  \n",
            "  inflating: /content/Spectrogram_Hann/Train/spc_b02_476.png  \n",
            "  inflating: /content/Spectrogram_Hann/Train/spc_a06_502.png  \n",
            "  inflating: /content/Spectrogram_Hann/Train/spc_c06_53.png  \n",
            "  inflating: /content/Spectrogram_Hann/Train/spc_b04_382.png  \n",
            "  inflating: /content/Spectrogram_Hann/Train/spc_a03_335.png  \n",
            "  inflating: /content/Spectrogram_Hann/Train/spc_a02_126.png  \n",
            "  inflating: /content/Spectrogram_Hann/Train/spc_c07_168.png  \n",
            "  inflating: /content/Spectrogram_Hann/Train/spc_a13_447.png  \n",
            "  inflating: /content/Spectrogram_Hann/Train/spc_a08_390.png  \n",
            "  inflating: /content/Spectrogram_Hann/Train/spc_a09_183.png  \n",
            "  inflating: /content/Spectrogram_Hann/Train/spc_a16_270.png  \n",
            "  inflating: /content/Spectrogram_Hann/Train/spc_a12_132.png  \n",
            "  inflating: /content/Spectrogram_Hann/Train/spc_a13_321.png  \n",
            "  inflating: /content/Spectrogram_Hann/Train/spc_a15_83.png  \n",
            "  inflating: /content/Spectrogram_Hann/Train/spc_a03_453.png  \n",
            "  inflating: /content/Spectrogram_Hann/Train/spc_b03_103.png  \n",
            "  inflating: /content/Spectrogram_Hann/Train/spc_a06_264.png  \n",
            "  inflating: /content/Spectrogram_Hann/Train/spc_b02_310.png  \n",
            "  inflating: /content/Spectrogram_Hann/Train/spc_a03_447.png  \n",
            "  inflating: /content/Spectrogram_Hann/Train/spc_c06_409.png  \n",
            "  inflating: /content/Spectrogram_Hann/Train/spc_b03_117.png  \n",
            "  inflating: /content/Spectrogram_Hann/Train/spc_a06_270.png  \n",
            "  inflating: /content/Spectrogram_Hann/Train/spc_b02_304.png  \n",
            "  inflating: /content/Spectrogram_Hann/Train/spc_a12_126.png  \n",
            "  inflating: /content/Spectrogram_Hann/Train/spc_a13_335.png  \n",
            "  inflating: /content/Spectrogram_Hann/Train/spc_a15_97.png  \n",
            "  inflating: /content/Spectrogram_Hann/Train/spc_a13_453.png  \n",
            "  inflating: /content/Spectrogram_Hann/Train/spc_a08_384.png  \n",
            "  inflating: /content/Spectrogram_Hann/Train/spc_a09_197.png  \n",
            "  inflating: /content/Spectrogram_Hann/Train/spc_a16_264.png  \n",
            "  inflating: /content/Spectrogram_Hann/Train/spc_b02_462.png  \n",
            "  inflating: /content/Spectrogram_Hann/Train/spc_c06_47.png  \n",
            "  inflating: /content/Spectrogram_Hann/Train/spc_a03_321.png  \n",
            "  inflating: /content/Spectrogram_Hann/Train/spc_b04_396.png  \n",
            "  inflating: /content/Spectrogram_Hann/Train/spc_a02_132.png  \n",
            "  inflating: /content/Spectrogram_Hann/Train/spc_c08_81.png  \n",
            "  inflating: /content/Spectrogram_Hann/Train/spc_c06_384.png  \n",
            "  inflating: /content/Spectrogram_Hann/Train/spc_c05_247.png  \n",
            "  inflating: /content/Spectrogram_Hann/Train/spc_c07_197.png  \n",
            "  inflating: /content/Spectrogram_Hann/Train/spc_b02_489.png  \n",
            "  inflating: /content/Spectrogram_Hann/Train/spc_a13_2.png  \n",
            "  inflating: /content/Spectrogram_Hann/Train/spc_a12_75.png  \n",
            "  inflating: /content/Spectrogram_Hann/Train/spc_c08_270.png  \n",
            "  inflating: /content/Spectrogram_Hann/Train/spc_a08_409.png  \n",
            "  inflating: /content/Spectrogram_Hann/Train/spc_c01_105.png  \n",
            "  inflating: /content/Spectrogram_Hann/Train/spc_a05_358.png  \n",
            "  inflating: /content/Spectrogram_Hann/Train/spc_b01_238.png  \n",
            "  inflating: /content/Spectrogram_Hann/Train/spc_c01_111.png  \n",
            "  inflating: /content/Spectrogram_Hann/Train/spc_c08_264.png  \n",
            "  inflating: /content/Spectrogram_Hann/Train/spc_a10_209.png  \n",
            "  inflating: /content/Spectrogram_Hann/Train/spc_a15_68.png  \n",
            "  inflating: /content/Spectrogram_Hann/Train/spc_a15_358.png  \n",
            "  inflating: /content/Spectrogram_Hann/Train/spc_a09_168.png  \n",
            "  inflating: /content/Spectrogram_Hann/Train/spc_c08_502.png  \n",
            "  inflating: /content/Spectrogram_Hann/Train/spc_a12_61.png  \n",
            "  inflating: /content/Spectrogram_Hann/Train/spc_c06_390.png  \n",
            "  inflating: /content/Spectrogram_Hann/Train/spc_b04_369.png  \n",
            "  inflating: /content/Spectrogram_Hann/Train/spc_a06_14.png  \n",
            "  inflating: /content/Spectrogram_Hann/Train/spc_c08_95.png  \n",
            "  inflating: /content/Spectrogram_Hann/Train/spc_c05_253.png  \n",
            "  inflating: /content/Spectrogram_Hann/Train/spc_c07_183.png  \n",
            "  inflating: /content/Spectrogram_Hann/Train/spc_a08_39.png  \n",
            "  inflating: /content/Spectrogram_Hann/Train/spc_a08_353.png  \n",
            "  inflating: /content/Spectrogram_Hann/Train/spc_a15_370.png  \n",
            "  inflating: /content/Spectrogram_Hann/Train/spc_a14_163.png  \n",
            "  inflating: /content/Spectrogram_Hann/Train/spc_a09_140.png  \n",
            "  inflating: /content/Spectrogram_Hann/Train/spc_a13_484.png  \n",
            "  inflating: /content/Spectrogram_Hann/Train/spc_a12_49.png  \n",
            "  inflating: /content/Spectrogram_Hann/Train/spc_b04_341.png  \n",
            "  inflating: /content/Spectrogram_Hann/Train/spc_a05_402.png  \n",
            "  inflating: /content/Spectrogram_Hann/Train/spc_c06_90.png  \n",
            "  inflating: /content/Spectrogram_Hann/Train/spc_a08_11.png  \n",
            "  inflating: /content/Spectrogram_Hann/Train/spc_c01_139.png  \n",
            "  inflating: /content/Spectrogram_Hann/Train/spc_a04_177.png  \n",
            "  inflating: /content/Spectrogram_Hann/Train/spc_b01_210.png  \n",
            "  inflating: /content/Spectrogram_Hann/Train/spc_a05_364.png  \n",
            "  inflating: /content/Spectrogram_Hann/Train/spc_c01_99.png  \n",
            "  inflating: /content/Spectrogram_Hann/Train/spc_a01_35.png  \n",
            "  inflating: /content/Spectrogram_Hann/Train/spc_a03_490.png  \n",
            "  inflating: /content/Spectrogram_Hann/Train/spc_b04_427.png  \n",
            "  inflating: /content/Spectrogram_Hann/Train/spc_a10_221.png  \n",
            "  inflating: /content/Spectrogram_Hann/Train/spc_a15_40.png  \n",
            "  inflating: /content/Spectrogram_Hann/Train/spc_a08_435.png  \n",
            "  inflating: /content/Spectrogram_Hann/Train/spc_a15_416.png  \n",
            "  inflating: /content/Spectrogram_Hann/Train/spc_c08_258.png  \n",
            "  inflating: /content/Spectrogram_Hann/Train/spc_a10_235.png  \n",
            "  inflating: /content/Spectrogram_Hann/Train/spc_a15_54.png  \n",
            "  inflating: /content/Spectrogram_Hann/Train/spc_a15_402.png  \n",
            "  inflating: /content/Spectrogram_Hann/Train/spc_a08_421.png  \n",
            "  inflating: /content/Spectrogram_Hann/Train/spc_a04_163.png  \n",
            "  inflating: /content/Spectrogram_Hann/Train/spc_b01_204.png  \n",
            "  inflating: /content/Spectrogram_Hann/Train/spc_a05_370.png  \n",
            "  inflating: /content/Spectrogram_Hann/Train/spc_a01_21.png  \n",
            "  inflating: /content/Spectrogram_Hann/Train/spc_a03_484.png  \n",
            "  inflating: /content/Spectrogram_Hann/Train/spc_a06_28.png  \n",
            "  inflating: /content/Spectrogram_Hann/Train/spc_b04_355.png  \n",
            "  inflating: /content/Spectrogram_Hann/Train/spc_a05_416.png  \n",
            "  inflating: /content/Spectrogram_Hann/Train/spc_c06_84.png  \n",
            "  inflating: /content/Spectrogram_Hann/Train/spc_a15_364.png  \n",
            "  inflating: /content/Spectrogram_Hann/Train/spc_b01_99.png  \n",
            "  inflating: /content/Spectrogram_Hann/Train/spc_a08_347.png  \n",
            "  inflating: /content/Spectrogram_Hann/Train/spc_a09_154.png  \n",
            "  inflating: /content/Spectrogram_Hann/Train/spc_a14_177.png  \n",
            "  inflating: /content/Spectrogram_Hann/Train/spc_a13_490.png  \n",
            "  inflating: /content/Spectrogram_Hann/Train/spc_a05_199.png  \n",
            "  inflating: /content/Spectrogram_Hann/Train/spc_c02_207.png  \n",
            "  inflating: /content/Spectrogram_Hann/Train/spc_a07_249.png  \n",
            "  inflating: /content/Spectrogram_Hann/Train/spc_c07_356.png  \n",
            "  inflating: /content/Spectrogram_Hann/Train/spc_a02_318.png  \n",
            "  inflating: /content/Spectrogram_Hann/Train/spc_c06_145.png  \n",
            "  inflating: /content/Spectrogram_Hann/Train/spc_c04_295.png  \n",
            "  inflating: /content/Spectrogram_Hann/Train/spc_a15_199.png  \n",
            "  inflating: /content/Spectrogram_Hann/Train/spc_c07_342.png  \n",
            "  inflating: /content/Spectrogram_Hann/Train/spc_c06_151.png  \n",
            "  inflating: /content/Spectrogram_Hann/Train/spc_c04_281.png  \n",
            "  inflating: /content/Spectrogram_Hann/Train/spc_c02_213.png  \n",
            "  inflating: /content/Spectrogram_Hann/Train/spc_b03_329.png  \n",
            "  inflating: /content/Spectrogram_Hann/Train/spc_c07_424.png  \n",
            "  inflating: /content/Spectrogram_Hann/Train/spc_a12_318.png  \n",
            "  inflating: /content/Spectrogram_Hann/Train/spc_c05_16.png  \n",
            "  inflating: /content/Spectrogram_Hann/Train/spc_a07_275.png  \n",
            "  inflating: /content/Spectrogram_Hann/Train/spc_b02_112.png  \n",
            "  inflating: /content/Spectrogram_Hann/Train/spc_b02_23.png  \n",
            "  inflating: /content/Spectrogram_Hann/Train/spc_b03_301.png  \n",
            "  inflating: /content/Spectrogram_Hann/Train/spc_a02_442.png  \n",
            "  inflating: /content/Spectrogram_Hann/Train/spc_a13_123.png  \n",
            "  inflating: /content/Spectrogram_Hann/Train/spc_a05_92.png  \n",
            "  inflating: /content/Spectrogram_Hann/Train/spc_a12_330.png  \n",
            "  inflating: /content/Spectrogram_Hann/Train/spc_c02_37.png  \n",
            "  inflating: /content/Spectrogram_Hann/Train/spc_a09_381.png  \n",
            "  inflating: /content/Spectrogram_Hann/Train/spc_a08_192.png  \n",
            "  inflating: /content/Spectrogram_Hann/Train/spc_a12_456.png  \n",
            "  inflating: /content/Spectrogram_Hann/Train/spc_a02_324.png  \n",
            "  inflating: /content/Spectrogram_Hann/Train/spc_a03_137.png  \n",
            "  inflating: /content/Spectrogram_Hann/Train/spc_c06_179.png  \n",
            "  inflating: /content/Spectrogram_Hann/Train/spc_b04_180.png  \n",
            "  inflating: /content/Spectrogram_Hann/Train/spc_a02_330.png  \n",
            "  inflating: /content/Spectrogram_Hann/Train/spc_b04_194.png  \n",
            "  inflating: /content/Spectrogram_Hann/Train/spc_a03_123.png  \n",
            "  inflating: /content/Spectrogram_Hann/Train/spc_a07_507.png  \n",
            "  inflating: /content/Spectrogram_Hann/Train/spc_c02_23.png  \n",
            "  inflating: /content/Spectrogram_Hann/Train/spc_a09_395.png  \n",
            "  inflating: /content/Spectrogram_Hann/Train/spc_a08_186.png  \n",
            "  inflating: /content/Spectrogram_Hann/Train/spc_a12_442.png  \n",
            "  inflating: /content/Spectrogram_Hann/Train/spc_a13_137.png  \n",
            "  inflating: /content/Spectrogram_Hann/Train/spc_a05_86.png  \n",
            "  inflating: /content/Spectrogram_Hann/Train/spc_a12_324.png  \n",
            "  inflating: /content/Spectrogram_Hann/Train/spc_a07_261.png  \n",
            "  inflating: /content/Spectrogram_Hann/Train/spc_b02_106.png  \n",
            "  inflating: /content/Spectrogram_Hann/Train/spc_b02_37.png  \n",
            "  inflating: /content/Spectrogram_Hann/Train/spc_b03_315.png  \n",
            "  inflating: /content/Spectrogram_Hann/Train/spc_a02_456.png  \n",
            "  inflating: /content/Spectrogram_Hann/Train/spc_c07_418.png  \n",
            "  inflating: /content/Spectrogram_Hann/Train/spc_a11_18.png  \n",
            "  inflating: /content/Spectrogram_Hann/Train/spc_a04_349.png  \n",
            "  inflating: /content/Spectrogram_Hann/Train/spc_c01_307.png  \n",
            "  inflating: /content/Spectrogram_Hann/Train/spc_a09_418.png  \n",
            "  inflating: /content/Spectrogram_Hann/Train/spc_a02_64.png  \n",
            "  inflating: /content/Spectrogram_Hann/Train/spc_a11_0.png  \n",
            "  inflating: /content/Spectrogram_Hann/Train/spc_c01_461.png  \n",
            "  inflating: /content/Spectrogram_Hann/Train/spc_a16_11.png  \n",
            "  inflating: /content/Spectrogram_Hann/Train/spc_c07_395.png  \n",
            "  inflating: /content/Spectrogram_Hann/Train/spc_c06_186.png  \n",
            "  inflating: /content/Spectrogram_Hann/Train/spc_a01_218.png  \n",
            "  inflating: /content/Spectrogram_Hann/Train/spc_c04_256.png  \n",
            "  inflating: /content/Spectrogram_Hann/Train/spc_c01_475.png  \n",
            "  inflating: /content/Spectrogram_Hann/Train/spc_c07_381.png  \n",
            "  inflating: /content/Spectrogram_Hann/Train/spc_c06_192.png  \n",
            "  inflating: /content/Spectrogram_Hann/Train/spc_c04_242.png  \n",
            "  inflating: /content/Spectrogram_Hann/Train/spc_a02_70.png  \n",
            "  inflating: /content/Spectrogram_Hann/Train/spc_a14_349.png  \n",
            "  inflating: /content/Spectrogram_Hann/Train/spc_a08_179.png  \n",
            "  inflating: /content/Spectrogram_Hann/Train/spc_a11_218.png  \n",
            "  inflating: /content/Spectrogram_Hann/Train/spc_a05_79.png  \n",
            "  inflating: /content/Spectrogram_Hann/Train/spc_c01_313.png  \n",
            "  inflating: /content/Spectrogram_Hann/Train/spc_a09_424.png  \n",
            "  inflating: /content/Spectrogram_Hann/Train/spc_a14_407.png  \n",
            "  inflating: /content/Spectrogram_Hann/Train/spc_a11_230.png  \n",
            "  inflating: /content/Spectrogram_Hann/Train/spc_a05_51.png  \n",
            "  inflating: /content/Spectrogram_Hann/Train/spc_a11_24.png  \n",
            "  inflating: /content/Spectrogram_Hann/Train/spc_a02_481.png  \n",
            "  inflating: /content/Spectrogram_Hann/Train/spc_a05_166.png  \n",
            "  inflating: /content/Spectrogram_Hann/Train/spc_a04_375.png  \n",
            "  inflating: /content/Spectrogram_Hann/Train/spc_a04_413.png  \n",
            "  inflating: /content/Spectrogram_Hann/Train/spc_a01_224.png  \n",
            "  inflating: /content/Spectrogram_Hann/Train/spc_b04_143.png  \n",
            "  inflating: /content/Spectrogram_Hann/Train/spc_a12_495.png  \n",
            "  inflating: /content/Spectrogram_Hann/Train/spc_a02_58.png  \n",
            "  inflating: /content/Spectrogram_Hann/Train/spc_a09_342.png  \n",
            "  inflating: /content/Spectrogram_Hann/Train/spc_a14_361.png  \n",
            "  inflating: /content/Spectrogram_Hann/Train/spc_a15_172.png  \n",
            "  inflating: /content/Spectrogram_Hann/Train/spc_a08_151.png  \n",
            "  inflating: /content/Spectrogram_Hann/Train/spc_a12_481.png  \n",
            "  inflating: /content/Spectrogram_Hann/Train/spc_a14_375.png  \n",
            "  inflating: /content/Spectrogram_Hann/Train/spc_a09_356.png  \n",
            "  inflating: /content/Spectrogram_Hann/Train/spc_a08_145.png  \n",
            "  inflating: /content/Spectrogram_Hann/Train/spc_a15_166.png  \n",
            "  inflating: /content/Spectrogram_Hann/Train/spc_c01_449.png  \n",
            "  inflating: /content/Spectrogram_Hann/Train/spc_a04_407.png  \n",
            "  inflating: /content/Spectrogram_Hann/Train/spc_a16_39.png  \n",
            "  inflating: /content/Spectrogram_Hann/Train/spc_a01_230.png  \n",
            "  inflating: /content/Spectrogram_Hann/Train/spc_b04_157.png  \n",
            "  inflating: /content/Spectrogram_Hann/Train/spc_a11_30.png  \n",
            "  inflating: /content/Spectrogram_Hann/Train/spc_a02_495.png  \n",
            "  inflating: /content/Spectrogram_Hann/Train/spc_a05_172.png  \n",
            "  inflating: /content/Spectrogram_Hann/Train/spc_a04_361.png  \n",
            "  inflating: /content/Spectrogram_Hann/Train/spc_a14_413.png  \n",
            "  inflating: /content/Spectrogram_Hann/Train/spc_a09_430.png  \n",
            "  inflating: /content/Spectrogram_Hann/Train/spc_a11_224.png  \n",
            "  inflating: /content/Spectrogram_Hann/Train/spc_a05_45.png  \n",
            "  inflating: /content/Spectrogram_Hann/Train/spc_a12_278.png  \n",
            "  inflating: /content/Spectrogram_Hann/Train/spc_b03_249.png  \n",
            "  inflating: /content/Spectrogram_Hann/Train/spc_c03_160.png  \n",
            "  inflating: /content/Spectrogram_Hann/Train/spc_b01_199.png  \n",
            "  inflating: /content/Spectrogram_Hann/Train/spc_c02_373.png  \n",
            "  inflating: /content/Spectrogram_Hann/Train/spc_c02_415.png  \n",
            "  inflating: /content/Spectrogram_Hann/Train/spc_a09_86.png  \n",
            "  inflating: /content/Spectrogram_Hann/Train/spc_c07_222.png  \n",
            "  inflating: /content/Spectrogram_Hann/Train/spc_c02_401.png  \n",
            "  inflating: /content/Spectrogram_Hann/Train/spc_a09_92.png  \n",
            "  inflating: /content/Spectrogram_Hann/Train/spc_c07_13.png  \n",
            "  inflating: /content/Spectrogram_Hann/Train/spc_c07_236.png  \n",
            "  inflating: /content/Spectrogram_Hann/Train/spc_a02_278.png  \n",
            "  inflating: /content/Spectrogram_Hann/Train/spc_c03_174.png  \n",
            "  inflating: /content/Spectrogram_Hann/Train/spc_c02_367.png  \n",
            "  inflating: /content/Spectrogram_Hann/Train/spc_a07_329.png  \n",
            "  inflating: /content/Spectrogram_Hann/Train/spc_a06_112.png  \n",
            "  inflating: /content/Spectrogram_Hann/Train/spc_b03_275.png  \n",
            "  inflating: /content/Spectrogram_Hann/Train/spc_a07_301.png  \n",
            "  inflating: /content/Spectrogram_Hann/Train/spc_a10_194.png  \n",
            "  inflating: /content/Spectrogram_Hann/Train/spc_a12_244.png  \n",
            "  inflating: /content/Spectrogram_Hann/Train/spc_a11_387.png  \n",
            "  inflating: /content/Spectrogram_Hann/Train/spc_a12_522.png  \n",
            "  inflating: /content/Spectrogram_Hann/Train/spc_a16_106.png  \n",
            "  inflating: /content/Spectrogram_Hann/Train/spc_a07_467.png  \n",
            "  inflating: /content/Spectrogram_Hann/Train/spc_c02_429.png  \n",
            "  inflating: /content/Spectrogram_Hann/Train/spc_a07_97.png  \n",
            "  inflating: /content/Spectrogram_Hann/Train/spc_a01_393.png  \n",
            "  inflating: /content/Spectrogram_Hann/Train/spc_a02_250.png  \n",
            "  inflating: /content/Spectrogram_Hann/Train/spc_a07_473.png  \n",
            "  inflating: /content/Spectrogram_Hann/Train/spc_a07_83.png  \n",
            "  inflating: /content/Spectrogram_Hann/Train/spc_a01_387.png  \n",
            "  inflating: /content/Spectrogram_Hann/Train/spc_a02_244.png  \n",
            "  inflating: /content/Spectrogram_Hann/Train/spc_a12_536.png  \n",
            "  inflating: /content/Spectrogram_Hann/Train/spc_a16_112.png  \n",
            "  inflating: /content/Spectrogram_Hann/Train/spc_a10_180.png  \n",
            "  inflating: /content/Spectrogram_Hann/Train/spc_a12_250.png  \n",
            "  inflating: /content/Spectrogram_Hann/Train/spc_a11_393.png  \n",
            "  inflating: /content/Spectrogram_Hann/Train/spc_a02_522.png  \n",
            "  inflating: /content/Spectrogram_Hann/Train/spc_a06_106.png  \n",
            "  inflating: /content/Spectrogram_Hann/Train/spc_c03_148.png  \n",
            "  inflating: /content/Spectrogram_Hann/Train/spc_b03_261.png  \n",
            "  inflating: /content/Spectrogram_Hann/Train/spc_c01_298.png  \n",
            "  inflating: /content/Spectrogram_Hann/Train/spc_a07_315.png  \n",
            "  inflating: /content/Spectrogram_Hann/Train/spc_c01_273.png  \n",
            "  inflating: /content/Spectrogram_Hann/Train/spc_c04_444.png  \n",
            "  inflating: /content/Spectrogram_Hann/Train/spc_c08_106.png  \n",
            "  inflating: /content/Spectrogram_Hann/Train/spc_a11_378.png  \n",
            "  inflating: /content/Spectrogram_Hann/Train/spc_a14_14.png  \n",
            "  inflating: /content/Spectrogram_Hann/Train/spc_a14_229.png  \n",
            "  inflating: /content/Spectrogram_Hann/Train/spc_a09_45.png  \n",
            "  inflating: /content/Spectrogram_Hann/Train/spc_c04_322.png  \n",
            "  inflating: /content/Spectrogram_Hann/Train/spc_c05_131.png  \n",
            "  inflating: /content/Spectrogram_Hann/Train/spc_a07_498.png  \n",
            "  inflating: /content/Spectrogram_Hann/Train/spc_a07_68.png  \n",
            "  inflating: /content/Spectrogram_Hann/Train/spc_a01_378.png  \n",
            "  inflating: /content/Spectrogram_Hann/Train/spc_c04_336.png  \n",
            "  inflating: /content/Spectrogram_Hann/Train/spc_a09_51.png  \n",
            "  inflating: /content/Spectrogram_Hann/Train/spc_c05_125.png  \n",
            "  inflating: /content/Spectrogram_Hann/Train/spc_c08_112.png  \n",
            "  inflating: /content/Spectrogram_Hann/Train/spc_a04_229.png  \n",
            "  inflating: /content/Spectrogram_Hann/Train/spc_c01_267.png  \n",
            "  inflating: /content/Spectrogram_Hann/Train/spc_c04_450.png  \n",
            "  inflating: /content/Spectrogram_Hann/Train/spc_a10_157.png  \n",
            "  inflating: /content/Spectrogram_Hann/Train/spc_a12_287.png  \n",
            "  inflating: /content/Spectrogram_Hann/Train/spc_a11_344.png  \n",
            "  inflating: /content/Spectrogram_Hann/Train/spc_a14_28.png  \n",
            "  inflating: /content/Spectrogram_Hann/Train/spc_b01_166.png  \n",
            "  inflating: /content/Spectrogram_Hann/Train/spc_a04_201.png  \n",
            "  inflating: /content/Spectrogram_Hann/Train/spc_c04_478.png  \n",
            "  inflating: /content/Spectrogram_Hann/Train/spc_a01_436.png  \n",
            "  inflating: /content/Spectrogram_Hann/Train/spc_a09_79.png  \n",
            "  inflating: /content/Spectrogram_Hann/Train/spc_a01_350.png  \n",
            "  inflating: /content/Spectrogram_Hann/Train/spc_a02_293.png  \n",
            "  inflating: /content/Spectrogram_Hann/Train/spc_a07_54.png  \n",
            "  inflating: /content/Spectrogram_Hann/Train/spc_a13_21.png  \n",
            "  inflating: /content/Spectrogram_Hann/Train/spc_a14_215.png  \n",
            "  inflating: /content/Spectrogram_Hann/Train/spc_a09_236.png  \n",
            "  inflating: /content/Spectrogram_Hann/Train/spc_a11_422.png  \n",
            "  inflating: /content/Spectrogram_Hann/Train/spc_a13_35.png  \n",
            "  inflating: /content/Spectrogram_Hann/Train/spc_a09_222.png  \n",
            "  inflating: /content/Spectrogram_Hann/Train/spc_a14_201.png  \n",
            "  inflating: /content/Spectrogram_Hann/Train/spc_a11_436.png  \n",
            "  inflating: /content/Spectrogram_Hann/Train/spc_a01_344.png  \n",
            "  inflating: /content/Spectrogram_Hann/Train/spc_c05_119.png  \n",
            "  inflating: /content/Spectrogram_Hann/Train/spc_a02_287.png  \n",
            "  inflating: /content/Spectrogram_Hann/Train/spc_a07_40.png  \n",
            "  inflating: /content/Spectrogram_Hann/Train/spc_b01_172.png  \n",
            "  inflating: /content/Spectrogram_Hann/Train/spc_a04_215.png  \n",
            "  inflating: /content/Spectrogram_Hann/Train/spc_c02_398.png  \n",
            "  inflating: /content/Spectrogram_Hann/Train/spc_a01_422.png  \n",
            "  inflating: /content/Spectrogram_Hann/Train/spc_a10_143.png  \n",
            "  inflating: /content/Spectrogram_Hann/Train/spc_a12_293.png  \n",
            "  inflating: /content/Spectrogram_Hann/Train/spc_a11_350.png  \n",
            "  inflating: /content/Spectrogram_Hann/Train/spc_a16_338.png  \n",
            "  inflating: /content/Spectrogram_Hann/Train/spc_c03_63.png  \n",
            "  inflating: /content/Spectrogram_Hann/Train/spc_c06_233.png  \n",
            "  inflating: /content/Spectrogram_Hann/Train/spc_c03_404.png  \n",
            "  inflating: /content/Spectrogram_Hann/Train/spc_c02_171.png  \n",
            "  inflating: /content/Spectrogram_Hann/Train/spc_b02_258.png  \n",
            "  inflating: /content/Spectrogram_Hann/Train/spc_c03_362.png  \n",
            "  inflating: /content/Spectrogram_Hann/Train/spc_b03_77.png  \n",
            "  inflating: /content/Spectrogram_Hann/Train/spc_a13_269.png  \n",
            "  inflating: /content/Spectrogram_Hann/Train/spc_c05_9.png  \n",
            "  inflating: /content/Spectrogram_Hann/Train/spc_a08_1.png  \n",
            "  inflating: /content/Spectrogram_Hann/Train/spc_c02_165.png  \n",
            "  inflating: /content/Spectrogram_Hann/Train/spc_c03_376.png  \n",
            "  inflating: /content/Spectrogram_Hann/Train/spc_a06_338.png  \n",
            "  inflating: /content/Spectrogram_Hann/Train/spc_b03_63.png  \n",
            "  inflating: /content/Spectrogram_Hann/Train/spc_c06_227.png  \n",
            "  inflating: /content/Spectrogram_Hann/Train/spc_a03_269.png  \n",
            "  inflating: /content/Spectrogram_Hann/Train/spc_c03_410.png  \n",
            "  inflating: /content/Spectrogram_Hann/Train/spc_c03_77.png  \n",
            "  inflating: /content/Spectrogram_Hann/Train/spc_b04_42.png  \n",
            "  inflating: /content/Spectrogram_Hann/Train/spc_a03_241.png  \n",
            "  inflating: /content/Spectrogram_Hann/Train/spc_a01_191.png  \n",
            "  inflating: /content/Spectrogram_Hann/Train/spc_a06_476.png  \n",
            "  inflating: /content/Spectrogram_Hann/Train/spc_c03_438.png  \n",
            "  inflating: /content/Spectrogram_Hann/Train/spc_b02_502.png  \n",
            "  inflating: /content/Spectrogram_Hann/Train/spc_a16_304.png  \n",
            "  inflating: /content/Spectrogram_Hann/Train/spc_a13_255.png  \n",
            "  inflating: /content/Spectrogram_Hann/Train/spc_a11_185.png  \n",
            "  inflating: /content/Spectrogram_Hann/Train/spc_c04_56.png  \n",
            "  inflating: /content/Spectrogram_Hann/Train/spc_a10_396.png  \n",
            "  inflating: /content/Spectrogram_Hann/Train/spc_a16_462.png  \n",
            "  inflating: /content/Spectrogram_Hann/Train/spc_b02_264.png  \n",
            "  inflating: /content/Spectrogram_Hann/Train/spc_a07_103.png  \n",
            "  inflating: /content/Spectrogram_Hann/Train/spc_a06_310.png  \n",
            "  inflating: /content/Spectrogram_Hann/Train/spc_b02_270.png  \n",
            "  inflating: /content/Spectrogram_Hann/Train/spc_a07_117.png  \n",
            "  inflating: /content/Spectrogram_Hann/Train/spc_c02_159.png  \n",
            "  inflating: /content/Spectrogram_Hann/Train/spc_a06_304.png  \n",
            "  inflating: /content/Spectrogram_Hann/Train/spc_a13_241.png  \n",
            "  inflating: /content/Spectrogram_Hann/Train/spc_a11_191.png  \n",
            "  inflating: /content/Spectrogram_Hann/Train/spc_c04_42.png  \n",
            "  inflating: /content/Spectrogram_Hann/Train/spc_a10_382.png  \n",
            "  inflating: /content/Spectrogram_Hann/Train/spc_a16_476.png  \n",
            "  inflating: /content/Spectrogram_Hann/Train/spc_a16_310.png  \n",
            "  inflating: /content/Spectrogram_Hann/Train/spc_c08_489.png  \n",
            "  inflating: /content/Spectrogram_Hann/Train/spc_b04_56.png  \n",
            "  inflating: /content/Spectrogram_Hann/Train/spc_a03_255.png  \n",
            "  inflating: /content/Spectrogram_Hann/Train/spc_a01_185.png  \n",
            "  inflating: /content/Spectrogram_Hann/Train/spc_a06_462.png  \n",
            "  inflating: /content/Spectrogram_Hann/Train/spc_a06_489.png  \n",
            "  inflating: /content/Spectrogram_Hann/Train/spc_c05_333.png  \n",
            "  inflating: /content/Spectrogram_Hann/Train/spc_c04_120.png  \n",
            "  inflating: /content/Spectrogram_Hann/Train/spc_b04_209.png  \n",
            "  inflating: /content/Spectrogram_Hann/Train/spc_c08_462.png  \n",
            "  inflating: /content/Spectrogram_Hann/Train/spc_a15_238.png  \n",
            "  inflating: /content/Spectrogram_Hann/Train/spc_c08_304.png  \n",
            "  inflating: /content/Spectrogram_Hann/Train/spc_a10_369.png  \n",
            "  inflating: /content/Spectrogram_Hann/Train/spc_c05_455.png  \n",
            "  inflating: /content/Spectrogram_Hann/Train/spc_b01_358.png  \n",
            "  inflating: /content/Spectrogram_Hann/Train/spc_a10_70.png  \n",
            "  inflating: /content/Spectrogram_Hann/Train/spc_c05_441.png  \n",
            "  inflating: /content/Spectrogram_Hann/Train/spc_a05_238.png  \n",
            "  inflating: /content/Spectrogram_Hann/Train/spc_a10_64.png  \n",
            "  inflating: /content/Spectrogram_Hann/Train/spc_a15_4.png  \n",
            "  inflating: /content/Spectrogram_Hann/Train/spc_a04_11.png  \n",
            "  inflating: /content/Spectrogram_Hann/Train/spc_c08_310.png  \n",
            "  inflating: /content/Spectrogram_Hann/Train/spc_c08_476.png  \n",
            "  inflating: /content/Spectrogram_Hann/Train/spc_a03_18.png  \n",
            "  inflating: /content/Spectrogram_Hann/Train/spc_c05_327.png  \n",
            "  inflating: /content/Spectrogram_Hann/Train/spc_c04_134.png  \n",
            "  inflating: /content/Spectrogram_Hann/Train/spc_a10_433.png  \n",
            "  inflating: /content/Spectrogram_Hann/Train/spc_a03_30.png  \n",
            "  inflating: /content/Spectrogram_Hann/Train/spc_a15_204.png  \n",
            "  inflating: /content/Spectrogram_Hann/Train/spc_a08_227.png  \n",
            "  inflating: /content/Spectrogram_Hann/Train/spc_b01_402.png  \n",
            "  inflating: /content/Spectrogram_Hann/Train/spc_b04_81.png  \n",
            "  inflating: /content/Spectrogram_Hann/Train/spc_b04_235.png  \n",
            "  inflating: /content/Spectrogram_Hann/Train/spc_a03_282.png  \n",
            "  inflating: /content/Spectrogram_Hann/Train/spc_a01_152.png  \n",
            "  inflating: /content/Spectrogram_Hann/Train/spc_b03_88.png  \n",
            "  inflating: /content/Spectrogram_Hann/Train/spc_a05_210.png  \n",
            "  inflating: /content/Spectrogram_Hann/Train/spc_b01_364.png  \n",
            "  inflating: /content/Spectrogram_Hann/Train/spc_a04_39.png  \n",
            "  inflating: /content/Spectrogram_Hann/Train/spc_a13_296.png  \n",
            "  inflating: /content/Spectrogram_Hann/Train/spc_a11_146.png  \n",
            "  inflating: /content/Spectrogram_Hann/Train/spc_c04_95.png  \n",
            "  inflating: /content/Spectrogram_Hann/Train/spc_c08_338.png  \n",
            "  inflating: /content/Spectrogram_Hann/Train/spc_a10_355.png  \n",
            "  inflating: /content/Spectrogram_Hann/Train/spc_a13_282.png  \n",
            "  inflating: /content/Spectrogram_Hann/Train/spc_a11_152.png  \n",
            "  inflating: /content/Spectrogram_Hann/Train/spc_c04_81.png  \n",
            "  inflating: /content/Spectrogram_Hann/Train/spc_a10_341.png  \n",
            "  inflating: /content/Spectrogram_Hann/Train/spc_a05_204.png  \n",
            "  inflating: /content/Spectrogram_Hann/Train/spc_a10_58.png  \n",
            "  inflating: /content/Spectrogram_Hann/Train/spc_c03_389.png  \n",
            "  inflating: /content/Spectrogram_Hann/Train/spc_b01_370.png  \n",
            "  inflating: /content/Spectrogram_Hann/Train/spc_b01_416.png  \n",
            "  inflating: /content/Spectrogram_Hann/Train/spc_b04_95.png  \n",
            "  inflating: /content/Spectrogram_Hann/Train/spc_a03_296.png  \n",
            "  inflating: /content/Spectrogram_Hann/Train/spc_b04_221.png  \n",
            "  inflating: /content/Spectrogram_Hann/Train/spc_c04_108.png  \n",
            "  inflating: /content/Spectrogram_Hann/Train/spc_a01_146.png  \n",
            "  inflating: /content/Spectrogram_Hann/Train/spc_a10_427.png  \n",
            "  inflating: /content/Spectrogram_Hann/Train/spc_c03_88.png  \n",
            "  inflating: /content/Spectrogram_Hann/Train/spc_a03_24.png  \n",
            "  inflating: /content/Spectrogram_Hann/Train/spc_a08_233.png  \n",
            "  inflating: /content/Spectrogram_Hann/Train/spc_a15_210.png  \n",
            "  inflating: /content/Spectrogram_Hann/Train/spc_a10_59.png  \n",
            "  inflating: /content/Spectrogram_Hann/Train/spc_b01_371.png  \n",
            "  inflating: /content/Spectrogram_Hann/Train/spc_c03_388.png  \n",
            "  inflating: /content/Spectrogram_Hann/Train/spc_a05_205.png  \n",
            "  inflating: /content/Spectrogram_Hann/Train/spc_a10_340.png  \n",
            "  inflating: /content/Spectrogram_Hann/Train/spc_c04_80.png  \n",
            "  inflating: /content/Spectrogram_Hann/Train/spc_a11_153.png  \n",
            "  inflating: /content/Spectrogram_Hann/Train/spc_a13_283.png  \n",
            "  inflating: /content/Spectrogram_Hann/Train/spc_a08_232.png  \n",
            "  inflating: /content/Spectrogram_Hann/Train/spc_a15_211.png  \n",
            "  inflating: /content/Spectrogram_Hann/Train/spc_a03_25.png  \n",
            "  inflating: /content/Spectrogram_Hann/Train/spc_c03_89.png  \n",
            "  inflating: /content/Spectrogram_Hann/Train/spc_a10_426.png  \n",
            "  inflating: /content/Spectrogram_Hann/Train/spc_c04_109.png  \n",
            "  inflating: /content/Spectrogram_Hann/Train/spc_a01_147.png  \n",
            "  inflating: /content/Spectrogram_Hann/Train/spc_a03_297.png  \n",
            "  inflating: /content/Spectrogram_Hann/Train/spc_b04_220.png  \n",
            "  inflating: /content/Spectrogram_Hann/Train/spc_b04_94.png  \n",
            "  inflating: /content/Spectrogram_Hann/Train/spc_b01_417.png  \n",
            "  inflating: /content/Spectrogram_Hann/Train/spc_a01_153.png  \n",
            "  inflating: /content/Spectrogram_Hann/Train/spc_b04_234.png  \n",
            "  inflating: /content/Spectrogram_Hann/Train/spc_a03_283.png  \n",
            "  inflating: /content/Spectrogram_Hann/Train/spc_b04_80.png  \n",
            "  inflating: /content/Spectrogram_Hann/Train/spc_b01_403.png  \n",
            "  inflating: /content/Spectrogram_Hann/Train/spc_a15_205.png  \n",
            "  inflating: /content/Spectrogram_Hann/Train/spc_a08_226.png  \n",
            "  inflating: /content/Spectrogram_Hann/Train/spc_a03_31.png  \n",
            "  inflating: /content/Spectrogram_Hann/Train/spc_a10_432.png  \n",
            "  inflating: /content/Spectrogram_Hann/Train/spc_a10_354.png  \n",
            "  inflating: /content/Spectrogram_Hann/Train/spc_c08_339.png  \n",
            "  inflating: /content/Spectrogram_Hann/Train/spc_c04_94.png  \n",
            "  inflating: /content/Spectrogram_Hann/Train/spc_a11_147.png  \n",
            "  inflating: /content/Spectrogram_Hann/Train/spc_a13_297.png  \n",
            "  inflating: /content/Spectrogram_Hann/Train/spc_a04_38.png  \n",
            "  inflating: /content/Spectrogram_Hann/Train/spc_b01_365.png  \n",
            "  inflating: /content/Spectrogram_Hann/Train/spc_a05_211.png  \n",
            "  inflating: /content/Spectrogram_Hann/Train/spc_b03_89.png  \n",
            "  inflating: /content/Spectrogram_Hann/Train/spc_c08_311.png  \n",
            "  inflating: /content/Spectrogram_Hann/Train/spc_a04_10.png  \n",
            "  inflating: /content/Spectrogram_Hann/Train/spc_a15_5.png  \n",
            "  inflating: /content/Spectrogram_Hann/Train/spc_a10_65.png  \n",
            "  inflating: /content/Spectrogram_Hann/Train/spc_a05_239.png  \n",
            "  inflating: /content/Spectrogram_Hann/Train/spc_c05_440.png  \n",
            "  inflating: /content/Spectrogram_Hann/Train/spc_c04_135.png  \n",
            "  inflating: /content/Spectrogram_Hann/Train/spc_c05_326.png  \n",
            "  inflating: /content/Spectrogram_Hann/Train/spc_a03_19.png  \n",
            "  inflating: /content/Spectrogram_Hann/Train/spc_c08_477.png  \n",
            "  inflating: /content/Spectrogram_Hann/Train/spc_a15_239.png  \n",
            "  inflating: /content/Spectrogram_Hann/Train/spc_c08_463.png  \n",
            "  inflating: /content/Spectrogram_Hann/Train/spc_b04_208.png  \n",
            "  inflating: /content/Spectrogram_Hann/Train/spc_c04_121.png  \n",
            "  inflating: /content/Spectrogram_Hann/Train/spc_c05_332.png  \n",
            "  inflating: /content/Spectrogram_Hann/Train/spc_a06_488.png  \n",
            "  inflating: /content/Spectrogram_Hann/Train/spc_b01_359.png  \n",
            "  inflating: /content/Spectrogram_Hann/Train/spc_a10_71.png  \n",
            "  inflating: /content/Spectrogram_Hann/Train/spc_c05_454.png  \n",
            "  inflating: /content/Spectrogram_Hann/Train/spc_a10_368.png  \n",
            "  inflating: /content/Spectrogram_Hann/Train/spc_c08_305.png  \n",
            "  inflating: /content/Spectrogram_Hann/Train/spc_a16_477.png  \n",
            "  inflating: /content/Spectrogram_Hann/Train/spc_a10_383.png  \n",
            "  inflating: /content/Spectrogram_Hann/Train/spc_c04_43.png  \n",
            "  inflating: /content/Spectrogram_Hann/Train/spc_a11_190.png  \n",
            "  inflating: /content/Spectrogram_Hann/Train/spc_a13_240.png  \n",
            "  inflating: /content/Spectrogram_Hann/Train/spc_a06_305.png  \n",
            "  inflating: /content/Spectrogram_Hann/Train/spc_a07_116.png  \n",
            "  inflating: /content/Spectrogram_Hann/Train/spc_c02_158.png  \n",
            "  inflating: /content/Spectrogram_Hann/Train/spc_b02_271.png  \n",
            "  inflating: /content/Spectrogram_Hann/Train/spc_a06_463.png  \n",
            "  inflating: /content/Spectrogram_Hann/Train/spc_a01_184.png  \n",
            "  inflating: /content/Spectrogram_Hann/Train/spc_a03_254.png  \n",
            "  inflating: /content/Spectrogram_Hann/Train/spc_b04_57.png  \n",
            "  inflating: /content/Spectrogram_Hann/Train/spc_c08_488.png  \n",
            "  inflating: /content/Spectrogram_Hann/Train/spc_a16_311.png  \n",
            "  inflating: /content/Spectrogram_Hann/Train/spc_a16_305.png  \n",
            "  inflating: /content/Spectrogram_Hann/Train/spc_b02_503.png  \n",
            "  inflating: /content/Spectrogram_Hann/Train/spc_a06_477.png  \n",
            "  inflating: /content/Spectrogram_Hann/Train/spc_c03_439.png  \n",
            "  inflating: /content/Spectrogram_Hann/Train/spc_a01_190.png  \n",
            "  inflating: /content/Spectrogram_Hann/Train/spc_a03_240.png  \n",
            "  inflating: /content/Spectrogram_Hann/Train/spc_b04_43.png  \n",
            "  inflating: /content/Spectrogram_Hann/Train/spc_a06_311.png  \n",
            "  inflating: /content/Spectrogram_Hann/Train/spc_a07_102.png  \n",
            "  inflating: /content/Spectrogram_Hann/Train/spc_b02_265.png  \n",
            "  inflating: /content/Spectrogram_Hann/Train/spc_a16_463.png  \n",
            "  inflating: /content/Spectrogram_Hann/Train/spc_a10_397.png  \n",
            "  inflating: /content/Spectrogram_Hann/Train/spc_c04_57.png  \n",
            "  inflating: /content/Spectrogram_Hann/Train/spc_a11_184.png  \n",
            "  inflating: /content/Spectrogram_Hann/Train/spc_a13_254.png  \n",
            "  inflating: /content/Spectrogram_Hann/Train/spc_b03_62.png  \n",
            "  inflating: /content/Spectrogram_Hann/Train/spc_c03_377.png  \n",
            "  inflating: /content/Spectrogram_Hann/Train/spc_a06_339.png  \n",
            "  inflating: /content/Spectrogram_Hann/Train/spc_c02_164.png  \n",
            "  inflating: /content/Spectrogram_Hann/Train/spc_a08_0.png  \n",
            "  inflating: /content/Spectrogram_Hann/Train/spc_c05_8.png  \n",
            "  inflating: /content/Spectrogram_Hann/Train/spc_c03_76.png  \n",
            "  inflating: /content/Spectrogram_Hann/Train/spc_c03_411.png  \n",
            "  inflating: /content/Spectrogram_Hann/Train/spc_c06_226.png  \n",
            "  inflating: /content/Spectrogram_Hann/Train/spc_a03_268.png  \n",
            "  inflating: /content/Spectrogram_Hann/Train/spc_c03_405.png  \n",
            "  inflating: /content/Spectrogram_Hann/Train/spc_c06_232.png  \n",
            "  inflating: /content/Spectrogram_Hann/Train/spc_c03_62.png  \n",
            "  inflating: /content/Spectrogram_Hann/Train/spc_a16_339.png  \n",
            "  inflating: /content/Spectrogram_Hann/Train/spc_a13_268.png  \n",
            "  inflating: /content/Spectrogram_Hann/Train/spc_b03_76.png  \n",
            "  inflating: /content/Spectrogram_Hann/Train/spc_c03_363.png  \n",
            "  inflating: /content/Spectrogram_Hann/Train/spc_b02_259.png  \n",
            "  inflating: /content/Spectrogram_Hann/Train/spc_c02_170.png  \n",
            "  inflating: /content/Spectrogram_Hann/Train/spc_a07_41.png  \n",
            "  inflating: /content/Spectrogram_Hann/Train/spc_a02_286.png  \n",
            "  inflating: /content/Spectrogram_Hann/Train/spc_c05_118.png  \n",
            "  inflating: /content/Spectrogram_Hann/Train/spc_a01_345.png  \n",
            "  inflating: /content/Spectrogram_Hann/Train/spc_a11_437.png  \n",
            "  inflating: /content/Spectrogram_Hann/Train/spc_a09_223.png  \n",
            "  inflating: /content/Spectrogram_Hann/Train/spc_a14_200.png  \n",
            "  inflating: /content/Spectrogram_Hann/Train/spc_a13_34.png  \n",
            "  inflating: /content/Spectrogram_Hann/Train/spc_a11_351.png  \n",
            "  inflating: /content/Spectrogram_Hann/Train/spc_a12_292.png  \n",
            "  inflating: /content/Spectrogram_Hann/Train/spc_a10_142.png  \n",
            "  inflating: /content/Spectrogram_Hann/Train/spc_a01_423.png  \n",
            "  inflating: /content/Spectrogram_Hann/Train/spc_c02_399.png  \n",
            "  inflating: /content/Spectrogram_Hann/Train/spc_a04_214.png  \n",
            "  inflating: /content/Spectrogram_Hann/Train/spc_b01_173.png  \n",
            "  inflating: /content/Spectrogram_Hann/Train/spc_c04_479.png  \n",
            "  inflating: /content/Spectrogram_Hann/Train/spc_a01_437.png  \n",
            "  inflating: /content/Spectrogram_Hann/Train/spc_a04_200.png  \n",
            "  inflating: /content/Spectrogram_Hann/Train/spc_b01_167.png  \n",
            "  inflating: /content/Spectrogram_Hann/Train/spc_a14_29.png  \n",
            "  inflating: /content/Spectrogram_Hann/Train/spc_a11_345.png  \n",
            "  inflating: /content/Spectrogram_Hann/Train/spc_a12_286.png  \n",
            "  inflating: /content/Spectrogram_Hann/Train/spc_a10_156.png  \n",
            "  inflating: /content/Spectrogram_Hann/Train/spc_a11_423.png  \n",
            "  inflating: /content/Spectrogram_Hann/Train/spc_a14_214.png  \n",
            "  inflating: /content/Spectrogram_Hann/Train/spc_a09_237.png  \n",
            "  inflating: /content/Spectrogram_Hann/Train/spc_a13_20.png  \n",
            "  inflating: /content/Spectrogram_Hann/Train/spc_a07_55.png  \n",
            "  inflating: /content/Spectrogram_Hann/Train/spc_a02_292.png  \n",
            "  inflating: /content/Spectrogram_Hann/Train/spc_a09_78.png  \n",
            "  inflating: /content/Spectrogram_Hann/Train/spc_a01_351.png  \n",
            "  inflating: /content/Spectrogram_Hann/Train/spc_c05_124.png  \n",
            "  inflating: /content/Spectrogram_Hann/Train/spc_a01_379.png  \n",
            "  inflating: /content/Spectrogram_Hann/Train/spc_a09_50.png  \n",
            "  inflating: /content/Spectrogram_Hann/Train/spc_c04_337.png  \n",
            "  inflating: /content/Spectrogram_Hann/Train/spc_c04_451.png  \n",
            "  inflating: /content/Spectrogram_Hann/Train/spc_a04_228.png  \n",
            "  inflating: /content/Spectrogram_Hann/Train/spc_c01_266.png  \n",
            "  inflating: /content/Spectrogram_Hann/Train/spc_c08_113.png  \n",
            "  inflating: /content/Spectrogram_Hann/Train/spc_a14_15.png  \n",
            "  inflating: /content/Spectrogram_Hann/Train/spc_a11_379.png  \n",
            "  inflating: /content/Spectrogram_Hann/Train/spc_c08_107.png  \n",
            "  inflating: /content/Spectrogram_Hann/Train/spc_c04_445.png  \n",
            "  inflating: /content/Spectrogram_Hann/Train/spc_c01_272.png  \n",
            "  inflating: /content/Spectrogram_Hann/Train/spc_a07_69.png  \n",
            "  inflating: /content/Spectrogram_Hann/Train/spc_a07_499.png  \n",
            "  inflating: /content/Spectrogram_Hann/Train/spc_c05_130.png  \n",
            "  inflating: /content/Spectrogram_Hann/Train/spc_c04_323.png  \n",
            "  inflating: /content/Spectrogram_Hann/Train/spc_a09_44.png  \n",
            "  inflating: /content/Spectrogram_Hann/Train/spc_a14_228.png  \n",
            "  inflating: /content/Spectrogram_Hann/Train/spc_a16_113.png  \n",
            "  inflating: /content/Spectrogram_Hann/Train/spc_a12_537.png  \n",
            "  inflating: /content/Spectrogram_Hann/Train/spc_a02_245.png  \n",
            "  inflating: /content/Spectrogram_Hann/Train/spc_a01_386.png  \n",
            "  inflating: /content/Spectrogram_Hann/Train/spc_a07_82.png  \n",
            "  inflating: /content/Spectrogram_Hann/Train/spc_a07_472.png  \n",
            "  inflating: /content/Spectrogram_Hann/Train/spc_a07_314.png  \n",
            "  inflating: /content/Spectrogram_Hann/Train/spc_c01_299.png  \n",
            "  inflating: /content/Spectrogram_Hann/Train/spc_b03_260.png  \n",
            "  inflating: /content/Spectrogram_Hann/Train/spc_a06_107.png  \n",
            "  inflating: /content/Spectrogram_Hann/Train/spc_c03_149.png  \n",
            "  inflating: /content/Spectrogram_Hann/Train/spc_a02_523.png  \n",
            "  inflating: /content/Spectrogram_Hann/Train/spc_a11_392.png  \n",
            "  inflating: /content/Spectrogram_Hann/Train/spc_a12_251.png  \n",
            "  inflating: /content/Spectrogram_Hann/Train/spc_a10_181.png  \n",
            "  inflating: /content/Spectrogram_Hann/Train/spc_a11_386.png  \n",
            "  inflating: /content/Spectrogram_Hann/Train/spc_a12_245.png  \n",
            "  inflating: /content/Spectrogram_Hann/Train/spc_a10_195.png  \n",
            "  inflating: /content/Spectrogram_Hann/Train/spc_a07_300.png  \n",
            "  inflating: /content/Spectrogram_Hann/Train/spc_b03_274.png  \n",
            "  inflating: /content/Spectrogram_Hann/Train/spc_a06_113.png  \n",
            "  inflating: /content/Spectrogram_Hann/Train/spc_a02_251.png  \n",
            "  inflating: /content/Spectrogram_Hann/Train/spc_a01_392.png  \n",
            "  inflating: /content/Spectrogram_Hann/Train/spc_a07_96.png  \n",
            "  inflating: /content/Spectrogram_Hann/Train/spc_a07_466.png  \n",
            "  inflating: /content/Spectrogram_Hann/Train/spc_c02_428.png  \n",
            "  inflating: /content/Spectrogram_Hann/Train/spc_a16_107.png  \n",
            "  inflating: /content/Spectrogram_Hann/Train/spc_a12_523.png  \n",
            "  inflating: /content/Spectrogram_Hann/Train/spc_c07_237.png  \n",
            "  inflating: /content/Spectrogram_Hann/Train/spc_a02_279.png  \n",
            "  inflating: /content/Spectrogram_Hann/Train/spc_a09_93.png  \n",
            "  inflating: /content/Spectrogram_Hann/Train/spc_c07_12.png  \n",
            "  inflating: /content/Spectrogram_Hann/Train/spc_c02_400.png  \n",
            "  inflating: /content/Spectrogram_Hann/Train/spc_c02_366.png  \n",
            "  inflating: /content/Spectrogram_Hann/Train/spc_a07_328.png  \n",
            "  inflating: /content/Spectrogram_Hann/Train/spc_c03_175.png  \n",
            "  inflating: /content/Spectrogram_Hann/Train/spc_c02_372.png  \n",
            "  inflating: /content/Spectrogram_Hann/Train/spc_b01_198.png  \n",
            "  inflating: /content/Spectrogram_Hann/Train/spc_c03_161.png  \n",
            "  inflating: /content/Spectrogram_Hann/Train/spc_b03_248.png  \n",
            "  inflating: /content/Spectrogram_Hann/Train/spc_a12_279.png  \n",
            "  inflating: /content/Spectrogram_Hann/Train/spc_c07_223.png  \n",
            "  inflating: /content/Spectrogram_Hann/Train/spc_a09_87.png  \n",
            "  inflating: /content/Spectrogram_Hann/Train/spc_c02_414.png  \n",
            "  inflating: /content/Spectrogram_Hann/Train/spc_b04_156.png  \n",
            "  inflating: /content/Spectrogram_Hann/Train/spc_a01_231.png  \n",
            "  inflating: /content/Spectrogram_Hann/Train/spc_a16_38.png  \n",
            "  inflating: /content/Spectrogram_Hann/Train/spc_c01_448.png  \n",
            "  inflating: /content/Spectrogram_Hann/Train/spc_a04_406.png  \n",
            "  inflating: /content/Spectrogram_Hann/Train/spc_a08_144.png  \n",
            "  inflating: /content/Spectrogram_Hann/Train/spc_a15_167.png  \n",
            "  inflating: /content/Spectrogram_Hann/Train/spc_a14_374.png  \n",
            "  inflating: /content/Spectrogram_Hann/Train/spc_a09_357.png  \n",
            "  inflating: /content/Spectrogram_Hann/Train/spc_a12_480.png  \n",
            "  inflating: /content/Spectrogram_Hann/Train/spc_a05_44.png  \n",
            "  inflating: /content/Spectrogram_Hann/Train/spc_a11_225.png  \n",
            "  inflating: /content/Spectrogram_Hann/Train/spc_a14_412.png  \n",
            "  inflating: /content/Spectrogram_Hann/Train/spc_a09_431.png  \n",
            "  inflating: /content/Spectrogram_Hann/Train/spc_a04_360.png  \n",
            "  inflating: /content/Spectrogram_Hann/Train/spc_a05_173.png  \n",
            "  inflating: /content/Spectrogram_Hann/Train/spc_a02_494.png  \n",
            "  inflating: /content/Spectrogram_Hann/Train/spc_a11_31.png  \n",
            "  inflating: /content/Spectrogram_Hann/Train/spc_a04_374.png  \n",
            "  inflating: /content/Spectrogram_Hann/Train/spc_a05_167.png  \n",
            "  inflating: /content/Spectrogram_Hann/Train/spc_a02_480.png  \n",
            "  inflating: /content/Spectrogram_Hann/Train/spc_a11_25.png  \n",
            "  inflating: /content/Spectrogram_Hann/Train/spc_a05_50.png  \n",
            "  inflating: /content/Spectrogram_Hann/Train/spc_a11_231.png  \n",
            "  inflating: /content/Spectrogram_Hann/Train/spc_a09_425.png  \n",
            "  inflating: /content/Spectrogram_Hann/Train/spc_a14_406.png  \n",
            "  inflating: /content/Spectrogram_Hann/Train/spc_a15_173.png  \n",
            "  inflating: /content/Spectrogram_Hann/Train/spc_a08_150.png  \n",
            "  inflating: /content/Spectrogram_Hann/Train/spc_a09_343.png  \n",
            "  inflating: /content/Spectrogram_Hann/Train/spc_a14_360.png  \n",
            "  inflating: /content/Spectrogram_Hann/Train/spc_a02_59.png  \n",
            "  inflating: /content/Spectrogram_Hann/Train/spc_a12_494.png  \n",
            "  inflating: /content/Spectrogram_Hann/Train/spc_b04_142.png  \n",
            "  inflating: /content/Spectrogram_Hann/Train/spc_a01_225.png  \n",
            "  inflating: /content/Spectrogram_Hann/Train/spc_a04_412.png  \n",
            "  inflating: /content/Spectrogram_Hann/Train/spc_a08_178.png  \n",
            "  inflating: /content/Spectrogram_Hann/Train/spc_a14_348.png  \n",
            "  inflating: /content/Spectrogram_Hann/Train/spc_a02_71.png  \n",
            "  inflating: /content/Spectrogram_Hann/Train/spc_c04_243.png  \n",
            "  inflating: /content/Spectrogram_Hann/Train/spc_c06_193.png  \n",
            "  inflating: /content/Spectrogram_Hann/Train/spc_c07_380.png  \n",
            "  inflating: /content/Spectrogram_Hann/Train/spc_c01_474.png  \n",
            "  inflating: /content/Spectrogram_Hann/Train/spc_c01_312.png  \n",
            "  inflating: /content/Spectrogram_Hann/Train/spc_a05_78.png  \n",
            "  inflating: /content/Spectrogram_Hann/Train/spc_a11_219.png  \n",
            "  inflating: /content/Spectrogram_Hann/Train/spc_a09_419.png  \n",
            "  inflating: /content/Spectrogram_Hann/Train/spc_a04_348.png  \n",
            "  inflating: /content/Spectrogram_Hann/Train/spc_c01_306.png  \n",
            "  inflating: /content/Spectrogram_Hann/Train/spc_a11_19.png  \n",
            "  inflating: /content/Spectrogram_Hann/Train/spc_a01_219.png  \n",
            "  inflating: /content/Spectrogram_Hann/Train/spc_c04_257.png  \n",
            "  inflating: /content/Spectrogram_Hann/Train/spc_c06_187.png  \n",
            "  inflating: /content/Spectrogram_Hann/Train/spc_c07_394.png  \n",
            "  inflating: /content/Spectrogram_Hann/Train/spc_a16_10.png  \n",
            "  inflating: /content/Spectrogram_Hann/Train/spc_c01_460.png  \n",
            "  inflating: /content/Spectrogram_Hann/Train/spc_a11_1.png  \n",
            "  inflating: /content/Spectrogram_Hann/Train/spc_a02_65.png  \n",
            "  inflating: /content/Spectrogram_Hann/Train/spc_a12_443.png  \n",
            "  inflating: /content/Spectrogram_Hann/Train/spc_a08_187.png  \n",
            "  inflating: /content/Spectrogram_Hann/Train/spc_a09_394.png  \n",
            "  inflating: /content/Spectrogram_Hann/Train/spc_c02_22.png  \n",
            "  inflating: /content/Spectrogram_Hann/Train/spc_a07_506.png  \n",
            "  inflating: /content/Spectrogram_Hann/Train/spc_b04_195.png  \n",
            "  inflating: /content/Spectrogram_Hann/Train/spc_a03_122.png  \n",
            "  inflating: /content/Spectrogram_Hann/Train/spc_a02_331.png  \n",
            "  inflating: /content/Spectrogram_Hann/Train/spc_a02_457.png  \n",
            "  inflating: /content/Spectrogram_Hann/Train/spc_c07_419.png  \n",
            "  inflating: /content/Spectrogram_Hann/Train/spc_b03_314.png  \n",
            "  inflating: /content/Spectrogram_Hann/Train/spc_b02_36.png  \n",
            "  inflating: /content/Spectrogram_Hann/Train/spc_b02_107.png  \n",
            "  inflating: /content/Spectrogram_Hann/Train/spc_a07_260.png  \n",
            "  inflating: /content/Spectrogram_Hann/Train/spc_a12_325.png  \n",
            "  inflating: /content/Spectrogram_Hann/Train/spc_a05_87.png  \n",
            "  inflating: /content/Spectrogram_Hann/Train/spc_a13_136.png  \n",
            "  inflating: /content/Spectrogram_Hann/Train/spc_a12_331.png  \n",
            "  inflating: /content/Spectrogram_Hann/Train/spc_a05_93.png  \n",
            "  inflating: /content/Spectrogram_Hann/Train/spc_a13_122.png  \n",
            "  inflating: /content/Spectrogram_Hann/Train/spc_a02_443.png  \n",
            "  inflating: /content/Spectrogram_Hann/Train/spc_b03_300.png  \n",
            "  inflating: /content/Spectrogram_Hann/Train/spc_b02_22.png  \n",
            "  inflating: /content/Spectrogram_Hann/Train/spc_b02_113.png  \n",
            "  inflating: /content/Spectrogram_Hann/Train/spc_a07_274.png  \n",
            "  inflating: /content/Spectrogram_Hann/Train/spc_a03_136.png  \n",
            "  inflating: /content/Spectrogram_Hann/Train/spc_b04_181.png  \n",
            "  inflating: /content/Spectrogram_Hann/Train/spc_c06_178.png  \n",
            "  inflating: /content/Spectrogram_Hann/Train/spc_a02_325.png  \n",
            "  inflating: /content/Spectrogram_Hann/Train/spc_a12_457.png  \n",
            "  inflating: /content/Spectrogram_Hann/Train/spc_a08_193.png  \n",
            "  inflating: /content/Spectrogram_Hann/Train/spc_a09_380.png  \n",
            "  inflating: /content/Spectrogram_Hann/Train/spc_c02_36.png  \n",
            "  inflating: /content/Spectrogram_Hann/Train/spc_c04_280.png  \n",
            "  inflating: /content/Spectrogram_Hann/Train/spc_c06_150.png  \n",
            "  inflating: /content/Spectrogram_Hann/Train/spc_c07_343.png  \n",
            "  inflating: /content/Spectrogram_Hann/Train/spc_a15_198.png  \n",
            "  inflating: /content/Spectrogram_Hann/Train/spc_c05_17.png  \n",
            "  inflating: /content/Spectrogram_Hann/Train/spc_a12_319.png  \n",
            "  inflating: /content/Spectrogram_Hann/Train/spc_c07_425.png  \n",
            "  inflating: /content/Spectrogram_Hann/Train/spc_b03_328.png  \n",
            "  inflating: /content/Spectrogram_Hann/Train/spc_c02_212.png  \n",
            "  inflating: /content/Spectrogram_Hann/Train/spc_c02_206.png  \n",
            "  inflating: /content/Spectrogram_Hann/Train/spc_a07_248.png  \n",
            "  inflating: /content/Spectrogram_Hann/Train/spc_a05_198.png  \n",
            "  inflating: /content/Spectrogram_Hann/Train/spc_c04_294.png  \n",
            "  inflating: /content/Spectrogram_Hann/Train/spc_c06_144.png  \n",
            "  inflating: /content/Spectrogram_Hann/Train/spc_c07_357.png  \n",
            "  inflating: /content/Spectrogram_Hann/Train/spc_a02_319.png  \n",
            "  inflating: /content/Spectrogram_Hann/Train/spc_a03_485.png  \n",
            "  inflating: /content/Spectrogram_Hann/Train/spc_a01_20.png  \n",
            "  inflating: /content/Spectrogram_Hann/Train/spc_a05_371.png  \n",
            "  inflating: /content/Spectrogram_Hann/Train/spc_b01_205.png  \n",
            "  inflating: /content/Spectrogram_Hann/Train/spc_a04_162.png  \n",
            "  inflating: /content/Spectrogram_Hann/Train/spc_a15_403.png  \n",
            "  inflating: /content/Spectrogram_Hann/Train/spc_a08_420.png  \n",
            "  inflating: /content/Spectrogram_Hann/Train/spc_a15_55.png  \n",
            "  inflating: /content/Spectrogram_Hann/Train/spc_a10_234.png  \n",
            "  inflating: /content/Spectrogram_Hann/Train/spc_c08_259.png  \n",
            "  inflating: /content/Spectrogram_Hann/Train/spc_a13_491.png  \n",
            "  inflating: /content/Spectrogram_Hann/Train/spc_a09_155.png  \n",
            "  inflating: /content/Spectrogram_Hann/Train/spc_a14_176.png  \n",
            "  inflating: /content/Spectrogram_Hann/Train/spc_a15_365.png  \n",
            "  inflating: /content/Spectrogram_Hann/Train/spc_a08_346.png  \n",
            "  inflating: /content/Spectrogram_Hann/Train/spc_b01_98.png  \n",
            "  inflating: /content/Spectrogram_Hann/Train/spc_c06_85.png  \n",
            "  inflating: /content/Spectrogram_Hann/Train/spc_a05_417.png  \n",
            "  inflating: /content/Spectrogram_Hann/Train/spc_a06_29.png  \n",
            "  inflating: /content/Spectrogram_Hann/Train/spc_b04_354.png  \n",
            "  inflating: /content/Spectrogram_Hann/Train/spc_c06_91.png  \n",
            "  inflating: /content/Spectrogram_Hann/Train/spc_a08_10.png  \n",
            "  inflating: /content/Spectrogram_Hann/Train/spc_a05_403.png  \n",
            "  inflating: /content/Spectrogram_Hann/Train/spc_b04_340.png  \n",
            "  inflating: /content/Spectrogram_Hann/Train/spc_a12_48.png  \n",
            "  inflating: /content/Spectrogram_Hann/Train/spc_a13_485.png  \n",
            "  inflating: /content/Spectrogram_Hann/Train/spc_a14_162.png  \n",
            "  inflating: /content/Spectrogram_Hann/Train/spc_a09_141.png  \n",
            "  inflating: /content/Spectrogram_Hann/Train/spc_a08_352.png  \n",
            "  inflating: /content/Spectrogram_Hann/Train/spc_a15_371.png  \n",
            "  inflating: /content/Spectrogram_Hann/Train/spc_a08_434.png  \n",
            "  inflating: /content/Spectrogram_Hann/Train/spc_a15_417.png  \n",
            "  inflating: /content/Spectrogram_Hann/Train/spc_a15_41.png  \n",
            "  inflating: /content/Spectrogram_Hann/Train/spc_a10_220.png  \n",
            "  inflating: /content/Spectrogram_Hann/Train/spc_a03_491.png  \n",
            "  inflating: /content/Spectrogram_Hann/Train/spc_b04_426.png  \n",
            "  inflating: /content/Spectrogram_Hann/Train/spc_a01_34.png  \n",
            "  inflating: /content/Spectrogram_Hann/Train/spc_a05_365.png  \n",
            "  inflating: /content/Spectrogram_Hann/Train/spc_c01_98.png  \n",
            "  inflating: /content/Spectrogram_Hann/Train/spc_b01_211.png  \n",
            "  inflating: /content/Spectrogram_Hann/Train/spc_c01_138.png  \n",
            "  inflating: /content/Spectrogram_Hann/Train/spc_a04_176.png  \n",
            "  inflating: /content/Spectrogram_Hann/Train/spc_a15_69.png  \n",
            "  inflating: /content/Spectrogram_Hann/Train/spc_a10_208.png  \n",
            "  inflating: /content/Spectrogram_Hann/Train/spc_c08_265.png  \n",
            "  inflating: /content/Spectrogram_Hann/Train/spc_c01_110.png  \n",
            "  inflating: /content/Spectrogram_Hann/Train/spc_b01_239.png  \n",
            "  inflating: /content/Spectrogram_Hann/Train/spc_a08_38.png  \n",
            "  inflating: /content/Spectrogram_Hann/Train/spc_c07_182.png  \n",
            "  inflating: /content/Spectrogram_Hann/Train/spc_c05_252.png  \n",
            "  inflating: /content/Spectrogram_Hann/Train/spc_b04_368.png  \n",
            "  inflating: /content/Spectrogram_Hann/Train/spc_a06_15.png  \n",
            "  inflating: /content/Spectrogram_Hann/Train/spc_c06_391.png  \n",
            "  inflating: /content/Spectrogram_Hann/Train/spc_c08_94.png  \n",
            "  inflating: /content/Spectrogram_Hann/Train/spc_a12_60.png  \n",
            "  inflating: /content/Spectrogram_Hann/Train/spc_c08_503.png  \n",
            "  inflating: /content/Spectrogram_Hann/Train/spc_a09_169.png  \n",
            "  inflating: /content/Spectrogram_Hann/Train/spc_a15_359.png  \n",
            "  inflating: /content/Spectrogram_Hann/Train/spc_a12_74.png  \n",
            "  inflating: /content/Spectrogram_Hann/Train/spc_a13_3.png  \n",
            "  inflating: /content/Spectrogram_Hann/Train/spc_b02_488.png  \n",
            "  inflating: /content/Spectrogram_Hann/Train/spc_c07_196.png  \n",
            "  inflating: /content/Spectrogram_Hann/Train/spc_c05_246.png  \n",
            "  inflating: /content/Spectrogram_Hann/Train/spc_c08_80.png  \n",
            "  inflating: /content/Spectrogram_Hann/Train/spc_c06_385.png  \n",
            "  inflating: /content/Spectrogram_Hann/Train/spc_a05_359.png  \n",
            "  inflating: /content/Spectrogram_Hann/Train/spc_c01_104.png  \n",
            "  inflating: /content/Spectrogram_Hann/Train/spc_a08_408.png  \n",
            "  inflating: /content/Spectrogram_Hann/Train/spc_c08_271.png  \n",
            "  inflating: /content/Spectrogram_Hann/Train/spc_a15_96.png  \n",
            "  inflating: /content/Spectrogram_Hann/Train/spc_a13_334.png  \n",
            "  inflating: /content/Spectrogram_Hann/Train/spc_a12_127.png  \n",
            "  inflating: /content/Spectrogram_Hann/Train/spc_b02_305.png  \n",
            "  inflating: /content/Spectrogram_Hann/Train/spc_a06_271.png  \n",
            "  inflating: /content/Spectrogram_Hann/Train/spc_b03_116.png  \n",
            "  inflating: /content/Spectrogram_Hann/Train/spc_a03_446.png  \n",
            "  inflating: /content/Spectrogram_Hann/Train/spc_c06_408.png  \n",
            "  inflating: /content/Spectrogram_Hann/Train/spc_a02_133.png  \n",
            "  inflating: /content/Spectrogram_Hann/Train/spc_a03_320.png  \n",
            "  inflating: /content/Spectrogram_Hann/Train/spc_b04_397.png  \n",
            "  inflating: /content/Spectrogram_Hann/Train/spc_c06_46.png  \n",
            "  inflating: /content/Spectrogram_Hann/Train/spc_b02_463.png  \n",
            "  inflating: /content/Spectrogram_Hann/Train/spc_a16_265.png  \n",
            "  inflating: /content/Spectrogram_Hann/Train/spc_a09_196.png  \n",
            "  inflating: /content/Spectrogram_Hann/Train/spc_a08_385.png  \n",
            "  inflating: /content/Spectrogram_Hann/Train/spc_a13_452.png  \n",
            "  inflating: /content/Spectrogram_Hann/Train/spc_a16_271.png  \n",
            "  inflating: /content/Spectrogram_Hann/Train/spc_a09_182.png  \n",
            "  inflating: /content/Spectrogram_Hann/Train/spc_a08_391.png  \n",
            "  inflating: /content/Spectrogram_Hann/Train/spc_a13_446.png  \n",
            "  inflating: /content/Spectrogram_Hann/Train/spc_a02_127.png  \n",
            "  inflating: /content/Spectrogram_Hann/Train/spc_c07_169.png  \n",
            "  inflating: /content/Spectrogram_Hann/Train/spc_b04_383.png  \n",
            "  inflating: /content/Spectrogram_Hann/Train/spc_a03_334.png  \n",
            "  inflating: /content/Spectrogram_Hann/Train/spc_c06_52.png  \n",
            "  inflating: /content/Spectrogram_Hann/Train/spc_a06_503.png  \n",
            "  inflating: /content/Spectrogram_Hann/Train/spc_b02_477.png  \n",
            "  inflating: /content/Spectrogram_Hann/Train/spc_b02_311.png  \n",
            "  inflating: /content/Spectrogram_Hann/Train/spc_a06_265.png  \n",
            "  inflating: /content/Spectrogram_Hann/Train/spc_b03_102.png  \n",
            "  inflating: /content/Spectrogram_Hann/Train/spc_a03_452.png  \n",
            "  inflating: /content/Spectrogram_Hann/Train/spc_a15_82.png  \n",
            "  inflating: /content/Spectrogram_Hann/Train/spc_a13_320.png  \n",
            "  inflating: /content/Spectrogram_Hann/Train/spc_a12_133.png  \n",
            "  inflating: /content/Spectrogram_Hann/Train/spc_c01_73.png  \n",
            "  inflating: /content/Spectrogram_Hann/Train/spc_b02_339.png  \n",
            "  inflating: /content/Spectrogram_Hann/Train/spc_c03_203.png  \n",
            "  inflating: /content/Spectrogram_Hann/Train/spc_c06_434.png  \n",
            "  inflating: /content/Spectrogram_Hann/Train/spc_a13_308.png  \n",
            "  inflating: /content/Spectrogram_Hann/Train/spc_a14_189.png  \n",
            "  inflating: /content/Spectrogram_Hann/Train/spc_a16_259.png  \n",
            "  inflating: /content/Spectrogram_Hann/Train/spc_b01_67.png  \n",
            "  inflating: /content/Spectrogram_Hann/Train/spc_b01_9.png  \n",
            "  inflating: /content/Spectrogram_Hann/Train/spc_c07_141.png  \n",
            "  inflating: /content/Spectrogram_Hann/Train/spc_c05_291.png  \n",
            "  inflating: /content/Spectrogram_Hann/Train/spc_c08_57.png  \n",
            "  inflating: /content/Spectrogram_Hann/Train/spc_c06_352.png  \n",
            "  inflating: /content/Spectrogram_Hann/Train/spc_c07_155.png  \n",
            "  inflating: /content/Spectrogram_Hann/Train/spc_c05_285.png  \n",
            "  inflating: /content/Spectrogram_Hann/Train/spc_c06_346.png  \n",
            "  inflating: /content/Spectrogram_Hann/Train/spc_a03_308.png  \n",
            "  inflating: /content/Spectrogram_Hann/Train/spc_c08_43.png  \n",
            "  inflating: /content/Spectrogram_Hann/Train/spc_b01_73.png  \n",
            "  inflating: /content/Spectrogram_Hann/Train/spc_c01_67.png  \n",
            "  inflating: /content/Spectrogram_Hann/Train/spc_a04_189.png  \n",
            "  inflating: /content/Spectrogram_Hann/Train/spc_c03_217.png  \n",
            "  inflating: /content/Spectrogram_Hann/Train/spc_a06_259.png  \n",
            "  inflating: /content/Spectrogram_Hann/Train/spc_c06_420.png  \n"
          ]
        }
      ],
      "source": [
        "!unzip \"/content/drive/My Drive/ML/Spectrogram_Hann.zip\" -d \"/content\""
      ]
    },
    {
      "cell_type": "markdown",
      "source": [
        "This cell defines useful constants\n",
        "\n",
        "Change the path_c variable if google colab cannot be used"
      ],
      "metadata": {
        "id": "q-NeKqfb9pKJ"
      },
      "id": "q-NeKqfb9pKJ"
    },
    {
      "cell_type": "code",
      "execution_count": null,
      "id": "n4ocKkjJ9PA7",
      "metadata": {
        "id": "n4ocKkjJ9PA7"
      },
      "outputs": [],
      "source": [
        "path_c = '/content/'\n",
        "\n",
        "out_directory_train = path_c + 'Spectrogram_Hann/Train/'\n",
        "out_directory_test = path_c + 'Spectrogram_Hann/Test/'"
      ]
    },
    {
      "cell_type": "markdown",
      "id": "UGWMCgcyFwc1",
      "metadata": {
        "id": "UGWMCgcyFwc1"
      },
      "source": []
    },
    {
      "cell_type": "markdown",
      "id": "TtJaXOMjCSK5",
      "metadata": {
        "id": "TtJaXOMjCSK5"
      },
      "source": [
        "# **pytorch model**"
      ]
    },
    {
      "cell_type": "markdown",
      "id": "atPS1hPiC-aQ",
      "metadata": {
        "id": "atPS1hPiC-aQ"
      },
      "source": [
        "## DataSet class"
      ]
    },
    {
      "cell_type": "markdown",
      "source": [
        "The Dataset class, it has a dataframe as attribute to store a mapping annotations and png filenames. We also encode the annotations to binary.\n",
        "\n",
        "To get one item, one retrieves a random image filename from the dataframe,\n",
        "retrieves the actual file convert it to RGB, apply transformations and then we return this image with corresponding annotation."
      ],
      "metadata": {
        "id": "npvarUPi-GOl"
      },
      "id": "npvarUPi-GOl"
    },
    {
      "cell_type": "code",
      "execution_count": null,
      "id": "c0865240",
      "metadata": {
        "id": "c0865240"
      },
      "outputs": [],
      "source": [
        "class SpectrogramDataset(Dataset):\n",
        "    def __init__(self, csv_file, root_dir, transform=None):\n",
        "        self.annotations = pd.read_csv(\n",
        "            csv_file\n",
        "        )  # load data input and output from csv file\n",
        "        self.annotations.columns = [\"name\", \"label\"]\n",
        "        #encode annotation\n",
        "        self.annotations[\"label\"] = self.annotations[\"label\"].apply(\n",
        "            lambda x: 1 if x == \"A\" else 0\n",
        "        )\n",
        "        self.root_dir = root_dir\n",
        "        self.transform = transform\n",
        "\n",
        "    def __len__(self):\n",
        "        return len(self.annotations)  # return length of csv file\n",
        "\n",
        "    def __getitem__(self, index):\n",
        "        img_path = os.path.join(self.root_dir, self.annotations.iloc[index, 0])\n",
        "        image = Image.open(img_path).convert(\"RGB\")\n",
        "        y_label = torch.tensor(int(self.annotations.iloc[index, 1]))\n",
        "\n",
        "        if self.transform:\n",
        "            image = self.transform(image)\n",
        "\n",
        "        return (image, y_label)\n",
        "\n",
        "        \n"
      ]
    },
    {
      "cell_type": "markdown",
      "id": "SLlMpAiECuQ8",
      "metadata": {
        "id": "SLlMpAiECuQ8"
      },
      "source": [
        "## Hyperparameters\n"
      ]
    },
    {
      "cell_type": "code",
      "execution_count": null,
      "id": "M4qMVmlfC8CI",
      "metadata": {
        "id": "M4qMVmlfC8CI"
      },
      "outputs": [],
      "source": [
        "in_channels = 3\n",
        "num_classes = 2\n",
        "learning_rate = 0.0001\n",
        "batch_size = 32\n",
        "num_epochs = 5"
      ]
    },
    {
      "cell_type": "markdown",
      "id": "BPrCLl8ollh_",
      "metadata": {
        "id": "BPrCLl8ollh_"
      },
      "source": [
        "# Create loaders"
      ]
    },
    {
      "cell_type": "code",
      "execution_count": null,
      "id": "cq6xzDwHkmJr",
      "metadata": {
        "id": "cq6xzDwHkmJr"
      },
      "outputs": [],
      "source": [
        "transform = transforms.Compose([\n",
        "    transforms.ToTensor(),])\n",
        "\n",
        "train_set = SpectrogramDataset(csv_file = out_directory_train + 'spc_train_labels.csv', root_dir = out_directory_train, transform = transform)\n",
        "test_set = SpectrogramDataset(csv_file = out_directory_test + 'spc_test_labels.csv', root_dir = out_directory_test, transform = transform)\n",
        " \n",
        "train_loader = DataLoader(dataset= train_set, batch_size = batch_size, shuffle =True)\n",
        "test_loader = DataLoader(dataset= test_set, batch_size = batch_size, shuffle =True)"
      ]
    },
    {
      "cell_type": "markdown",
      "id": "Zn0G11oGbu0i",
      "metadata": {
        "id": "Zn0G11oGbu0i"
      },
      "source": [
        "# **Define the model class**"
      ]
    },
    {
      "cell_type": "code",
      "execution_count": null,
      "id": "KAEPNJugT4XI",
      "metadata": {
        "id": "KAEPNJugT4XI"
      },
      "outputs": [],
      "source": [
        "class CNN(nn.Module):\n",
        "    def __init__(self, in_channels=3, num_classes=1):\n",
        "        super(CNN, self).__init__()\n",
        "        self.conv1 = nn.Conv2d(\n",
        "            in_channels=in_channels, out_channels=128, kernel_size=(3, 3), stride=1\n",
        "        )\n",
        "        # convolution to extract features from data\n",
        "        self.pool1 = nn.MaxPool2d(2, stride=2)\n",
        "\n",
        "        self.conv2 = nn.Conv2d(\n",
        "            in_channels=128, out_channels=64, kernel_size=(5, 5), stride=1\n",
        "        )\n",
        "        self.pool2 = nn.MaxPool2d(2, stride=2)\n",
        "\n",
        "        self.conv3 = nn.Conv2d(\n",
        "            in_channels=64, out_channels=32, kernel_size=(7, 7), stride=1\n",
        "        )\n",
        "        self.pool3 = nn.MaxPool2d(2, stride=2)\n",
        "\n",
        "        # neuronal network training of data\n",
        "        self.drop = nn.Dropout(p=0.6)\n",
        "        self.fc1 = nn.Linear(26048, 1)\n",
        "\n",
        "    def forward(self, x):\n",
        "        x = F.relu(self.conv1(x))\n",
        "\n",
        "        x = self.pool1(x)\n",
        "\n",
        "        x = F.relu(self.conv2(x))\n",
        "\n",
        "        x = self.pool2(x)\n",
        "\n",
        "        x = F.relu(self.conv3(x))\n",
        "        x = self.pool3(x)\n",
        "\n",
        "        x = x.reshape(x.shape[0], -1)\n",
        "\n",
        "        x = self.drop(x)\n",
        "\n",
        "        x = torch.sigmoid(self.fc1(x))\n",
        "\n",
        "        return x"
      ]
    },
    {
      "cell_type": "markdown",
      "source": [
        "Define model and add to device"
      ],
      "metadata": {
        "id": "h_nBn_kr_DAS"
      },
      "id": "h_nBn_kr_DAS"
    },
    {
      "cell_type": "code",
      "execution_count": null,
      "id": "Q8uZX9KuM5g_",
      "metadata": {
        "id": "Q8uZX9KuM5g_"
      },
      "outputs": [],
      "source": [
        "model = CNN(in_channels=in_channels, num_classes=1).to(device)\n",
        "model = model.to(device = device)"
      ]
    },
    {
      "cell_type": "markdown",
      "source": [
        "Define loss and optimizers"
      ],
      "metadata": {
        "id": "pKE8ASkY-8iN"
      },
      "id": "pKE8ASkY-8iN"
    },
    {
      "cell_type": "code",
      "source": [
        "criterion =  nn.BCELoss()\n",
        "optimizer = optim.Adam(model.parameters(), lr=learning_rate)"
      ],
      "metadata": {
        "id": "kQjNx5Ow-9L8"
      },
      "id": "kQjNx5Ow-9L8",
      "execution_count": null,
      "outputs": []
    },
    {
      "cell_type": "markdown",
      "id": "j9bFO9JeOlzC",
      "metadata": {
        "id": "j9bFO9JeOlzC"
      },
      "source": [
        "## Train Network and calculate accuracy and loss"
      ]
    },
    {
      "cell_type": "code",
      "execution_count": null,
      "id": "EMfhO0fMOVAS",
      "metadata": {
        "colab": {
          "base_uri": "https://localhost:8080/",
          "height": 1000
        },
        "id": "EMfhO0fMOVAS",
        "outputId": "cdae3560-39b1-4703-edef-5a8208c224da"
      },
      "outputs": [
        {
          "output_type": "stream",
          "name": "stderr",
          "text": [
            "  2%|▏         | 9/428 [00:11<04:22,  1.60it/s]"
          ]
        },
        {
          "output_type": "stream",
          "name": "stdout",
          "text": [
            "[1,    10] loss: 0.614\n"
          ]
        },
        {
          "output_type": "stream",
          "name": "stderr",
          "text": [
            "  4%|▍         | 19/428 [00:16<03:23,  2.01it/s]"
          ]
        },
        {
          "output_type": "stream",
          "name": "stdout",
          "text": [
            "[1,    20] loss: 0.671\n"
          ]
        },
        {
          "output_type": "stream",
          "name": "stderr",
          "text": [
            "  7%|▋         | 29/428 [00:21<03:18,  2.01it/s]"
          ]
        },
        {
          "output_type": "stream",
          "name": "stdout",
          "text": [
            "[1,    30] loss: 0.685\n"
          ]
        },
        {
          "output_type": "stream",
          "name": "stderr",
          "text": [
            "  9%|▉         | 39/428 [00:26<03:10,  2.04it/s]"
          ]
        },
        {
          "output_type": "stream",
          "name": "stdout",
          "text": [
            "[1,    40] loss: 0.648\n"
          ]
        },
        {
          "output_type": "stream",
          "name": "stderr",
          "text": [
            " 11%|█▏        | 49/428 [00:31<03:06,  2.03it/s]"
          ]
        },
        {
          "output_type": "stream",
          "name": "stdout",
          "text": [
            "[1,    50] loss: 0.663\n"
          ]
        },
        {
          "output_type": "stream",
          "name": "stderr",
          "text": [
            " 14%|█▍        | 59/428 [00:36<03:01,  2.04it/s]"
          ]
        },
        {
          "output_type": "stream",
          "name": "stdout",
          "text": [
            "[1,    60] loss: 0.650\n"
          ]
        },
        {
          "output_type": "stream",
          "name": "stderr",
          "text": [
            " 16%|█▌        | 69/428 [00:41<02:58,  2.01it/s]"
          ]
        },
        {
          "output_type": "stream",
          "name": "stdout",
          "text": [
            "[1,    70] loss: 0.679\n"
          ]
        },
        {
          "output_type": "stream",
          "name": "stderr",
          "text": [
            " 18%|█▊        | 79/428 [00:46<02:53,  2.01it/s]"
          ]
        },
        {
          "output_type": "stream",
          "name": "stdout",
          "text": [
            "[1,    80] loss: 0.673\n"
          ]
        },
        {
          "output_type": "stream",
          "name": "stderr",
          "text": [
            " 21%|██        | 89/428 [00:51<02:48,  2.01it/s]"
          ]
        },
        {
          "output_type": "stream",
          "name": "stdout",
          "text": [
            "[1,    90] loss: 0.658\n"
          ]
        },
        {
          "output_type": "stream",
          "name": "stderr",
          "text": [
            " 23%|██▎       | 99/428 [00:56<02:42,  2.02it/s]"
          ]
        },
        {
          "output_type": "stream",
          "name": "stdout",
          "text": [
            "[1,   100] loss: 0.635\n"
          ]
        },
        {
          "output_type": "stream",
          "name": "stderr",
          "text": [
            " 25%|██▌       | 109/428 [01:01<02:51,  1.86it/s]"
          ]
        },
        {
          "output_type": "stream",
          "name": "stdout",
          "text": [
            "[1,   110] loss: 0.625\n"
          ]
        },
        {
          "output_type": "stream",
          "name": "stderr",
          "text": [
            " 28%|██▊       | 119/428 [01:06<02:33,  2.01it/s]"
          ]
        },
        {
          "output_type": "stream",
          "name": "stdout",
          "text": [
            "[1,   120] loss: 0.638\n"
          ]
        },
        {
          "output_type": "stream",
          "name": "stderr",
          "text": [
            " 30%|███       | 129/428 [01:11<02:30,  1.99it/s]"
          ]
        },
        {
          "output_type": "stream",
          "name": "stdout",
          "text": [
            "[1,   130] loss: 0.603\n"
          ]
        },
        {
          "output_type": "stream",
          "name": "stderr",
          "text": [
            " 32%|███▏      | 139/428 [01:16<02:28,  1.94it/s]"
          ]
        },
        {
          "output_type": "stream",
          "name": "stdout",
          "text": [
            "[1,   140] loss: 0.669\n"
          ]
        },
        {
          "output_type": "stream",
          "name": "stderr",
          "text": [
            " 35%|███▍      | 149/428 [01:21<02:19,  2.00it/s]"
          ]
        },
        {
          "output_type": "stream",
          "name": "stdout",
          "text": [
            "[1,   150] loss: 0.641\n"
          ]
        },
        {
          "output_type": "stream",
          "name": "stderr",
          "text": [
            " 37%|███▋      | 159/428 [01:26<02:15,  1.99it/s]"
          ]
        },
        {
          "output_type": "stream",
          "name": "stdout",
          "text": [
            "[1,   160] loss: 0.619\n"
          ]
        },
        {
          "output_type": "stream",
          "name": "stderr",
          "text": [
            " 39%|███▉      | 169/428 [01:31<02:10,  1.99it/s]"
          ]
        },
        {
          "output_type": "stream",
          "name": "stdout",
          "text": [
            "[1,   170] loss: 0.591\n"
          ]
        },
        {
          "output_type": "stream",
          "name": "stderr",
          "text": [
            " 42%|████▏     | 179/428 [01:36<02:04,  1.99it/s]"
          ]
        },
        {
          "output_type": "stream",
          "name": "stdout",
          "text": [
            "[1,   180] loss: 0.579\n"
          ]
        },
        {
          "output_type": "stream",
          "name": "stderr",
          "text": [
            " 44%|████▍     | 189/428 [01:41<01:59,  2.00it/s]"
          ]
        },
        {
          "output_type": "stream",
          "name": "stdout",
          "text": [
            "[1,   190] loss: 0.607\n"
          ]
        },
        {
          "output_type": "stream",
          "name": "stderr",
          "text": [
            " 46%|████▋     | 199/428 [01:46<02:00,  1.90it/s]"
          ]
        },
        {
          "output_type": "stream",
          "name": "stdout",
          "text": [
            "[1,   200] loss: 0.608\n"
          ]
        },
        {
          "output_type": "stream",
          "name": "stderr",
          "text": [
            " 49%|████▉     | 209/428 [01:52<01:54,  1.92it/s]"
          ]
        },
        {
          "output_type": "stream",
          "name": "stdout",
          "text": [
            "[1,   210] loss: 0.578\n"
          ]
        },
        {
          "output_type": "stream",
          "name": "stderr",
          "text": [
            " 51%|█████     | 219/428 [01:57<01:44,  2.00it/s]"
          ]
        },
        {
          "output_type": "stream",
          "name": "stdout",
          "text": [
            "[1,   220] loss: 0.570\n"
          ]
        },
        {
          "output_type": "stream",
          "name": "stderr",
          "text": [
            " 54%|█████▎    | 229/428 [02:02<01:38,  2.01it/s]"
          ]
        },
        {
          "output_type": "stream",
          "name": "stdout",
          "text": [
            "[1,   230] loss: 0.539\n"
          ]
        },
        {
          "output_type": "stream",
          "name": "stderr",
          "text": [
            " 56%|█████▌    | 239/428 [02:07<01:34,  2.00it/s]"
          ]
        },
        {
          "output_type": "stream",
          "name": "stdout",
          "text": [
            "[1,   240] loss: 0.575\n"
          ]
        },
        {
          "output_type": "stream",
          "name": "stderr",
          "text": [
            " 58%|█████▊    | 249/428 [02:12<01:29,  2.00it/s]"
          ]
        },
        {
          "output_type": "stream",
          "name": "stdout",
          "text": [
            "[1,   250] loss: 0.567\n"
          ]
        },
        {
          "output_type": "stream",
          "name": "stderr",
          "text": [
            " 61%|██████    | 259/428 [02:17<01:24,  2.00it/s]"
          ]
        },
        {
          "output_type": "stream",
          "name": "stdout",
          "text": [
            "[1,   260] loss: 0.602\n"
          ]
        },
        {
          "output_type": "stream",
          "name": "stderr",
          "text": [
            " 63%|██████▎   | 269/428 [02:22<01:19,  1.99it/s]"
          ]
        },
        {
          "output_type": "stream",
          "name": "stdout",
          "text": [
            "[1,   270] loss: 0.532\n"
          ]
        },
        {
          "output_type": "stream",
          "name": "stderr",
          "text": [
            " 65%|██████▌   | 279/428 [02:27<01:14,  2.00it/s]"
          ]
        },
        {
          "output_type": "stream",
          "name": "stdout",
          "text": [
            "[1,   280] loss: 0.536\n"
          ]
        },
        {
          "output_type": "stream",
          "name": "stderr",
          "text": [
            " 68%|██████▊   | 289/428 [02:32<01:09,  1.99it/s]"
          ]
        },
        {
          "output_type": "stream",
          "name": "stdout",
          "text": [
            "[1,   290] loss: 0.557\n"
          ]
        },
        {
          "output_type": "stream",
          "name": "stderr",
          "text": [
            " 70%|██████▉   | 299/428 [02:37<01:05,  1.98it/s]"
          ]
        },
        {
          "output_type": "stream",
          "name": "stdout",
          "text": [
            "[1,   300] loss: 0.558\n"
          ]
        },
        {
          "output_type": "stream",
          "name": "stderr",
          "text": [
            " 72%|███████▏  | 309/428 [02:42<00:59,  1.99it/s]"
          ]
        },
        {
          "output_type": "stream",
          "name": "stdout",
          "text": [
            "[1,   310] loss: 0.522\n"
          ]
        },
        {
          "output_type": "stream",
          "name": "stderr",
          "text": [
            " 75%|███████▍  | 319/428 [02:47<00:54,  2.00it/s]"
          ]
        },
        {
          "output_type": "stream",
          "name": "stdout",
          "text": [
            "[1,   320] loss: 0.516\n"
          ]
        },
        {
          "output_type": "stream",
          "name": "stderr",
          "text": [
            " 77%|███████▋  | 329/428 [02:52<00:50,  1.97it/s]"
          ]
        },
        {
          "output_type": "stream",
          "name": "stdout",
          "text": [
            "[1,   330] loss: 0.505\n"
          ]
        },
        {
          "output_type": "stream",
          "name": "stderr",
          "text": [
            " 79%|███████▉  | 339/428 [02:57<00:44,  2.00it/s]"
          ]
        },
        {
          "output_type": "stream",
          "name": "stdout",
          "text": [
            "[1,   340] loss: 0.524\n"
          ]
        },
        {
          "output_type": "stream",
          "name": "stderr",
          "text": [
            " 82%|████████▏ | 349/428 [03:02<00:39,  2.00it/s]"
          ]
        },
        {
          "output_type": "stream",
          "name": "stdout",
          "text": [
            "[1,   350] loss: 0.511\n"
          ]
        },
        {
          "output_type": "stream",
          "name": "stderr",
          "text": [
            " 84%|████████▍ | 359/428 [03:07<00:34,  2.00it/s]"
          ]
        },
        {
          "output_type": "stream",
          "name": "stdout",
          "text": [
            "[1,   360] loss: 0.514\n"
          ]
        },
        {
          "output_type": "stream",
          "name": "stderr",
          "text": [
            " 86%|████████▌ | 369/428 [03:12<00:29,  1.98it/s]"
          ]
        },
        {
          "output_type": "stream",
          "name": "stdout",
          "text": [
            "[1,   370] loss: 0.514\n"
          ]
        },
        {
          "output_type": "stream",
          "name": "stderr",
          "text": [
            " 89%|████████▊ | 379/428 [03:17<00:24,  1.99it/s]"
          ]
        },
        {
          "output_type": "stream",
          "name": "stdout",
          "text": [
            "[1,   380] loss: 0.521\n"
          ]
        },
        {
          "output_type": "stream",
          "name": "stderr",
          "text": [
            " 91%|█████████ | 389/428 [03:22<00:19,  1.98it/s]"
          ]
        },
        {
          "output_type": "stream",
          "name": "stdout",
          "text": [
            "[1,   390] loss: 0.516\n"
          ]
        },
        {
          "output_type": "stream",
          "name": "stderr",
          "text": [
            " 93%|█████████▎| 399/428 [03:27<00:14,  1.99it/s]"
          ]
        },
        {
          "output_type": "stream",
          "name": "stdout",
          "text": [
            "[1,   400] loss: 0.497\n"
          ]
        },
        {
          "output_type": "stream",
          "name": "stderr",
          "text": [
            " 96%|█████████▌| 409/428 [03:32<00:09,  1.99it/s]"
          ]
        },
        {
          "output_type": "stream",
          "name": "stdout",
          "text": [
            "[1,   410] loss: 0.485\n"
          ]
        },
        {
          "output_type": "stream",
          "name": "stderr",
          "text": [
            " 98%|█████████▊| 419/428 [03:38<00:05,  1.68it/s]"
          ]
        },
        {
          "output_type": "stream",
          "name": "stdout",
          "text": [
            "[1,   420] loss: 0.419\n"
          ]
        },
        {
          "output_type": "stream",
          "name": "stderr",
          "text": [
            "100%|██████████| 428/428 [03:43<00:00,  1.92it/s]\n",
            "  2%|▏         | 9/428 [00:04<03:31,  1.98it/s]"
          ]
        },
        {
          "output_type": "stream",
          "name": "stdout",
          "text": [
            "[2,    10] loss: 0.451\n"
          ]
        },
        {
          "output_type": "stream",
          "name": "stderr",
          "text": [
            "  4%|▍         | 19/428 [00:09<03:25,  1.99it/s]"
          ]
        },
        {
          "output_type": "stream",
          "name": "stdout",
          "text": [
            "[2,    20] loss: 0.510\n"
          ]
        },
        {
          "output_type": "stream",
          "name": "stderr",
          "text": [
            "  7%|▋         | 29/428 [00:14<03:19,  2.00it/s]"
          ]
        },
        {
          "output_type": "stream",
          "name": "stdout",
          "text": [
            "[2,    30] loss: 0.522\n"
          ]
        },
        {
          "output_type": "stream",
          "name": "stderr",
          "text": [
            "  9%|▉         | 39/428 [00:19<03:14,  2.00it/s]"
          ]
        },
        {
          "output_type": "stream",
          "name": "stdout",
          "text": [
            "[2,    40] loss: 0.525\n"
          ]
        },
        {
          "output_type": "stream",
          "name": "stderr",
          "text": [
            " 11%|█▏        | 49/428 [00:24<03:10,  1.99it/s]"
          ]
        },
        {
          "output_type": "stream",
          "name": "stdout",
          "text": [
            "[2,    50] loss: 0.473\n"
          ]
        },
        {
          "output_type": "stream",
          "name": "stderr",
          "text": [
            " 14%|█▍        | 59/428 [00:29<03:04,  2.00it/s]"
          ]
        },
        {
          "output_type": "stream",
          "name": "stdout",
          "text": [
            "[2,    60] loss: 0.480\n"
          ]
        },
        {
          "output_type": "stream",
          "name": "stderr",
          "text": [
            " 16%|█▌        | 69/428 [00:34<03:00,  1.99it/s]"
          ]
        },
        {
          "output_type": "stream",
          "name": "stdout",
          "text": [
            "[2,    70] loss: 0.438\n"
          ]
        },
        {
          "output_type": "stream",
          "name": "stderr",
          "text": [
            " 18%|█▊        | 79/428 [00:39<02:55,  1.99it/s]"
          ]
        },
        {
          "output_type": "stream",
          "name": "stdout",
          "text": [
            "[2,    80] loss: 0.508\n"
          ]
        },
        {
          "output_type": "stream",
          "name": "stderr",
          "text": [
            " 21%|██        | 89/428 [00:44<02:50,  1.98it/s]"
          ]
        },
        {
          "output_type": "stream",
          "name": "stdout",
          "text": [
            "[2,    90] loss: 0.492\n"
          ]
        },
        {
          "output_type": "stream",
          "name": "stderr",
          "text": [
            " 23%|██▎       | 99/428 [00:49<02:44,  2.00it/s]"
          ]
        },
        {
          "output_type": "stream",
          "name": "stdout",
          "text": [
            "[2,   100] loss: 0.469\n"
          ]
        },
        {
          "output_type": "stream",
          "name": "stderr",
          "text": [
            " 25%|██▌       | 109/428 [00:54<02:39,  2.00it/s]"
          ]
        },
        {
          "output_type": "stream",
          "name": "stdout",
          "text": [
            "[2,   110] loss: 0.485\n"
          ]
        },
        {
          "output_type": "stream",
          "name": "stderr",
          "text": [
            " 28%|██▊       | 119/428 [00:59<02:34,  2.00it/s]"
          ]
        },
        {
          "output_type": "stream",
          "name": "stdout",
          "text": [
            "[2,   120] loss: 0.448\n"
          ]
        },
        {
          "output_type": "stream",
          "name": "stderr",
          "text": [
            " 30%|███       | 129/428 [01:04<02:30,  1.99it/s]"
          ]
        },
        {
          "output_type": "stream",
          "name": "stdout",
          "text": [
            "[2,   130] loss: 0.496\n"
          ]
        },
        {
          "output_type": "stream",
          "name": "stderr",
          "text": [
            " 32%|███▏      | 139/428 [01:09<02:24,  2.00it/s]"
          ]
        },
        {
          "output_type": "stream",
          "name": "stdout",
          "text": [
            "[2,   140] loss: 0.460\n"
          ]
        },
        {
          "output_type": "stream",
          "name": "stderr",
          "text": [
            " 35%|███▍      | 149/428 [01:14<02:20,  1.99it/s]"
          ]
        },
        {
          "output_type": "stream",
          "name": "stdout",
          "text": [
            "[2,   150] loss: 0.509\n"
          ]
        },
        {
          "output_type": "stream",
          "name": "stderr",
          "text": [
            " 37%|███▋      | 159/428 [01:19<02:15,  1.98it/s]"
          ]
        },
        {
          "output_type": "stream",
          "name": "stdout",
          "text": [
            "[2,   160] loss: 0.491\n"
          ]
        },
        {
          "output_type": "stream",
          "name": "stderr",
          "text": [
            " 39%|███▉      | 169/428 [01:24<02:11,  1.97it/s]"
          ]
        },
        {
          "output_type": "stream",
          "name": "stdout",
          "text": [
            "[2,   170] loss: 0.458\n"
          ]
        },
        {
          "output_type": "stream",
          "name": "stderr",
          "text": [
            " 42%|████▏     | 179/428 [01:29<02:04,  2.00it/s]"
          ]
        },
        {
          "output_type": "stream",
          "name": "stdout",
          "text": [
            "[2,   180] loss: 0.494\n"
          ]
        },
        {
          "output_type": "stream",
          "name": "stderr",
          "text": [
            " 44%|████▍     | 189/428 [01:34<01:59,  2.00it/s]"
          ]
        },
        {
          "output_type": "stream",
          "name": "stdout",
          "text": [
            "[2,   190] loss: 0.490\n"
          ]
        },
        {
          "output_type": "stream",
          "name": "stderr",
          "text": [
            " 46%|████▋     | 199/428 [01:39<01:54,  2.00it/s]"
          ]
        },
        {
          "output_type": "stream",
          "name": "stdout",
          "text": [
            "[2,   200] loss: 0.486\n"
          ]
        },
        {
          "output_type": "stream",
          "name": "stderr",
          "text": [
            " 49%|████▉     | 209/428 [01:44<01:49,  1.99it/s]"
          ]
        },
        {
          "output_type": "stream",
          "name": "stdout",
          "text": [
            "[2,   210] loss: 0.441\n"
          ]
        },
        {
          "output_type": "stream",
          "name": "stderr",
          "text": [
            " 51%|█████     | 219/428 [01:49<01:44,  2.00it/s]"
          ]
        },
        {
          "output_type": "stream",
          "name": "stdout",
          "text": [
            "[2,   220] loss: 0.521\n"
          ]
        },
        {
          "output_type": "stream",
          "name": "stderr",
          "text": [
            " 54%|█████▎    | 229/428 [01:55<01:40,  1.98it/s]"
          ]
        },
        {
          "output_type": "stream",
          "name": "stdout",
          "text": [
            "[2,   230] loss: 0.423\n"
          ]
        },
        {
          "output_type": "stream",
          "name": "stderr",
          "text": [
            " 56%|█████▌    | 239/428 [02:00<01:35,  1.98it/s]"
          ]
        },
        {
          "output_type": "stream",
          "name": "stdout",
          "text": [
            "[2,   240] loss: 0.468\n"
          ]
        },
        {
          "output_type": "stream",
          "name": "stderr",
          "text": [
            " 58%|█████▊    | 249/428 [02:05<01:29,  1.99it/s]"
          ]
        },
        {
          "output_type": "stream",
          "name": "stdout",
          "text": [
            "[2,   250] loss: 0.506\n"
          ]
        },
        {
          "output_type": "stream",
          "name": "stderr",
          "text": [
            " 61%|██████    | 259/428 [02:10<01:25,  1.97it/s]"
          ]
        },
        {
          "output_type": "stream",
          "name": "stdout",
          "text": [
            "[2,   260] loss: 0.455\n"
          ]
        },
        {
          "output_type": "stream",
          "name": "stderr",
          "text": [
            " 63%|██████▎   | 269/428 [02:15<01:20,  1.98it/s]"
          ]
        },
        {
          "output_type": "stream",
          "name": "stdout",
          "text": [
            "[2,   270] loss: 0.459\n"
          ]
        },
        {
          "output_type": "stream",
          "name": "stderr",
          "text": [
            " 65%|██████▌   | 279/428 [02:20<01:15,  1.98it/s]"
          ]
        },
        {
          "output_type": "stream",
          "name": "stdout",
          "text": [
            "[2,   280] loss: 0.501\n"
          ]
        },
        {
          "output_type": "stream",
          "name": "stderr",
          "text": [
            " 68%|██████▊   | 289/428 [02:25<01:11,  1.95it/s]"
          ]
        },
        {
          "output_type": "stream",
          "name": "stdout",
          "text": [
            "[2,   290] loss: 0.454\n"
          ]
        },
        {
          "output_type": "stream",
          "name": "stderr",
          "text": [
            " 70%|██████▉   | 299/428 [02:30<01:05,  1.98it/s]"
          ]
        },
        {
          "output_type": "stream",
          "name": "stdout",
          "text": [
            "[2,   300] loss: 0.475\n"
          ]
        },
        {
          "output_type": "stream",
          "name": "stderr",
          "text": [
            " 72%|███████▏  | 309/428 [02:35<00:59,  1.99it/s]"
          ]
        },
        {
          "output_type": "stream",
          "name": "stdout",
          "text": [
            "[2,   310] loss: 0.467\n"
          ]
        },
        {
          "output_type": "stream",
          "name": "stderr",
          "text": [
            " 75%|███████▍  | 319/428 [02:40<00:54,  2.00it/s]"
          ]
        },
        {
          "output_type": "stream",
          "name": "stdout",
          "text": [
            "[2,   320] loss: 0.445\n"
          ]
        },
        {
          "output_type": "stream",
          "name": "stderr",
          "text": [
            " 77%|███████▋  | 329/428 [02:45<00:49,  1.98it/s]"
          ]
        },
        {
          "output_type": "stream",
          "name": "stdout",
          "text": [
            "[2,   330] loss: 0.487\n"
          ]
        },
        {
          "output_type": "stream",
          "name": "stderr",
          "text": [
            " 79%|███████▉  | 339/428 [02:50<00:44,  1.98it/s]"
          ]
        },
        {
          "output_type": "stream",
          "name": "stdout",
          "text": [
            "[2,   340] loss: 0.475\n"
          ]
        },
        {
          "output_type": "stream",
          "name": "stderr",
          "text": [
            " 82%|████████▏ | 349/428 [02:55<00:40,  1.97it/s]"
          ]
        },
        {
          "output_type": "stream",
          "name": "stdout",
          "text": [
            "[2,   350] loss: 0.476\n"
          ]
        },
        {
          "output_type": "stream",
          "name": "stderr",
          "text": [
            " 84%|████████▍ | 359/428 [03:00<00:34,  2.00it/s]"
          ]
        },
        {
          "output_type": "stream",
          "name": "stdout",
          "text": [
            "[2,   360] loss: 0.436\n"
          ]
        },
        {
          "output_type": "stream",
          "name": "stderr",
          "text": [
            " 86%|████████▌ | 369/428 [03:05<00:29,  1.99it/s]"
          ]
        },
        {
          "output_type": "stream",
          "name": "stdout",
          "text": [
            "[2,   370] loss: 0.490\n"
          ]
        },
        {
          "output_type": "stream",
          "name": "stderr",
          "text": [
            " 89%|████████▊ | 379/428 [03:10<00:24,  1.97it/s]"
          ]
        },
        {
          "output_type": "stream",
          "name": "stdout",
          "text": [
            "[2,   380] loss: 0.433\n"
          ]
        },
        {
          "output_type": "stream",
          "name": "stderr",
          "text": [
            " 91%|█████████ | 389/428 [03:15<00:19,  1.99it/s]"
          ]
        },
        {
          "output_type": "stream",
          "name": "stdout",
          "text": [
            "[2,   390] loss: 0.493\n"
          ]
        },
        {
          "output_type": "stream",
          "name": "stderr",
          "text": [
            " 93%|█████████▎| 399/428 [03:20<00:14,  1.99it/s]"
          ]
        },
        {
          "output_type": "stream",
          "name": "stdout",
          "text": [
            "[2,   400] loss: 0.418\n"
          ]
        },
        {
          "output_type": "stream",
          "name": "stderr",
          "text": [
            " 96%|█████████▌| 409/428 [03:25<00:09,  1.99it/s]"
          ]
        },
        {
          "output_type": "stream",
          "name": "stdout",
          "text": [
            "[2,   410] loss: 0.423\n"
          ]
        },
        {
          "output_type": "stream",
          "name": "stderr",
          "text": [
            " 98%|█████████▊| 419/428 [03:30<00:04,  1.98it/s]"
          ]
        },
        {
          "output_type": "stream",
          "name": "stdout",
          "text": [
            "[2,   420] loss: 0.465\n"
          ]
        },
        {
          "output_type": "stream",
          "name": "stderr",
          "text": [
            "100%|██████████| 428/428 [03:35<00:00,  1.99it/s]\n",
            "  2%|▏         | 9/428 [00:04<03:30,  1.99it/s]"
          ]
        },
        {
          "output_type": "stream",
          "name": "stdout",
          "text": [
            "[3,    10] loss: 0.377\n"
          ]
        },
        {
          "output_type": "stream",
          "name": "stderr",
          "text": [
            "  4%|▍         | 19/428 [00:09<03:27,  1.98it/s]"
          ]
        },
        {
          "output_type": "stream",
          "name": "stdout",
          "text": [
            "[3,    20] loss: 0.491\n"
          ]
        },
        {
          "output_type": "stream",
          "name": "stderr",
          "text": [
            "  7%|▋         | 29/428 [00:14<03:22,  1.97it/s]"
          ]
        },
        {
          "output_type": "stream",
          "name": "stdout",
          "text": [
            "[3,    30] loss: 0.426\n"
          ]
        },
        {
          "output_type": "stream",
          "name": "stderr",
          "text": [
            "  9%|▉         | 39/428 [00:19<03:15,  1.98it/s]"
          ]
        },
        {
          "output_type": "stream",
          "name": "stdout",
          "text": [
            "[3,    40] loss: 0.510\n"
          ]
        },
        {
          "output_type": "stream",
          "name": "stderr",
          "text": [
            " 11%|█▏        | 49/428 [00:24<03:11,  1.98it/s]"
          ]
        },
        {
          "output_type": "stream",
          "name": "stdout",
          "text": [
            "[3,    50] loss: 0.474\n"
          ]
        },
        {
          "output_type": "stream",
          "name": "stderr",
          "text": [
            " 14%|█▍        | 59/428 [00:29<03:06,  1.98it/s]"
          ]
        },
        {
          "output_type": "stream",
          "name": "stdout",
          "text": [
            "[3,    60] loss: 0.431\n"
          ]
        },
        {
          "output_type": "stream",
          "name": "stderr",
          "text": [
            " 16%|█▌        | 69/428 [00:34<02:59,  1.99it/s]"
          ]
        },
        {
          "output_type": "stream",
          "name": "stdout",
          "text": [
            "[3,    70] loss: 0.444\n"
          ]
        },
        {
          "output_type": "stream",
          "name": "stderr",
          "text": [
            " 18%|█▊        | 79/428 [00:39<02:54,  1.99it/s]"
          ]
        },
        {
          "output_type": "stream",
          "name": "stdout",
          "text": [
            "[3,    80] loss: 0.457\n"
          ]
        },
        {
          "output_type": "stream",
          "name": "stderr",
          "text": [
            " 21%|██        | 89/428 [00:44<02:50,  1.99it/s]"
          ]
        },
        {
          "output_type": "stream",
          "name": "stdout",
          "text": [
            "[3,    90] loss: 0.500\n"
          ]
        },
        {
          "output_type": "stream",
          "name": "stderr",
          "text": [
            " 23%|██▎       | 99/428 [00:49<02:46,  1.98it/s]"
          ]
        },
        {
          "output_type": "stream",
          "name": "stdout",
          "text": [
            "[3,   100] loss: 0.393\n"
          ]
        },
        {
          "output_type": "stream",
          "name": "stderr",
          "text": [
            " 25%|██▌       | 109/428 [00:54<02:41,  1.98it/s]"
          ]
        },
        {
          "output_type": "stream",
          "name": "stdout",
          "text": [
            "[3,   110] loss: 0.421\n"
          ]
        },
        {
          "output_type": "stream",
          "name": "stderr",
          "text": [
            " 28%|██▊       | 119/428 [00:59<02:35,  1.98it/s]"
          ]
        },
        {
          "output_type": "stream",
          "name": "stdout",
          "text": [
            "[3,   120] loss: 0.424\n"
          ]
        },
        {
          "output_type": "stream",
          "name": "stderr",
          "text": [
            " 30%|███       | 129/428 [01:05<02:30,  1.98it/s]"
          ]
        },
        {
          "output_type": "stream",
          "name": "stdout",
          "text": [
            "[3,   130] loss: 0.493\n"
          ]
        },
        {
          "output_type": "stream",
          "name": "stderr",
          "text": [
            " 32%|███▏      | 139/428 [01:10<02:26,  1.98it/s]"
          ]
        },
        {
          "output_type": "stream",
          "name": "stdout",
          "text": [
            "[3,   140] loss: 0.394\n"
          ]
        },
        {
          "output_type": "stream",
          "name": "stderr",
          "text": [
            " 35%|███▍      | 149/428 [01:15<02:20,  1.99it/s]"
          ]
        },
        {
          "output_type": "stream",
          "name": "stdout",
          "text": [
            "[3,   150] loss: 0.430\n"
          ]
        },
        {
          "output_type": "stream",
          "name": "stderr",
          "text": [
            " 37%|███▋      | 159/428 [01:20<02:16,  1.97it/s]"
          ]
        },
        {
          "output_type": "stream",
          "name": "stdout",
          "text": [
            "[3,   160] loss: 0.435\n"
          ]
        },
        {
          "output_type": "stream",
          "name": "stderr",
          "text": [
            " 39%|███▉      | 169/428 [01:25<02:14,  1.93it/s]"
          ]
        },
        {
          "output_type": "stream",
          "name": "stdout",
          "text": [
            "[3,   170] loss: 0.446\n"
          ]
        },
        {
          "output_type": "stream",
          "name": "stderr",
          "text": [
            " 42%|████▏     | 179/428 [01:30<02:08,  1.94it/s]"
          ]
        },
        {
          "output_type": "stream",
          "name": "stdout",
          "text": [
            "[3,   180] loss: 0.419\n"
          ]
        },
        {
          "output_type": "stream",
          "name": "stderr",
          "text": [
            " 44%|████▍     | 189/428 [01:35<02:02,  1.96it/s]"
          ]
        },
        {
          "output_type": "stream",
          "name": "stdout",
          "text": [
            "[3,   190] loss: 0.402\n"
          ]
        },
        {
          "output_type": "stream",
          "name": "stderr",
          "text": [
            " 46%|████▋     | 199/428 [01:40<01:57,  1.95it/s]"
          ]
        },
        {
          "output_type": "stream",
          "name": "stdout",
          "text": [
            "[3,   200] loss: 0.442\n"
          ]
        },
        {
          "output_type": "stream",
          "name": "stderr",
          "text": [
            " 49%|████▉     | 209/428 [01:45<01:53,  1.93it/s]"
          ]
        },
        {
          "output_type": "stream",
          "name": "stdout",
          "text": [
            "[3,   210] loss: 0.385\n"
          ]
        },
        {
          "output_type": "stream",
          "name": "stderr",
          "text": [
            " 51%|█████     | 219/428 [01:51<01:47,  1.94it/s]"
          ]
        },
        {
          "output_type": "stream",
          "name": "stdout",
          "text": [
            "[3,   220] loss: 0.451\n"
          ]
        },
        {
          "output_type": "stream",
          "name": "stderr",
          "text": [
            " 54%|█████▎    | 229/428 [01:56<01:43,  1.93it/s]"
          ]
        },
        {
          "output_type": "stream",
          "name": "stdout",
          "text": [
            "[3,   230] loss: 0.528\n"
          ]
        },
        {
          "output_type": "stream",
          "name": "stderr",
          "text": [
            " 56%|█████▌    | 239/428 [02:01<01:36,  1.95it/s]"
          ]
        },
        {
          "output_type": "stream",
          "name": "stdout",
          "text": [
            "[3,   240] loss: 0.427\n"
          ]
        },
        {
          "output_type": "stream",
          "name": "stderr",
          "text": [
            " 58%|█████▊    | 249/428 [02:06<01:31,  1.95it/s]"
          ]
        },
        {
          "output_type": "stream",
          "name": "stdout",
          "text": [
            "[3,   250] loss: 0.474\n"
          ]
        },
        {
          "output_type": "stream",
          "name": "stderr",
          "text": [
            " 61%|██████    | 259/428 [02:11<01:26,  1.96it/s]"
          ]
        },
        {
          "output_type": "stream",
          "name": "stdout",
          "text": [
            "[3,   260] loss: 0.471\n"
          ]
        },
        {
          "output_type": "stream",
          "name": "stderr",
          "text": [
            " 63%|██████▎   | 269/428 [02:16<01:21,  1.96it/s]"
          ]
        },
        {
          "output_type": "stream",
          "name": "stdout",
          "text": [
            "[3,   270] loss: 0.425\n"
          ]
        },
        {
          "output_type": "stream",
          "name": "stderr",
          "text": [
            " 65%|██████▌   | 279/428 [02:21<01:15,  1.96it/s]"
          ]
        },
        {
          "output_type": "stream",
          "name": "stdout",
          "text": [
            "[3,   280] loss: 0.445\n"
          ]
        },
        {
          "output_type": "stream",
          "name": "stderr",
          "text": [
            " 68%|██████▊   | 289/428 [02:26<01:10,  1.97it/s]"
          ]
        },
        {
          "output_type": "stream",
          "name": "stdout",
          "text": [
            "[3,   290] loss: 0.534\n"
          ]
        },
        {
          "output_type": "stream",
          "name": "stderr",
          "text": [
            " 70%|██████▉   | 299/428 [02:32<01:05,  1.97it/s]"
          ]
        },
        {
          "output_type": "stream",
          "name": "stdout",
          "text": [
            "[3,   300] loss: 0.426\n"
          ]
        },
        {
          "output_type": "stream",
          "name": "stderr",
          "text": [
            " 72%|███████▏  | 309/428 [02:37<01:00,  1.97it/s]"
          ]
        },
        {
          "output_type": "stream",
          "name": "stdout",
          "text": [
            "[3,   310] loss: 0.431\n"
          ]
        },
        {
          "output_type": "stream",
          "name": "stderr",
          "text": [
            " 75%|███████▍  | 319/428 [02:42<00:55,  1.95it/s]"
          ]
        },
        {
          "output_type": "stream",
          "name": "stdout",
          "text": [
            "[3,   320] loss: 0.472\n"
          ]
        },
        {
          "output_type": "stream",
          "name": "stderr",
          "text": [
            " 77%|███████▋  | 329/428 [02:47<00:50,  1.97it/s]"
          ]
        },
        {
          "output_type": "stream",
          "name": "stdout",
          "text": [
            "[3,   330] loss: 0.473\n"
          ]
        },
        {
          "output_type": "stream",
          "name": "stderr",
          "text": [
            " 79%|███████▉  | 339/428 [02:52<00:44,  1.99it/s]"
          ]
        },
        {
          "output_type": "stream",
          "name": "stdout",
          "text": [
            "[3,   340] loss: 0.453\n"
          ]
        },
        {
          "output_type": "stream",
          "name": "stderr",
          "text": [
            " 82%|████████▏ | 349/428 [02:57<00:40,  1.97it/s]"
          ]
        },
        {
          "output_type": "stream",
          "name": "stdout",
          "text": [
            "[3,   350] loss: 0.487\n"
          ]
        },
        {
          "output_type": "stream",
          "name": "stderr",
          "text": [
            " 84%|████████▍ | 359/428 [03:02<00:34,  1.98it/s]"
          ]
        },
        {
          "output_type": "stream",
          "name": "stdout",
          "text": [
            "[3,   360] loss: 0.472\n"
          ]
        },
        {
          "output_type": "stream",
          "name": "stderr",
          "text": [
            " 86%|████████▌ | 369/428 [03:07<00:29,  1.97it/s]"
          ]
        },
        {
          "output_type": "stream",
          "name": "stdout",
          "text": [
            "[3,   370] loss: 0.448\n"
          ]
        },
        {
          "output_type": "stream",
          "name": "stderr",
          "text": [
            " 89%|████████▊ | 379/428 [03:12<00:24,  1.96it/s]"
          ]
        },
        {
          "output_type": "stream",
          "name": "stdout",
          "text": [
            "[3,   380] loss: 0.447\n"
          ]
        },
        {
          "output_type": "stream",
          "name": "stderr",
          "text": [
            " 91%|█████████ | 389/428 [03:17<00:19,  1.97it/s]"
          ]
        },
        {
          "output_type": "stream",
          "name": "stdout",
          "text": [
            "[3,   390] loss: 0.430\n"
          ]
        },
        {
          "output_type": "stream",
          "name": "stderr",
          "text": [
            " 93%|█████████▎| 399/428 [03:22<00:14,  1.96it/s]"
          ]
        },
        {
          "output_type": "stream",
          "name": "stdout",
          "text": [
            "[3,   400] loss: 0.470\n"
          ]
        },
        {
          "output_type": "stream",
          "name": "stderr",
          "text": [
            " 96%|█████████▌| 409/428 [03:27<00:09,  1.97it/s]"
          ]
        },
        {
          "output_type": "stream",
          "name": "stdout",
          "text": [
            "[3,   410] loss: 0.404\n"
          ]
        },
        {
          "output_type": "stream",
          "name": "stderr",
          "text": [
            " 98%|█████████▊| 419/428 [03:33<00:04,  1.96it/s]"
          ]
        },
        {
          "output_type": "stream",
          "name": "stdout",
          "text": [
            "[3,   420] loss: 0.398\n"
          ]
        },
        {
          "output_type": "stream",
          "name": "stderr",
          "text": [
            "100%|██████████| 428/428 [03:37<00:00,  1.97it/s]\n",
            "  2%|▏         | 9/428 [00:04<03:33,  1.96it/s]"
          ]
        },
        {
          "output_type": "stream",
          "name": "stdout",
          "text": [
            "[4,    10] loss: 0.369\n"
          ]
        },
        {
          "output_type": "stream",
          "name": "stderr",
          "text": [
            "  4%|▍         | 19/428 [00:09<03:27,  1.97it/s]"
          ]
        },
        {
          "output_type": "stream",
          "name": "stdout",
          "text": [
            "[4,    20] loss: 0.409\n"
          ]
        },
        {
          "output_type": "stream",
          "name": "stderr",
          "text": [
            "  7%|▋         | 29/428 [00:14<03:23,  1.96it/s]"
          ]
        },
        {
          "output_type": "stream",
          "name": "stdout",
          "text": [
            "[4,    30] loss: 0.404\n"
          ]
        },
        {
          "output_type": "stream",
          "name": "stderr",
          "text": [
            "  9%|▉         | 39/428 [00:19<03:16,  1.97it/s]"
          ]
        },
        {
          "output_type": "stream",
          "name": "stdout",
          "text": [
            "[4,    40] loss: 0.462\n"
          ]
        },
        {
          "output_type": "stream",
          "name": "stderr",
          "text": [
            " 11%|█▏        | 49/428 [00:25<03:25,  1.85it/s]"
          ]
        },
        {
          "output_type": "stream",
          "name": "stdout",
          "text": [
            "[4,    50] loss: 0.472\n"
          ]
        },
        {
          "output_type": "stream",
          "name": "stderr",
          "text": [
            " 14%|█▍        | 59/428 [00:30<03:09,  1.95it/s]"
          ]
        },
        {
          "output_type": "stream",
          "name": "stdout",
          "text": [
            "[4,    60] loss: 0.396\n"
          ]
        },
        {
          "output_type": "stream",
          "name": "stderr",
          "text": [
            " 16%|█▌        | 69/428 [00:35<03:01,  1.98it/s]"
          ]
        },
        {
          "output_type": "stream",
          "name": "stdout",
          "text": [
            "[4,    70] loss: 0.464\n"
          ]
        },
        {
          "output_type": "stream",
          "name": "stderr",
          "text": [
            " 18%|█▊        | 79/428 [00:40<02:57,  1.97it/s]"
          ]
        },
        {
          "output_type": "stream",
          "name": "stdout",
          "text": [
            "[4,    80] loss: 0.467\n"
          ]
        },
        {
          "output_type": "stream",
          "name": "stderr",
          "text": [
            " 21%|██        | 89/428 [00:45<02:52,  1.97it/s]"
          ]
        },
        {
          "output_type": "stream",
          "name": "stdout",
          "text": [
            "[4,    90] loss: 0.397\n"
          ]
        },
        {
          "output_type": "stream",
          "name": "stderr",
          "text": [
            " 23%|██▎       | 99/428 [00:50<02:47,  1.97it/s]"
          ]
        },
        {
          "output_type": "stream",
          "name": "stdout",
          "text": [
            "[4,   100] loss: 0.431\n"
          ]
        },
        {
          "output_type": "stream",
          "name": "stderr",
          "text": [
            " 25%|██▌       | 109/428 [00:55<02:42,  1.96it/s]"
          ]
        },
        {
          "output_type": "stream",
          "name": "stdout",
          "text": [
            "[4,   110] loss: 0.391\n"
          ]
        },
        {
          "output_type": "stream",
          "name": "stderr",
          "text": [
            " 28%|██▊       | 119/428 [01:00<02:38,  1.95it/s]"
          ]
        },
        {
          "output_type": "stream",
          "name": "stdout",
          "text": [
            "[4,   120] loss: 0.432\n"
          ]
        },
        {
          "output_type": "stream",
          "name": "stderr",
          "text": [
            " 30%|███       | 129/428 [01:05<02:31,  1.97it/s]"
          ]
        },
        {
          "output_type": "stream",
          "name": "stdout",
          "text": [
            "[4,   130] loss: 0.438\n"
          ]
        },
        {
          "output_type": "stream",
          "name": "stderr",
          "text": [
            " 32%|███▏      | 139/428 [01:11<02:27,  1.96it/s]"
          ]
        },
        {
          "output_type": "stream",
          "name": "stdout",
          "text": [
            "[4,   140] loss: 0.406\n"
          ]
        },
        {
          "output_type": "stream",
          "name": "stderr",
          "text": [
            " 35%|███▍      | 149/428 [01:16<02:23,  1.95it/s]"
          ]
        },
        {
          "output_type": "stream",
          "name": "stdout",
          "text": [
            "[4,   150] loss: 0.372\n"
          ]
        },
        {
          "output_type": "stream",
          "name": "stderr",
          "text": [
            " 37%|███▋      | 159/428 [01:21<02:18,  1.95it/s]"
          ]
        },
        {
          "output_type": "stream",
          "name": "stdout",
          "text": [
            "[4,   160] loss: 0.433\n"
          ]
        },
        {
          "output_type": "stream",
          "name": "stderr",
          "text": [
            " 39%|███▉      | 169/428 [01:26<02:13,  1.95it/s]"
          ]
        },
        {
          "output_type": "stream",
          "name": "stdout",
          "text": [
            "[4,   170] loss: 0.440\n"
          ]
        },
        {
          "output_type": "stream",
          "name": "stderr",
          "text": [
            " 42%|████▏     | 179/428 [01:31<02:07,  1.95it/s]"
          ]
        },
        {
          "output_type": "stream",
          "name": "stdout",
          "text": [
            "[4,   180] loss: 0.454\n"
          ]
        },
        {
          "output_type": "stream",
          "name": "stderr",
          "text": [
            " 44%|████▍     | 189/428 [01:36<02:01,  1.96it/s]"
          ]
        },
        {
          "output_type": "stream",
          "name": "stdout",
          "text": [
            "[4,   190] loss: 0.437\n"
          ]
        },
        {
          "output_type": "stream",
          "name": "stderr",
          "text": [
            " 46%|████▋     | 199/428 [01:41<01:56,  1.97it/s]"
          ]
        },
        {
          "output_type": "stream",
          "name": "stdout",
          "text": [
            "[4,   200] loss: 0.479\n"
          ]
        },
        {
          "output_type": "stream",
          "name": "stderr",
          "text": [
            " 49%|████▉     | 209/428 [01:46<01:51,  1.97it/s]"
          ]
        },
        {
          "output_type": "stream",
          "name": "stdout",
          "text": [
            "[4,   210] loss: 0.440\n"
          ]
        },
        {
          "output_type": "stream",
          "name": "stderr",
          "text": [
            " 51%|█████     | 219/428 [01:51<01:45,  1.97it/s]"
          ]
        },
        {
          "output_type": "stream",
          "name": "stdout",
          "text": [
            "[4,   220] loss: 0.435\n"
          ]
        },
        {
          "output_type": "stream",
          "name": "stderr",
          "text": [
            " 54%|█████▎    | 229/428 [01:56<01:41,  1.96it/s]"
          ]
        },
        {
          "output_type": "stream",
          "name": "stdout",
          "text": [
            "[4,   230] loss: 0.428\n"
          ]
        },
        {
          "output_type": "stream",
          "name": "stderr",
          "text": [
            " 56%|█████▌    | 239/428 [02:02<01:35,  1.97it/s]"
          ]
        },
        {
          "output_type": "stream",
          "name": "stdout",
          "text": [
            "[4,   240] loss: 0.381\n"
          ]
        },
        {
          "output_type": "stream",
          "name": "stderr",
          "text": [
            " 58%|█████▊    | 249/428 [02:07<01:32,  1.94it/s]"
          ]
        },
        {
          "output_type": "stream",
          "name": "stdout",
          "text": [
            "[4,   250] loss: 0.399\n"
          ]
        },
        {
          "output_type": "stream",
          "name": "stderr",
          "text": [
            " 61%|██████    | 259/428 [02:12<01:25,  1.97it/s]"
          ]
        },
        {
          "output_type": "stream",
          "name": "stdout",
          "text": [
            "[4,   260] loss: 0.367\n"
          ]
        },
        {
          "output_type": "stream",
          "name": "stderr",
          "text": [
            " 63%|██████▎   | 269/428 [02:17<01:20,  1.98it/s]"
          ]
        },
        {
          "output_type": "stream",
          "name": "stdout",
          "text": [
            "[4,   270] loss: 0.373\n"
          ]
        },
        {
          "output_type": "stream",
          "name": "stderr",
          "text": [
            " 65%|██████▌   | 279/428 [02:22<01:15,  1.98it/s]"
          ]
        },
        {
          "output_type": "stream",
          "name": "stdout",
          "text": [
            "[4,   280] loss: 0.427\n"
          ]
        },
        {
          "output_type": "stream",
          "name": "stderr",
          "text": [
            " 68%|██████▊   | 289/428 [02:27<01:10,  1.96it/s]"
          ]
        },
        {
          "output_type": "stream",
          "name": "stdout",
          "text": [
            "[4,   290] loss: 0.386\n"
          ]
        },
        {
          "output_type": "stream",
          "name": "stderr",
          "text": [
            " 70%|██████▉   | 299/428 [02:32<01:05,  1.97it/s]"
          ]
        },
        {
          "output_type": "stream",
          "name": "stdout",
          "text": [
            "[4,   300] loss: 0.456\n"
          ]
        },
        {
          "output_type": "stream",
          "name": "stderr",
          "text": [
            " 72%|███████▏  | 309/428 [02:37<01:01,  1.94it/s]"
          ]
        },
        {
          "output_type": "stream",
          "name": "stdout",
          "text": [
            "[4,   310] loss: 0.454\n"
          ]
        },
        {
          "output_type": "stream",
          "name": "stderr",
          "text": [
            " 75%|███████▍  | 319/428 [02:42<00:55,  1.97it/s]"
          ]
        },
        {
          "output_type": "stream",
          "name": "stdout",
          "text": [
            "[4,   320] loss: 0.411\n"
          ]
        },
        {
          "output_type": "stream",
          "name": "stderr",
          "text": [
            " 77%|███████▋  | 329/428 [02:47<00:50,  1.96it/s]"
          ]
        },
        {
          "output_type": "stream",
          "name": "stdout",
          "text": [
            "[4,   330] loss: 0.380\n"
          ]
        },
        {
          "output_type": "stream",
          "name": "stderr",
          "text": [
            " 79%|███████▉  | 339/428 [02:53<00:45,  1.96it/s]"
          ]
        },
        {
          "output_type": "stream",
          "name": "stdout",
          "text": [
            "[4,   340] loss: 0.393\n"
          ]
        },
        {
          "output_type": "stream",
          "name": "stderr",
          "text": [
            " 82%|████████▏ | 349/428 [02:58<00:42,  1.86it/s]"
          ]
        },
        {
          "output_type": "stream",
          "name": "stdout",
          "text": [
            "[4,   350] loss: 0.436\n"
          ]
        },
        {
          "output_type": "stream",
          "name": "stderr",
          "text": [
            " 84%|████████▍ | 359/428 [03:03<00:35,  1.95it/s]"
          ]
        },
        {
          "output_type": "stream",
          "name": "stdout",
          "text": [
            "[4,   360] loss: 0.430\n"
          ]
        },
        {
          "output_type": "stream",
          "name": "stderr",
          "text": [
            " 86%|████████▌ | 369/428 [03:08<00:30,  1.94it/s]"
          ]
        },
        {
          "output_type": "stream",
          "name": "stdout",
          "text": [
            "[4,   370] loss: 0.415\n"
          ]
        },
        {
          "output_type": "stream",
          "name": "stderr",
          "text": [
            " 89%|████████▊ | 379/428 [03:13<00:24,  1.97it/s]"
          ]
        },
        {
          "output_type": "stream",
          "name": "stdout",
          "text": [
            "[4,   380] loss: 0.382\n"
          ]
        },
        {
          "output_type": "stream",
          "name": "stderr",
          "text": [
            " 91%|█████████ | 389/428 [03:18<00:19,  1.96it/s]"
          ]
        },
        {
          "output_type": "stream",
          "name": "stdout",
          "text": [
            "[4,   390] loss: 0.398\n"
          ]
        },
        {
          "output_type": "stream",
          "name": "stderr",
          "text": [
            " 93%|█████████▎| 399/428 [03:23<00:14,  1.96it/s]"
          ]
        },
        {
          "output_type": "stream",
          "name": "stdout",
          "text": [
            "[4,   400] loss: 0.485\n"
          ]
        },
        {
          "output_type": "stream",
          "name": "stderr",
          "text": [
            " 96%|█████████▌| 409/428 [03:28<00:09,  1.97it/s]"
          ]
        },
        {
          "output_type": "stream",
          "name": "stdout",
          "text": [
            "[4,   410] loss: 0.404\n"
          ]
        },
        {
          "output_type": "stream",
          "name": "stderr",
          "text": [
            " 98%|█████████▊| 419/428 [03:34<00:04,  1.97it/s]"
          ]
        },
        {
          "output_type": "stream",
          "name": "stdout",
          "text": [
            "[4,   420] loss: 0.384\n"
          ]
        },
        {
          "output_type": "stream",
          "name": "stderr",
          "text": [
            "100%|██████████| 428/428 [03:38<00:00,  1.96it/s]\n",
            "  2%|▏         | 9/428 [00:04<03:34,  1.95it/s]"
          ]
        },
        {
          "output_type": "stream",
          "name": "stdout",
          "text": [
            "[5,    10] loss: 0.365\n"
          ]
        },
        {
          "output_type": "stream",
          "name": "stderr",
          "text": [
            "  4%|▍         | 19/428 [00:09<03:27,  1.97it/s]"
          ]
        },
        {
          "output_type": "stream",
          "name": "stdout",
          "text": [
            "[5,    20] loss: 0.377\n"
          ]
        },
        {
          "output_type": "stream",
          "name": "stderr",
          "text": [
            "  7%|▋         | 29/428 [00:14<03:23,  1.96it/s]"
          ]
        },
        {
          "output_type": "stream",
          "name": "stdout",
          "text": [
            "[5,    30] loss: 0.398\n"
          ]
        },
        {
          "output_type": "stream",
          "name": "stderr",
          "text": [
            "  9%|▉         | 39/428 [00:19<03:18,  1.96it/s]"
          ]
        },
        {
          "output_type": "stream",
          "name": "stdout",
          "text": [
            "[5,    40] loss: 0.400\n"
          ]
        },
        {
          "output_type": "stream",
          "name": "stderr",
          "text": [
            " 11%|█▏        | 49/428 [00:24<03:13,  1.96it/s]"
          ]
        },
        {
          "output_type": "stream",
          "name": "stdout",
          "text": [
            "[5,    50] loss: 0.425\n"
          ]
        },
        {
          "output_type": "stream",
          "name": "stderr",
          "text": [
            " 14%|█▍        | 59/428 [00:30<03:08,  1.96it/s]"
          ]
        },
        {
          "output_type": "stream",
          "name": "stdout",
          "text": [
            "[5,    60] loss: 0.388\n"
          ]
        },
        {
          "output_type": "stream",
          "name": "stderr",
          "text": [
            " 16%|█▌        | 69/428 [00:35<03:02,  1.97it/s]"
          ]
        },
        {
          "output_type": "stream",
          "name": "stdout",
          "text": [
            "[5,    70] loss: 0.372\n"
          ]
        },
        {
          "output_type": "stream",
          "name": "stderr",
          "text": [
            " 18%|█▊        | 79/428 [00:40<02:57,  1.97it/s]"
          ]
        },
        {
          "output_type": "stream",
          "name": "stdout",
          "text": [
            "[5,    80] loss: 0.413\n"
          ]
        },
        {
          "output_type": "stream",
          "name": "stderr",
          "text": [
            " 21%|██        | 89/428 [00:45<02:52,  1.97it/s]"
          ]
        },
        {
          "output_type": "stream",
          "name": "stdout",
          "text": [
            "[5,    90] loss: 0.433\n"
          ]
        },
        {
          "output_type": "stream",
          "name": "stderr",
          "text": [
            " 23%|██▎       | 99/428 [00:50<02:46,  1.98it/s]"
          ]
        },
        {
          "output_type": "stream",
          "name": "stdout",
          "text": [
            "[5,   100] loss: 0.402\n"
          ]
        },
        {
          "output_type": "stream",
          "name": "stderr",
          "text": [
            " 25%|██▌       | 109/428 [00:55<02:41,  1.97it/s]"
          ]
        },
        {
          "output_type": "stream",
          "name": "stdout",
          "text": [
            "[5,   110] loss: 0.409\n"
          ]
        },
        {
          "output_type": "stream",
          "name": "stderr",
          "text": [
            " 28%|██▊       | 119/428 [01:00<02:37,  1.96it/s]"
          ]
        },
        {
          "output_type": "stream",
          "name": "stdout",
          "text": [
            "[5,   120] loss: 0.377\n"
          ]
        },
        {
          "output_type": "stream",
          "name": "stderr",
          "text": [
            " 30%|███       | 129/428 [01:05<02:31,  1.97it/s]"
          ]
        },
        {
          "output_type": "stream",
          "name": "stdout",
          "text": [
            "[5,   130] loss: 0.418\n"
          ]
        },
        {
          "output_type": "stream",
          "name": "stderr",
          "text": [
            " 32%|███▏      | 139/428 [01:10<02:26,  1.97it/s]"
          ]
        },
        {
          "output_type": "stream",
          "name": "stdout",
          "text": [
            "[5,   140] loss: 0.449\n"
          ]
        },
        {
          "output_type": "stream",
          "name": "stderr",
          "text": [
            " 35%|███▍      | 149/428 [01:15<02:21,  1.97it/s]"
          ]
        },
        {
          "output_type": "stream",
          "name": "stdout",
          "text": [
            "[5,   150] loss: 0.359\n"
          ]
        },
        {
          "output_type": "stream",
          "name": "stderr",
          "text": [
            " 37%|███▋      | 159/428 [01:20<02:16,  1.96it/s]"
          ]
        },
        {
          "output_type": "stream",
          "name": "stdout",
          "text": [
            "[5,   160] loss: 0.412\n"
          ]
        },
        {
          "output_type": "stream",
          "name": "stderr",
          "text": [
            " 39%|███▉      | 169/428 [01:26<02:11,  1.97it/s]"
          ]
        },
        {
          "output_type": "stream",
          "name": "stdout",
          "text": [
            "[5,   170] loss: 0.370\n"
          ]
        },
        {
          "output_type": "stream",
          "name": "stderr",
          "text": [
            " 42%|████▏     | 179/428 [01:31<02:06,  1.97it/s]"
          ]
        },
        {
          "output_type": "stream",
          "name": "stdout",
          "text": [
            "[5,   180] loss: 0.396\n"
          ]
        },
        {
          "output_type": "stream",
          "name": "stderr",
          "text": [
            " 44%|████▍     | 189/428 [01:36<02:02,  1.95it/s]"
          ]
        },
        {
          "output_type": "stream",
          "name": "stdout",
          "text": [
            "[5,   190] loss: 0.374\n"
          ]
        },
        {
          "output_type": "stream",
          "name": "stderr",
          "text": [
            " 46%|████▋     | 199/428 [01:41<01:56,  1.96it/s]"
          ]
        },
        {
          "output_type": "stream",
          "name": "stdout",
          "text": [
            "[5,   200] loss: 0.371\n"
          ]
        },
        {
          "output_type": "stream",
          "name": "stderr",
          "text": [
            " 49%|████▉     | 209/428 [01:46<01:51,  1.97it/s]"
          ]
        },
        {
          "output_type": "stream",
          "name": "stdout",
          "text": [
            "[5,   210] loss: 0.357\n"
          ]
        },
        {
          "output_type": "stream",
          "name": "stderr",
          "text": [
            " 51%|█████     | 219/428 [01:51<01:45,  1.97it/s]"
          ]
        },
        {
          "output_type": "stream",
          "name": "stdout",
          "text": [
            "[5,   220] loss: 0.358\n"
          ]
        },
        {
          "output_type": "stream",
          "name": "stderr",
          "text": [
            " 54%|█████▎    | 229/428 [01:56<01:44,  1.90it/s]"
          ]
        },
        {
          "output_type": "stream",
          "name": "stdout",
          "text": [
            "[5,   230] loss: 0.401\n"
          ]
        },
        {
          "output_type": "stream",
          "name": "stderr",
          "text": [
            " 56%|█████▌    | 239/428 [02:01<01:36,  1.96it/s]"
          ]
        },
        {
          "output_type": "stream",
          "name": "stdout",
          "text": [
            "[5,   240] loss: 0.450\n"
          ]
        },
        {
          "output_type": "stream",
          "name": "stderr",
          "text": [
            " 58%|█████▊    | 249/428 [02:06<01:30,  1.97it/s]"
          ]
        },
        {
          "output_type": "stream",
          "name": "stdout",
          "text": [
            "[5,   250] loss: 0.402\n"
          ]
        },
        {
          "output_type": "stream",
          "name": "stderr",
          "text": [
            " 61%|██████    | 259/428 [02:12<01:25,  1.97it/s]"
          ]
        },
        {
          "output_type": "stream",
          "name": "stdout",
          "text": [
            "[5,   260] loss: 0.402\n"
          ]
        },
        {
          "output_type": "stream",
          "name": "stderr",
          "text": [
            " 63%|██████▎   | 269/428 [02:17<01:20,  1.97it/s]"
          ]
        },
        {
          "output_type": "stream",
          "name": "stdout",
          "text": [
            "[5,   270] loss: 0.423\n"
          ]
        },
        {
          "output_type": "stream",
          "name": "stderr",
          "text": [
            " 65%|██████▌   | 279/428 [02:22<01:16,  1.96it/s]"
          ]
        },
        {
          "output_type": "stream",
          "name": "stdout",
          "text": [
            "[5,   280] loss: 0.389\n"
          ]
        },
        {
          "output_type": "stream",
          "name": "stderr",
          "text": [
            " 68%|██████▊   | 289/428 [02:27<01:10,  1.96it/s]"
          ]
        },
        {
          "output_type": "stream",
          "name": "stdout",
          "text": [
            "[5,   290] loss: 0.396\n"
          ]
        },
        {
          "output_type": "stream",
          "name": "stderr",
          "text": [
            " 70%|██████▉   | 299/428 [02:32<01:06,  1.94it/s]"
          ]
        },
        {
          "output_type": "stream",
          "name": "stdout",
          "text": [
            "[5,   300] loss: 0.444\n"
          ]
        },
        {
          "output_type": "stream",
          "name": "stderr",
          "text": [
            " 72%|███████▏  | 309/428 [02:37<01:00,  1.97it/s]"
          ]
        },
        {
          "output_type": "stream",
          "name": "stdout",
          "text": [
            "[5,   310] loss: 0.406\n"
          ]
        },
        {
          "output_type": "stream",
          "name": "stderr",
          "text": [
            " 75%|███████▍  | 319/428 [02:42<00:55,  1.96it/s]"
          ]
        },
        {
          "output_type": "stream",
          "name": "stdout",
          "text": [
            "[5,   320] loss: 0.349\n"
          ]
        },
        {
          "output_type": "stream",
          "name": "stderr",
          "text": [
            " 77%|███████▋  | 329/428 [02:47<00:50,  1.97it/s]"
          ]
        },
        {
          "output_type": "stream",
          "name": "stdout",
          "text": [
            "[5,   330] loss: 0.386\n"
          ]
        },
        {
          "output_type": "stream",
          "name": "stderr",
          "text": [
            " 79%|███████▉  | 339/428 [02:52<00:45,  1.97it/s]"
          ]
        },
        {
          "output_type": "stream",
          "name": "stdout",
          "text": [
            "[5,   340] loss: 0.365\n"
          ]
        },
        {
          "output_type": "stream",
          "name": "stderr",
          "text": [
            " 82%|████████▏ | 349/428 [02:57<00:40,  1.96it/s]"
          ]
        },
        {
          "output_type": "stream",
          "name": "stdout",
          "text": [
            "[5,   350] loss: 0.464\n"
          ]
        },
        {
          "output_type": "stream",
          "name": "stderr",
          "text": [
            " 84%|████████▍ | 359/428 [03:02<00:35,  1.96it/s]"
          ]
        },
        {
          "output_type": "stream",
          "name": "stdout",
          "text": [
            "[5,   360] loss: 0.393\n"
          ]
        },
        {
          "output_type": "stream",
          "name": "stderr",
          "text": [
            " 86%|████████▌ | 369/428 [03:08<00:29,  1.97it/s]"
          ]
        },
        {
          "output_type": "stream",
          "name": "stdout",
          "text": [
            "[5,   370] loss: 0.378\n"
          ]
        },
        {
          "output_type": "stream",
          "name": "stderr",
          "text": [
            " 89%|████████▊ | 379/428 [03:13<00:24,  1.97it/s]"
          ]
        },
        {
          "output_type": "stream",
          "name": "stdout",
          "text": [
            "[5,   380] loss: 0.361\n"
          ]
        },
        {
          "output_type": "stream",
          "name": "stderr",
          "text": [
            " 91%|█████████ | 389/428 [03:18<00:19,  1.97it/s]"
          ]
        },
        {
          "output_type": "stream",
          "name": "stdout",
          "text": [
            "[5,   390] loss: 0.380\n"
          ]
        },
        {
          "output_type": "stream",
          "name": "stderr",
          "text": [
            " 93%|█████████▎| 399/428 [03:23<00:14,  1.97it/s]"
          ]
        },
        {
          "output_type": "stream",
          "name": "stdout",
          "text": [
            "[5,   400] loss: 0.390\n"
          ]
        },
        {
          "output_type": "stream",
          "name": "stderr",
          "text": [
            " 96%|█████████▌| 409/428 [03:28<00:09,  1.97it/s]"
          ]
        },
        {
          "output_type": "stream",
          "name": "stdout",
          "text": [
            "[5,   410] loss: 0.319\n"
          ]
        },
        {
          "output_type": "stream",
          "name": "stderr",
          "text": [
            " 98%|█████████▊| 419/428 [03:33<00:04,  1.96it/s]"
          ]
        },
        {
          "output_type": "stream",
          "name": "stdout",
          "text": [
            "[5,   420] loss: 0.410\n"
          ]
        },
        {
          "output_type": "stream",
          "name": "stderr",
          "text": [
            "100%|██████████| 428/428 [03:37<00:00,  1.96it/s]\n"
          ]
        },
        {
          "output_type": "execute_result",
          "data": {
            "text/plain": [
              "'\\n  losses.append(loss.detach().numpy())\\n  accur.append(acc)\\n  losses_test.append(loss_test.detach().numpy())\\n  accur_test.append(acc_test)\\n  print(\"\\n epoch {}\\tloss_train : {}\\t accuracy_train : {}%\".format(epoch,loss,acc*100))\\n  print(\"epoch {}\\tloss_test : {}\\t accuracy_test : {}%\\n\".format(epoch,loss_test,acc_test*100))\\n  \\n'"
            ],
            "application/vnd.google.colaboratory.intrinsic+json": {
              "type": "string"
            }
          },
          "metadata": {},
          "execution_count": 13
        }
      ],
      "source": [
        "losses = []\n",
        "accur = []\n",
        "losses_test = []\n",
        "accur_test = []\n",
        "\n",
        "for epoch in range(num_epochs):\n",
        "  i = 0 \n",
        "  running_loss =0.0\n",
        "  for batch_idx, (data, targets) in enumerate(tqdm(train_loader)):\n",
        "    # Get data to cuda if possible\n",
        "    data = data.to(device=device)\n",
        "    targets = targets.to(device=device)\n",
        "    data = data.float()\n",
        "    # forward\n",
        "    scores = model(data)\n",
        "    scores = torch.flatten(scores)\n",
        "    scores = scores.to(torch.float)\n",
        "    targets = targets.to(torch.float)\n",
        "    loss = criterion(scores, targets)\n",
        "\n",
        "    optimizer.zero_grad()\n",
        "    loss.backward()\n",
        "\n",
        "    # gradient descent or adam step\n",
        "    optimizer.step()\n",
        "    running_loss += loss.item()\n",
        "    i+=1\n",
        "    if i % 10 == 9:    # print every 4 mini-batches\n",
        "        print(f'[{epoch + 1}, {i + 1:5d}] loss: {running_loss / 10:.3f}')\n",
        "        running_loss = 0.0\n",
        "\n",
        "\n"
      ]
    },
    {
      "cell_type": "markdown",
      "source": [
        "# Testing"
      ],
      "metadata": {
        "id": "Dq5rS_5XCu1l"
      },
      "id": "Dq5rS_5XCu1l"
    },
    {
      "cell_type": "markdown",
      "source": [
        "This function returns the true_positives, false_positives, true_negatives, false_negatives"
      ],
      "metadata": {
        "id": "FgbvG_IBCzCb"
      },
      "id": "FgbvG_IBCzCb"
    },
    {
      "cell_type": "code",
      "execution_count": null,
      "id": "ESssYsxQUAtx",
      "metadata": {
        "id": "ESssYsxQUAtx"
      },
      "outputs": [],
      "source": [
        "def confusion(prediction, truth):\n",
        "    \"\"\" Returns the confusion matrix for the values in the `prediction` and `truth`\n",
        "    tensors, i.e. the amount of positions where the values of `prediction`\n",
        "    and `truth` are\n",
        "    - 1 and 1 (True Positive)\n",
        "    - 1 and 0 (False Positive)\n",
        "    - 0 and 0 (True Negative)\n",
        "    - 0 and 1 (False Negative)\n",
        "    \"\"\"\n",
        "\n",
        "    confusion_vector = prediction / truth\n",
        "    # Element-wise division of the 2 tensors returns a new tensor which holds a\n",
        "    # unique value for each case:\n",
        "    #   1     where prediction and truth are 1 (True Positive)\n",
        "    #   inf   where prediction is 1 and truth is 0 (False Positive)\n",
        "    #   nan   where prediction and truth are 0 (True Negative)\n",
        "    #   0     where prediction is 0 and truth is 1 (False Negative)\n",
        "\n",
        "    true_positives = torch.sum(confusion_vector == 1).item()\n",
        "    false_positives = torch.sum(confusion_vector == float('inf')).item()\n",
        "    true_negatives = torch.sum(torch.isnan(confusion_vector)).item()\n",
        "    false_negatives = torch.sum(confusion_vector == 0).item()\n",
        "\n",
        "    return true_positives, false_positives, true_negatives, false_negatives"
      ]
    },
    {
      "cell_type": "markdown",
      "source": [
        "This function iterates through the test_loader, and calculates the different useful metrics: sensitivity, specificity, F1, Youden's index and accuracy."
      ],
      "metadata": {
        "id": "h0rD6GbsC5oi"
      },
      "id": "h0rD6GbsC5oi"
    },
    {
      "cell_type": "code",
      "execution_count": null,
      "id": "qJhI1wwEDieo",
      "metadata": {
        "colab": {
          "base_uri": "https://localhost:8080/",
          "height": 374
        },
        "id": "qJhI1wwEDieo",
        "outputId": "a0286519-eacb-4dff-dc72-a6ebc981d446"
      },
      "outputs": [
        {
          "output_type": "stream",
          "name": "stdout",
          "text": [
            "Checking accuracy on test data\n",
            "Got 64.44981862152358 \n"
          ]
        },
        {
          "output_type": "error",
          "ename": "ZeroDivisionError",
          "evalue": "ignored",
          "traceback": [
            "\u001b[0;31m---------------------------------------------------------------------------\u001b[0m",
            "\u001b[0;31mZeroDivisionError\u001b[0m                         Traceback (most recent call last)",
            "\u001b[0;32m<ipython-input-19-08487dab8cf9>\u001b[0m in \u001b[0;36m<module>\u001b[0;34m\u001b[0m\n\u001b[1;32m    106\u001b[0m \u001b[0;34m\u001b[0m\u001b[0m\n\u001b[1;32m    107\u001b[0m \u001b[0;31m#check_accuracy(\"train\", model)\u001b[0m\u001b[0;34m\u001b[0m\u001b[0;34m\u001b[0m\u001b[0;34m\u001b[0m\u001b[0m\n\u001b[0;32m--> 108\u001b[0;31m \u001b[0mcheck_accuracy\u001b[0m\u001b[0;34m(\u001b[0m\u001b[0;34m\"test\"\u001b[0m\u001b[0;34m,\u001b[0m \u001b[0mmodel\u001b[0m\u001b[0;34m)\u001b[0m\u001b[0;34m\u001b[0m\u001b[0;34m\u001b[0m\u001b[0m\n\u001b[0m",
            "\u001b[0;32m<ipython-input-19-08487dab8cf9>\u001b[0m in \u001b[0;36mcheck_accuracy\u001b[0;34m(loader, model)\u001b[0m\n\u001b[1;32m     74\u001b[0m       \u001b[0msensitivity\u001b[0m \u001b[0;34m=\u001b[0m \u001b[0mtrue_positives\u001b[0m\u001b[0;34m/\u001b[0m\u001b[0;34m(\u001b[0m\u001b[0mtrue_positives\u001b[0m \u001b[0;34m+\u001b[0m \u001b[0mfalse_negatives\u001b[0m\u001b[0;34m)\u001b[0m\u001b[0;34m\u001b[0m\u001b[0;34m\u001b[0m\u001b[0m\n\u001b[1;32m     75\u001b[0m       \u001b[0mspecificity\u001b[0m \u001b[0;34m=\u001b[0m \u001b[0mtrue_negatives\u001b[0m\u001b[0;34m/\u001b[0m\u001b[0;34m(\u001b[0m\u001b[0mtrue_negatives\u001b[0m \u001b[0;34m+\u001b[0m \u001b[0mfalse_positives\u001b[0m\u001b[0;34m)\u001b[0m\u001b[0;34m\u001b[0m\u001b[0;34m\u001b[0m\u001b[0m\n\u001b[0;32m---> 76\u001b[0;31m       \u001b[0mprecision\u001b[0m \u001b[0;34m=\u001b[0m \u001b[0mtrue_positives\u001b[0m\u001b[0;34m/\u001b[0m\u001b[0;34m(\u001b[0m\u001b[0mtrue_positives\u001b[0m \u001b[0;34m+\u001b[0m \u001b[0mfalse_positives\u001b[0m\u001b[0;34m)\u001b[0m\u001b[0;34m\u001b[0m\u001b[0;34m\u001b[0m\u001b[0m\n\u001b[0m\u001b[1;32m     77\u001b[0m       \u001b[0mrecall\u001b[0m \u001b[0;34m=\u001b[0m \u001b[0mtrue_positives\u001b[0m\u001b[0;34m/\u001b[0m\u001b[0;34m(\u001b[0m\u001b[0mtrue_positives\u001b[0m \u001b[0;34m+\u001b[0m \u001b[0mfalse_negatives\u001b[0m\u001b[0;34m)\u001b[0m\u001b[0;34m\u001b[0m\u001b[0;34m\u001b[0m\u001b[0m\n\u001b[1;32m     78\u001b[0m       \u001b[0mF1\u001b[0m \u001b[0;34m=\u001b[0m \u001b[0;34m(\u001b[0m\u001b[0;36m2\u001b[0m \u001b[0;34m*\u001b[0m \u001b[0mprecision\u001b[0m \u001b[0;34m*\u001b[0m \u001b[0mrecall\u001b[0m\u001b[0;34m)\u001b[0m\u001b[0;34m/\u001b[0m\u001b[0;34m(\u001b[0m\u001b[0mprecision\u001b[0m \u001b[0;34m+\u001b[0m \u001b[0mrecall\u001b[0m\u001b[0;34m)\u001b[0m\u001b[0;34m\u001b[0m\u001b[0;34m\u001b[0m\u001b[0m\n",
            "\u001b[0;31mZeroDivisionError\u001b[0m: division by zero"
          ]
        }
      ],
      "source": [
        "def check_accuracy(loader, model):\n",
        "    model.eval()\n",
        "    accuracy = 0.0\n",
        "    total = 0.0\n",
        "    if loader == \"train\":\n",
        "        print(\"Checking accuracy on train data\")\n",
        "        with torch.no_grad():\n",
        "            for data in train_loader:\n",
        "                segments, labels = data\n",
        "                # run the model on the test set to predict labels\n",
        "                segments = segments.float()\n",
        "\n",
        "                outputs = model(segments)\n",
        "\n",
        "                ##print(\"labels: \" ,   labels)\n",
        "\n",
        "                # the label with the highest energy will be our prediction\n",
        "                _, predicted = torch.max(outputs.data, 1)\n",
        "\n",
        "                # print(\"predicted: \", predicted )\n",
        "\n",
        "                TP = (predicted == labels == 1).sum()\n",
        "                total += labels.size(0)\n",
        "                accuracy += (predicted == labels).sum().item()\n",
        "\n",
        "                # compute the accuracy over all test segments\n",
        "            accuracy = 100 * accuracy / total\n",
        "            print(f\"Got {accuracy} \")\n",
        "\n",
        "    else:\n",
        "        print(\"Checking accuracy on test data\")\n",
        "        with torch.no_grad():\n",
        "            true_positives, false_positives, true_negatives, false_negatives = (\n",
        "                0,\n",
        "                0,\n",
        "                0,\n",
        "                0,\n",
        "            )\n",
        "            predicted_tot = torch.zeros(0)\n",
        "            labels_tot = torch.zeros(0)\n",
        "\n",
        "            for data in test_loader:\n",
        "                segments, labels = data\n",
        "                # run the model on the test set to predict labels\n",
        "                segments = segments.float()\n",
        "                segments = segments.to(device=device)\n",
        "                labels = labels.to(device=device)\n",
        "\n",
        "                outputs = model(segments)\n",
        "\n",
        "                # the label with the highest energy will be our prediction\n",
        "                _, predicted = torch.max(outputs.data, 1)\n",
        "\n",
        "                tp, fp, tn, fn = confusion(predicted, labels)\n",
        "\n",
        "                true_positives += tp\n",
        "                false_positives += fp\n",
        "                true_negatives += tn\n",
        "                false_negatives += fn\n",
        "\n",
        "                total += labels.size(0)\n",
        "                accuracy += (predicted == labels).sum().item()\n",
        "\n",
        "            # compute the accuracy over all test segment\n",
        "            accuracy = 100 * accuracy / total\n",
        "            print(f\"Got {accuracy} \")\n",
        "\n",
        "            sensitivity = true_positives / (true_positives + false_negatives)\n",
        "            specificity = true_negatives / (true_negatives + false_positives)\n",
        "            precision = true_positives / (true_positives + false_positives)\n",
        "            recall = true_positives / (true_positives + false_negatives)\n",
        "            F1 = (2 * precision * recall) / (precision + recall)\n",
        "\n",
        "            print(f\"Sensitivity: {sensitivity}\")\n",
        "            print(f\"Specificity: {specificity}\")\n",
        "            print(f\"F1: {F1}\")\n",
        "            print(f\"Youden's index: {sensitivity + specificity - 1 }\")\n",
        "\n",
        "            # Plot confusion matrix\n",
        "\n",
        "            cm = [[true_positives, false_negatives], [false_positives, true_negatives]]\n",
        "\n",
        "            ax = plt.subplot()\n",
        "            sns.heatmap(cm, annot=True, fmt=\"g\", cmap=\"Greens\", ax=ax)\n",
        "            # annot=True to annotate cells, ftm='g' to disable scientific notation\n",
        "\n",
        "            # labels, title and ticks\n",
        "            ax.set_xlabel(\"Predicted labels\")\n",
        "            ax.set_ylabel(\"True labels\")\n",
        "            # ax.set_title('Confusion Matrix');\n",
        "            ax.xaxis.set_ticklabels([\"apnea\", \"normal\"])\n",
        "            ax.yaxis.set_ticklabels([\"apnea\", \"normal\"])\n",
        "\n",
        "\n",
        "check_accuracy(\"test\", model)"
      ]
    },
    {
      "cell_type": "code",
      "execution_count": null,
      "id": "IHVN5ucQLYPq",
      "metadata": {
        "id": "IHVN5ucQLYPq"
      },
      "outputs": [],
      "source": []
    }
  ],
  "metadata": {
    "accelerator": "GPU",
    "colab": {
      "provenance": []
    },
    "gpuClass": "standard",
    "kernelspec": {
      "display_name": "Python 3 (ipykernel)",
      "language": "python",
      "name": "python3"
    },
    "language_info": {
      "codemirror_mode": {
        "name": "ipython",
        "version": 3
      },
      "file_extension": ".py",
      "mimetype": "text/x-python",
      "name": "python",
      "nbconvert_exporter": "python",
      "pygments_lexer": "ipython3",
      "version": "3.10.7"
    }
  },
  "nbformat": 4,
  "nbformat_minor": 5
}