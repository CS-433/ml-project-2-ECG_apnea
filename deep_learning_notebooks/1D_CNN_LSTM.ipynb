{
  "cells": [
    {
      "cell_type": "markdown",
      "source": [
        "# LSTM with 1D CNN\n"
      ],
      "metadata": {
        "id": "4dMrePNIjc9Y"
      },
      "id": "4dMrePNIjc9Y"
    },
    {
      "cell_type": "markdown",
      "source": [
        "Mount google drive"
      ],
      "metadata": {
        "id": "AwsGCNtxjiLk"
      },
      "id": "AwsGCNtxjiLk"
    },
    {
      "cell_type": "code",
      "source": [
        "from google.colab import drive          \n",
        "drive.mount('/content/drive')"
      ],
      "metadata": {
        "colab": {
          "base_uri": "https://localhost:8080/"
        },
        "id": "aiFk_0MMjsU_",
        "outputId": "1e7608a7-ff3d-4e2b-cd2a-f5732e126bbb"
      },
      "id": "aiFk_0MMjsU_",
      "execution_count": null,
      "outputs": [
        {
          "output_type": "stream",
          "name": "stdout",
          "text": [
            "Drive already mounted at /content/drive; to attempt to forcibly remount, call drive.mount(\"/content/drive\", force_remount=True).\n"
          ]
        }
      ]
    },
    {
      "cell_type": "markdown",
      "source": [
        "Install libraries"
      ],
      "metadata": {
        "id": "yel83XRRjvgq"
      },
      "id": "yel83XRRjvgq"
    },
    {
      "cell_type": "code",
      "execution_count": null,
      "metadata": {
        "id": "9NR1j52vFxm1",
        "colab": {
          "base_uri": "https://localhost:8080/"
        },
        "outputId": "d6d9313f-a6f0-4624-f5e1-8fdfe937d993"
      },
      "outputs": [
        {
          "output_type": "stream",
          "name": "stdout",
          "text": [
            "Looking in indexes: https://pypi.org/simple, https://us-python.pkg.dev/colab-wheels/public/simple/\n",
            "Requirement already satisfied: wfdb in /usr/local/lib/python3.8/dist-packages (4.1.0)\n",
            "Requirement already satisfied: scipy<2.0.0,>=1.0.0 in /usr/local/lib/python3.8/dist-packages (from wfdb) (1.7.3)\n",
            "Requirement already satisfied: requests<3.0.0,>=2.8.1 in /usr/local/lib/python3.8/dist-packages (from wfdb) (2.23.0)\n",
            "Requirement already satisfied: numpy<2.0.0,>=1.10.1 in /usr/local/lib/python3.8/dist-packages (from wfdb) (1.21.6)\n",
            "Requirement already satisfied: pandas<2.0.0,>=1.0.0 in /usr/local/lib/python3.8/dist-packages (from wfdb) (1.3.5)\n",
            "Requirement already satisfied: matplotlib<4.0.0,>=3.2.2 in /usr/local/lib/python3.8/dist-packages (from wfdb) (3.2.2)\n",
            "Requirement already satisfied: SoundFile<0.12.0,>=0.10.0 in /usr/local/lib/python3.8/dist-packages (from wfdb) (0.11.0)\n",
            "Requirement already satisfied: python-dateutil>=2.1 in /usr/local/lib/python3.8/dist-packages (from matplotlib<4.0.0,>=3.2.2->wfdb) (2.8.2)\n",
            "Requirement already satisfied: cycler>=0.10 in /usr/local/lib/python3.8/dist-packages (from matplotlib<4.0.0,>=3.2.2->wfdb) (0.11.0)\n",
            "Requirement already satisfied: pyparsing!=2.0.4,!=2.1.2,!=2.1.6,>=2.0.1 in /usr/local/lib/python3.8/dist-packages (from matplotlib<4.0.0,>=3.2.2->wfdb) (3.0.9)\n",
            "Requirement already satisfied: kiwisolver>=1.0.1 in /usr/local/lib/python3.8/dist-packages (from matplotlib<4.0.0,>=3.2.2->wfdb) (1.4.4)\n",
            "Requirement already satisfied: pytz>=2017.3 in /usr/local/lib/python3.8/dist-packages (from pandas<2.0.0,>=1.0.0->wfdb) (2022.6)\n",
            "Requirement already satisfied: six>=1.5 in /usr/local/lib/python3.8/dist-packages (from python-dateutil>=2.1->matplotlib<4.0.0,>=3.2.2->wfdb) (1.15.0)\n",
            "Requirement already satisfied: certifi>=2017.4.17 in /usr/local/lib/python3.8/dist-packages (from requests<3.0.0,>=2.8.1->wfdb) (2022.12.7)\n",
            "Requirement already satisfied: urllib3!=1.25.0,!=1.25.1,<1.26,>=1.21.1 in /usr/local/lib/python3.8/dist-packages (from requests<3.0.0,>=2.8.1->wfdb) (1.24.3)\n",
            "Requirement already satisfied: chardet<4,>=3.0.2 in /usr/local/lib/python3.8/dist-packages (from requests<3.0.0,>=2.8.1->wfdb) (3.0.4)\n",
            "Requirement already satisfied: idna<3,>=2.5 in /usr/local/lib/python3.8/dist-packages (from requests<3.0.0,>=2.8.1->wfdb) (2.10)\n",
            "Requirement already satisfied: cffi>=1.0 in /usr/local/lib/python3.8/dist-packages (from SoundFile<0.12.0,>=0.10.0->wfdb) (1.15.1)\n",
            "Requirement already satisfied: pycparser in /usr/local/lib/python3.8/dist-packages (from cffi>=1.0->SoundFile<0.12.0,>=0.10.0->wfdb) (2.21)\n",
            "Looking in indexes: https://pypi.org/simple, https://us-python.pkg.dev/colab-wheels/public/simple/\n",
            "Requirement already satisfied: tqdm in /usr/local/lib/python3.8/dist-packages (4.64.1)\n"
          ]
        }
      ],
      "source": [
        "!pip install wfdb #install wfdb library on colab\n",
        "!pip install tqdm ##install tqdm library on colab\n",
        "!pip install seaborn\n"
      ],
      "id": "9NR1j52vFxm1"
    },
    {
      "cell_type": "markdown",
      "source": [
        "Import libraries"
      ],
      "metadata": {
        "id": "mlL9bdWqjqs7"
      },
      "id": "mlL9bdWqjqs7"
    },
    {
      "cell_type": "code",
      "execution_count": null,
      "metadata": {
        "id": "ff7e942b"
      },
      "outputs": [],
      "source": [
        "import numpy as np \n",
        "import pandas as pd \n",
        "import os\n",
        "import wfdb\n",
        "from wfdb import processing\n",
        "import matplotlib.pyplot as plt\n",
        "from sklearn.preprocessing import normalize , LabelEncoder\n",
        "import os\n",
        "import math\n",
        "import random\n",
        "import seaborn as sns\n",
        "\n",
        "import torch\n",
        "import torch.nn as nn\n",
        "from torch import optim \n",
        "import torch.nn.functional as F\n",
        "import torchvision\n",
        "from torch.utils.data import Dataset,DataLoader,TensorDataset\n",
        "import torch.utils.data as data_utils\n",
        "import torchvision.transforms as transforms  \n"
      ],
      "id": "ff7e942b"
    },
    {
      "cell_type": "markdown",
      "source": [
        "Set torch to CPU"
      ],
      "metadata": {
        "id": "sZ_tAmIvj2Es"
      },
      "id": "sZ_tAmIvj2Es"
    },
    {
      "cell_type": "code",
      "source": [
        "#set torch to CPU\n",
        "\n",
        "device = torch.device('cpu')\n"
      ],
      "metadata": {
        "id": "Mfe_vtWo5hoI"
      },
      "execution_count": null,
      "outputs": [],
      "id": "Mfe_vtWo5hoI"
    },
    {
      "cell_type": "markdown",
      "metadata": {
        "id": "UGWMCgcyFwc1"
      },
      "source": [
        "Useful constants"
      ],
      "id": "UGWMCgcyFwc1"
    },
    {
      "cell_type": "code",
      "execution_count": null,
      "metadata": {
        "id": "Z5-O9ufjgAPz"
      },
      "outputs": [],
      "source": [
        "train_files = [\n",
        "    \"a01\",\n",
        "    \"c01\",\n",
        "    \"b01\",\n",
        "    \"a02\",\n",
        "    \"c02\",\n",
        "    \"b02\",\n",
        "    \"a03\",\n",
        "    \"c03\",\n",
        "    \"b03\",\n",
        "    \"a04\",\n",
        "    \"c04\",\n",
        "    \"b04\",\n",
        "    \"a05\",\n",
        "    \"c05\",\n",
        "    \"a06\",\n",
        "    \"c06\",\n",
        "    \"a07\",\n",
        "    \"c07\",\n",
        "    \"a08\",\n",
        "    \"c08\",\n",
        "    \"a09\",\n",
        "    \"a10\",\n",
        "    \"a11\",\n",
        "    \"a12\",\n",
        "    \"a13\",\n",
        "    \"a14\",\n",
        "    \"a15\",\n",
        "    \"a16\",\n",
        "]\n",
        "\n",
        "test_files = [\"b05\", \"c09\", \"c10\", \"a17\", \"a18\", \"a19\", \"a20\"]\n",
        "\n",
        "\n",
        "path = \"/content/drive/MyDrive/ML/Dataset/Apnea/apnea-ecg-database-1.0.0/\"  # path of dataset file\n"
      ],
      "id": "Z5-O9ufjgAPz"
    },
    {
      "cell_type": "markdown",
      "source": [
        "## defintion of bandpass filter"
      ],
      "metadata": {
        "id": "noA6mQuyDb8J"
      },
      "id": "noA6mQuyDb8J"
    },
    {
      "cell_type": "code",
      "source": [
        "from scipy import signal\n",
        "\n",
        "\n",
        "def bandpass_signal(xn, lower, upper):\n",
        "    length = len(xn)\n",
        "    t = np.linspace(-1, 1, length)\n",
        "\n",
        "    b, a = signal.butter(3, [lower, upper], btype=\"bandpass\", fs=100)\n",
        "\n",
        "    zi = signal.lfilter_zi(b, a)\n",
        "\n",
        "    z, _ = signal.lfilter(b, a, xn, zi=zi * xn[0])\n",
        "    z2, _ = signal.lfilter(b, a, z, zi=zi * z[0])\n",
        "    y = signal.filtfilt(b, a, xn)\n",
        "\n",
        "    return y\n"
      ],
      "metadata": {
        "id": "AeijDCwPAJIC"
      },
      "id": "AeijDCwPAJIC",
      "execution_count": null,
      "outputs": []
    },
    {
      "cell_type": "markdown",
      "metadata": {
        "id": "7c61e75d"
      },
      "source": [
        "## Extract training , for LSTM we store each recording per subject in a dictionary which keys are the subject identifiers"
      ],
      "id": "7c61e75d"
    },
    {
      "cell_type": "code",
      "execution_count": null,
      "metadata": {
        "id": "ad684cc8",
        "colab": {
          "base_uri": "https://localhost:8080/",
          "height": 398
        },
        "outputId": "8db9de25-7e16-4dda-a785-1e207b97047c"
      },
      "outputs": [
        {
          "output_type": "error",
          "ename": "KeyboardInterrupt",
          "evalue": "ignored",
          "traceback": [
            "\u001b[0;31m---------------------------------------------------------------------------\u001b[0m",
            "\u001b[0;31mKeyboardInterrupt\u001b[0m                         Traceback (most recent call last)",
            "\u001b[0;32m<ipython-input-40-401c48f45146>\u001b[0m in \u001b[0;36m<module>\u001b[0;34m\u001b[0m\n\u001b[1;32m     12\u001b[0m     \u001b[0mecg\u001b[0m \u001b[0;34m=\u001b[0m \u001b[0mecg\u001b[0m\u001b[0;34m.\u001b[0m\u001b[0mreshape\u001b[0m\u001b[0;34m(\u001b[0m\u001b[0mlen\u001b[0m\u001b[0;34m(\u001b[0m\u001b[0mecg\u001b[0m\u001b[0;34m)\u001b[0m\u001b[0;34m)\u001b[0m\u001b[0;34m\u001b[0m\u001b[0;34m\u001b[0m\u001b[0m\n\u001b[1;32m     13\u001b[0m     \u001b[0;31m# filter\u001b[0m\u001b[0;34m\u001b[0m\u001b[0;34m\u001b[0m\u001b[0;34m\u001b[0m\u001b[0m\n\u001b[0;32m---> 14\u001b[0;31m     \u001b[0mecg_with_filter\u001b[0m \u001b[0;34m=\u001b[0m \u001b[0mbandpass_signal\u001b[0m\u001b[0;34m(\u001b[0m\u001b[0mecg\u001b[0m\u001b[0;34m,\u001b[0m \u001b[0;36m1\u001b[0m\u001b[0;34m,\u001b[0m \u001b[0;36m48\u001b[0m\u001b[0;34m)\u001b[0m\u001b[0;34m\u001b[0m\u001b[0;34m\u001b[0m\u001b[0m\n\u001b[0m\u001b[1;32m     15\u001b[0m     \u001b[0;32mfor\u001b[0m \u001b[0mj\u001b[0m \u001b[0;32min\u001b[0m \u001b[0mrange\u001b[0m\u001b[0;34m(\u001b[0m\u001b[0mlength\u001b[0m\u001b[0;34m)\u001b[0m\u001b[0;34m:\u001b[0m\u001b[0;34m\u001b[0m\u001b[0;34m\u001b[0m\u001b[0m\n\u001b[1;32m     16\u001b[0m         \u001b[0;31m# store for subject\u001b[0m\u001b[0;34m\u001b[0m\u001b[0;34m\u001b[0m\u001b[0;34m\u001b[0m\u001b[0m\n",
            "\u001b[0;32m<ipython-input-39-5ed9e8cf984c>\u001b[0m in \u001b[0;36mbandpass_signal\u001b[0;34m(xn, lower, upper)\u001b[0m\n\u001b[1;32m     11\u001b[0m \u001b[0;34m\u001b[0m\u001b[0m\n\u001b[1;32m     12\u001b[0m     \u001b[0mz\u001b[0m\u001b[0;34m,\u001b[0m \u001b[0m_\u001b[0m \u001b[0;34m=\u001b[0m \u001b[0msignal\u001b[0m\u001b[0;34m.\u001b[0m\u001b[0mlfilter\u001b[0m\u001b[0;34m(\u001b[0m\u001b[0mb\u001b[0m\u001b[0;34m,\u001b[0m \u001b[0ma\u001b[0m\u001b[0;34m,\u001b[0m \u001b[0mxn\u001b[0m\u001b[0;34m,\u001b[0m \u001b[0mzi\u001b[0m\u001b[0;34m=\u001b[0m\u001b[0mzi\u001b[0m \u001b[0;34m*\u001b[0m \u001b[0mxn\u001b[0m\u001b[0;34m[\u001b[0m\u001b[0;36m0\u001b[0m\u001b[0;34m]\u001b[0m\u001b[0;34m)\u001b[0m\u001b[0;34m\u001b[0m\u001b[0;34m\u001b[0m\u001b[0m\n\u001b[0;32m---> 13\u001b[0;31m     \u001b[0mz2\u001b[0m\u001b[0;34m,\u001b[0m \u001b[0m_\u001b[0m \u001b[0;34m=\u001b[0m \u001b[0msignal\u001b[0m\u001b[0;34m.\u001b[0m\u001b[0mlfilter\u001b[0m\u001b[0;34m(\u001b[0m\u001b[0mb\u001b[0m\u001b[0;34m,\u001b[0m \u001b[0ma\u001b[0m\u001b[0;34m,\u001b[0m \u001b[0mz\u001b[0m\u001b[0;34m,\u001b[0m \u001b[0mzi\u001b[0m\u001b[0;34m=\u001b[0m\u001b[0mzi\u001b[0m \u001b[0;34m*\u001b[0m \u001b[0mz\u001b[0m\u001b[0;34m[\u001b[0m\u001b[0;36m0\u001b[0m\u001b[0;34m]\u001b[0m\u001b[0;34m)\u001b[0m\u001b[0;34m\u001b[0m\u001b[0;34m\u001b[0m\u001b[0m\n\u001b[0m\u001b[1;32m     14\u001b[0m     \u001b[0my\u001b[0m \u001b[0;34m=\u001b[0m \u001b[0msignal\u001b[0m\u001b[0;34m.\u001b[0m\u001b[0mfiltfilt\u001b[0m\u001b[0;34m(\u001b[0m\u001b[0mb\u001b[0m\u001b[0;34m,\u001b[0m \u001b[0ma\u001b[0m\u001b[0;34m,\u001b[0m \u001b[0mxn\u001b[0m\u001b[0;34m)\u001b[0m\u001b[0;34m\u001b[0m\u001b[0;34m\u001b[0m\u001b[0m\n\u001b[1;32m     15\u001b[0m \u001b[0;34m\u001b[0m\u001b[0m\n",
            "\u001b[0;32m/usr/local/lib/python3.8/dist-packages/scipy/signal/signaltools.py\u001b[0m in \u001b[0;36mlfilter\u001b[0;34m(b, a, x, axis, zi)\u001b[0m\n\u001b[1;32m   2055\u001b[0m             \u001b[0;32mreturn\u001b[0m \u001b[0msigtools\u001b[0m\u001b[0;34m.\u001b[0m\u001b[0m_linear_filter\u001b[0m\u001b[0;34m(\u001b[0m\u001b[0mb\u001b[0m\u001b[0;34m,\u001b[0m \u001b[0ma\u001b[0m\u001b[0;34m,\u001b[0m \u001b[0mx\u001b[0m\u001b[0;34m,\u001b[0m \u001b[0maxis\u001b[0m\u001b[0;34m)\u001b[0m\u001b[0;34m\u001b[0m\u001b[0;34m\u001b[0m\u001b[0m\n\u001b[1;32m   2056\u001b[0m         \u001b[0;32melse\u001b[0m\u001b[0;34m:\u001b[0m\u001b[0;34m\u001b[0m\u001b[0;34m\u001b[0m\u001b[0m\n\u001b[0;32m-> 2057\u001b[0;31m             \u001b[0;32mreturn\u001b[0m \u001b[0msigtools\u001b[0m\u001b[0;34m.\u001b[0m\u001b[0m_linear_filter\u001b[0m\u001b[0;34m(\u001b[0m\u001b[0mb\u001b[0m\u001b[0;34m,\u001b[0m \u001b[0ma\u001b[0m\u001b[0;34m,\u001b[0m \u001b[0mx\u001b[0m\u001b[0;34m,\u001b[0m \u001b[0maxis\u001b[0m\u001b[0;34m,\u001b[0m \u001b[0mzi\u001b[0m\u001b[0;34m)\u001b[0m\u001b[0;34m\u001b[0m\u001b[0;34m\u001b[0m\u001b[0m\n\u001b[0m\u001b[1;32m   2058\u001b[0m \u001b[0;34m\u001b[0m\u001b[0m\n\u001b[1;32m   2059\u001b[0m \u001b[0;34m\u001b[0m\u001b[0m\n",
            "\u001b[0;31mKeyboardInterrupt\u001b[0m: "
          ]
        }
      ],
      "source": [
        "dictionnary_train_subjects = {}\n",
        "for idx, file in enumerate(train_files):\n",
        "    path_dat = os.path.join(path, file)\n",
        "    record = wfdb.rdrecord(path_dat, channels=[0])\n",
        "    apnea = wfdb.rdann(path_dat, \"apn\")\n",
        "    length = min(\n",
        "        len(apnea.symbol) - 1, math.floor(((record.p_signal.shape[0] - 3000) / 6000))\n",
        "    )\n",
        "    apnea_labels_per_subject = np.zeros((length))\n",
        "    ecg_readings_per_subject = np.zeros((length, 6000))\n",
        "    ecg = record.p_signal\n",
        "    ecg = ecg.reshape(len(ecg))\n",
        "    # filter\n",
        "    ecg_with_filter = bandpass_signal(ecg, 1, 48)\n",
        "    for j in range(length):\n",
        "        # store for subject\n",
        "        apnea_labels_per_subject[j] = 1 if apnea.symbol[j + 1] == \"A\" else 0\n",
        "        ecg_readings_per_subject[j] = ecg_with_filter[\n",
        "            3000 + (6000 * j) : 3000 + (6000 * (j + 1))\n",
        "        ]\n",
        "\n",
        "    ecg_readings_per_subject = np.array(ecg_readings_per_subject)\n",
        "    apnea_labels_per_subject = np.array(apnea_labels_per_subject)\n",
        "    # normalize add both labels and signals for each subject entry\n",
        "    dictionnary_train_subjects[idx] = [\n",
        "        normalize(ecg_readings_per_subject, norm=\"max\"),\n",
        "        apnea_labels_per_subject,\n",
        "    ]\n",
        "\n"
      ],
      "id": "ad684cc8"
    },
    {
      "cell_type": "markdown",
      "source": [
        "We do the same for the test set"
      ],
      "metadata": {
        "id": "I2hWeoPJkUNH"
      },
      "id": "I2hWeoPJkUNH"
    },
    {
      "cell_type": "code",
      "source": [
        "dictionnary_test_subjects = {}\n",
        "for idx, file in enumerate(test_files):\n",
        "    path_dat = os.path.join(path, file)\n",
        "    record = wfdb.rdrecord(path_dat, channels=[0])\n",
        "    apnea = wfdb.rdann(path_dat, \"apn\")\n",
        "    length = min(\n",
        "        len(apnea.symbol) - 1, math.floor(((record.p_signal.shape[0] - 3000) / 6000))\n",
        "    )\n",
        "    apnea_labels_per_subject = np.zeros((length))\n",
        "    ecg_readings_per_subject = np.zeros((length, 6000))\n",
        "    # ecg_with_filter = butter_bandpass_filter(record.p_signal, 1,48,fs = 100)\n",
        "    ecg = record.p_signal\n",
        "    ecg = ecg.reshape(len(ecg))\n",
        "    ecg_with_filter = bandpass_signal(ecg, 1, 48)\n",
        "    for j in range(length):\n",
        "        # store for subject\n",
        "        apnea_labels_per_subject[j] = 1 if apnea.symbol[j + 1] == \"A\" else 0\n",
        "        ecg_readings_per_subject[j] = ecg_with_filter[\n",
        "            3000 + (6000 * j) : 3000 + (6000 * (j + 1))\n",
        "        ]\n",
        "\n",
        "    ecg_readings_per_subject = np.array(ecg_readings_per_subject)\n",
        "    apnea_labels_per_subject = np.array(apnea_labels_per_subject)\n",
        "    dictionnary_test_subjects[idx] = [\n",
        "        normalize(ecg_readings_per_subject, norm=\"max\"),\n",
        "        apnea_labels_per_subject,\n",
        "    ]"
      ],
      "metadata": {
        "id": "ibY5vmd1F5tE"
      },
      "id": "ibY5vmd1F5tE",
      "execution_count": null,
      "outputs": []
    },
    {
      "cell_type": "markdown",
      "source": [],
      "metadata": {
        "id": "eI99bj-fF04S"
      },
      "id": "eI99bj-fF04S"
    },
    {
      "cell_type": "code",
      "source": [],
      "metadata": {
        "id": "4myrlZFrGcBw"
      },
      "id": "4myrlZFrGcBw",
      "execution_count": null,
      "outputs": []
    },
    {
      "cell_type": "markdown",
      "source": [
        "## DataSet Class"
      ],
      "metadata": {
        "id": "VVFbjLqBFFqW"
      },
      "id": "VVFbjLqBFFqW"
    },
    {
      "cell_type": "markdown",
      "source": [
        "Our Dataset class, as attributes it has one dictionary of subject with associated recordings and labels as attribute to store a mapping annotations and png filenames. We also store the sequence length of lstm as attribute.\n",
        "\n",
        "In the train set, to get one item, one retrieves a randomly chosen ordered sequence of 1 min segments of one subject, with associated labels. In the __getitem__ method the index oorresponds to the index of a subject. An epoch is therefore one iteration over all subjects.\n",
        "\n",
        "In the test set, the __getitem__ works similarly but we take the biggest number of sequences from one subjects in order, so not it's not random. This is necessary in order to calculate accuracy on the test set properly"
      ],
      "metadata": {
        "id": "sMm5zI5TldpC"
      },
      "id": "sMm5zI5TldpC"
    },
    {
      "cell_type": "code",
      "source": [
        "class Ecg_Per_Subject_DataSet(Dataset):\n",
        "    # dictionnary of \"userId\" a tuple of (ecg values) matrix and annotations\n",
        "    def __init__(self, dictionnary, sequence_length, transform=None):\n",
        "        self.dictionnary = dictionnary  # load data input and output from csv file\n",
        "        self.sequence_length = sequence_length\n",
        "        self.transform = transform\n",
        "\n",
        "    def __len__(self):\n",
        "        return len(self.dictionnary)  # return length of csv file\n",
        "\n",
        "    def __getitem__(self, index):\n",
        "        nb_minutes_for_subject = len(self.dictionnary[index][1])\n",
        "        starting_point = random.randint(\n",
        "            0, nb_minutes_for_subject - self.sequence_length\n",
        "        )\n",
        "\n",
        "        y_label_sequence = torch.tensor(\n",
        "            self.dictionnary[index][1][\n",
        "                starting_point : starting_point + self.sequence_length\n",
        "            ]\n",
        "        )\n",
        "\n",
        "        y_label_sequence = y_label_sequence[:, None]\n",
        "        x_sequence = torch.tensor(\n",
        "            self.dictionnary[index][0][\n",
        "                starting_point : starting_point + self.sequence_length\n",
        "            ]\n",
        "        )\n",
        "\n",
        "        return (x_sequence.unsqueeze(1), y_label_sequence)\n",
        "\n",
        "\n",
        "\n",
        "class Ecg_Per_Subject_Test_DataSet(Dataset):\n",
        "    # dictionnary of \"userId\" a tuple of (ecg values) matrix and annotations\n",
        "    def __init__(self, dictionnary, sequence_length, transform=None):\n",
        "        self.dictionnary = dictionnary  # load data input and output from csv file\n",
        "        self.sequence_length = sequence_length\n",
        "        self.transform = transform\n",
        "\n",
        "    def __len__(self):\n",
        "        return len(self.dictionnary)  # return length of csv file\n",
        "\n",
        "    def __getitem__(self, index):\n",
        "        nb_minutes_for_subject = len(self.dictionnary[index][1])\n",
        "        #the number of minutes should be a multiple of the sequence length\n",
        "        nb_used_minutes_for_subject = nb_minutes_for_subject - (\n",
        "            nb_minutes_for_subject % self.sequence_length\n",
        "        )\n",
        "        y_label_sequence = torch.tensor(\n",
        "            self.dictionnary[index][1][:nb_used_minutes_for_subject]\n",
        "        ).reshape(\n",
        "            (nb_used_minutes_for_subject // self.sequence_length, self.sequence_length)\n",
        "        )\n",
        "        #reshape to have separation between sequences\n",
        "        x_sequence = torch.tensor(\n",
        "            self.dictionnary[index][0][:nb_used_minutes_for_subject]\n",
        "        ).reshape(\n",
        "            (\n",
        "                nb_used_minutes_for_subject // self.sequence_length,\n",
        "                self.sequence_length,\n",
        "                -1,\n",
        "            )\n",
        "        )\n",
        "\n",
        "        return ((x_sequence.unsqueeze(2)), (y_label_sequence.unsqueeze(2)))\n",
        "   "
      ],
      "metadata": {
        "id": "f2-MTyM_81RN"
      },
      "id": "f2-MTyM_81RN",
      "execution_count": null,
      "outputs": []
    },
    {
      "cell_type": "code",
      "source": [
        "\n"
      ],
      "metadata": {
        "id": "mNkoq2oUHJn4"
      },
      "id": "mNkoq2oUHJn4",
      "execution_count": null,
      "outputs": []
    },
    {
      "cell_type": "markdown",
      "metadata": {
        "id": "SLlMpAiECuQ8"
      },
      "source": [
        "## Hyperparameters\n"
      ],
      "id": "SLlMpAiECuQ8"
    },
    {
      "cell_type": "code",
      "execution_count": null,
      "metadata": {
        "id": "M4qMVmlfC8CI"
      },
      "outputs": [],
      "source": [
        "in_channels = 1\n",
        "num_classes = 1\n",
        "learning_rate = 1e-4\n",
        "batch_size = 32\n",
        "num_epochs = 2000\n",
        "sequence_length = 10"
      ],
      "id": "M4qMVmlfC8CI"
    },
    {
      "cell_type": "markdown",
      "source": [
        "## Create the loaders\n"
      ],
      "metadata": {
        "id": "4vQx8qFenSkt"
      },
      "id": "4vQx8qFenSkt"
    },
    {
      "cell_type": "code",
      "source": [
        "train_set = Ecg_Per_Subject_DataSet(dictionnary_train_subjects, sequence_length)\n",
        "test_set = Ecg_Per_Subject_Test_DataSet(dictionnary_test_subjects, sequence_length)\n",
        "train_loader = DataLoader(dataset= train_set, batch_size = batch_size, shuffle =True)\n",
        "test_loader = DataLoader(dataset= test_set, batch_size = 1, shuffle =True)\n",
        "\n"
      ],
      "metadata": {
        "id": "csKWRLJxHUVf"
      },
      "id": "csKWRLJxHUVf",
      "execution_count": null,
      "outputs": []
    },
    {
      "cell_type": "markdown",
      "metadata": {
        "id": "Zn0G11oGbu0i"
      },
      "source": [
        "# **Train model**"
      ],
      "id": "Zn0G11oGbu0i"
    },
    {
      "cell_type": "code",
      "execution_count": null,
      "metadata": {
        "id": "KAEPNJugT4XI"
      },
      "outputs": [],
      "source": [
        "class CNN(nn.Module):\n",
        "    def __init__(self, num_layers, hidden_size, in_channels=1, num_classes=1):\n",
        "        super(CNN, self).__init__()\n",
        "        self.hidden_size = hidden_size\n",
        "        self.num_layers = num_layers\n",
        "        self.conv1 = nn.Conv1d(\n",
        "            in_channels=in_channels, out_channels=8, kernel_size=5, padding=2, stride=1\n",
        "        )\n",
        "        # convolution to extract features from data\n",
        "        self.pool1 = nn.MaxPool1d(kernel_size=6, stride=6)\n",
        "\n",
        "        self.conv2 = nn.Conv1d(\n",
        "            in_channels=8, out_channels=16, kernel_size=5, padding=2, stride=1\n",
        "        )\n",
        "        self.pool2 = nn.MaxPool1d(kernel_size=2, stride=2)\n",
        "\n",
        "        self.conv3 = nn.Conv1d(\n",
        "            in_channels=16, out_channels=32, kernel_size=7, padding=2, stride=1\n",
        "        )\n",
        "        self.conv4 = nn.Conv1d(\n",
        "            in_channels=32, out_channels=64, kernel_size=3, padding=2, stride=1\n",
        "        )\n",
        "\n",
        "        self.lstm = nn.LSTM(\n",
        "            input_size=8000,\n",
        "            hidden_size=128,\n",
        "            num_layers=1,\n",
        "            batch_first=True,\n",
        "            bidirectional=True,\n",
        "            dropout=0.5,\n",
        "        )\n",
        "        self.fc1 = nn.Linear(256, 128)\n",
        "        self.fc2 = nn.Linear(128, 64)\n",
        "        self.fc3 = nn.Linear(64, 32)\n",
        "        self.fc4 = nn.Linear(32, 1)\n",
        "\n",
        "    def forward(self, x):\n",
        "        B, L, channels, feature_sequence = x.size()\n",
        "\n",
        "        x = x.reshape(B * L, channels, feature_sequence)\n",
        "        x = F.relu(self.conv1(x))\n",
        "        x = self.pool1(x)\n",
        "\n",
        "        x = F.relu(self.conv2(x))\n",
        "        x = self.pool2(x)\n",
        "\n",
        "        x = F.relu(self.conv3(x))\n",
        "        x = self.pool2(x)\n",
        "\n",
        "        x = F.relu(self.conv4(x))\n",
        "        x = self.pool2(x)\n",
        "\n",
        "        x = x.reshape((B, L, -1))\n",
        "\n",
        "        h0 = torch.zeros(self.num_layers * 2, x.size(0), self.hidden_size).to(device)\n",
        "        c0 = torch.zeros(self.num_layers * 2, x.size(0), self.hidden_size).to(device)\n",
        "\n",
        "        x, _ = self.lstm(x, (h0, c0))\n",
        "\n",
        "        x = F.relu(self.fc1(x))\n",
        "        x = F.relu(self.fc2(x))\n",
        "        x = F.relu(self.fc3(x))\n",
        "\n",
        "        x = torch.sigmoid(self.fc4(x))\n",
        "\n",
        "        return x"
      ],
      "id": "KAEPNJugT4XI"
    },
    {
      "cell_type": "code",
      "execution_count": null,
      "metadata": {
        "id": "Q8uZX9KuM5g_"
      },
      "outputs": [],
      "source": [
        "\n",
        "model = CNN(1, 128,in_channels=in_channels, num_classes=num_classes).to(device)\n",
        "\n",
        "#loss and optimizer\n",
        "criterion =  nn.BCELoss()\n",
        "optimizer = optim.Adam(model.parameters(), lr=learning_rate)"
      ],
      "id": "Q8uZX9KuM5g_"
    },
    {
      "cell_type": "markdown",
      "metadata": {
        "id": "j9bFO9JeOlzC"
      },
      "source": [
        "## Train Network and calculate accuracy and loss"
      ],
      "id": "j9bFO9JeOlzC"
    },
    {
      "cell_type": "code",
      "source": [
        "from tqdm import tqdm\n",
        "\n",
        "losses = []\n",
        "accur = []\n",
        "losses_test = []\n",
        "accur_test = []\n",
        "test_targets = []\n",
        "test_scores = []\n",
        "for epoch in range(num_epochs):\n",
        "    acc_test = 0\n",
        "    acc = 0\n",
        "    nb_iter_train = 0\n",
        "    nb_iter_test = 0\n",
        "    for batch_idx, (data, targets) in enumerate(tqdm(train_loader)):\n",
        "        # Get data to cuda if possible\n",
        "        data = data.to(device=device)\n",
        "        targets = targets.to(device=device)\n",
        "        data = data.float()\n",
        "        print(data.size())\n",
        "        targets = targets.float()\n",
        "        # forward\n",
        "\n",
        "        scores = model(data)\n",
        "        loss = criterion(scores, targets)\n",
        "        # calculate accuracy and loss\n",
        "        targets_array = targets.reshape(-1, 1)\n",
        "        scores_array = (scores.reshape(-1, 1) > 0.5).float()  # astype('float32')\n",
        "        nb_iter_train += len(scores_array)\n",
        "        acc += (targets_array == scores_array).sum().item()\n",
        "        # backward\n",
        "        optimizer.zero_grad()\n",
        "        loss.backward()\n",
        "\n",
        "        # gradient descent or adam step\n",
        "        optimizer.step()\n",
        "\n",
        "    # for test dataset\n",
        "    for batch_idx, (data_test, targets_test) in enumerate(tqdm(test_loader)):\n",
        "        # the batch size is the whole data for one subject\n",
        "        data_test = data_test[0]\n",
        "        targets_test = targets_test[0]\n",
        "        data_test = data.float()\n",
        "        targets_test = targets.float()\n",
        "        scores_test = model(data_test)\n",
        "\n",
        "        loss_test = criterion(scores_test, targets_test)\n",
        "        # calculate accuracy and loss\n",
        "        targets_array_test = targets_test.reshape(-1, 1)\n",
        "        # print(\"\\n scores_array_test \", scores_test.reshape (-1,1).size())\n",
        "        scores_array_test = (scores_test.reshape(-1, 1) > 0.5).float()\n",
        "        acc_test += (targets_array_test == scores_array_test).sum().item()\n",
        "        nb_iter_test += len(scores_array_test)\n",
        "        if epoch == num_epochs - 1:\n",
        "            for i in range(targets_array_test.shape[0]):\n",
        "                test_targets.append(int(targets_array_test[i][0]))\n",
        "                test_scores.append(int(scores_array_test[i][0]))\n",
        "    acc = acc / nb_iter_train\n",
        "    acc_test = acc_test / nb_iter_test\n",
        "    losses.append(loss)  # .detach().numpy())\n",
        "    accur.append(acc)\n",
        "    losses_test.append(loss_test)  # .detach().numpy())\n",
        "    accur_test.append(acc_test)\n",
        "    print(\n",
        "        \"\\n epoch {}\\tloss_train : {}\\t accuracy_train : {}%\".format(\n",
        "            epoch, loss, acc * 100\n",
        "        )\n",
        "    )\n",
        "    print(\n",
        "        \"epoch {}\\tloss_test : {}\\t accuracy_test : {}%\\n\".format(\n",
        "            epoch, loss_test, acc_test * 100\n",
        "        )\n",
        "    )\n",
        "  "
      ],
      "metadata": {
        "id": "YG0NHLbMnjEy"
      },
      "execution_count": null,
      "outputs": [],
      "id": "YG0NHLbMnjEy"
    },
    {
      "cell_type": "markdown",
      "source": [
        "# Testing"
      ],
      "metadata": {
        "id": "73rmV1sLoiNI"
      },
      "id": "73rmV1sLoiNI"
    },
    {
      "cell_type": "markdown",
      "source": [
        "This function returns the true_positives, false_positives, true_negatives, false_negatives"
      ],
      "metadata": {
        "id": "-r0cBDpHogbL"
      },
      "id": "-r0cBDpHogbL"
    },
    {
      "cell_type": "code",
      "execution_count": null,
      "metadata": {
        "id": "3CZkq7XdMfvN"
      },
      "outputs": [],
      "source": [
        "def confusion(prediction, truth):\n",
        "    \"\"\" Returns the confusion matrix for the values in the `prediction` and `truth`\n",
        "    tensors, i.e. the amount of positions where the values of `prediction`\n",
        "    and `truth` are\n",
        "    - 1 and 1 (True Positive)\n",
        "    - 1 and 0 (False Positive)\n",
        "    - 0 and 0 (True Negative)\n",
        "    - 0 and 1 (False Negative)\n",
        "    \"\"\"\n",
        "    confusion_vector = prediction / truth\n",
        "    # Element-wise division of the 2 tensors returns a new tensor which holds a\n",
        "    # unique value for each case:\n",
        "    #   1     where prediction and truth are 1 (True Positive)\n",
        "    #   inf   where prediction is 1 and truth is 0 (False Positive)\n",
        "    #   nan   where prediction and truth are 0 (True Negative)\n",
        "    #   0     where prediction is 0 and truth is 1 (False Negative)\n",
        "\n",
        "    true_positives = torch.sum(confusion_vector == 1).item()\n",
        "    false_positives = torch.sum(confusion_vector == float('inf')).item()\n",
        "    true_negatives = torch.sum(torch.isnan(confusion_vector)).item()\n",
        "    false_negatives = torch.sum(confusion_vector == 0).item()\n",
        "\n",
        "    return true_positives, false_positives, true_negatives, false_negatives"
      ],
      "id": "3CZkq7XdMfvN"
    },
    {
      "cell_type": "markdown",
      "source": [
        "This function iterates through the test_loader, and calculates the different useful metrics: sensitivity, specificity, F1, Youden's index and accuracy. It also generates a confusion matrix using seaborn."
      ],
      "metadata": {
        "id": "fAyLIooko1cM"
      },
      "id": "fAyLIooko1cM"
    },
    {
      "cell_type": "code",
      "source": [
        "def check_test_accuracy(model):\n",
        "    model.eval()\n",
        "    accuracy = 0.0\n",
        "    total = 0.0\n",
        "    print(\"Checking accuracy on test data\")\n",
        "    with torch.no_grad():\n",
        "        true_positives, false_positives, true_negatives, false_negatives = 0, 0, 0, 0\n",
        "        predicted_tot = torch.zeros(0)\n",
        "        labels_tot = torch.zeros(0)\n",
        "\n",
        "        for data in test_loader:\n",
        "            segments, labels = data\n",
        "            # take only one batch\n",
        "            segments = segments[0]\n",
        "            # take onle one batch\n",
        "            labels = labels[0]\n",
        "            B, L, _, _ = segments.size()\n",
        "            labels = labels.reshape(B * L, -1)\n",
        "            # run the model on the test set to predict labels\n",
        "            segments = segments.float()\n",
        "            outputs = model(segments)\n",
        "\n",
        "            predicted = torch.round(outputs)\n",
        "\n",
        "            # reshape for confusion computations\n",
        "\n",
        "            predicted = predicted.reshape(B * L, -1)\n",
        "            labels = labels.reshape(B * L, -1)\n",
        "\n",
        "            tp, fp, tn, fn = confusion(predicted, labels)\n",
        "\n",
        "            true_positives += tp\n",
        "            false_positives += fp\n",
        "            true_negatives += tn\n",
        "            false_negatives += fn\n",
        "\n",
        "            total += labels.size(0)\n",
        "            accuracy += (predicted == labels).sum().item()\n",
        "\n",
        "        # compute the accuracy over all test segment\n",
        "        accuracy = 100 * accuracy / total\n",
        "        print(f\"Got {accuracy} accuracy \")\n",
        "\n",
        "        sensitivity = true_positives / (true_positives + false_negatives)\n",
        "        specificity = true_negatives / (true_negatives + false_positives)\n",
        "        precision = true_positives / (true_positives + false_positives)\n",
        "        recall = true_positives / (true_positives + false_negatives)\n",
        "        F1 = (2 * precision * recall) / (precision + recall)\n",
        "\n",
        "        print(f\"Sensitivity: {sensitivity}\")\n",
        "        print(f\"Specificity: {specificity}\")\n",
        "        print(f\"F1: {F1}\")\n",
        "        print(f\"Youden's index: {sensitivity + specificity - 1 }\")\n",
        "\n",
        "        # Plot confusion matrix\n",
        "\n",
        "        cm = [[true_positives, false_negatives], [false_positives, true_negatives]]\n",
        "\n",
        "        ax = plt.subplot()\n",
        "        sns.heatmap(cm, annot=True, fmt=\"g\", cmap=\"Greens\", ax=ax)\n",
        "        # annot=True to annotate cells, ftm='g' to disable scientific notation\n",
        "\n",
        "        # labels, title and ticks\n",
        "        ax.set_xlabel(\"Predicted labels\")\n",
        "        ax.set_ylabel(\"True labels\")\n",
        "        # ax.set_title('Confusion Matrix');\n",
        "        ax.xaxis.set_ticklabels([\"apnea\", \"normal\"])\n",
        "        ax.yaxis.set_ticklabels([\"apnea\", \"normal\"])\n",
        "\n",
        "\n",
        "check_test_accuracy(model)"
      ],
      "metadata": {
        "colab": {
          "base_uri": "https://localhost:8080/",
          "height": 389
        },
        "id": "EIlIeuUVKGW0",
        "outputId": "f37ec0ce-d460-4281-deb0-62b9485df62f"
      },
      "id": "EIlIeuUVKGW0",
      "execution_count": null,
      "outputs": [
        {
          "output_type": "stream",
          "name": "stdout",
          "text": [
            "Checking accuracy on test data\n",
            "Got 61.55487804878049 accuracy \n",
            "Sensitivity: 0.44282029234737746\n",
            "Specificity: 0.7104393008974964\n",
            "F1: 0.44958533391532085\n",
            "Youden's index: 0.15325959324487393\n"
          ]
        },
        {
          "output_type": "display_data",
          "data": {
            "text/plain": [
              "<Figure size 432x288 with 2 Axes>"
            ],
            "image/png": "[encoded data removed]"
          },
          "metadata": {
            "needs_background": "light"
          }
        }
      ]
    },
    {
      "cell_type": "code",
      "source": [],
      "metadata": {
        "id": "LqGkDn3Q6zSL"
      },
      "id": "LqGkDn3Q6zSL",
      "execution_count": null,
      "outputs": []
    }
  ],
  "metadata": {
    "accelerator": "GPU",
    "colab": {
      "provenance": []
    },
    "gpuClass": "standard",
    "kernelspec": {
      "display_name": "Python 3 (ipykernel)",
      "language": "python",
      "name": "python3"
    },
    "language_info": {
      "codemirror_mode": {
        "name": "ipython",
        "version": 3
      },
      "file_extension": ".py",
      "mimetype": "text/x-python",
      "name": "python",
      "nbconvert_exporter": "python",
      "pygments_lexer": "ipython3",
      "version": "3.10.7"
    }
  },
  "nbformat": 4,
  "nbformat_minor": 5
}