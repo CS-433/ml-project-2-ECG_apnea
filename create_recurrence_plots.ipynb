{
 "cells": [
  {
   "cell_type": "markdown",
   "id": "5479638a",
   "metadata": {},
   "source": [
    "# This notebook generates the recurrence plot images from raw ecg signals"
   ]
  },
  {
   "cell_type": "markdown",
   "id": "2472f538",
   "metadata": {},
   "source": [
    "Import libraries"
   ]
  },
  {
   "cell_type": "code",
   "execution_count": 1,
   "id": "5870f40f",
   "metadata": {},
   "outputs": [],
   "source": [
    "import wfdb\n",
    "import os\n",
    "import numpy as np\n",
    "from utils import *\n",
    "from scipy import signal\n",
    "import matplotlib.pyplot as plt\n",
    "from sklearn.preprocessing import normalize"
   ]
  },
  {
   "cell_type": "markdown",
   "id": "6976682f",
   "metadata": {},
   "source": [
    "Useful constants"
   ]
  },
  {
   "cell_type": "code",
   "execution_count": 2,
   "id": "b868f4cf",
   "metadata": {},
   "outputs": [],
   "source": [
    "NB_S_PER_MIN = 6000\n",
    "SAMPLING_FREQUENCY = 100\n",
    "LOWER_BOUND_FILTER = 1\n",
    "UPPER_BOUND_FILTER = 48\n",
    "NB_S_PER_HALF_MIN = 3000\n",
    "\n",
    "train_files = [\n",
    "    \"a01\",\n",
    "    \"c01\",\n",
    "    \"b01\",\n",
    "    \"a02\",\n",
    "    \"c02\",\n",
    "    \"b02\",\n",
    "    \"a03\",\n",
    "    \"c03\",\n",
    "    \"b03\",\n",
    "    \"a04\",\n",
    "    \"c04\",\n",
    "    \"b04\",\n",
    "    \"a05\",\n",
    "    \"c05\",\n",
    "    \"a06\",\n",
    "    \"c06\",\n",
    "    \"a07\",\n",
    "    \"c07\",\n",
    "    \"a08\",\n",
    "    \"c08\",\n",
    "    \"a09\",\n",
    "    \"a10\",\n",
    "    \"a11\",\n",
    "    \"a12\",\n",
    "    \"a13\",\n",
    "    \"a14\",\n",
    "    \"a15\",\n",
    "    \"a16\",\n",
    "]\n",
    "\n",
    "\n",
    "test_files = [\"b05\", \"c09\", \"c10\", \"a17\", \"a18\", \"a19\", \"a20\"]\n",
    "\n",
    "# assign directory\n",
    "directory = \"./apnea-ecg-database-1.0.0/\"\n",
    "\n",
    "out_directory_train = \"./Recurrence_Plots/Train/\"\n",
    "out_directory_test = \"./Recurrence_Plots/Test/\"\n"
   ]
  },
  {
   "cell_type": "markdown",
   "id": "64f03b7a",
   "metadata": {},
   "source": [
    "This function generates a matrix which is the recurrence plot from signal s"
   ]
  },
  {
   "cell_type": "code",
   "execution_count": 3,
   "id": "9d41c330",
   "metadata": {},
   "outputs": [],
   "source": [
    "def rec_plot(s, eps=0.07):\n",
    "    N = len(s)\n",
    "    rows_repeated = np.repeat(s.reshape(1, N), N, axis=0)\n",
    "    columns_repeated = np.repeat(s.reshape(N, 1), N, axis=1)\n",
    "\n",
    "    return np.heaviside(-(np.absolute(columns_repeated - rows_repeated) - eps), 1)\n"
   ]
  },
  {
   "cell_type": "markdown",
   "id": "71612e9d",
   "metadata": {},
   "source": [
    "This function generates the recurrence plot images in format png. to intended directory with a csv file that maps filenames to annotation(apnea or not)"
   ]
  },
  {
   "cell_type": "code",
   "execution_count": 4,
   "id": "2f33af2d",
   "metadata": {},
   "outputs": [],
   "source": [
    "def create_rp_images(source_directory, files, out_directory, csv_path):\n",
    "    \"\"\"generates the RP images in format png. to intended directory with a csv file\n",
    "    that maps filenames to annotation(apnea or not)\n",
    "    Args:\n",
    "        source_directory:          string\n",
    "        files:                     filenames list\n",
    "        out_directory:             string\n",
    "        csv_path:                  csv path for annotations\n",
    "    \"\"\"\n",
    "    #create the directories\n",
    "    splitted_out_directory = out_directory.split('/')\n",
    "    os.mkdir(splitted_out_directory[1])\n",
    "    os.mkdir( splitted_out_directory[1] + '/' + splitted_out_directory[2] )\n",
    "    spc_labels_file = open(out_directory + csv_path, \"a\")\n",
    "    spc_labels_file.write(\"image,label\")\n",
    "    plt.ioff()\n",
    "    for filename in files:\n",
    "        i = 0\n",
    "        path = source_directory + filename\n",
    "\n",
    "        print(filename)\n",
    "        record = wfdb.rdrecord(path)\n",
    "        apnea = wfdb.rdann(path, \"apn\")\n",
    "        ecg = record.p_signal\n",
    "        ecg = ecg.reshape(len(ecg))\n",
    "        ecg = bandpass_signal(ecg, LOWER_BOUND_FILTER, UPPER_BOUND_FILTER)\n",
    "        # choose minimum length\n",
    "        length = min(\n",
    "            len(apnea.symbol) - 1, int((len(ecg) - NB_S_PER_HALF_MIN) / NB_S_PER_MIN)\n",
    "        )\n",
    "\n",
    "        for j in range(length):\n",
    "            label = apnea.symbol[j + 1]\n",
    "            segment = ecg[\n",
    "                NB_S_PER_HALF_MIN\n",
    "                + (NB_S_PER_MIN * j) : NB_S_PER_HALF_MIN\n",
    "                + (NB_S_PER_MIN * (j + 1))\n",
    "            ]\n",
    "\n",
    "            # save recurrence plot\n",
    "            rp_file_name = \"rp_\" + filename + \"_\" + str(i) + \".png\"\n",
    "\n",
    "            plt.matshow(rec_plot(segment), cmap=\"Greys\")\n",
    "\n",
    "            plt.axis(\"off\")\n",
    "            plt.savefig(\n",
    "                out_directory + rp_file_name, bbox_inches=\"tight\", pad_inches=0.0\n",
    "            )\n",
    "            plt.close()\n",
    "            # add line to csv\n",
    "            spc_labels_file.write(rp_file_name + \",\" + label + \"\\n\")\n",
    "            # increment 1\n",
    "            i += 1\n",
    "\n",
    "    spc_labels_file.close()"
   ]
  },
  {
   "cell_type": "markdown",
   "id": "6d97ff2a",
   "metadata": {},
   "source": [
    "## We create the RP for train and test"
   ]
  },
  {
   "cell_type": "code",
   "execution_count": 5,
   "id": "9659b39c",
   "metadata": {},
   "outputs": [
    {
     "name": "stdout",
     "output_type": "stream",
     "text": [
      "a01\n"
     ]
    },
    {
     "ename": "KeyboardInterrupt",
     "evalue": "",
     "output_type": "error",
     "traceback": [
      "\u001b[1;31m---------------------------------------------------------------------------\u001b[0m",
      "\u001b[1;31mKeyboardInterrupt\u001b[0m                         Traceback (most recent call last)",
      "Cell \u001b[1;32mIn [5], line 1\u001b[0m\n\u001b[1;32m----> 1\u001b[0m \u001b[43mcreate_rp_images\u001b[49m\u001b[43m(\u001b[49m\u001b[43mdirectory\u001b[49m\u001b[43m,\u001b[49m\u001b[43m \u001b[49m\u001b[43mtrain_files\u001b[49m\u001b[43m,\u001b[49m\u001b[43m \u001b[49m\u001b[43mout_directory_train\u001b[49m\u001b[43m,\u001b[49m\u001b[43m \u001b[49m\u001b[38;5;124;43m\"\u001b[39;49m\u001b[38;5;124;43mrp_train_labels.csv\u001b[39;49m\u001b[38;5;124;43m\"\u001b[39;49m\u001b[43m)\u001b[49m\n",
      "Cell \u001b[1;32mIn [4], line 43\u001b[0m, in \u001b[0;36mcreate_rp_images\u001b[1;34m(source_directory, files, out_directory, csv_path)\u001b[0m\n\u001b[0;32m     40\u001b[0m \u001b[38;5;66;03m# save recurrence plot\u001b[39;00m\n\u001b[0;32m     41\u001b[0m rp_file_name \u001b[38;5;241m=\u001b[39m \u001b[38;5;124m\"\u001b[39m\u001b[38;5;124mrp_\u001b[39m\u001b[38;5;124m\"\u001b[39m \u001b[38;5;241m+\u001b[39m filename \u001b[38;5;241m+\u001b[39m \u001b[38;5;124m\"\u001b[39m\u001b[38;5;124m_\u001b[39m\u001b[38;5;124m\"\u001b[39m \u001b[38;5;241m+\u001b[39m \u001b[38;5;28mstr\u001b[39m(i) \u001b[38;5;241m+\u001b[39m \u001b[38;5;124m\"\u001b[39m\u001b[38;5;124m.png\u001b[39m\u001b[38;5;124m\"\u001b[39m\n\u001b[1;32m---> 43\u001b[0m plt\u001b[38;5;241m.\u001b[39mmatshow(\u001b[43mrec_plot\u001b[49m\u001b[43m(\u001b[49m\u001b[43msegment\u001b[49m\u001b[43m)\u001b[49m, cmap\u001b[38;5;241m=\u001b[39m\u001b[38;5;124m\"\u001b[39m\u001b[38;5;124mGreys\u001b[39m\u001b[38;5;124m\"\u001b[39m)\n\u001b[0;32m     45\u001b[0m plt\u001b[38;5;241m.\u001b[39maxis(\u001b[38;5;124m\"\u001b[39m\u001b[38;5;124moff\u001b[39m\u001b[38;5;124m\"\u001b[39m)\n\u001b[0;32m     46\u001b[0m plt\u001b[38;5;241m.\u001b[39msavefig(\n\u001b[0;32m     47\u001b[0m     out_directory \u001b[38;5;241m+\u001b[39m rp_file_name, bbox_inches\u001b[38;5;241m=\u001b[39m\u001b[38;5;124m\"\u001b[39m\u001b[38;5;124mtight\u001b[39m\u001b[38;5;124m\"\u001b[39m, pad_inches\u001b[38;5;241m=\u001b[39m\u001b[38;5;241m0.0\u001b[39m\n\u001b[0;32m     48\u001b[0m )\n",
      "Cell \u001b[1;32mIn [3], line 6\u001b[0m, in \u001b[0;36mrec_plot\u001b[1;34m(s, eps)\u001b[0m\n\u001b[0;32m      3\u001b[0m rows_repeated \u001b[38;5;241m=\u001b[39m np\u001b[38;5;241m.\u001b[39mrepeat(s\u001b[38;5;241m.\u001b[39mreshape(\u001b[38;5;241m1\u001b[39m, N), N, axis\u001b[38;5;241m=\u001b[39m\u001b[38;5;241m0\u001b[39m)\n\u001b[0;32m      4\u001b[0m columns_repeated \u001b[38;5;241m=\u001b[39m np\u001b[38;5;241m.\u001b[39mrepeat(s\u001b[38;5;241m.\u001b[39mreshape(N, \u001b[38;5;241m1\u001b[39m), N, axis\u001b[38;5;241m=\u001b[39m\u001b[38;5;241m1\u001b[39m)\n\u001b[1;32m----> 6\u001b[0m \u001b[38;5;28;01mreturn\u001b[39;00m np\u001b[38;5;241m.\u001b[39mheaviside(\u001b[38;5;241m-\u001b[39m(\u001b[43mnp\u001b[49m\u001b[38;5;241;43m.\u001b[39;49m\u001b[43mabsolute\u001b[49m\u001b[43m(\u001b[49m\u001b[43mcolumns_repeated\u001b[49m\u001b[43m \u001b[49m\u001b[38;5;241;43m-\u001b[39;49m\u001b[43m \u001b[49m\u001b[43mrows_repeated\u001b[49m\u001b[43m)\u001b[49m \u001b[38;5;241m-\u001b[39m eps), \u001b[38;5;241m1\u001b[39m)\n",
      "\u001b[1;31mKeyboardInterrupt\u001b[0m: "
     ]
    }
   ],
   "source": [
    "create_rp_images(directory, train_files, out_directory_train, \"rp_train_labels.csv\")"
   ]
  },
  {
   "cell_type": "code",
   "execution_count": null,
   "id": "30be386f",
   "metadata": {},
   "outputs": [],
   "source": [
    "create_rp_images(directory, test_files, out_directory_test, \"rp_test_labels.csv\")"
   ]
  },
  {
   "cell_type": "code",
   "execution_count": null,
   "id": "a0ca5262",
   "metadata": {},
   "outputs": [],
   "source": []
  },
  {
   "cell_type": "code",
   "execution_count": null,
   "id": "c0512679",
   "metadata": {},
   "outputs": [],
   "source": []
  },
  {
   "cell_type": "code",
   "execution_count": null,
   "id": "6b6ceffd",
   "metadata": {},
   "outputs": [],
   "source": []
  }
 ],
 "metadata": {
  "kernelspec": {
   "display_name": "Python 3 (ipykernel)",
   "language": "python",
   "name": "python3"
  },
  "language_info": {
   "codemirror_mode": {
    "name": "ipython",
    "version": 3
   },
   "file_extension": ".py",
   "mimetype": "text/x-python",
   "name": "python",
   "nbconvert_exporter": "python",
   "pygments_lexer": "ipython3",
   "version": "3.9.12"
  }
 },
 "nbformat": 4,
 "nbformat_minor": 5
}
